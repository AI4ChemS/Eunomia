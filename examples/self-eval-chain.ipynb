{
 "cells": [
  {
   "cell_type": "code",
   "execution_count": 1,
   "id": "515627c3-c1e4-470f-b7a0-c70e08f05325",
   "metadata": {},
   "outputs": [],
   "source": [
    "from langchain.chains import SimpleSequentialChain"
   ]
  },
  {
   "cell_type": "code",
   "execution_count": 2,
   "id": "f4b3d1b9-a6c5-4039-b3bd-b5e46920dfe8",
   "metadata": {},
   "outputs": [
    {
     "name": "stderr",
     "output_type": "stream",
     "text": [
      "C:\\Users\\mehra\\anaconda3\\envs\\agent\\lib\\site-packages\\fuzzywuzzy\\fuzz.py:11: UserWarning: Using slow pure-python SequenceMatcher. Install python-Levenshtein to remove this warning\n",
      "  warnings.warn('Using slow pure-python SequenceMatcher. Install python-Levenshtein to remove this warning')\n"
     ]
    }
   ],
   "source": [
    "import os\n",
    "import eunomia\n",
    "import pickle\n"
   ]
  },
  {
   "cell_type": "code",
   "execution_count": 14,
   "id": "9e8a4516-dd97-40bf-a7e0-7edafb5cf02c",
   "metadata": {},
   "outputs": [],
   "source": [
    "paper_id = '1'\n",
    "docs_processor = eunomia.LoadDoc('../Data/SI_PDF/', paper_id=paper_id)\n",
    "sliced_pages = docs_processor.process(['references ', 'acknowledgement', 'acknowledgments', 'references\\n'],\n",
    "                                             chunk_size=1000, chunk_overlap=10, chunking_type='fixed-size')"
   ]
  },
  {
   "cell_type": "code",
   "execution_count": 26,
   "id": "afdb9e14-d7b4-4582-a90b-1764c4355010",
   "metadata": {},
   "outputs": [],
   "source": [
    "from langchain.chains import RetrievalQA\n",
    "\n",
    "from langchain.embeddings.openai import OpenAIEmbeddings\n",
    "from langchain.vectorstores import FAISS\n",
    "\n",
    "k = 5\n",
    "# Embedding_model = 'text-davinci-003' # text-embedding-ada-002\n",
    "Embedding_model = 'text-embedding-ada-002' # text-embedding-ada-002\n",
    "\n",
    "\n",
    "faiss_index_path = f\"../Data/chosen_papers/faiss/{Embedding_model}/faiss_index_{Embedding_model}_{paper_id}.pkl\"\n",
    "just_load = False\n",
    "if os.path.isfile(faiss_index_path) and just_load:\n",
    "    print('loadded Embeddings')\n",
    "    with open(faiss_index_path, \"rb\") as f:\n",
    "        faiss_index = pickle.load(f)\n",
    "else:\n",
    "    with open(faiss_index_path, \"wb\") as f:  # text-embedding-ada-002\n",
    "        faiss_index = FAISS.from_documents(sliced_pages, OpenAIEmbeddings(model=Embedding_model))    # 'text-davinci-003\n",
    "        pickle.dump(faiss_index, f)\n",
    "\n",
    "# faiss_index = LanceDB.from_documents(sliced_pages, OpenAIEmbeddings(model=Embedding_model))\n",
    "\n",
    "retriever  = faiss_index.as_retriever(search_type=\"mmr\", search_kwargs={\"k\":k, 'fetch_k': 50}) # Maximum Marginal Relevance Retrieval\n"
   ]
  },
  {
   "cell_type": "code",
   "execution_count": 89,
   "id": "a7189afd-8c23-4c9c-9c1a-0ebe3682381b",
   "metadata": {},
   "outputs": [],
   "source": [
    "from langchain.llms import OpenAI\n",
    "from langchain.agents import Tool, tool\n",
    "from langchain.chat_models  import ChatOpenAI\n",
    "from langchain.chains import RetrievalQA\n",
    "llm = OpenAI(temperature=0, model_name='gpt-3.5-turbo-16k') # gpt-3.5-turbo-16k\n",
    "qa = RetrievalQA.from_chain_type(\n",
    "    llm=llm, chain_type=\"stuff\", retriever=retriever, return_source_documents=False,)"
   ]
  },
  {
   "cell_type": "code",
   "execution_count": 90,
   "id": "09f6c002-273d-40a4-9dfa-188de396063f",
   "metadata": {},
   "outputs": [],
   "source": [
    "Rule = f\"\"\"\n",
    "There are only 3 options for water stability: \\\n",
    "1. Stable \\\n",
    "2. Unstable \\\n",
    "3. Not provided\\\n",
    "For 1. Stable, \\\n",
    "No change after exposure, soaking or boiling in water or an aqueous solution.\\\n",
    "Water adsorption isotherm should have a steep uptake.\\\n",
    "For 2. Unstable, \\\n",
    "The MOF will decompose after exposure \\\n",
    "to humid environment or partially dissolves in water. \\\n",
    "For 3. Not provided, \\\n",
    "If you don't know or cannot justfy 1 or 2\n",
    "\"\"\"\n",
    "\n",
    "# Steep uptake behavior is from this paper: https://pubs.acs.org/doi/epdf/10.1021/ja306812r"
   ]
  },
  {
   "cell_type": "code",
   "execution_count": 91,
   "id": "a5608e46-c498-49b1-9601-3ac3b4508252",
   "metadata": {},
   "outputs": [],
   "source": [
    "prompt3a = f\"\"\"\n",
    "    You are an expert chemist. This doc describes the water stability properties of a few materials including \\\n",
    "    Metal-Organic Frameworks(MOF) or coordination polymers, Coordination Networks or ZIF compounds. Please find \\\n",
    "    the full name for materials, and their \\\n",
    "    stability in water. \\\n",
    "    Please use the following rules to identify\\\n",
    "    the water stability of each MOF. \\\n",
    "    Your second output for each mof should be a probability score ranging between [0, 1].\\\n",
    "    This probability score shows how certain you are in your answer.\\\n",
    "    Your third output should be exact sentences without any changes from the document that justifies your decision.\\\n",
    "    This should be \"Not provided\" if you cannot find water stability.\\\n",
    "    Rule: {Rule}\\\n",
    "    If there are multiple MOFs, please list them all and put \"MOF name\" before them. \\\n",
    "    You should only respond in JSON format as described below. \n",
    "    Make sure it is parsable using Python json.load.\n",
    "    Make sure \"MOF name\"s do not have duplicates\n",
    "    If information is not provided, state it as not provided.\\\n",
    "    \"\"\""
   ]
  },
  {
   "cell_type": "code",
   "execution_count": 30,
   "id": "d9f08740-70f1-44a3-a876-3145fee0d52e",
   "metadata": {},
   "outputs": [
    {
     "data": {
      "text/plain": [
       "'{\\n  \"MOF-11\": {\\n    \"stability\": \"Unstable\",\\n    \"probability\": 1,\\n    \"justification\": \"Bio-MOF-11 dissolved rapidly in water, as evidenced by PXRD (Fig. 10); SEM images could not be obtained.\"\\n  },\\n  \"MOF-12\": {\\n    \"stability\": \"Unstable\",\\n    \"probability\": 1,\\n    \"justification\": \"Bio-MOF-12 dissolved partially in water. The intensity of their signature diﬀraction lines decreased substantially (Fig. 10); SEM images of the soaked samples revealed significant crystallite fragmentation and pitting of the crystal surfaces (Fig. S21 †).\"\\n  },\\n  \"MOF-13\": {\\n    \"stability\": \"Unstable\",\\n    \"probability\": 1,\\n    \"justification\": \"Bio-MOF-13 dissolved partially in water. The intensity of their signature diﬀraction lines decreased substantially (Fig. 10); SEM images of the soaked samples revealed significant crystallite fragmentation and pitting of the crystal surfaces (Fig. S21 †).\"\\n  },\\n  \"MOF-14\": {\\n    \"stability\": \"Stable\",\\n    \"probability\": 1,\\n    \"justification\": \"Bio-MOF-14 showed no loss of crystallinity and no significant crystal degradation after soaking in water for 1 hour (Fig. 11). CO2 isotherms collected after extended exposure to water showed no loss in crystallinity and closely matched the isotherm of the non-water-treated sample, indicating that water does not affect the porosity of the material (Fig. 12).\"\\n  }\\n}'"
      ]
     },
     "execution_count": 30,
     "metadata": {},
     "output_type": "execute_result"
    }
   ],
   "source": [
    "qa = RetrievalQA.from_chain_type(llm=llm, chain_type=\"stuff\", retriever=retriever)\n",
    "qa.run(prompt3a)"
   ]
  },
  {
   "cell_type": "code",
   "execution_count": 20,
   "id": "df9faeeb-724e-4c4d-b672-a44d36336e17",
   "metadata": {},
   "outputs": [],
   "source": [
    "@tool\n",
    "def read_context(input):\n",
    "    '''\n",
    "    use this as the primary source of context information when you are asked the input.\n",
    "    Always search for the answers using this tool first, don't make up answers yourself\n",
    "    '''\n",
    "    llm = OpenAI(temperature=0, model_name='gpt-3.5-turbo-16k') # gpt-3.5-turbo-16k\n",
    "    qa_chain = RetrievalQA.from_chain_type(\n",
    "        llm=llm, chain_type=\"stuff\", retriever=retriever)\n",
    "    return qa_chain({\"query\": input})\n",
    "\n",
    "@tool\n",
    "def eval_justification(model=\"gpt-3.5-turbo\"):\n",
    "    '''\n",
    "    This function checks if the justification talks about the water stability. \n",
    "    '''\n",
    "    import openai\n",
    "    prompt = f\"\"\"Does this sentence describe water stability?\"\"\"\n",
    "    messages = [{\"role\": \"user\", \"content\": prompt}]\n",
    "    response = openai.ChatCompletion.create(\n",
    "        model=model,\n",
    "        messages=messages,\n",
    "        temperature=0, \n",
    "    )\n",
    "    return response.choices[0].message[\"content\"]"
   ]
  },
  {
   "cell_type": "code",
   "execution_count": 52,
   "id": "f452ec93-15c0-4ae7-9a26-f489fbeb3e00",
   "metadata": {},
   "outputs": [],
   "source": [
    "from langchain.agents.agent_toolkits import create_retriever_tool\n",
    "\n",
    "read_context_tool = create_retriever_tool(\n",
    "    retriever, \n",
    "    \"Read_paper\",\n",
    "    \"Use this as the primary source of context information when you are asked the question about MOFs. Always search for the answers using this tool first, don't make up answers yourself\"\n",
    ")\n",
    "\n",
    "tools = [\n",
    "    # Tool(\n",
    "    #     name = \"Read_paper\",\n",
    "    #     func=qa.run,\n",
    "    #     description=f\"Useful for when you need to answer questions about MOFs.\"\n",
    "    # )]\n",
    "    read_context_tool]\n",
    "    #eval_justification]\n"
   ]
  },
  {
   "cell_type": "code",
   "execution_count": 53,
   "id": "ac7a5097-27ab-4ce2-a92d-7e51f9e27e25",
   "metadata": {},
   "outputs": [],
   "source": [
    "from langchain.agents.agent_toolkits import create_conversational_retrieval_agent\n",
    "agent_executor = create_conversational_retrieval_agent(llm, tools, verbose=True)"
   ]
  },
  {
   "cell_type": "code",
   "execution_count": 55,
   "id": "577e186b-9842-4dca-93f5-be3fe774b8ef",
   "metadata": {},
   "outputs": [
    {
     "name": "stdout",
     "output_type": "stream",
     "text": [
      "\n",
      "\n",
      "\u001b[1m> Entering new AgentExecutor chain...\u001b[0m\n",
      "\u001b[32;1m\u001b[1;3m\n",
      "Invoking: `Read_paper` with `MOFs`\n",
      "\n",
      "\n",
      "\u001b[0m\u001b[36;1m\u001b[1;3m[Document(page_content='shown in Fig. 9. Previous calculations have demonstrated howCO\\n2can act as both a Lewis acid and a Lewis base when inter-\\nacting with CO 2-soluble polymers,53so it is not surprising that\\nsimilar interactions could be important in MOFs. Our calcula-tions show that CO\\n2is arranged so that it makes three Lewis-\\nacid –Lewis-base interactions with slightly acidic protons on the\\nframework, having O –H bond distances of 2.72, 2.75, and 2.85\\n˚A. The binding energy of this con \\ue103guration is 36 kJ mol/C01,\\nwhich is in good agreement with the experimentally calculatedisosteric heats for bio-MOF-12 .\\nWater stability studies\\nHaving shown that increasing the length of the aliphatic group\\ncan positively impact CO\\n2:N2selectivity, we next explored\\nFig. 8 Adsorption isotherms at 298 K of CO 2inbio-MOF-14 from grand\\ncanonical Monte Carlo Simulations using two di ﬀerent con ﬁgurations of the\\nvalerate chains.\\nFig. 9 Ground state structure of CO 2inbio-MOF-12 as computed from DFT-D2.\\nThe dashed lines indicate Lewis acid –base interactions, with O –H bond lengths\\nshown in angstroms (Co2+, light purple spheres; C, dark gray spheres; O, dark red\\nspheres; N, light blue spheres; H, white spheres).\\n1752 |Chem. Sci. , 2013, 4, 1746 –1755 This journal is ªThe Royal Society of Chemistry 2013Chemical Science Edge Article\\nPublished on 01 February 2013. Downloaded by University of Toronto on 6/12/2023 3:49:48 PM. \\nView Article Online', metadata={'source': '../Data/SI_PDF/1.pdf', 'page': 6}), Document(page_content=\"14. We modulate the porosity and hydrophobicity within thisaNational Energy Technology Laboratory, Regional University Alliance (NETL-RUA),\\nUSA\\nbDepartment of Chemistry, University of Pittsburgh, 219 Parkman Ave., Pittsburgh,\\nPennsylvania 15260, USA. E-mail: nrosi@pitt.edu\\ncDepartment of Chemical and Petroleum Engineering, University of Pittsburgh, 3700\\nO'Hara Street, Pittsburgh, Pennsylvania 15261, USA\\ndUnited States Department of Energy, National Energy Technology Laboratory, 626\\nCochrans Mill Road, Pittsburgh, Pennsylvania 15236, USA\\n†Electronic supplementary information (ESI) available: Additional isotherms,\\nsingle crystal data tables, EA data, and TGA data. CCDC 914678 –914680. For ESI\\nand crystallographic data in CIF or other electronic format see DOI:\\n10.1039/c3sc22207aCite this: Chem. Sci. , 2013, 4, 1746\\nReceived 11th December 2012\\nAccepted 31st January 2013\\nDOI: 10.1039/c3sc22207awww.rsc.org/chemicalscience\\n1746 |Chem. Sci. , 2013, 4, 1746 –1755 This journal is ªThe Royal Society of Chemistry 2013Chemical Science\\nEDGE ARTICLE\\nPublished on 01 February 2013. Downloaded by University of Toronto on 6/12/2023 3:49:48 PM. \\nView Article Online\\nView Journal\\n | View Issue\", metadata={'source': '../Data/SI_PDF/1.pdf', 'page': 0}), Document(page_content='and evacuated to 200 mTorr, it was heated in a 130\\n/C14C oven\\n(24 h). Black, octahedral crystals were collected, washed (dry\\nDMF, 3 /C2), and dried under argon \\ue104ow. Yield: 94 mg, 78%\\n(based on Co propionate). Anal. calcd for Co 2(ad) 2-\\n(C2H5CO2)2$2.25DMF, 0.3H 2O: C, 38.92; H, 4.93; N, 24.44.\\nFound: C, 38.99; H, 4.59; N, 24.36.\\nSynthesis of bio-MOF-13\\nStock solutions of cobalt butyrate (0.05 M) and adenine (0.05 M)\\nin pre-dried DMF were prepared. To a Schlenk tube (40 mL)were added cobalt valerate solution (9.0 mL; 0.45 mmol),adenine solution (27.0 mL; 1.35 mmol), and nanopure water(120mL). A\\ue09der the solution was frozen in liquid nitrogen and\\nevacuated to 200 mTorr, it was heated in a 130\\n/C14C oven (24 h).\\nBlack, octahedral crystals were collected, washed (dry DMF, 3 /C2),\\nand dried under argon \\ue104ow. Yield: 90 mg, 71% (based on Co\\nbutyrate). Anal. calcd for Co 2(ad) 2(C3H7CO2)2$1.1DMF, 0.6H 2O:\\nC, 39.27; H, 4.78; N, 23.86. Found: C, 39.36; H, 4.185; N, 23.74.\\nSynthesis of bio-MOF-14\\nStock solutions of cobalt valerate (0.05 M) and adenine (0.05 M)\\nin pre-dried DMF were prepared. To a Schlenk tube (40 mL)were added cobalt valerate solution (9.0 mL; 0.45 mmol),\\nFig. 1 Coordination modes of adenine.\\nThis journal is ªThe Royal Society of Chemistry 2013 Chem. Sci. , 2013, 4, 1746 –1755 | 1747Edge Article Chemical Science\\nPublished on 01 February 2013. Downloaded by University of Toronto on 6/12/2023 3:49:48 PM. \\nView Article Online', metadata={'source': '../Data/SI_PDF/1.pdf', 'page': 1}), Document(page_content='close interactions (3.55 ˚A nearest neighbor distance) between\\nthe propionate methyl group and the six-member pyrimidalring of the adeninate. The alkyl chains of each bio-MOF extendinto the channel space with either single or multiple con \\ue103gu-\\nrations, each of which was crystallographically resolved; thesechains serve to modulate the accessible void space. Given thisobservation, we were keen to explore the gas adsorption prop-erties of this series of bio-MOFs.\\nPorosity and N\\n2adsorption studies\\nThermogravimetric analysis (TGA) data for as-synthesized bio-\\nMOFs-11 –14each exhibited a weight loss step below 200/C14C\\nwhich corresponds to the loss of DMF and water guest mole-\\ncules, as determined viacomparison to the elemental analysis\\ndata (Table S18 †). The percentage weight of included solvent\\ndecreases with the extension of the aliphatic chains: bio-MOF-\\n11, 22.4% (2.25DMF, 0.6H 2O);bio-MOF-12 , 21.7% (2.25DMF,\\n0.3H 2O);bio-MOF-13 , 12.0% (1.1DMF, 0.6H 2O); and bio-MOF-\\n14, 8.7% (0.6DMF, 0.6H 2O) (Fig. 3, Table S18 †). For each\\nmaterial, no additional weight loss was observed until the onsetof framework decomposition at approximately 280\\n/C14C.\\nN2adsorption experiments veri \\ue103ed the permanent porosity\\nofbio-MOFs-11 –13. Each MOF exhibited a Type I isotherm\\ncharacteristic of a microporous material (Fig. 4). As expected,the surface area and pore volume decreased as the length of thealiphatic chains increases (Table S19 †). Surprisingly, although\\nbio-MOF-14 includes 8.7 wt% solvent, its N\\n2uptake under theconditions studied was very low compared to the other\\nanalogues (Fig. 4).\\nCO2adsorption studies\\nWe measured CO 2isotherms for each material at multiple\\ntemperatures (Tables S20 –S23 †). At 273 K, we found that the\\ntotal CO 2capacity at 1 bar decreased with increasing aliphatic\\nchain length (Fig. 5, Table 2). Notably, the CO 2isotherm for bio-\\nMOF-14 at 273 K does not exhibit typical Langmuir behavior.\\nRather, it has three distinct regions: an initial gradual rise to13 cm\\n3g/C01between 0 and 0.15 bar, a second steeper adsorption\\nstep to 29 cm3g/C01between 0.15 and 0.25 bar, and a third\\ngradual increase to 44.8 cm3g/C01between 0.25 and 1 bar (Fig. 5).\\nSuch stepwise adsorption behavior has been observed for \\ue104ex-\\nible MOFs at room temperature19,45 –51and for rigid MOFs at low\\ntemperatures.17To the best of our knowledge, this behavior is\\nunique among rigid MOFs at ambient temperature.\\nWe collected CO 2isotherms at higher temperatures (298,\\n303, 308, and 313 K) (Fig. S7 –S10 †) and used these data to\\nFig. 3 TGA of as-synthesized bio-MOF-11 (navy), bio-MOF-12 (dark red), bio-\\nMOF-13 (green), and bio-MOF-14 (orange).\\nFig. 4 N2adsorption isotherms of bio-MOF-11 (navy), bio-MOF-12 (dark red),\\nbio-MOF-13 (green), and bio-MOF-14 (orange) at 77 K.\\nFig. 5 CO2adsorption isotherms of bio-MOF-11 (navy), bio-MOF-12 (dark red),\\nbio-MOF-13 (green), and bio-MOF-14 (orange) at 273 K.Table 1 Unit cell parameters of bio-MOF-11 to14\\nUnit cell parameters\\na(˚A) b(˚A) c(˚A) a¼b¼g\\nBio-MOF-11 15.44 15.44 22.78 90/C14\\nBio-MOF-12 17.24 17.24 20.16 90/C14\\nBio-MOF-13 15.79 15.79 22.33 90/C14\\nBio-MOF-14 15.85 15.85 22.35 90/C14\\n1750 |Chem. Sci. , 2013, 4, 1746 –1755 This journal is ªThe Royal Society of Chemistry 2013Chemical Science Edge Article\\nPublished on 01 February 2013. Downloaded by University of Toronto on 6/12/2023 3:49:48 PM. \\nView Article Online', metadata={'source': '../Data/SI_PDF/1.pdf', 'page': 4}), Document(page_content='cobalt –adeninate –acetate ‘paddle-wheel ’building blocks that\\nare periodically linked together through the N7 of the adeninate\\nto form a 3-D structure with the augmented lvttopology.42This\\narrangement of building blocks a ﬀords channels that run\\nparallel to the aand bcrystallographic axes. These channels are\\ndensely functionalized with Lewis-basic groups: the top andbottom wall of each channel is decorated, in a zig –zag fashion,\\nwith amino groups spaced 5 ˚A apart as well as pyrimidal\\nnitrogen groups spaced 4.7 ˚A apart. In addition, the channels\\nare lined with methyl groups from the acetates of the building\\nblocks.\\nA\\ue09der studying the structure of bio-MOF-11 , we decided to\\nfabricate an isoreticular series of MOFs by replacing the acetategroups with monocarboxylates having longer aliphatic chains,such as propionate, butyrate, and valerate. These small modi-\\ue103cations to the bio-MOF-11 structure would allow us to carefullymodulate both the cavity size and the pore hydrophobicity. To\\nrealize this design strategy, we prepared the cobalt mono-\\ncarboxylate salts (cobalt propionate, cobalt butyrate, and cobaltvalerate) and then reacted these salts with adenine under sol-vothermal conditions. Each reaction yielded crystalline product.Collection and subsequent re \\ue103nement of single crystal X-ray\\ndiﬀraction data for each product MOF, bio-MOF-12 (Co\\n2(ad) 2-\\n(C2H5CO2)2),bio-MOF-13 (Co 2(ad) 2(C3H7CO2)2), and bio-MOF-\\n14(Co 2(ad) 2(C4H9CO2)2) (Fig. 2), con \\ue103rmed that they were iso-\\nstructural to bio-MOF-11 .23,43,44The complete compositions of\\nthe solvated samples were determined viaelemental analysis.\\nBio-MOFs-12 ,13, and 14each crystallize in the tetragonal space\\ngroup ( I41/a), and the unit cells are similar to each other and to\\nbio-MOF-11 (Table 1). Compared to the other members of the\\nseries, the unit cell of bio-MOF-12 is slightly elongated along a\\nand bbut compressed along c. These di ﬀerences derive from\\nFig. 2 Secondary building units (SBUs) (upper left quadrant) and crystal structures of bio-MOF-11 ,12,13, and 14(A, B, C, and D, respectively) (Co2+, light purple\\npolyhedra; C, dark gray spheres; O, dark red spheres; N, light blue spheres. H atoms have been omitted for clarity. Aliphatic carbon atoms are represen ted by orange\\nspheres).\\nThis journal is ªThe Royal Society of Chemistry 2013 Chem. Sci. , 2013, 4, 1746 –1755 | 1749Edge Article Chemical Science\\nPublished on 01 February 2013. Downloaded by University of Toronto on 6/12/2023 3:49:48 PM. \\nView Article Online', metadata={'source': '../Data/SI_PDF/1.pdf', 'page': 3})]\u001b[0m\u001b[32;1m\u001b[1;3m{\n",
      "  \"MOFs\": [\n",
      "    {\n",
      "      \"name\": \"bio-MOF-11\",\n",
      "      \"stability\": \"Unstable\",\n",
      "      \"probability\": 0.9,\n",
      "      \"justification\": \"bio-MOF-11 dissolved rapidly in water, as evidenced by PXRD and SEM imaging.\"\n",
      "    },\n",
      "    {\n",
      "      \"name\": \"bio-MOF-12\",\n",
      "      \"stability\": \"Unstable\",\n",
      "      \"probability\": 0.8,\n",
      "      \"justification\": \"bio-MOF-12 dissolved partially in water, with significant crystallite fragmentation and pitting of the crystal surfaces.\"\n",
      "    },\n",
      "    {\n",
      "      \"name\": \"bio-MOF-13\",\n",
      "      \"stability\": \"Unstable\",\n",
      "      \"probability\": 0.7,\n",
      "      \"justification\": \"bio-MOF-13 dissolved partially in water, but was noticeably more stable than bio-MOF-12.\"\n",
      "    },\n",
      "    {\n",
      "      \"name\": \"bio-MOF-14\",\n",
      "      \"stability\": \"Stable\",\n",
      "      \"probability\": 0.9,\n",
      "      \"justification\": \"bio-MOF-14 showed no loss of crystallinity or porosity after soaking in water for one month.\"\n",
      "    }\n",
      "  ]\n",
      "}\n",
      "{\n",
      "  \"MOFs\": [\n",
      "    {\n",
      "      \"name\": \"bio-MOF-11\",\n",
      "      \"stability\": \"Unstable\",\n",
      "      \"probability\": 0.9,\n",
      "      \"justification\": \"bio-MOF-11 dissolved rapidly in water, as evidenced by PXRD and SEM imaging.\"\n",
      "    },\n",
      "    {\n",
      "      \"name\": \"bio-MOF-12\",\n",
      "      \"stability\": \"Unstable\",\n",
      "      \"probability\": 0.8,\n",
      "      \"justification\": \"bio-MOF-12 dissolved partially in water, with significant crystallite fragmentation and pitting of the crystal surfaces.\"\n",
      "    },\n",
      "    {\n",
      "      \"name\": \"bio-MOF-13\",\n",
      "      \"stability\": \"Unstable\",\n",
      "      \"probability\": 0.7,\n",
      "      \"justification\": \"bio-MOF-13 dissolved partially in water, but was noticeably more stable than bio-MOF-12.\"\n",
      "    },\n",
      "    {\n",
      "      \"name\": \"bio-MOF-14\",\n",
      "      \"stability\": \"Stable\",\n",
      "      \"probability\": 0.9,\n",
      "      \"justification\": \"bio-MOF-14 showed no loss of crystallinity or porosity after soaking in water for one month.\"\n",
      "    }\n",
      "  ]\n",
      "}\u001b[0m\n",
      "\n",
      "\u001b[1m> Finished chain.\u001b[0m\n",
      "Tokens Used: 5565\n",
      "\tPrompt Tokens: 5042\n",
      "\tCompletion Tokens: 523\n",
      "Successful Requests: 2\n",
      "Total Cost (USD): $0.017218\n"
     ]
    }
   ],
   "source": [
    "from langchain.callbacks import get_openai_callback\n",
    "with get_openai_callback() as cb:\n",
    "    agent_executor(prompt3a)\n",
    "    print(cb)"
   ]
  },
  {
   "cell_type": "code",
   "execution_count": 96,
   "id": "6380a3c5-3c2b-4998-ae42-ea0ac68fd33a",
   "metadata": {},
   "outputs": [],
   "source": [
    "tools = [\n",
    "    Tool(\n",
    "        name = \"MOF_stability\",\n",
    "        func=qa.run,\n",
    "        description=f\"Use the original prompt for this tool to get context about water stability of MOFs.\"\n",
    "    )]"
   ]
  },
  {
   "cell_type": "code",
   "execution_count": 97,
   "id": "b80b5d52-5539-4917-83c8-18d9a6f5e2a3",
   "metadata": {},
   "outputs": [],
   "source": [
    "# qa.run(prompt3a)"
   ]
  },
  {
   "cell_type": "code",
   "execution_count": 98,
   "id": "87c93d70-4c9d-4b10-b26a-fb1547c9eda3",
   "metadata": {},
   "outputs": [],
   "source": [
    "from llama_index import GPTListIndex, GPTIndexMemory\n",
    "from langchain.agents import initialize_agent\n",
    "from langchain.agents import AgentType\n",
    "# index = GPTListIndex([])\n",
    "# memory = GPTIndexMemory(index=GPTListIndex([]), memory_key=\"chat_history\", query_kwargs={\"response_mode\": \"compact\"})\n",
    "agent_chain = initialize_agent(tools, llm, agent=AgentType.CHAT_ZERO_SHOT_REACT_DESCRIPTION,\n",
    "                               verbose=True, memory=None, handle_parsing_errors=True)"
   ]
  },
  {
   "cell_type": "code",
   "execution_count": 101,
   "id": "f330cacc-715b-449b-93f2-b425ac4c204d",
   "metadata": {},
   "outputs": [
    {
     "name": "stdout",
     "output_type": "stream",
     "text": [
      "\n",
      "\n",
      "\u001b[1m> Entering new AgentExecutor chain...\u001b[0m\n",
      "\u001b[32;1m\u001b[1;3mThought: I need to use the MOF_stability tool to find the water stability properties of the materials mentioned in the document. I should provide the document text as input to the tool.\n",
      "\n",
      "Action:\n",
      "```\n",
      "{\n",
      "  \"action\": \"MOF_stability\",\n",
      "  \"action_input\": \"This doc describes the water stability properties of a few materials including Metal-Organic Frameworks(MOF) or coordination polymers, Coordination Networks or ZIF compounds. Please find the full name for materials, and their stability in water. Please use the following rules to identify the water stability of each MOF. Your second output for each mof should be a probability score ranging between [0, 1]. This probability score shows how certain you are in your answer. Your third output should be exact sentences without any changes from the document that justifies your decision. This should be 'Not provided' if you cannot find water stability. Rule: There are only 3 options for water stability: 1. Stable 2. Unstable 3. Not providedFor 1. Stable, No change after exposure, soaking or boiling in water or an aqueous solution.Water adsorption isotherm should have a steep uptake.For 2. Unstable, The MOF will decompose after exposure to humid environment or partially dissolves in water. For 3. Not provided, If you don't know or cannot justfy 1 or 2\"\n",
      "}\n",
      "```\n",
      "\n",
      "\u001b[0m\n",
      "Observation: \u001b[36;1m\u001b[1;3mMOF-11: Unstable (0.9)\n",
      "The document states that bio-MOF-11 dissolved rapidly in water, as evidenced by PXRD (Fig. 10). SEM images could not be obtained.\n",
      "\n",
      "MOF-12: Unstable (0.8)\n",
      "The document states that bio-MOF-12 dissolved partially in water. The intensity of its signature diffraction lines decreased substantially (Fig. 10). SEM images of the soaked samples revealed significant crystallite fragmentation and pitting of the crystal surfaces, consistent with degradation.\n",
      "\n",
      "MOF-13: Unstable (0.7)\n",
      "The document states that bio-MOF-13 dissolved partially in water. The intensity of its signature diffraction lines decreased substantially (Fig. 10). However, it was clear from comparing PXRD patterns that bio-MOF-13, with butyrate, was noticeably more stable in water than bio-MOF-12, with propionate. SEM images of the soaked samples revealed a small amount of fragmentation and pitting for bio-MOF-13 samples.\n",
      "\n",
      "MOF-14: Stable (0.9)\n",
      "The document states that bio-MOF-14 showed no loss of crystallinity and no significant crystal degradation after soaking in water for 1 hour (Fig. 11). The water soaking period was extended to 7 and 30 days, and the PXRD pattern showed no loss in crystallinity. SEM images showed only minimal pitting on the crystal surface after 7 or 30 days soaking in water.\u001b[0m\n",
      "Thought:\u001b[32;1m\u001b[1;3mI have obtained the water stability properties of the mentioned MOFs from the document. Now I need to compile the information and provide the final answer.\n",
      "\n",
      "Final Answer: \n",
      "\n",
      "MOF-11: Unstable (0.9)\n",
      "MOF-12: Unstable (0.8)\n",
      "MOF-13: Unstable (0.7)\n",
      "MOF-14: Stable (0.9)\u001b[0m\n",
      "\n",
      "\u001b[1m> Finished chain.\u001b[0m\n",
      "Tokens Used: 6120\n",
      "\tPrompt Tokens: 5438\n",
      "\tCompletion Tokens: 682\n",
      "Successful Requests: 3\n",
      "Total Cost (USD): $0.019042\n"
     ]
    }
   ],
   "source": [
    "with get_openai_callback() as cb:\n",
    "    agent_chain.run(prompt3a)\n",
    "    print(cb)"
   ]
  },
  {
   "cell_type": "code",
   "execution_count": null,
   "id": "15f28e0e-e414-42f5-95b6-7d24793f8108",
   "metadata": {},
   "outputs": [],
   "source": []
  }
 ],
 "metadata": {
  "kernelspec": {
   "display_name": "agent",
   "language": "python",
   "name": "agent"
  },
  "language_info": {
   "codemirror_mode": {
    "name": "ipython",
    "version": 3
   },
   "file_extension": ".py",
   "mimetype": "text/x-python",
   "name": "python",
   "nbconvert_exporter": "python",
   "pygments_lexer": "ipython3",
   "version": "3.9.17"
  }
 },
 "nbformat": 4,
 "nbformat_minor": 5
}
