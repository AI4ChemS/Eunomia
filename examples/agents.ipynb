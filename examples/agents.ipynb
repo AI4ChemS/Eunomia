{
 "cells": [
  {
   "cell_type": "code",
   "execution_count": 1,
   "id": "7cbcb6a9-23d3-4b4d-b374-a08db33eec03",
   "metadata": {},
   "outputs": [],
   "source": [
    "import os\n",
    "import eunomia\n",
    "import pickle\n"
   ]
  },
  {
   "cell_type": "code",
   "execution_count": 2,
   "id": "9b579528-34f3-48ec-bc7e-dd19f5b042d7",
   "metadata": {},
   "outputs": [],
   "source": [
    "paper_id = '1'\n",
    "docs_processor = eunomia.LoadDoc('../Data/SI_PDF/', paper_id=paper_id)\n",
    "sliced_pages = docs_processor.process(['references ', 'acknowledgement', 'acknowledgments', 'references\\n'],\n",
    "                                             chunk_size=1000, chunk_overlap=10, chunking_type='fixed-size')"
   ]
  },
  {
   "cell_type": "code",
   "execution_count": 3,
   "id": "47369b25-691d-4a96-983b-9a46adcb46ce",
   "metadata": {},
   "outputs": [
    {
     "name": "stdout",
     "output_type": "stream",
     "text": [
      "loadded Embeddings\n"
     ]
    }
   ],
   "source": [
    "from langchain.chains import RetrievalQA\n",
    "\n",
    "from langchain.embeddings.openai import OpenAIEmbeddings\n",
    "from langchain.vectorstores import FAISS\n",
    "\n",
    "k = 5\n",
    "# Embedding_model = 'text-davinci-003' # text-embedding-ada-002\n",
    "Embedding_model = 'text-embedding-ada-002' # text-embedding-ada-002\n",
    "\n",
    "\n",
    "faiss_index_path = f\"../Data/chosen_papers/faiss/{Embedding_model}/faiss_index_{Embedding_model}_{paper_id}.pkl\"\n",
    "just_load = True\n",
    "if os.path.isfile(faiss_index_path) and just_load:\n",
    "    print('loadded Embeddings')\n",
    "    with open(faiss_index_path, \"rb\") as f:\n",
    "        faiss_index = pickle.load(f)\n",
    "else:\n",
    "    with open(faiss_index_path, \"wb\") as f:  # text-embedding-ada-002\n",
    "        faiss_index = FAISS.from_documents(sliced_pages, OpenAIEmbeddings(model=Embedding_model))    # 'text-davinci-003\n",
    "        pickle.dump(faiss_index, f)\n",
    "\n",
    "# faiss_index = LanceDB.from_documents(sliced_pages, OpenAIEmbeddings(model=Embedding_model))\n",
    "\n",
    "retriever  = faiss_index.as_retriever(search_type=\"mmr\", search_kwargs={\"k\":k, 'fetch_k': 50}) # Maximum Marginal Relevance Retrieval\n"
   ]
  },
  {
   "cell_type": "code",
   "execution_count": 4,
   "id": "5cd4afbe-f0e8-493e-8919-e5ef952feeb5",
   "metadata": {},
   "outputs": [
    {
     "name": "stderr",
     "output_type": "stream",
     "text": [
      "C:\\Users\\mehra\\anaconda3\\envs\\agent\\lib\\site-packages\\langchain\\llms\\openai.py:201: UserWarning: You are trying to use a chat model. This way of initializing it is no longer supported. Instead, please use: `from langchain.chat_models import ChatOpenAI`\n",
      "  warnings.warn(\n",
      "C:\\Users\\mehra\\anaconda3\\envs\\agent\\lib\\site-packages\\langchain\\llms\\openai.py:786: UserWarning: You are trying to use a chat model. This way of initializing it is no longer supported. Instead, please use: `from langchain.chat_models import ChatOpenAI`\n",
      "  warnings.warn(\n"
     ]
    }
   ],
   "source": [
    "from langchain.llms import OpenAI\n",
    "from langchain.agents import Tool, tool\n",
    "from langchain.chat_models  import ChatOpenAI\n",
    "from langchain.chains import RetrievalQA\n",
    "llm = OpenAI(temperature=0, model_name='gpt-3.5-turbo-16k') # gpt-3.5-turbo-16k\n",
    "qa = RetrievalQA.from_chain_type(\n",
    "    llm=llm, chain_type=\"stuff\", retriever=retriever, return_source_documents=False,)"
   ]
  },
  {
   "cell_type": "code",
   "execution_count": 5,
   "id": "5c68369b-2532-4b98-899a-f3ca8913237a",
   "metadata": {},
   "outputs": [],
   "source": [
    "Rule = f\"\"\"\n",
    "There are only 3 options for water stability: \\\n",
    "1. Stable \\\n",
    "2. Unstable \\\n",
    "3. Not provided\\\n",
    "For 1. Stable, \\\n",
    "No change after exposure, soaking or boiling in water or an aqueous solution.\\\n",
    "Water adsorption isotherm should have a steep uptake.\\\n",
    "For 2. Unstable, \\\n",
    "The MOF will decompose after exposure \\\n",
    "to humid environment or partially dissolves in water. \\\n",
    "For 3. Not provided, \\\n",
    "If you don't know or cannot justfy 1 or 2\n",
    "\"\"\"\n",
    "\n",
    "# Steep uptake behavior is from this paper: https://pubs.acs.org/doi/epdf/10.1021/ja306812r"
   ]
  },
  {
   "cell_type": "code",
   "execution_count": 6,
   "id": "a32c21eb-4a39-44fc-9f22-2987d019bae5",
   "metadata": {
    "scrolled": true
   },
   "outputs": [],
   "source": [
    "prompt3a = f\"\"\"\n",
    "    You are an expert chemist. The doc tool describes the water stability properties of a few materials including \\\n",
    "    Metal-Organic Frameworks(MOF) or coordination polymers, Coordination Networks or ZIF compounds. Please find \\\n",
    "    the full name for materials, and their \\\n",
    "    stability in water. \\\n",
    "    Your final answer should contain the following:\\\n",
    "    Your first output is the water stability of each MOF. \\\n",
    "    Your second output for each mof should be a probability score ranging between [0, 1].\\\n",
    "    This probability score shows how certain you are in your answer.\\\n",
    "    Your third output should be exact sentences without any changes from the document that justifies your decision.\\\n",
    "    This should be \"Not provided\" if you cannot find water stability.\\\n",
    "    Rule: {Rule}\\\n",
    "    If there are multiple MOFs, please list them all and put \"MOF name\" before them. \\\n",
    "    You should only respond in JSON format as described below. \n",
    "    Make sure it is parsable using Python json.load.\n",
    "    Make sure \"MOF name\"s do not have duplicates\n",
    "    If information is not provided, state it as not provided.\\\n",
    "    \"\"\""
   ]
  },
  {
   "cell_type": "code",
   "execution_count": 7,
   "id": "2989b4e5-2da3-415e-a5ed-ee6cdc6c14ed",
   "metadata": {},
   "outputs": [
    {
     "data": {
      "text/plain": [
       "'{\\n  \"MOF-11\": {\\n    \"water_stability\": \"Unstable\",\\n    \"probability_score\": 0.9,\\n    \"justification\": \"Bio-MOF-11 dissolved rapidly in water, as evidenced by PXRD (Fig. 10); SEM images could not be obtained.\"\\n  },\\n  \"MOF-12\": {\\n    \"water_stability\": \"Unstable\",\\n    \"probability_score\": 0.8,\\n    \"justification\": \"Bio-MOF-12 dissolved partially in water. The intensity of their signature diﬀraction lines decreased substantially (Fig. 10); SEM images of the soaked samples revealed significant crystallite fragmentation and pitting of the crystal surfaces (Fig. S21 †).\"\\n  },\\n  \"MOF-13\": {\\n    \"water_stability\": \"Unstable\",\\n    \"probability_score\": 0.7,\\n    \"justification\": \"Bio-MOF-13 dissolved partially in water. The intensity of their signature diﬀraction lines decreased substantially (Fig. 10); SEM images of the soaked samples revealed significant crystallite fragmentation and pitting of the crystal surfaces (Fig. S21 †). However, it was clear from comparing PXRD patterns that bio-MOF-13, with butyrate, was noticeably more stable in water than bio-MOF-12, with propionate (Fig. 10).\"\\n  },\\n  \"MOF-14\": {\\n    \"water_stability\": \"Stable\",\\n    \"probability_score\": 0.9,\\n    \"justification\": \"Bio-MOF-14 showed no loss of crystallinity and no significant crystal degradation after soaking in water for 1 hour (Fig. 11). The PXRD pattern shows no loss in crystallinity after extended exposure to water for 7 and 30 days (Fig. S24 †). SEM images show only minimal pitting on the crystal surface after 7 or 30 days soaking in water (Fig. S23 †).\"\\n  }\\n}'"
      ]
     },
     "execution_count": 7,
     "metadata": {},
     "output_type": "execute_result"
    }
   ],
   "source": [
    "qa = RetrievalQA.from_chain_type(llm=llm, chain_type=\"stuff\", retriever=retriever)\n",
    "qa.run(prompt3a)"
   ]
  },
  {
   "cell_type": "code",
   "execution_count": 8,
   "id": "46a744d6-bfbc-4a63-90f3-e6123a720b32",
   "metadata": {},
   "outputs": [],
   "source": [
    "from langchain.llms import OpenAI\n",
    "\n",
    "llm = OpenAI(temperature=0, model_name='gpt-3.5-turbo-16k') # gpt-3.5-turbo-16k\n",
    "qa = RetrievalQA.from_chain_type(\n",
    "    llm=llm, chain_type=\"stuff\", retriever=retriever, return_source_documents=False,)"
   ]
  },
  {
   "cell_type": "code",
   "execution_count": 9,
   "id": "5789bda3-1847-4c9d-bb87-9d906d558746",
   "metadata": {},
   "outputs": [],
   "source": [
    "from langchain.agents import Tool, tool\n",
    "\n",
    "@tool\n",
    "def eval_justification(justification):\n",
    "    '''\n",
    "    Always use this tool at the last step. This function checks if the justification talks about the water stability perdiction makes sense. \n",
    "    '''\n",
    "    import openai\n",
    "    model=\"gpt-3.5-turbo\"\n",
    "    prompt = f\"\"\"\n",
    "            Does the below sentence talk about water stability on all found MOFS?\\\n",
    "            If not try to find a better justification for the MOF that does not.\\\n",
    "            \n",
    "            \"{justification}\"\\\n",
    "\n",
    "            To do this, you should be looking at information on steep uptakes, change or desolving in water and water stability in the sentence.\\\n",
    "            Do not make up answers.\\\n",
    "            \"\"\"\n",
    "    messages = [{\"role\": \"user\", \"content\": prompt}]\n",
    "    response = openai.ChatCompletion.create(\n",
    "        model=model,\n",
    "        messages=messages,\n",
    "        temperature=0, \n",
    "    )\n",
    "    return response.choices[0].message[\"content\"]\n",
    "\n",
    "\n",
    "# tools = [doc_retrival]\n"
   ]
  },
  {
   "cell_type": "code",
   "execution_count": 10,
   "id": "ec4e70fa-9f3f-4ebc-896f-094fe5b76c48",
   "metadata": {},
   "outputs": [],
   "source": [
    "\n",
    "prompt3a = f\"\"\"\n",
    "    You are an expert chemist. The document describes the water stability properties of a few materials including \\\n",
    "    Metal-Organic Frameworks(MOF) or coordination polymers, Coordination Networks or ZIF compounds. Please find \\\n",
    "    the exact full name for materials, and their \\\n",
    "    stability in water. \\\n",
    "    Your final answer should contain the following:\\\n",
    "    Your first output is the water stability of each MOF. \\\n",
    "    Your second output for each mof should be a probability score ranging between [0, 1].\\\n",
    "    This probability score shows how certain you are in your answer.\\\n",
    "    Your third output should be exact sentences without any changes from the document that justifies your decision.\\\n",
    "    Do not make up a justification that does not exist in the doc.\\\n",
    "    This should be \"Not provided\" if you cannot find water stability.\\\n",
    "    Rule: {Rule}\\\n",
    "    If there are multiple MOFs, please list them all and put \"MOF name\" before them. \\\n",
    "    You should only respond in JSON format as described below. \n",
    "    Make sure it is parsable using Python json.load.\n",
    "    Make sure \"MOF name\"s do not have duplicates\n",
    "    If information is not provided, state it as not provided.\\\n",
    "    \"\"\""
   ]
  },
  {
   "cell_type": "code",
   "execution_count": 11,
   "id": "ecf31034-bdcd-4623-81f2-4fbbb89f271a",
   "metadata": {},
   "outputs": [],
   "source": [
    "llm = OpenAI(temperature=0, model_name='gpt-3.5-turbo-16k') # gpt-3.5-turbo-16k\n",
    "qa_chain = RetrievalQA.from_chain_type(\n",
    "    llm=llm, chain_type=\"stuff\", retriever=retriever)\n",
    "# qa_chain.run(prompt3a)"
   ]
  },
  {
   "cell_type": "code",
   "execution_count": 12,
   "id": "710471a5-feb4-461a-99b6-55e953d05103",
   "metadata": {},
   "outputs": [],
   "source": [
    "@tool\n",
    "def read_doc(input):\n",
    "    '''\n",
    "    Input the users original prompt and get context on water stability of metal organic frameworks.\n",
    "    Always search for the answers using this tool first, don't make up answers yourself.\n",
    "    '''\n",
    "    llm = OpenAI(temperature=0, model_name='gpt-3.5-turbo-16k') # gpt-3.5-turbo-16k\n",
    "    qa_chain = RetrievalQA.from_chain_type(\n",
    "        llm=llm, chain_type=\"stuff\", retriever=retriever)\n",
    "    return qa_chain({\"query\": prompt3a})['result']\n",
    "\n",
    "tools = [\n",
    "    # Tool(\n",
    "    #     name = \"read_doc\",\n",
    "    #     func=qa.run,\n",
    "    #     description=f\"Always use this tool for context. Use the input prompt for this tool to get context about water stability of MOFs.\"\n",
    "    # )\n",
    "    read_doc, eval_justification]\n"
   ]
  },
  {
   "cell_type": "code",
   "execution_count": 13,
   "id": "a05f53c5-f791-4bfc-b20d-ba90a040f4dd",
   "metadata": {},
   "outputs": [],
   "source": [
    "from langchain.memory import ConversationBufferMemory\n",
    "from langchain.chat_models  import ChatOpenAI\n",
    "from langchain.agents import initialize_agent\n",
    "from langchain.agents import AgentType\n",
    "from langchain.callbacks import get_openai_callback\n",
    "\n",
    "agent_llm = ChatOpenAI(temperature=0, model_name='gpt-3.5-turbo-16k')\n",
    "\n",
    "memory = ConversationBufferMemory(memory_key=\"chat_history\")\n",
    "\n",
    "agent_chain = initialize_agent(tools, agent_llm, agent=AgentType.ZERO_SHOT_REACT_DESCRIPTION,\n",
    "                               verbose=True, memory=memory, handle_parsing_errors=True,\n",
    "                              prefix= None, suffix=None, output_parser=None)"
   ]
  },
  {
   "cell_type": "code",
   "execution_count": 17,
   "id": "e89c47d0-cd3a-4d6b-8db5-a42bb7d8ea90",
   "metadata": {},
   "outputs": [
    {
     "name": "stdout",
     "output_type": "stream",
     "text": [
      "\n",
      "\n",
      "\u001b[1m> Entering new AgentExecutor chain...\u001b[0m\n",
      "\u001b[32;1m\u001b[1;3mI should start by reading the paper to gather information on the mentioned MOFs and their water stability.\n",
      "Action: read_doc(\"paper 1.pdf\")\u001b[0m\n",
      "Observation: Invalid Format: Missing 'Action Input:' after 'Action:'\n",
      "Thought:\u001b[32;1m\u001b[1;3mI need to provide the input for the read_doc action.\n",
      "Action Input: \"paper 1.pdf\"\u001b[0m\n",
      "Observation: Invalid Format: Missing 'Action:' after 'Thought:\n",
      "Thought:\u001b[32;1m\u001b[1;3mI need to provide the action for the read_doc action.\n",
      "Action: read_doc\n",
      "Action Input: \"paper 1.pdf\"\u001b[0m\n",
      "Observation: \u001b[36;1m\u001b[1;3m{\n",
      "  \"MOF-11\": {\n",
      "    \"water_stability\": \"Unstable\",\n",
      "    \"probability_score\": 1,\n",
      "    \"justification\": \"Bio-MOF-11 dissolved rapidly in water, as evidenced by PXRD (Fig. 10); SEM images could not be obtained.\"\n",
      "  },\n",
      "  \"MOF-12\": {\n",
      "    \"water_stability\": \"Unstable\",\n",
      "    \"probability_score\": 1,\n",
      "    \"justification\": \"Bio-MOF-12 dissolved partially in water. The intensity of their signature diﬀraction lines decreased substantially (Fig. 10); SEM images of the soaked samples revealed significant crystallite fragmentation and pitting of the crystal surfaces (Fig. S21 †).\"\n",
      "  },\n",
      "  \"MOF-13\": {\n",
      "    \"water_stability\": \"Unstable\",\n",
      "    \"probability_score\": 1,\n",
      "    \"justification\": \"Bio-MOF-13 dissolved partially in water. The intensity of their signature diﬀraction lines decreased substantially (Fig. 10); SEM images of the soaked samples revealed significant crystallite fragmentation and pitting of the crystal surfaces (Fig. S21 †). However, it was noticeably more stable in water than bio-MOF-12 (Fig. 10).\"\n",
      "  },\n",
      "  \"MOF-14\": {\n",
      "    \"water_stability\": \"Stable\",\n",
      "    \"probability_score\": 1,\n",
      "    \"justification\": \"Bio-MOF-14 showed no loss of crystallinity and no significant crystal degradation after soaking in water for 1 hour (Fig. 11). Extended soaking for 7 and 30 days also showed no loss in crystallinity (Fig. S24 †), and SEM images showed only minimal pitting on the crystal surface (Fig. S23 †). CO2 isotherms collected after extended exposure to water indicated that water does not affect the porosity of the material (Fig. 12).\"\n",
      "  }\n",
      "}\u001b[0m\n",
      "Thought:\u001b[32;1m\u001b[1;3mI have gathered information on the mentioned MOFs and their water stability from the paper.\n",
      "Action: eval_justification\n",
      "Action Input: {\n",
      "  \"MOF-11\": {\n",
      "    \"water_stability\": \"Unstable\",\n",
      "    \"probability_score\": 1,\n",
      "    \"justification\": \"Bio-MOF-11 dissolved rapidly in water, as evidenced by PXRD (Fig. 10); SEM images could not be obtained.\"\n",
      "  },\n",
      "  \"MOF-12\": {\n",
      "    \"water_stability\": \"Unstable\",\n",
      "    \"probability_score\": 1,\n",
      "    \"justification\": \"Bio-MOF-12 dissolved partially in water. The intensity of their signature diﬀraction lines decreased substantially (Fig. 10); SEM images of the soaked samples revealed significant crystallite fragmentation and pitting of the crystal surfaces (Fig. S21 †).\"\n",
      "  },\n",
      "  \"MOF-13\": {\n",
      "    \"water_stability\": \"Unstable\",\n",
      "    \"probability_score\": 1,\n",
      "    \"justification\": \"Bio-MOF-13 dissolved partially in water. The intensity of their signature diﬀraction lines decreased substantially (Fig. 10); SEM images of the soaked samples revealed significant crystallite fragmentation and pitting of the crystal surfaces (Fig. S21 †). However, it was noticeably more stable in water than bio-MOF-12 (Fig. 10).\"\n",
      "  },\n",
      "  \"MOF-14\": {\n",
      "    \"water_stability\": \"Stable\",\n",
      "    \"probability_score\": 1,\n",
      "    \"justification\": \"Bio-MOF-14 showed no loss of crystallinity and no significant crystal degradation after soaking in water for 1 hour (Fig. 11). Extended soaking for 7 and 30 days also showed no loss in crystallinity (Fig. S24 †), and SEM images showed only minimal pitting on the crystal surface (Fig. S23 †). CO2 isotherms collected after extended exposure to water indicated that water does not affect the porosity of the material (Fig. 12).\"\n",
      "  }\n",
      "}\u001b[0m\n",
      "Observation: \u001b[33;1m\u001b[1;3mYes, the sentence talks about water stability on all found MOFs. It provides information on the water stability of each MOF (MOF-11, MOF-12, MOF-13, and MOF-14) based on their behavior in water and the observations made through various techniques such as PXRD (Powder X-ray Diffraction) and SEM (Scanning Electron Microscopy) imaging.\u001b[0m\n",
      "Thought:\u001b[32;1m\u001b[1;3mI now know the final answer.\n",
      "Final Answer: The water stability of the mentioned MOFs are as follows:\n",
      "- MOF-11: Unstable (rapid dissolution in water)\n",
      "- MOF-12: Unstable (partial dissolution, significant crystallite fragmentation and pitting)\n",
      "- MOF-13: Unstable (partial dissolution, significant crystallite fragmentation and pitting, but more stable than MOF-12)\n",
      "- MOF-14: Stable (no loss of crystallinity, minimal pitting on crystal surface, water does not affect porosity)\u001b[0m\n",
      "\n",
      "\u001b[1m> Finished chain.\u001b[0m\n",
      "Tokens Used: 7740\n",
      "\tPrompt Tokens: 6717\n",
      "\tCompletion Tokens: 1023\n",
      "Successful Requests: 6\n",
      "Total Cost (USD): $0.024243\n"
     ]
    }
   ],
   "source": [
    "input_prompt = 'You are an expert chemist. Read paper 1.pdf, find all the mentioned MOFs and their water stability with a justification of your answers.'\n",
    "\n",
    "with get_openai_callback() as cb:\n",
    "    result = agent_chain.run(input=input_prompt)\n",
    "    print(cb)"
   ]
  },
  {
   "cell_type": "code",
   "execution_count": 18,
   "id": "55c17a2e-f611-4ca8-90f2-e6c07e927510",
   "metadata": {},
   "outputs": [
    {
     "data": {
      "text/plain": [
       "{'MOF-11': {'Predicted Stability': 'Unstable',\n",
       "  'Score': 0.0,\n",
       "  'Justification': 'Rapid dissolution in water',\n",
       "  'Paper id': '1'},\n",
       " 'MOF-12': {'Predicted Stability': 'Unstable',\n",
       "  'Score': 0.0,\n",
       "  'Justification': 'Partial dissolution, significant crystallite fragmentation and pitting',\n",
       "  'Paper id': '1'},\n",
       " 'MOF-13': {'Predicted Stability': 'Unstable',\n",
       "  'Score': 0.0,\n",
       "  'Justification': 'Partial dissolution, significant crystallite fragmentation and pitting, but more stable than MOF-12',\n",
       "  'Paper id': '1'},\n",
       " 'MOF-14': {'Predicted Stability': 'Stable',\n",
       "  'Score': 0.0,\n",
       "  'Justification': 'No loss of crystallinity, minimal pitting on crystal surface, water does not affect porosity',\n",
       "  'Paper id': '1'}}"
      ]
     },
     "execution_count": 18,
     "metadata": {},
     "output_type": "execute_result"
    }
   ],
   "source": [
    "eunomia.parse_to_dict(result, paper_id)"
   ]
  },
  {
   "cell_type": "code",
   "execution_count": null,
   "id": "8c4a80b3-4d9a-4932-970f-447a561251e1",
   "metadata": {},
   "outputs": [],
   "source": []
  }
 ],
 "metadata": {
  "kernelspec": {
   "display_name": "agent",
   "language": "python",
   "name": "agent"
  },
  "language_info": {
   "codemirror_mode": {
    "name": "ipython",
    "version": 3
   },
   "file_extension": ".py",
   "mimetype": "text/x-python",
   "name": "python",
   "nbconvert_exporter": "python",
   "pygments_lexer": "ipython3",
   "version": "3.9.17"
  }
 },
 "nbformat": 4,
 "nbformat_minor": 5
}
