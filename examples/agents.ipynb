{
 "cells": [
  {
   "cell_type": "code",
   "execution_count": 1,
   "id": "7cbcb6a9-23d3-4b4d-b374-a08db33eec03",
   "metadata": {},
   "outputs": [
    {
     "name": "stderr",
     "output_type": "stream",
     "text": [
      "C:\\Users\\mehra\\anaconda3\\envs\\agent\\lib\\site-packages\\fuzzywuzzy\\fuzz.py:11: UserWarning: Using slow pure-python SequenceMatcher. Install python-Levenshtein to remove this warning\n",
      "  warnings.warn('Using slow pure-python SequenceMatcher. Install python-Levenshtein to remove this warning')\n"
     ]
    }
   ],
   "source": [
    "import os\n",
    "import eunomia\n",
    "import pickle\n"
   ]
  },
  {
   "cell_type": "code",
   "execution_count": 2,
   "id": "9b579528-34f3-48ec-bc7e-dd19f5b042d7",
   "metadata": {},
   "outputs": [],
   "source": [
    "paper_id = '1'\n",
    "docs_processor = eunomia.LoadDoc('../Data/SI_PDF/', paper_id=paper_id)\n",
    "sliced_pages = docs_processor.process(['references ', 'acknowledgement', 'acknowledgments', 'references\\n'],\n",
    "                                             chunk_size=1000, chunk_overlap=10, chunking_type='fixed-size')"
   ]
  },
  {
   "cell_type": "code",
   "execution_count": 3,
   "id": "47369b25-691d-4a96-983b-9a46adcb46ce",
   "metadata": {},
   "outputs": [],
   "source": [
    "from langchain.chains import RetrievalQA\n",
    "\n",
    "from langchain.embeddings.openai import OpenAIEmbeddings\n",
    "from langchain.vectorstores import FAISS\n",
    "\n",
    "k = 5\n",
    "# Embedding_model = 'text-davinci-003' # text-embedding-ada-002\n",
    "Embedding_model = 'text-embedding-ada-002' # text-embedding-ada-002\n",
    "\n",
    "\n",
    "faiss_index_path = f\"../Data/chosen_papers/faiss/{Embedding_model}/faiss_index_{Embedding_model}_{paper_id}.pkl\"\n",
    "just_load = False\n",
    "if os.path.isfile(faiss_index_path) and just_load:\n",
    "    print('loadded Embeddings')\n",
    "    with open(faiss_index_path, \"rb\") as f:\n",
    "        faiss_index = pickle.load(f)\n",
    "else:\n",
    "    with open(faiss_index_path, \"wb\") as f:  # text-embedding-ada-002\n",
    "        faiss_index = FAISS.from_documents(sliced_pages, OpenAIEmbeddings(model=Embedding_model))    # 'text-davinci-003\n",
    "        pickle.dump(faiss_index, f)\n",
    "\n",
    "# faiss_index = LanceDB.from_documents(sliced_pages, OpenAIEmbeddings(model=Embedding_model))\n",
    "\n",
    "retriever  = faiss_index.as_retriever(search_type=\"mmr\", search_kwargs={\"k\":k, 'fetch_k': 50}) # Maximum Marginal Relevance Retrieval"
   ]
  },
  {
   "cell_type": "code",
   "execution_count": 4,
   "id": "46a744d6-bfbc-4a63-90f3-e6123a720b32",
   "metadata": {},
   "outputs": [
    {
     "name": "stderr",
     "output_type": "stream",
     "text": [
      "C:\\Users\\mehra\\anaconda3\\envs\\agent\\lib\\site-packages\\langchain\\llms\\openai.py:201: UserWarning: You are trying to use a chat model. This way of initializing it is no longer supported. Instead, please use: `from langchain.chat_models import ChatOpenAI`\n",
      "  warnings.warn(\n",
      "C:\\Users\\mehra\\anaconda3\\envs\\agent\\lib\\site-packages\\langchain\\llms\\openai.py:786: UserWarning: You are trying to use a chat model. This way of initializing it is no longer supported. Instead, please use: `from langchain.chat_models import ChatOpenAI`\n",
      "  warnings.warn(\n"
     ]
    }
   ],
   "source": [
    "from langchain.llms import OpenAI\n",
    "\n",
    "llm = OpenAI(temperature=0, model_name='gpt-3.5-turbo-16k') # gpt-3.5-turbo-16k\n",
    "qa = RetrievalQA.from_chain_type(\n",
    "    llm=llm, chain_type=\"stuff\", retriever=retriever, return_source_documents=False,)"
   ]
  },
  {
   "cell_type": "code",
   "execution_count": 27,
   "id": "5789bda3-1847-4c9d-bb87-9d906d558746",
   "metadata": {},
   "outputs": [],
   "source": [
    "from langchain.agents import Tool, tool\n",
    "\n",
    "Rule = f\"\"\"\n",
    "There are only 3 options for water stability: \\\n",
    "1. Stable \\\n",
    "2. Unstable \\\n",
    "3. Not provided\\\n",
    "For 1. Stable, \\\n",
    "No change after exposure, soaking or boiling in water or an aqueous solution.\\\n",
    "Water adsorption isotherm should have a steep uptake.\\\n",
    "For 2. Unstable, \\\n",
    "The MOF will decompose after exposure \\\n",
    "to humid environment or partially dissolves in water. \\\n",
    "For 3. Not provided, \\\n",
    "If you don't know or cannot justfy 1 or 2\n",
    "\"\"\"\n",
    "\n",
    "@tool\n",
    "def eval_justification(justification):\n",
    "    '''\n",
    "    Always use this tool at the last step. This function checks if the justification talks about the water stability perdiction makes sense. \n",
    "    '''\n",
    "    import openai\n",
    "    model=\"gpt-3.5-turbo\"\n",
    "    prompt = f\"\"\"\n",
    "            Does the below sentence talk about water stability on all found MOFS?\\\n",
    "            If not try to find a better justification for the MOF that does not.\\\n",
    "            \n",
    "            \"{justification}\"\\\n",
    "\n",
    "            To do this, you should be looking at information on steep uptakes, change or desolving in water and water stability in the sentence.\\\n",
    "            Do not make up answers.\\\n",
    "            \"\"\"\n",
    "    messages = [{\"role\": \"user\", \"content\": prompt}]\n",
    "    response = openai.ChatCompletion.create(\n",
    "        model=model,\n",
    "        messages=messages,\n",
    "        temperature=0, \n",
    "    )\n",
    "    return response.choices[0].message[\"content\"]\n",
    "\n",
    "tools = [\n",
    "    Tool(\n",
    "        name = \"doc\",\n",
    "        func=qa.run,\n",
    "        description=f\"Always use this tool for context. Use the original prompt for this tool to get context about water stability of MOFs.\"\n",
    "    ), eval_justification]\n",
    "\n",
    "# tools = [doc_retrival]\n"
   ]
  },
  {
   "cell_type": "code",
   "execution_count": 28,
   "id": "a05f53c5-f791-4bfc-b20d-ba90a040f4dd",
   "metadata": {},
   "outputs": [],
   "source": [
    "from langchain.memory import ConversationBufferMemory\n",
    "from langchain.chat_models  import ChatOpenAI\n",
    "from langchain.agents import initialize_agent\n",
    "from langchain.agents import AgentType\n",
    "from langchain.callbacks import get_openai_callback\n",
    "\n",
    "agent_llm = ChatOpenAI(temperature=0, model_name='gpt-3.5-turbo-16k')\n",
    "\n",
    "memory = ConversationBufferMemory(memory_key=\"chat_history\")\n",
    "\n",
    "agent_chain = initialize_agent(tools, agent_llm, agent=AgentType.ZERO_SHOT_REACT_DESCRIPTION,\n",
    "                               verbose=True, memory=memory, handle_parsing_errors=True,\n",
    "                              prefix= None, suffix=None, output_parser=None)"
   ]
  },
  {
   "cell_type": "code",
   "execution_count": 29,
   "id": "ec4e70fa-9f3f-4ebc-896f-094fe5b76c48",
   "metadata": {},
   "outputs": [],
   "source": [
    "\n",
    "prompt3a = f\"\"\"\n",
    "    You are an expert chemist. The doc tool describes the water stability properties of a few materials including \\\n",
    "    Metal-Organic Frameworks(MOF) or coordination polymers, Coordination Networks or ZIF compounds. Please find \\\n",
    "    the full name for materials, and their \\\n",
    "    stability in water. \\\n",
    "    Your final answer should contain the following:\\\n",
    "    Your first output is the water stability of each MOF. \\\n",
    "    Your second output for each mof should be a probability score ranging between [0, 1].\\\n",
    "    This probability score shows how certain you are in your answer.\\\n",
    "    Your third output should be exact sentences without any changes from the document that justifies your decision.\\\n",
    "    This should be \"Not provided\" if you cannot find water stability.\\\n",
    "    Rule: {Rule}\\\n",
    "    If there are multiple MOFs, please list them all and put \"MOF name\" before them. \\\n",
    "    You should only respond in JSON format as described below. \n",
    "    Make sure it is parsable using Python json.load.\n",
    "    Make sure \"MOF name\"s do not have duplicates\n",
    "    If information is not provided, state it as not provided.\\\n",
    "    \"\"\""
   ]
  },
  {
   "cell_type": "code",
   "execution_count": 30,
   "id": "e89c47d0-cd3a-4d6b-8db5-a42bb7d8ea90",
   "metadata": {},
   "outputs": [
    {
     "name": "stdout",
     "output_type": "stream",
     "text": [
      "\n",
      "\n",
      "\u001b[1m> Entering new AgentExecutor chain...\u001b[0m\n",
      "\u001b[32;1m\u001b[1;3mI need to use the doc tool to find the information about water stability of MOFs. I should also keep track of the MOF names and their stability in water. I will start by using the doc tool.\n",
      "Action: doc\n",
      "Action Input: water stability of MOFs\u001b[0m\n",
      "Observation: \u001b[36;1m\u001b[1;3mBased on the information provided, the water stability of the bio-MOFs was evaluated by soaking them in water for different periods of time and then evaluating their stability using PXRD and SEM imaging. Bio-MOF-11 dissolved rapidly in water, while bio-MOFs-12 and 13 dissolved partially. Bio-MOF-13, with butyrate, was noticeably more stable in water than bio-MOF-12, with propionate. Bio-MOF-14, with valerate groups, was the most stable and showed no loss of crystallinity or significant crystal degradation after soaking in water for 1 hour, 7 days, or 30 days. Additionally, CO2 isotherms collected for bio-MOF-14 soaked in water for 7 or 30 days showed no loss in crystallinity and closely matched the isotherm of the non-water-treated sample, indicating that water did not affect the porosity of the material.\u001b[0m\n",
      "Thought:\u001b[32;1m\u001b[1;3mI have found information about the water stability of MOFs in the document. Now I need to extract the relevant information and create the JSON output.\n",
      "Action: eval_justification\n",
      "Action Input: \"Bio-MOF-11 dissolved rapidly in water, while bio-MOFs-12 and 13 dissolved partially. Bio-MOF-13, with butyrate, was noticeably more stable in water than bio-MOF-12, with propionate. Bio-MOF-14, with valerate groups, was the most stable and showed no loss of crystallinity or significant crystal degradation after soaking in water for 1 hour, 7 days, or 30 days. Additionally, CO2 isotherms collected for bio-MOF-14 soaked in water for 7 or 30 days showed no loss in crystallinity and closely matched the isotherm of the non-water-treated sample, indicating that water did not affect the porosity of the material.\"\u001b[0m\n",
      "Observation: \u001b[33;1m\u001b[1;3mYes, the sentence does talk about water stability on all found MOFs. It provides information on the dissolution behavior of different bio-MOFs in water and specifically highlights the stability of bio-MOF-14, which showed no loss of crystallinity or significant degradation after soaking in water for various durations. The sentence also mentions that water did not affect the porosity of bio-MOF-14.\u001b[0m\n",
      "Thought:\u001b[32;1m\u001b[1;3mI now know the final answer.\n",
      "Final Answer: \n",
      "{\n",
      "  \"MOF name\": \"Bio-MOF-11\",\n",
      "  \"Water Stability\": \"Unstable\",\n",
      "  \"Probability Score\": 1,\n",
      "  \"Justification\": \"Bio-MOF-11 dissolved rapidly in water\"\n",
      "},\n",
      "{\n",
      "  \"MOF name\": \"Bio-MOF-12\",\n",
      "  \"Water Stability\": \"Unstable\",\n",
      "  \"Probability Score\": 1,\n",
      "  \"Justification\": \"Bio-MOF-12 dissolved partially in water\"\n",
      "},\n",
      "{\n",
      "  \"MOF name\": \"Bio-MOF-13\",\n",
      "  \"Water Stability\": \"Unstable\",\n",
      "  \"Probability Score\": 1,\n",
      "  \"Justification\": \"Bio-MOF-13 dissolved partially in water\"\n",
      "},\n",
      "{\n",
      "  \"MOF name\": \"Bio-MOF-14\",\n",
      "  \"Water Stability\": \"Stable\",\n",
      "  \"Probability Score\": 1,\n",
      "  \"Justification\": \"Bio-MOF-14 showed no loss of crystallinity or significant crystal degradation after soaking in water for various durations. Water did not affect the porosity of bio-MOF-14.\"\n",
      "}\u001b[0m\n",
      "\n",
      "\u001b[1m> Finished chain.\u001b[0m\n",
      "Tokens Used: 6521\n",
      "\tPrompt Tokens: 5853\n",
      "\tCompletion Tokens: 668\n",
      "Successful Requests: 4\n",
      "Total Cost (USD): $0.020231\n"
     ]
    }
   ],
   "source": [
    "with get_openai_callback() as cb:\n",
    "    result = agent_chain.run(input=prompt3a)\n",
    "    print(cb)"
   ]
  },
  {
   "cell_type": "code",
   "execution_count": 31,
   "id": "55c17a2e-f611-4ca8-90f2-e6c07e927510",
   "metadata": {},
   "outputs": [
    {
     "data": {
      "text/plain": [
       "{'Bio-MOF-11': {'Predicted Stability': 'Unstable',\n",
       "  'Score': 1.0,\n",
       "  'Justification': 'Bio-MOF-11 dissolved rapidly in water',\n",
       "  'Paper id': '1'},\n",
       " 'Bio-MOF-12': {'Predicted Stability': 'Unstable',\n",
       "  'Score': 1.0,\n",
       "  'Justification': 'Bio-MOF-12 dissolved partially in water',\n",
       "  'Paper id': '1'},\n",
       " 'Bio-MOF-13': {'Predicted Stability': 'Unstable',\n",
       "  'Score': 1.0,\n",
       "  'Justification': 'Bio-MOF-13 dissolved partially in water',\n",
       "  'Paper id': '1'},\n",
       " 'Bio-MOF-14': {'Predicted Stability': 'Stable',\n",
       "  'Score': 1.0,\n",
       "  'Justification': 'Bio-MOF-14 showed no loss of crystallinity or significant crystal degradation after soaking in water for various durations. Water did not affect the porosity of bio-MOF-14.',\n",
       "  'Paper id': '1'}}"
      ]
     },
     "execution_count": 31,
     "metadata": {},
     "output_type": "execute_result"
    }
   ],
   "source": [
    "eunomia.parse_to_dict(result, paper_id)"
   ]
  },
  {
   "cell_type": "code",
   "execution_count": null,
   "id": "8c4a80b3-4d9a-4932-970f-447a561251e1",
   "metadata": {},
   "outputs": [],
   "source": []
  }
 ],
 "metadata": {
  "kernelspec": {
   "display_name": "Python 3 (ipykernel)",
   "language": "python",
   "name": "python3"
  },
  "language_info": {
   "codemirror_mode": {
    "name": "ipython",
    "version": 3
   },
   "file_extension": ".py",
   "mimetype": "text/x-python",
   "name": "python",
   "nbconvert_exporter": "python",
   "pygments_lexer": "ipython3",
   "version": "3.9.17"
  }
 },
 "nbformat": 4,
 "nbformat_minor": 5
}
