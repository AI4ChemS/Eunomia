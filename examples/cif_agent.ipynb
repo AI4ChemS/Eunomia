{
 "cells": [
  {
   "cell_type": "code",
   "execution_count": 1,
   "id": "83d7b445-3613-48b9-847d-56cb13b2e54c",
   "metadata": {},
   "outputs": [],
   "source": [
    "import eunomia\n",
    "from eunomia.agents import Eunomia\n",
    "from eunomia.tools import EunomiaTools"
   ]
  },
  {
   "cell_type": "code",
   "execution_count": 2,
   "id": "1d78172d-7e0d-4cae-831c-d77323a413be",
   "metadata": {},
   "outputs": [],
   "source": [
    "import logging\n",
    "logging.getLogger().setLevel(logging.CRITICAL)\n",
    "import warnings\n",
    "\n",
    "# Disable all warning messages\n",
    "warnings.filterwarnings(\"ignore\")"
   ]
  },
  {
   "cell_type": "markdown",
   "id": "ecdff22c-6be0-4d9d-ab54-edc1de04c512",
   "metadata": {},
   "source": [
    "# Obtaining Information from Online Datasets"
   ]
  },
  {
   "cell_type": "markdown",
   "id": "d0bd5063-584e-4eef-ba33-9faa5e3fc9f4",
   "metadata": {},
   "source": [
    "## Get chemical structures (CIF files) from Crystallography Open Database (COD)"
   ]
  },
  {
   "cell_type": "code",
   "execution_count": 3,
   "id": "8969532c-8903-461a-ad38-04af1db2f549",
   "metadata": {},
   "outputs": [
    {
     "name": "stdout",
     "output_type": "stream",
     "text": [
      "\n",
      "\n",
      "\u001b[1m> Entering new AgentExecutor chain...\u001b[0m\n",
      "\u001b[32;1m\u001b[1;3mI need to first download the CIF files from the COD using the provided DOI, then rename them using the MOF-Name associated with a target key.\n",
      "Action: get_cif_from_COD\n",
      "Action Input: 10.1021/cg301691d\u001b[0m\n",
      "Observation: \u001b[36;1m\u001b[1;3m['4507517.cif', '4507518.cif', '4507519.cif', '4507520.cif', '4507521.cif', '4507522.cif']\u001b[0m\n",
      "Thought:\u001b[32;1m\u001b[1;3mNow that I have the CIF files, I need to rename them using the MOF-Name associated with a target key.\n",
      "Action: rename_cif\n",
      "Action Input: '4507517.cif'\u001b[0m\n",
      "Observation: \u001b[33;1m\u001b[1;3mNone\u001b[0m\n",
      "Thought:\u001b[32;1m\u001b[1;3mI have renamed the first file. Now I need to rename the rest of the files.\n",
      "Action: rename_cif\n",
      "Action Input: '4507518.cif'\u001b[0m\n",
      "Observation: \u001b[33;1m\u001b[1;3mNone\u001b[0m\n",
      "Thought:\u001b[32;1m\u001b[1;3mI have renamed the second file. Now I need to rename the rest of the files.\n",
      "Action: rename_cif\n",
      "Action Input: '4507519.cif'\u001b[0m\n",
      "Observation: \u001b[33;1m\u001b[1;3mNone\u001b[0m\n",
      "Thought:\u001b[32;1m\u001b[1;3mI have renamed the third file. Now I need to rename the rest of the files.\n",
      "Action: rename_cif\n",
      "Action Input: '4507520.cif'\u001b[0m\n",
      "Observation: \u001b[33;1m\u001b[1;3mNone\u001b[0m\n",
      "Thought:\u001b[32;1m\u001b[1;3mI have renamed the fourth file. Now I need to rename the rest of the files.\n",
      "Action: rename_cif\n",
      "Action Input: '4507521.cif'\u001b[0m\n",
      "Observation: \u001b[33;1m\u001b[1;3mNone\u001b[0m\n",
      "Thought:\u001b[32;1m\u001b[1;3mI have renamed the fifth file. Now I need to rename the last file.\n",
      "Action: rename_cif\n",
      "Action Input: '4507522.cif'\u001b[0m\n",
      "Observation: \u001b[33;1m\u001b[1;3mNone\u001b[0m\n",
      "Thought:\u001b[32;1m\u001b[1;3mI have renamed all the CIF files.\n",
      "Final Answer: All CIF files have been downloaded and renamed.\u001b[0m\n",
      "\n",
      "\u001b[1m> Finished chain.\u001b[0m\n",
      "Tokens Used: 3732\n",
      "\tPrompt Tokens: 3451\n",
      "\tCompletion Tokens: 281\n",
      "Successful Requests: 8\n",
      "Total Cost (USD): $0.12039\n"
     ]
    },
    {
     "data": {
      "text/plain": [
       "'All CIF files have been downloaded and renamed.'"
      ]
     },
     "execution_count": 3,
     "metadata": {},
     "output_type": "execute_result"
    }
   ],
   "source": [
    "tools = EunomiaTools(tool_names = ['get_cif_from_COD', 'rename_cif']).get_tools()\n",
    "agent = Eunomia(tools=tools, model='gpt-4', get_cost=True)\n",
    "agent.run(prompt=\"Download cif files for this doi: 10.1021/cg301691d from COD and rename them.\")"
   ]
  },
  {
   "cell_type": "markdown",
   "id": "e09d6c3b-3b0d-4226-816d-29de6f6f9aec",
   "metadata": {},
   "source": [
    "## Get chemical structures (CIF files) from Cambridge Structural Database (CCDC)"
   ]
  },
  {
   "cell_type": "code",
   "execution_count": 2,
   "id": "3417c3d9-2ab9-4ada-80b6-a6c267fca973",
   "metadata": {},
   "outputs": [
    {
     "name": "stdout",
     "output_type": "stream",
     "text": [
      "\n",
      "\n",
      "\u001b[1m> Entering new AgentExecutor chain...\u001b[0m\n",
      "\u001b[32;1m\u001b[1;3mI need to use the tool get_cif_from_CCDC to download the CIF file for the given DOI.\n",
      "Action: get_cif_from_CCDC\n",
      "Action Input: 10.1021/cg301691d\u001b[0m\n",
      "Observation: \u001b[36;1m\u001b[1;3mNone\u001b[0m\n",
      "Thought:\u001b[32;1m\u001b[1;3mThe CIF file for the given DOI has been downloaded.\n",
      "Final Answer: The CIF file for the DOI 10.1021/cg301691d has been successfully downloaded from CCDC.\u001b[0m\n",
      "\n",
      "\u001b[1m> Finished chain.\u001b[0m\n",
      "Tokens Used: 479\n",
      "\tPrompt Tokens: 397\n",
      "\tCompletion Tokens: 82\n",
      "Successful Requests: 2\n",
      "Total Cost (USD): $0.016829999999999998\n"
     ]
    },
    {
     "data": {
      "text/plain": [
       "'The CIF file for the DOI 10.1021/cg301691d has been successfully downloaded from CCDC.'"
      ]
     },
     "execution_count": 2,
     "metadata": {},
     "output_type": "execute_result"
    }
   ],
   "source": [
    "tools = EunomiaTools(tool_names = ['get_cif_from_CCDC']).get_tools()\n",
    "agent = Eunomia(tools=tools, model='gpt-4', get_cost=True)\n",
    "agent.run(prompt=\"Download cif files for this doi: 10.1021/cg301691d from CCDC.\")"
   ]
  },
  {
   "cell_type": "markdown",
   "id": "d226afa9-14ce-45e6-9ee6-c258324356be",
   "metadata": {},
   "source": [
    "# Obtaining Information from Local PDFs"
   ]
  },
  {
   "cell_type": "code",
   "execution_count": 3,
   "id": "c6d755fe-290e-4bea-bfeb-931322c0028b",
   "metadata": {},
   "outputs": [],
   "source": [
    "paper_id = '69'\n",
    "docs_processor = eunomia.LoadDoc('../Data/chosen_papers/', paper_id=paper_id)\n",
    "sliced_pages = docs_processor.process(['references ', 'acknowledgement', 'acknowledgments', 'references\\n'],\n",
    "                                             chunk_size=1000, chunk_overlap=20, chunking_type='fixed-size')"
   ]
  },
  {
   "cell_type": "code",
   "execution_count": 4,
   "id": "1dda3e07-f325-4c6d-8103-487b8d498e77",
   "metadata": {},
   "outputs": [],
   "source": [
    "from langchain.vectorstores import FAISS\n",
    "from langchain.embeddings.openai import OpenAIEmbeddings\n",
    "\n",
    "Embedding_model = 'text-embedding-ada-002' # text-embedding-ada-002 text-davinci-003\n",
    "faiss_index_path = f\"../Data/chosen_papers/faiss/{Embedding_model}/faiss_index_{Embedding_model}_{paper_id}.pkl\"\n",
    "faiss_index = FAISS.from_documents(sliced_pages, OpenAIEmbeddings(model=Embedding_model))"
   ]
  },
  {
   "cell_type": "code",
   "execution_count": 5,
   "id": "5a1b1245-2bae-46ea-a626-e606ca49b1c2",
   "metadata": {
    "scrolled": true
   },
   "outputs": [
    {
     "name": "stdout",
     "output_type": "stream",
     "text": [
      "\n",
      "\n",
      "\u001b[1m> Entering new AgentExecutor chain...\u001b[0m\n",
      "\u001b[32;1m\u001b[1;3mI need to read the document to find information about the water stability of various MOFs.\n",
      "Action: read_doc\n",
      "Action Input: User's original prompt\u001b[0m\n",
      "k=9 results hitting the token limit for the chosen LLM. Reducing k and retrying...\n",
      "\n",
      "k=8 results hitting the token limit for the chosen LLM. Reducing k and retrying...\n",
      "\n",
      "Observation: \u001b[36;1m\u001b[1;3m1. MOF: [ZrO(O2C-R-CO2)] (MIL-140A)\n",
      "   Water Stability: Stable\n",
      "   Probability Score: 0.9\n",
      "   Justification: \"Thermogravimetric analysis (TGA) and IR spectroscopy were therefore used to qualitatively assess the hydrophobic character of these solids. TGA measurements have shown that the samples exhibit almost no loss of free water (Supporting Information Figure S18).\"\n",
      "\n",
      "2. MOF: [ZrO(O2C-R-CO2)] (MIL-140B)\n",
      "   Water Stability: Stable\n",
      "   Probability Score: 0.9\n",
      "   Justification: \"Thermogravimetric analysis (TGA) and IR spectroscopy were therefore used to qualitatively assess the hydrophobic character of these solids. TGA measurements have shown that the samples exhibit almost no loss of free water (Supporting Information Figure S18).\"\n",
      "\n",
      "3. MOF: [ZrO(O2C-R-CO2)] (MIL-140C)\n",
      "   Water Stability: Stable\n",
      "   Probability Score: 0.9\n",
      "   Justification: \"Thermogravimetric analysis (TGA) and IR spectroscopy were therefore used to qualitatively assess the hydrophobic character of these solids. TGA measurements have shown that the samples exhibit almost no loss of free water (Supporting Information Figure S18).\"\n",
      "\n",
      "4. MOF: [ZrO(O2C-R-CO2)] (MIL-140D)\n",
      "   Water Stability: Stable\n",
      "   Probability Score: 0.9\n",
      "   Justification: \"Thermogravimetric analysis (TGA) and IR spectroscopy were therefore used to qualitatively assess the hydrophobic character of these solids. TGA measurements have shown that the samples exhibit almost no loss of free water (Supporting Information Figure S18).\"\n",
      "\n",
      "5. MOF: UiO-66\n",
      "   Water Stability: Stable\n",
      "   Probability Score: 0.9\n",
      "   Justification: \"The industrial use of an adsorbent requires both moisture (or hydrothermal) and mechanical stability to avoid structural distortion or framework collapse under hydrostatic compression during the shaping steps. [30,31] First, it appears, based on experimental methods, and details of the computational approach\u001b[0m\n",
      "Thought:\u001b[32;1m\u001b[1;3mI have found the MOFs and their water stability. However, I need to validate the justifications provided for each MOF's water stability.\n",
      "Action: eval_justification\n",
      "Action Input: \"Thermogravimetric analysis (TGA) and IR spectroscopy were therefore used to qualitatively assess the hydrophobic character of these solids. TGA measurements have shown that the samples exhibit almost no loss of free water (Supporting Information Figure S18).\"\u001b[0m\n",
      "Observation: \u001b[33;1m\u001b[1;3mThe sentences do talk about water stability of the found MOF. The Thermogravimetric analysis (TGA) measurements show that the samples exhibit almost no loss of free water, which implies that the MOF is stable in the presence of water. Therefore, the \"Water stability\" of the MOF can be updated to \"Stable\".\u001b[0m\n",
      "Thought:\u001b[32;1m\u001b[1;3mThe justification for the water stability of the first four MOFs is valid. Now, I need to evaluate the justification for the water stability of the last MOF.\n",
      "Action: eval_justification\n",
      "Action Input: \"The industrial use of an adsorbent requires both moisture (or hydrothermal) and mechanical stability to avoid structural distortion or framework collapse under hydrostatic compression during the shaping steps. [30,31] First, it appears, based on experimental methods, and details of the computational approach\"\u001b[0m\n",
      "Observation: \u001b[33;1m\u001b[1;3mThe provided sentences do not provide any information about the water stability of the found MOF. The document mentions the need for moisture and mechanical stability in an industrial setting, but it does not provide specific details about the MOF's performance or stability in water or under hydrothermal conditions. Therefore, it's not possible to determine the water stability of the MOF from these sentences.\u001b[0m\n",
      "Thought:\u001b[32;1m\u001b[1;3mThe justification for the water stability of the last MOF is not valid. I need to recheck the document for a better justification for its water stability.\n",
      "Action: recheck_justification\n",
      "Action Input: UiO-66\u001b[0m\n",
      "Observation: \u001b[38;5;200m\u001b[1;3m1. The water stability of UiO-66 is Stable.\n",
      "2. The probability score is 1.\n",
      "3. The justifying sentences from the document are: \"First, it appears, based on XRPD analysis, that MIL-140 compounds are hydrothermally stable, that is, after an overnight dispersion in deionized water at 100 8C (Figure 3), no loss of crystallinity occurs, even for the upper analogues. The UiO-66(Zr) solid also retains its crystallinity upon the same treatment, but this is not the case for the upper UiO analogues, for which only poorly crystalline samples are recovered (Figure S28).\"\u001b[0m\n",
      "Thought:\u001b[32;1m\u001b[1;3mThe new justification for the water stability of UiO-66 is valid. It mentions that the MOF retains its crystallinity even after being dispersed in deionized water at 100 8C, which implies that it is stable in the presence of water.\n",
      "Final Answer: The MOFs and their water stability are as follows:\n",
      "\n",
      "1. MOF: [ZrO(O2C-R-CO2)] (MIL-140A)\n",
      "   Water Stability: Stable\n",
      "   Justification: \"Thermogravimetric analysis (TGA) and IR spectroscopy were therefore used to qualitatively assess the hydrophobic character of these solids. TGA measurements have shown that the samples exhibit almost no loss of free water (Supporting Information Figure S18).\"\n",
      "\n",
      "2. MOF: [ZrO(O2C-R-CO2)] (MIL-140B)\n",
      "   Water Stability: Stable\n",
      "   Justification: \"Thermogravimetric analysis (TGA) and IR spectroscopy were therefore used to qualitatively assess the hydrophobic character of these solids. TGA measurements have shown that the samples exhibit almost no loss of free water (Supporting Information Figure S18).\"\n",
      "\n",
      "3. MOF: [ZrO(O2C-R-CO2)] (MIL-140C)\n",
      "   Water Stability: Stable\n",
      "   Justification: \"Thermogravimetric analysis (TGA) and IR spectroscopy were therefore used to qualitatively assess the hydrophobic character of these solids. TGA measurements have shown that the samples exhibit almost no loss of free water (Supporting Information Figure S18).\"\n",
      "\n",
      "4. MOF: [ZrO(O2C-R-CO2)] (MIL-140D)\n",
      "   Water Stability: Stable\n",
      "   Justification: \"Thermogravimetric analysis (TGA) and IR spectroscopy were therefore used to qualitatively assess the hydrophobic character of these solids. TGA measurements have shown that the samples exhibit almost no loss of free water (Supporting Information Figure S18).\"\n",
      "\n",
      "5. MOF: UiO-66\n",
      "   Water Stability: Stable\n",
      "   Justification: \"First, it appears, based on XRPD analysis, that MIL-140 compounds are hydrothermally stable, that is, after an overnight dispersion in deionized water at 100 8C (Figure 3), no loss of crystallinity occurs, even for the upper analogues. The UiO-66(Zr) solid also retains its crystallinity upon the same treatment, but this is not the case for the upper UiO analogues, for which only poorly crystalline samples are recovered (Figure S28).\"\u001b[0m\n",
      "\n",
      "\u001b[1m> Finished chain.\u001b[0m\n",
      "Tokens Used: 19627\n",
      "\tPrompt Tokens: 18166\n",
      "\tCompletion Tokens: 1461\n",
      "Successful Requests: 7\n",
      "Total Cost (USD): $0.63264\n"
     ]
    },
    {
     "data": {
      "text/plain": [
       "'The MOFs and their water stability are as follows:\\n\\n1. MOF: [ZrO(O2C-R-CO2)] (MIL-140A)\\n   Water Stability: Stable\\n   Justification: \"Thermogravimetric analysis (TGA) and IR spectroscopy were therefore used to qualitatively assess the hydrophobic character of these solids. TGA measurements have shown that the samples exhibit almost no loss of free water (Supporting Information Figure S18).\"\\n\\n2. MOF: [ZrO(O2C-R-CO2)] (MIL-140B)\\n   Water Stability: Stable\\n   Justification: \"Thermogravimetric analysis (TGA) and IR spectroscopy were therefore used to qualitatively assess the hydrophobic character of these solids. TGA measurements have shown that the samples exhibit almost no loss of free water (Supporting Information Figure S18).\"\\n\\n3. MOF: [ZrO(O2C-R-CO2)] (MIL-140C)\\n   Water Stability: Stable\\n   Justification: \"Thermogravimetric analysis (TGA) and IR spectroscopy were therefore used to qualitatively assess the hydrophobic character of these solids. TGA measurements have shown that the samples exhibit almost no loss of free water (Supporting Information Figure S18).\"\\n\\n4. MOF: [ZrO(O2C-R-CO2)] (MIL-140D)\\n   Water Stability: Stable\\n   Justification: \"Thermogravimetric analysis (TGA) and IR spectroscopy were therefore used to qualitatively assess the hydrophobic character of these solids. TGA measurements have shown that the samples exhibit almost no loss of free water (Supporting Information Figure S18).\"\\n\\n5. MOF: UiO-66\\n   Water Stability: Stable\\n   Justification: \"First, it appears, based on XRPD analysis, that MIL-140 compounds are hydrothermally stable, that is, after an overnight dispersion in deionized water at 100 8C (Figure 3), no loss of crystallinity occurs, even for the upper analogues. The UiO-66(Zr) solid also retains its crystallinity upon the same treatment, but this is not the case for the upper UiO analogues, for which only poorly crystalline samples are recovered (Figure S28).\"'"
      ]
     },
     "execution_count": 5,
     "metadata": {},
     "output_type": "execute_result"
    }
   ],
   "source": [
    "tools = EunomiaTools(tool_names = ['read_doc', 'eval_justification', 'recheck_justification'], vectorstore=faiss_index).get_tools()\n",
    "agent = Eunomia(tools=tools, model='gpt-4', get_cost=True)\n",
    "agent.run(prompt=\"Read the document and find the MOFS and their water stability.\")"
   ]
  }
 ],
 "metadata": {
  "kernelspec": {
   "display_name": "agent",
   "language": "python",
   "name": "agent"
  },
  "language_info": {
   "codemirror_mode": {
    "name": "ipython",
    "version": 3
   },
   "file_extension": ".py",
   "mimetype": "text/x-python",
   "name": "python",
   "nbconvert_exporter": "python",
   "pygments_lexer": "ipython3",
   "version": "3.9.17"
  }
 },
 "nbformat": 4,
 "nbformat_minor": 5
}
