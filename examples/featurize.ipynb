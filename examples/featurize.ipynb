{
 "cells": [
  {
   "cell_type": "code",
   "execution_count": 1,
   "id": "73d19c5d-6a35-45e7-b904-be3d945ba285",
   "metadata": {},
   "outputs": [],
   "source": [
    "import pandas as pd"
   ]
  },
  {
   "cell_type": "code",
   "execution_count": 2,
   "id": "558e6e2c-92cd-424e-82cb-752f6a556895",
   "metadata": {},
   "outputs": [
    {
     "data": {
      "text/html": [
       "<div>\n",
       "<style scoped>\n",
       "    .dataframe tbody tr th:only-of-type {\n",
       "        vertical-align: middle;\n",
       "    }\n",
       "\n",
       "    .dataframe tbody tr th {\n",
       "        vertical-align: top;\n",
       "    }\n",
       "\n",
       "    .dataframe thead th {\n",
       "        text-align: right;\n",
       "    }\n",
       "</style>\n",
       "<table border=\"1\" class=\"dataframe\">\n",
       "  <thead>\n",
       "    <tr style=\"text-align: right;\">\n",
       "      <th></th>\n",
       "      <th>Paper id</th>\n",
       "      <th>DOI</th>\n",
       "      <th>qmof_ID</th>\n",
       "      <th>MOF name</th>\n",
       "      <th>Predicted Stability</th>\n",
       "      <th>Justification</th>\n",
       "      <th>Score</th>\n",
       "    </tr>\n",
       "  </thead>\n",
       "  <tbody>\n",
       "    <tr>\n",
       "      <th>0</th>\n",
       "      <td>25</td>\n",
       "      <td>https://doi.org/10.1002/chem.201702405</td>\n",
       "      <td>NaN</td>\n",
       "      <td>{[Cu 3(L-F) 6(H2O)3](H2O)3}n (1a)</td>\n",
       "      <td>Unstable</td>\n",
       "      <td>Further immersing the green crystals of 1a in ...</td>\n",
       "      <td>1.0</td>\n",
       "    </tr>\n",
       "    <tr>\n",
       "      <th>1</th>\n",
       "      <td>25</td>\n",
       "      <td>https://doi.org/10.1002/chem.201702405</td>\n",
       "      <td>qmof-88d81f2</td>\n",
       "      <td>[Cu(L-Cl) 2]n (2a)</td>\n",
       "      <td>Unstable</td>\n",
       "      <td>Further immersing the green block crystals of ...</td>\n",
       "      <td>1.0</td>\n",
       "    </tr>\n",
       "    <tr>\n",
       "      <th>2</th>\n",
       "      <td>31</td>\n",
       "      <td>https://doi.org/10.1002/1099-0682(200111)2001:...</td>\n",
       "      <td>qmof-4a90838</td>\n",
       "      <td>[Cu(NO3)2(2,29-bipy)(4,49-bipy)]n·2nCH3OH</td>\n",
       "      <td>Unstable</td>\n",
       "      <td>The coordination polymer 1 is purple in the so...</td>\n",
       "      <td>1.0</td>\n",
       "    </tr>\n",
       "    <tr>\n",
       "      <th>3</th>\n",
       "      <td>31</td>\n",
       "      <td>https://doi.org/10.1002/1099-0682(200111)2001:...</td>\n",
       "      <td>NaN</td>\n",
       "      <td>[Ni(tren)(4,49-bipy)]n(ClO4)2n</td>\n",
       "      <td>Unstable</td>\n",
       "      <td>It is soluble in H 2O, MeCN, MeNO 2, DMF, or D...</td>\n",
       "      <td>1.0</td>\n",
       "    </tr>\n",
       "    <tr>\n",
       "      <th>4</th>\n",
       "      <td>32</td>\n",
       "      <td>https://doi.org/10.1016/j.poly.2012.07.102</td>\n",
       "      <td>qmof-9b03351</td>\n",
       "      <td>[Zn(NO 3)2(H2O)(1,3-H 4pdta)] n(1)</td>\n",
       "      <td>Stable</td>\n",
       "      <td>This gives support to 1retaining its coordinat...</td>\n",
       "      <td>1.0</td>\n",
       "    </tr>\n",
       "    <tr>\n",
       "      <th>...</th>\n",
       "      <td>...</td>\n",
       "      <td>...</td>\n",
       "      <td>...</td>\n",
       "      <td>...</td>\n",
       "      <td>...</td>\n",
       "      <td>...</td>\n",
       "      <td>...</td>\n",
       "    </tr>\n",
       "    <tr>\n",
       "      <th>421</th>\n",
       "      <td>2988</td>\n",
       "      <td>https://doi.org/10.1039/C7NJ00611J</td>\n",
       "      <td>qmof-1d52e5c</td>\n",
       "      <td>[Pb 2(edta)(H 2O)] 2n (1)</td>\n",
       "      <td>Stable</td>\n",
       "      <td>All of four complexes are insoluble in water.</td>\n",
       "      <td>0.8</td>\n",
       "    </tr>\n",
       "    <tr>\n",
       "      <th>422</th>\n",
       "      <td>2988</td>\n",
       "      <td>https://doi.org/10.1039/C7NJ00611J</td>\n",
       "      <td>NaN</td>\n",
       "      <td>[Pb 4(edta) 2]n·2nH 2O (2)</td>\n",
       "      <td>Stable</td>\n",
       "      <td>All of four complexes are insoluble in water.</td>\n",
       "      <td>0.8</td>\n",
       "    </tr>\n",
       "    <tr>\n",
       "      <th>423</th>\n",
       "      <td>2988</td>\n",
       "      <td>https://doi.org/10.1039/C7NJ00611J</td>\n",
       "      <td>qmof-73caf97</td>\n",
       "      <td>Pb n[Pb(edta)Pb(H 2O)Cl] 2n ·2nH 2O (3)</td>\n",
       "      <td>Stable</td>\n",
       "      <td>All of four complexes are insoluble in water.</td>\n",
       "      <td>0.8</td>\n",
       "    </tr>\n",
       "    <tr>\n",
       "      <th>424</th>\n",
       "      <td>2988</td>\n",
       "      <td>https://doi.org/10.1039/C7NJ00611J</td>\n",
       "      <td>qmof-31856d4</td>\n",
       "      <td>Pb n[Pb(edta)Pb(H 2O)Br] 2n ·2nH 2O (4)</td>\n",
       "      <td>Stable</td>\n",
       "      <td>All of four complexes are insoluble in water.</td>\n",
       "      <td>0.8</td>\n",
       "    </tr>\n",
       "    <tr>\n",
       "      <th>425</th>\n",
       "      <td>2992</td>\n",
       "      <td>https://doi.org/10.1107/S1600536805009438</td>\n",
       "      <td>qmof-b3d8865</td>\n",
       "      <td>[U(C 5H6O4)O2]</td>\n",
       "      <td>Stable</td>\n",
       "      <td>Yellow crystals formed in situ and are insolub...</td>\n",
       "      <td>0.8</td>\n",
       "    </tr>\n",
       "  </tbody>\n",
       "</table>\n",
       "<p>426 rows × 7 columns</p>\n",
       "</div>"
      ],
      "text/plain": [
       "     Paper id                                                DOI  \\\n",
       "0          25             https://doi.org/10.1002/chem.201702405   \n",
       "1          25             https://doi.org/10.1002/chem.201702405   \n",
       "2          31  https://doi.org/10.1002/1099-0682(200111)2001:...   \n",
       "3          31  https://doi.org/10.1002/1099-0682(200111)2001:...   \n",
       "4          32         https://doi.org/10.1016/j.poly.2012.07.102   \n",
       "..        ...                                                ...   \n",
       "421      2988                 https://doi.org/10.1039/C7NJ00611J   \n",
       "422      2988                 https://doi.org/10.1039/C7NJ00611J   \n",
       "423      2988                 https://doi.org/10.1039/C7NJ00611J   \n",
       "424      2988                 https://doi.org/10.1039/C7NJ00611J   \n",
       "425      2992          https://doi.org/10.1107/S1600536805009438   \n",
       "\n",
       "          qmof_ID                                   MOF name  \\\n",
       "0             NaN          {[Cu 3(L-F) 6(H2O)3](H2O)3}n (1a)   \n",
       "1    qmof-88d81f2                         [Cu(L-Cl) 2]n (2a)   \n",
       "2    qmof-4a90838  [Cu(NO3)2(2,29-bipy)(4,49-bipy)]n·2nCH3OH   \n",
       "3             NaN             [Ni(tren)(4,49-bipy)]n(ClO4)2n   \n",
       "4    qmof-9b03351         [Zn(NO 3)2(H2O)(1,3-H 4pdta)] n(1)   \n",
       "..            ...                                        ...   \n",
       "421  qmof-1d52e5c                  [Pb 2(edta)(H 2O)] 2n (1)   \n",
       "422           NaN                 [Pb 4(edta) 2]n·2nH 2O (2)   \n",
       "423  qmof-73caf97    Pb n[Pb(edta)Pb(H 2O)Cl] 2n ·2nH 2O (3)   \n",
       "424  qmof-31856d4    Pb n[Pb(edta)Pb(H 2O)Br] 2n ·2nH 2O (4)   \n",
       "425  qmof-b3d8865                             [U(C 5H6O4)O2]   \n",
       "\n",
       "    Predicted Stability                                      Justification  \\\n",
       "0              Unstable  Further immersing the green crystals of 1a in ...   \n",
       "1              Unstable  Further immersing the green block crystals of ...   \n",
       "2              Unstable  The coordination polymer 1 is purple in the so...   \n",
       "3              Unstable  It is soluble in H 2O, MeCN, MeNO 2, DMF, or D...   \n",
       "4                Stable  This gives support to 1retaining its coordinat...   \n",
       "..                  ...                                                ...   \n",
       "421              Stable      All of four complexes are insoluble in water.   \n",
       "422              Stable      All of four complexes are insoluble in water.   \n",
       "423              Stable      All of four complexes are insoluble in water.   \n",
       "424              Stable      All of four complexes are insoluble in water.   \n",
       "425              Stable  Yellow crystals formed in situ and are insolub...   \n",
       "\n",
       "     Score  \n",
       "0      1.0  \n",
       "1      1.0  \n",
       "2      1.0  \n",
       "3      1.0  \n",
       "4      1.0  \n",
       "..     ...  \n",
       "421    0.8  \n",
       "422    0.8  \n",
       "423    0.8  \n",
       "424    0.8  \n",
       "425    0.8  \n",
       "\n",
       "[426 rows x 7 columns]"
      ]
     },
     "execution_count": 2,
     "metadata": {},
     "output_type": "execute_result"
    }
   ],
   "source": [
    "df = pd.read_excel('../data/qmof_database/predictions_with_qmof_ID.xlsx', engine='openpyxl')\n",
    "df"
   ]
  },
  {
   "cell_type": "code",
   "execution_count": 22,
   "id": "c36a9675-3fbb-45e3-bb4e-e05a399b0d83",
   "metadata": {},
   "outputs": [
    {
     "data": {
      "text/html": [
       "<div>\n",
       "<style scoped>\n",
       "    .dataframe tbody tr th:only-of-type {\n",
       "        vertical-align: middle;\n",
       "    }\n",
       "\n",
       "    .dataframe tbody tr th {\n",
       "        vertical-align: top;\n",
       "    }\n",
       "\n",
       "    .dataframe thead th {\n",
       "        text-align: right;\n",
       "    }\n",
       "</style>\n",
       "<table border=\"1\" class=\"dataframe\">\n",
       "  <thead>\n",
       "    <tr style=\"text-align: right;\">\n",
       "      <th></th>\n",
       "      <th>Paper id</th>\n",
       "      <th>DOI</th>\n",
       "      <th>qmof_ID</th>\n",
       "      <th>MOF name</th>\n",
       "      <th>Predicted Stability</th>\n",
       "      <th>Justification</th>\n",
       "      <th>Score</th>\n",
       "    </tr>\n",
       "  </thead>\n",
       "  <tbody>\n",
       "    <tr>\n",
       "      <th>0</th>\n",
       "      <td>25</td>\n",
       "      <td>https://doi.org/10.1002/chem.201702405</td>\n",
       "      <td>qmof-88d81f2</td>\n",
       "      <td>[Cu(L-Cl) 2]n (2a)</td>\n",
       "      <td>Unstable</td>\n",
       "      <td>Further immersing the green block crystals of ...</td>\n",
       "      <td>1.0</td>\n",
       "    </tr>\n",
       "    <tr>\n",
       "      <th>1</th>\n",
       "      <td>31</td>\n",
       "      <td>https://doi.org/10.1002/1099-0682(200111)2001:...</td>\n",
       "      <td>qmof-4a90838</td>\n",
       "      <td>[Cu(NO3)2(2,29-bipy)(4,49-bipy)]n·2nCH3OH</td>\n",
       "      <td>Unstable</td>\n",
       "      <td>The coordination polymer 1 is purple in the so...</td>\n",
       "      <td>1.0</td>\n",
       "    </tr>\n",
       "    <tr>\n",
       "      <th>2</th>\n",
       "      <td>32</td>\n",
       "      <td>https://doi.org/10.1016/j.poly.2012.07.102</td>\n",
       "      <td>qmof-9b03351</td>\n",
       "      <td>[Zn(NO 3)2(H2O)(1,3-H 4pdta)] n(1)</td>\n",
       "      <td>Stable</td>\n",
       "      <td>This gives support to 1retaining its coordinat...</td>\n",
       "      <td>1.0</td>\n",
       "    </tr>\n",
       "    <tr>\n",
       "      <th>3</th>\n",
       "      <td>55</td>\n",
       "      <td>https://doi.org/10.1002/anie.201202992</td>\n",
       "      <td>qmof-b5487b6</td>\n",
       "      <td>PCN-200-ac</td>\n",
       "      <td>Stable</td>\n",
       "      <td>Chemical stability tests show that PCN-200 is ...</td>\n",
       "      <td>1.0</td>\n",
       "    </tr>\n",
       "    <tr>\n",
       "      <th>4</th>\n",
       "      <td>60</td>\n",
       "      <td>https://doi.org/10.1021/acs.inorgchem.7b02034</td>\n",
       "      <td>qmof-ebaf62f</td>\n",
       "      <td>{[Ag(bfps)]NO3}n</td>\n",
       "      <td>Stable</td>\n",
       "      <td>Compound 1was isolated as colorless crystals f...</td>\n",
       "      <td>1.0</td>\n",
       "    </tr>\n",
       "    <tr>\n",
       "      <th>...</th>\n",
       "      <td>...</td>\n",
       "      <td>...</td>\n",
       "      <td>...</td>\n",
       "      <td>...</td>\n",
       "      <td>...</td>\n",
       "      <td>...</td>\n",
       "      <td>...</td>\n",
       "    </tr>\n",
       "    <tr>\n",
       "      <th>245</th>\n",
       "      <td>2985</td>\n",
       "      <td>https://doi.org/10.1039/c1ce06012k</td>\n",
       "      <td>qmof-338698f</td>\n",
       "      <td>[HoAg(Hbidc)2(H2O)2]n$(H2O)n(1)</td>\n",
       "      <td>Stable</td>\n",
       "      <td>The as-synthesized material is insoluble in wa...</td>\n",
       "      <td>0.8</td>\n",
       "    </tr>\n",
       "    <tr>\n",
       "      <th>246</th>\n",
       "      <td>2988</td>\n",
       "      <td>https://doi.org/10.1039/C7NJ00611J</td>\n",
       "      <td>qmof-1d52e5c</td>\n",
       "      <td>[Pb 2(edta)(H 2O)] 2n (1)</td>\n",
       "      <td>Stable</td>\n",
       "      <td>All of four complexes are insoluble in water.</td>\n",
       "      <td>0.8</td>\n",
       "    </tr>\n",
       "    <tr>\n",
       "      <th>247</th>\n",
       "      <td>2988</td>\n",
       "      <td>https://doi.org/10.1039/C7NJ00611J</td>\n",
       "      <td>qmof-73caf97</td>\n",
       "      <td>Pb n[Pb(edta)Pb(H 2O)Cl] 2n ·2nH 2O (3)</td>\n",
       "      <td>Stable</td>\n",
       "      <td>All of four complexes are insoluble in water.</td>\n",
       "      <td>0.8</td>\n",
       "    </tr>\n",
       "    <tr>\n",
       "      <th>248</th>\n",
       "      <td>2988</td>\n",
       "      <td>https://doi.org/10.1039/C7NJ00611J</td>\n",
       "      <td>qmof-31856d4</td>\n",
       "      <td>Pb n[Pb(edta)Pb(H 2O)Br] 2n ·2nH 2O (4)</td>\n",
       "      <td>Stable</td>\n",
       "      <td>All of four complexes are insoluble in water.</td>\n",
       "      <td>0.8</td>\n",
       "    </tr>\n",
       "    <tr>\n",
       "      <th>249</th>\n",
       "      <td>2992</td>\n",
       "      <td>https://doi.org/10.1107/S1600536805009438</td>\n",
       "      <td>qmof-b3d8865</td>\n",
       "      <td>[U(C 5H6O4)O2]</td>\n",
       "      <td>Stable</td>\n",
       "      <td>Yellow crystals formed in situ and are insolub...</td>\n",
       "      <td>0.8</td>\n",
       "    </tr>\n",
       "  </tbody>\n",
       "</table>\n",
       "<p>250 rows × 7 columns</p>\n",
       "</div>"
      ],
      "text/plain": [
       "     Paper id                                                DOI  \\\n",
       "0          25             https://doi.org/10.1002/chem.201702405   \n",
       "1          31  https://doi.org/10.1002/1099-0682(200111)2001:...   \n",
       "2          32         https://doi.org/10.1016/j.poly.2012.07.102   \n",
       "3          55             https://doi.org/10.1002/anie.201202992   \n",
       "4          60      https://doi.org/10.1021/acs.inorgchem.7b02034   \n",
       "..        ...                                                ...   \n",
       "245      2985                 https://doi.org/10.1039/c1ce06012k   \n",
       "246      2988                 https://doi.org/10.1039/C7NJ00611J   \n",
       "247      2988                 https://doi.org/10.1039/C7NJ00611J   \n",
       "248      2988                 https://doi.org/10.1039/C7NJ00611J   \n",
       "249      2992          https://doi.org/10.1107/S1600536805009438   \n",
       "\n",
       "          qmof_ID                                   MOF name  \\\n",
       "0    qmof-88d81f2                         [Cu(L-Cl) 2]n (2a)   \n",
       "1    qmof-4a90838  [Cu(NO3)2(2,29-bipy)(4,49-bipy)]n·2nCH3OH   \n",
       "2    qmof-9b03351         [Zn(NO 3)2(H2O)(1,3-H 4pdta)] n(1)   \n",
       "3    qmof-b5487b6                                 PCN-200-ac   \n",
       "4    qmof-ebaf62f                           {[Ag(bfps)]NO3}n   \n",
       "..            ...                                        ...   \n",
       "245  qmof-338698f            [HoAg(Hbidc)2(H2O)2]n$(H2O)n(1)   \n",
       "246  qmof-1d52e5c                  [Pb 2(edta)(H 2O)] 2n (1)   \n",
       "247  qmof-73caf97    Pb n[Pb(edta)Pb(H 2O)Cl] 2n ·2nH 2O (3)   \n",
       "248  qmof-31856d4    Pb n[Pb(edta)Pb(H 2O)Br] 2n ·2nH 2O (4)   \n",
       "249  qmof-b3d8865                             [U(C 5H6O4)O2]   \n",
       "\n",
       "    Predicted Stability                                      Justification  \\\n",
       "0              Unstable  Further immersing the green block crystals of ...   \n",
       "1              Unstable  The coordination polymer 1 is purple in the so...   \n",
       "2                Stable  This gives support to 1retaining its coordinat...   \n",
       "3                Stable  Chemical stability tests show that PCN-200 is ...   \n",
       "4                Stable  Compound 1was isolated as colorless crystals f...   \n",
       "..                  ...                                                ...   \n",
       "245              Stable  The as-synthesized material is insoluble in wa...   \n",
       "246              Stable      All of four complexes are insoluble in water.   \n",
       "247              Stable      All of four complexes are insoluble in water.   \n",
       "248              Stable      All of four complexes are insoluble in water.   \n",
       "249              Stable  Yellow crystals formed in situ and are insolub...   \n",
       "\n",
       "     Score  \n",
       "0      1.0  \n",
       "1      1.0  \n",
       "2      1.0  \n",
       "3      1.0  \n",
       "4      1.0  \n",
       "..     ...  \n",
       "245    0.8  \n",
       "246    0.8  \n",
       "247    0.8  \n",
       "248    0.8  \n",
       "249    0.8  \n",
       "\n",
       "[250 rows x 7 columns]"
      ]
     },
     "execution_count": 22,
     "metadata": {},
     "output_type": "execute_result"
    }
   ],
   "source": [
    "df_with_qmof = df.dropna().reset_index(drop=True)\n",
    "df_with_qmof"
   ]
  },
  {
   "cell_type": "code",
   "execution_count": 4,
   "id": "9a1d3aa9-127e-45de-a7f3-52e8dd35163e",
   "metadata": {},
   "outputs": [
    {
     "data": {
      "text/plain": [
       "(array([ 71.,   0.,   0., 177.,   0.,   0.,   1.,   0.,   0.,   1.]),\n",
       " array([0. , 0.3, 0.6, 0.9, 1.2, 1.5, 1.8, 2.1, 2.4, 2.7, 3. ]),\n",
       " <BarContainer object of 10 artists>)"
      ]
     },
     "execution_count": 4,
     "metadata": {},
     "output_type": "execute_result"
    },
    {
     "data": {
      "image/png": "[encoded data removed]",
      "text/plain": [
       "<Figure size 640x480 with 1 Axes>"
      ]
     },
     "metadata": {},
     "output_type": "display_data"
    }
   ],
   "source": [
    "import matplotlib.pyplot as plt\n",
    "plt.hist(df_with_qmof['Predicted Stability'])"
   ]
  },
  {
   "cell_type": "code",
   "execution_count": 5,
   "id": "e52d99c2-4c3d-4928-a2ad-8468f7d10ca1",
   "metadata": {},
   "outputs": [
    {
     "data": {
      "text/plain": [
       "array(['We have synthesized a 2D NiII CP which exhibits structural change upon dehydration – rehydration and concomitant change in magnetic behaviour. To further investigate the dehydration and rehydration, water adsorption isotherms of various cycles were measured. This conjecture is further supported by the fact that the uptake amounts in the subsequent cycles (2nd, 3rd and 4th cycles) are similar since the guest water molecule could be easily evacuated and readsorbed.'],\n",
       "      dtype=object)"
      ]
     },
     "execution_count": 5,
     "metadata": {},
     "output_type": "execute_result"
    }
   ],
   "source": [
    "df_with_qmof[df_with_qmof['Predicted Stability'] == 'Potentially Stable']['Justification'].values"
   ]
  },
  {
   "cell_type": "code",
   "execution_count": 6,
   "id": "4514cac6-1f4a-4783-85bc-770c52557bbb",
   "metadata": {},
   "outputs": [],
   "source": [
    "df_with_qmof['Predicted Stability'] = df_with_qmof['Predicted Stability'].replace([\"Potentially Stable\", \"Stable (implied)\"], 'Stable')"
   ]
  },
  {
   "cell_type": "code",
   "execution_count": 7,
   "id": "5b02c56c-5745-4777-987e-7bfc0de5a480",
   "metadata": {},
   "outputs": [
    {
     "data": {
      "text/plain": [
       "(array([ 71.,   0.,   0.,   0.,   0.,   0.,   0.,   0.,   0., 179.]),\n",
       " array([0. , 0.1, 0.2, 0.3, 0.4, 0.5, 0.6, 0.7, 0.8, 0.9, 1. ]),\n",
       " <BarContainer object of 10 artists>)"
      ]
     },
     "execution_count": 7,
     "metadata": {},
     "output_type": "execute_result"
    },
    {
     "data": {
      "image/png": "[encoded data removed]",
      "text/plain": [
       "<Figure size 640x480 with 1 Axes>"
      ]
     },
     "metadata": {},
     "output_type": "display_data"
    }
   ],
   "source": [
    "plt.hist(df_with_qmof['Predicted Stability'])"
   ]
  },
  {
   "cell_type": "markdown",
   "id": "ed0a9f9e-b9c5-4937-8605-6de098a17d92",
   "metadata": {},
   "source": [
    "## Featurizing"
   ]
  },
  {
   "cell_type": "code",
   "execution_count": 9,
   "id": "366e5a2c-cb57-4c92-8f0d-021667b29410",
   "metadata": {},
   "outputs": [
    {
     "name": "stderr",
     "output_type": "stream",
     "text": [
      "C:\\Users\\mehra\\anaconda3\\envs\\agent\\lib\\site-packages\\ot\\backend.py:2998: UserWarning: To use TensorflowBackend, you need to activate the tensorflow numpy API. You can activate it by running: \n",
      "from tensorflow.python.ops.numpy_ops import np_config\n",
      "np_config.enable_numpy_behavior()\n",
      "  register_backend(TensorflowBackend())\n"
     ]
    }
   ],
   "source": [
    "from mofdscribe.featurizers.chemistry.racs import RACS\n",
    "from pymatgen.core import Structure\n",
    "from tqdm import tqdm\n",
    "import pickle\n",
    "import os\n",
    "import numpy as np\n",
    "\n",
    "featurizer = RACS()"
   ]
  },
  {
   "cell_type": "code",
   "execution_count": 441,
   "id": "d23506f4-f2fe-4b60-90f6-16545b8b7747",
   "metadata": {},
   "outputs": [
    {
     "name": "stderr",
     "output_type": "stream",
     "text": [
      "100%|████████████████████████████████████████████████████████████████████████████████████████████████████████████████████████████████| 250/250 [00:12<00:00, 19.52it/s]\n"
     ]
    },
    {
     "data": {
      "application/vnd.jupyter.widget-view+json": {
       "model_id": "d29fd136fc144db9a252504b71592a43",
       "version_major": 2,
       "version_minor": 0
      },
      "text/plain": [
       "RACS:   0%|          | 0/250 [00:00<?, ?it/s]"
      ]
     },
     "metadata": {},
     "output_type": "display_data"
    }
   ],
   "source": [
    "structures = [Structure.from_file(f'../data/qmof_database/scripts/relaxed_structures/{qmof_ID}.cif')\n",
    "              for index, mof in tqdm(df_with_qmof.iterrows(),total=df_with_qmof.shape[0])]\n",
    "features = featurizer.featurize_many(structures)"
   ]
  },
  {
   "cell_type": "code",
   "execution_count": 23,
   "id": "9a244d5d-b6a5-4b4a-b460-2cd9cfaa8467",
   "metadata": {},
   "outputs": [
    {
     "name": "stderr",
     "output_type": "stream",
     "text": [
      " 21%|███████████████████████████▎                                                                                                     | 53/250 [10:27<40:52, 12.45s/it]"
     ]
    },
    {
     "name": "stdout",
     "output_type": "stream",
     "text": [
      "Falied on 52, qmof-f4c4d54\n"
     ]
    },
    {
     "name": "stderr",
     "output_type": "stream",
     "text": [
      " 38%|█████████████████████████████████████████████████                                                                                | 95/250 [20:35<52:39, 20.38s/it]C:\\Users\\mehra\\anaconda3\\envs\\agent\\lib\\site-packages\\pymatgen\\io\\cif.py:1195: UserWarning: Issues encountered while parsing CIF: Some fractional coordinates rounded to ideal values to avoid issues with finite precision.\n",
      "  warnings.warn(\"Issues encountered while parsing CIF: \" + \"\\n\".join(self.warnings))\n",
      " 76%|█████████████████████████████████████████████████████████████████████████████████████████████████▎                              | 190/250 [43:32<10:04, 10.08s/it]"
     ]
    },
    {
     "name": "stdout",
     "output_type": "stream",
     "text": [
      "Falied on 189, qmof-7541f7a\n"
     ]
    },
    {
     "name": "stderr",
     "output_type": "stream",
     "text": [
      "100%|████████████████████████████████████████████████████████████████████████████████████████████████████████████████████████████████| 250/250 [57:28<00:00, 13.79s/it]\n"
     ]
    }
   ],
   "source": [
    "# This cell takes a WHILE to run!\n",
    "X = []\n",
    "y = []\n",
    "for index, mof in tqdm(df_with_qmof.iterrows(), total=df_with_qmof.shape[0]):\n",
    "    qmof_ID = mof['qmof_ID']\n",
    "    s = Structure.from_file(f'../data/qmof_database/scripts/relaxed_structures/{qmof_ID}.cif')\n",
    "    try:\n",
    "        feature = featurizer.featurize(s)\n",
    "        X.append(feature)\n",
    "        if mof['Predicted Stability'] == 'Stable':\n",
    "            y.append(1)\n",
    "        else:\n",
    "            y.append(0)\n",
    "    except ValueError:\n",
    "        print(f'Falied on {index}, {qmof_ID}')\n",
    "    # break\n",
    "    \n",
    "# y = [1 if row['Predicted Stability'] == 'Stable' else 0 for index, row in df_with_qmof.iterrows()]\n",
    "with open('../data/qmof_database/ml_data.pkl', 'wb') as f:\n",
    "    pickle.dump([X,y],f)"
   ]
  },
  {
   "cell_type": "code",
   "execution_count": 27,
   "id": "f3ed7ece-453c-4009-9829-21834e95169e",
   "metadata": {},
   "outputs": [
    {
     "name": "stdout",
     "output_type": "stream",
     "text": [
      "Number of NaNs is features: 63, NaNs replaced with 0s.\n"
     ]
    }
   ],
   "source": [
    "with open('../data/qmof_database/ml_data.pkl', 'rb') as f:\n",
    "    dat = pickle.load(f)\n",
    "X = np.array(dat[0])\n",
    "y = np.array(dat[1])\n",
    "\n",
    "# replacing with zero\n",
    "indices_with_nans = np.where(np.any(np.isnan(X), axis=1))[0]\n",
    "print(f'Number of NaNs is features: {len(indices_with_nans)}, NaNs replaced with 0s.')\n",
    "X[np.isnan(X)] = 0"
   ]
  },
  {
   "cell_type": "code",
   "execution_count": 101,
   "id": "cd0cc19a-b304-412d-a7ef-94511777d403",
   "metadata": {},
   "outputs": [
    {
     "data": {
      "text/plain": [
       "array([  0,   1,   4,   9,  14,  15,  16,  22,  23,  28,  30,  33,  35,\n",
       "        38,  46,  47,  57,  59,  63,  64,  65,  68,  71,  75,  85,  91,\n",
       "        97, 106, 108, 111, 112, 120, 121, 140, 145, 148, 149, 150, 151,\n",
       "       152, 153, 154, 155, 156, 157, 166, 167, 169, 174, 175, 177, 182,\n",
       "       186, 192, 218, 219, 226, 229, 231, 232, 233, 244, 247], dtype=int64)"
      ]
     },
     "execution_count": 101,
     "metadata": {},
     "output_type": "execute_result"
    }
   ],
   "source": [
    "indices_with_nans"
   ]
  },
  {
   "cell_type": "code",
   "execution_count": 28,
   "id": "fe980929-499f-4d84-b476-ba216bb05fdd",
   "metadata": {},
   "outputs": [],
   "source": [
    "# standradize the features\n",
    "def standardize_train(x):\n",
    "    mean = x.mean(axis=0, keepdims=True)\n",
    "    std = x.std(axis=0, keepdims=True)\n",
    "    standardized_x = (x - mean)/std\n",
    "    return standardized_x, mean, std\n",
    "\n",
    "def standardize_test(x, mean, std):\n",
    "    standardized_x = (x - mean)/std\n",
    "    return standardized_x\n"
   ]
  },
  {
   "cell_type": "code",
   "execution_count": 109,
   "id": "f58f7519-9b54-40cb-bba4-bc4800cdc52a",
   "metadata": {},
   "outputs": [
    {
     "name": "stdout",
     "output_type": "stream",
     "text": [
      "Train size: 173, Val size: 30, Test size: 45\n"
     ]
    },
    {
     "data": {
      "text/plain": [
       "(array([ 45.,   0.,   0.,   0.,   0.,   0.,   0.,   0.,   0., 128.]),\n",
       " array([0. , 0.1, 0.2, 0.3, 0.4, 0.5, 0.6, 0.7, 0.8, 0.9, 1. ]),\n",
       " <BarContainer object of 10 artists>)"
      ]
     },
     "execution_count": 109,
     "metadata": {},
     "output_type": "execute_result"
    },
    {
     "data": {
      "image/png": "[encoded data removed]",
      "text/plain": [
       "<Figure size 640x480 with 1 Axes>"
      ]
     },
     "metadata": {},
     "output_type": "display_data"
    }
   ],
   "source": [
    "from sklearn.model_selection import train_test_split\n",
    "\n",
    "seed = 2\n",
    "X_train, X_temp, y_train, y_temp = train_test_split(X, y, test_size=0.3, random_state=None, shuffle=True)\n",
    "\n",
    "X_val, X_test, y_val, y_test = train_test_split(X_temp, y_temp, test_size=0.6, random_state=seed)\n",
    "print(f'Train size: {X_train.shape[0]}, Val size: {X_val.shape[0]}, Test size: {X_test.shape[0]}')\n",
    "plt.hist(y_train)"
   ]
  },
  {
   "cell_type": "code",
   "execution_count": 110,
   "id": "2aeaa311-43a3-4490-998e-ffe0c0e4d3f0",
   "metadata": {},
   "outputs": [],
   "source": [
    "from sklearn.preprocessing import StandardScaler\n",
    "\n",
    "scaler = StandardScaler().fit(X_train)  \n",
    "X_train_standardized = scaler.transform(X_train) \n",
    "X_test_standardized = scaler.transform(X_test)\n",
    "X_val_standardized = scaler.transform(X_val)"
   ]
  },
  {
   "cell_type": "markdown",
   "id": "8bfee85f-0ffb-4c0b-8135-21415f11fdd3",
   "metadata": {},
   "source": [
    "## Random forests"
   ]
  },
  {
   "cell_type": "code",
   "execution_count": 111,
   "id": "c5a71282-93c5-4be7-8f61-5185602a145a",
   "metadata": {},
   "outputs": [
    {
     "name": "stdout",
     "output_type": "stream",
     "text": [
      "Validation AUROC: 0.5710\n"
     ]
    }
   ],
   "source": [
    "from sklearn.ensemble import RandomForestClassifier\n",
    "from sklearn.metrics import roc_auc_score\n",
    "\n",
    "clf = RandomForestClassifier(n_estimators=150, random_state=None)\n",
    "clf.fit(X_train_standardized, y_train)\n",
    "\n",
    "y_hat_val = clf.predict_proba(X_val_standardized)[:, 1]\n",
    "\n",
    "auroc = roc_auc_score(y_val, y_hat_val)\n",
    "print(f\"Validation AUROC: {auroc:.4f}\")"
   ]
  },
  {
   "cell_type": "code",
   "execution_count": 112,
   "id": "aef5e106-6128-4392-b680-2e41f3491644",
   "metadata": {},
   "outputs": [
    {
     "name": "stdout",
     "output_type": "stream",
     "text": [
      "Test AUROC: 0.7095\n"
     ]
    }
   ],
   "source": [
    "y_hat_test = clf.predict_proba(X_test_standardized)[:, 1]\n",
    "\n",
    "auroc = roc_auc_score(y_test, y_hat_test)\n",
    "print(f\"Test AUROC: {auroc:.4f}\")"
   ]
  },
  {
   "cell_type": "markdown",
   "id": "d8964e25-6d16-4c69-85b2-fbfce6a1c8b6",
   "metadata": {},
   "source": [
    "## XGBoost"
   ]
  },
  {
   "cell_type": "code",
   "execution_count": 113,
   "id": "58669e90-2611-4c47-9066-e3035b7b4794",
   "metadata": {},
   "outputs": [
    {
     "name": "stderr",
     "output_type": "stream",
     "text": [
      "C:\\Users\\mehra\\anaconda3\\envs\\agent\\lib\\site-packages\\xgboost\\sklearn.py:885: UserWarning: `eval_metric` in `fit` method is deprecated for better compatibility with scikit-learn, use `eval_metric` in constructor or`set_params` instead.\n",
      "  warnings.warn(\n"
     ]
    },
    {
     "name": "stdout",
     "output_type": "stream",
     "text": [
      "Validation AUROC: 0.3920\n"
     ]
    }
   ],
   "source": [
    "import xgboost as xgb\n",
    "\n",
    "# Initialize the classifier\n",
    "clf = xgb.XGBClassifier(objective='binary:logistic', \n",
    "                        n_estimators=150, \n",
    "                        random_state=seed, \n",
    "                        use_label_encoder=True)  # Avoid a warning related to label encoding\n",
    "\n",
    "# Fit the model\n",
    "clf.fit(X_train_standardized, y_train, eval_metric='auc')\n",
    "\n",
    "# Predict the probability for the positive class\n",
    "y_hat_val = clf.predict_proba(X_val_standardized)[:, 1]\n",
    "\n",
    "# Compute the AUROC\n",
    "auroc = roc_auc_score(y_val, y_hat_val)\n",
    "print(f\"Validation AUROC: {auroc:.4f}\")"
   ]
  },
  {
   "cell_type": "markdown",
   "id": "b2068b0f-c6d3-4ea4-808b-e0a6c9d5f199",
   "metadata": {},
   "source": [
    "## GPR"
   ]
  },
  {
   "cell_type": "code",
   "execution_count": 114,
   "id": "2a1982a2-8fa0-4336-963c-cec3ab765317",
   "metadata": {},
   "outputs": [
    {
     "name": "stdout",
     "output_type": "stream",
     "text": [
      "Validation AUROC: 0.5739\n"
     ]
    },
    {
     "name": "stderr",
     "output_type": "stream",
     "text": [
      "C:\\Users\\mehra\\anaconda3\\envs\\agent\\lib\\site-packages\\sklearn\\gaussian_process\\kernels.py:419: ConvergenceWarning: The optimal value found for dimension 0 of parameter k2__noise_level is close to the specified lower bound 0.001. Decreasing the bound and calling fit again may find a better value.\n",
      "  warnings.warn(\n"
     ]
    }
   ],
   "source": [
    "from sklearn.gaussian_process import GaussianProcessRegressor\n",
    "from sklearn.gaussian_process.kernels import RBF, ConstantKernel as C\n",
    "from sklearn.gaussian_process.kernels import RBF, WhiteKernel as WK\n",
    "kernel = 1.0 * RBF(length_scale=1e-2, length_scale_bounds=(1e-3, 1e3)) + WK(\n",
    "    noise_level=1e-1, noise_level_bounds=(1e-3, 5e1)\n",
    "    )\n",
    "\n",
    "# kernel = C(1.0, (1e-3, 1e3)) * RBF(1.0, (1e-2, 1e2))\n",
    "\n",
    "# Create and train a Gaussian Process Regressor\n",
    "gpr = GaussianProcessRegressor(kernel=kernel, n_restarts_optimizer=25, alpha=1e-3, normalize_y=True)\n",
    "gpr.fit(X_train_standardized, y_train)\n",
    "\n",
    "y_hat_val = gpr.predict(X_val_standardized)\n",
    "\n",
    "auroc = roc_auc_score(y_val, y_hat_val)\n",
    "print(f\"Validation AUROC: {auroc:.4f}\")"
   ]
  },
  {
   "cell_type": "code",
   "execution_count": 115,
   "id": "56c07c78-a9e6-4f14-82b7-b23e2fe9a165",
   "metadata": {},
   "outputs": [
    {
     "name": "stdout",
     "output_type": "stream",
     "text": [
      "Test AUROC: 0.7348\n"
     ]
    }
   ],
   "source": [
    "y_hat_test = gpr.predict(X_test_standardized)\n",
    "\n",
    "auroc = roc_auc_score(y_test, y_hat_test)\n",
    "print(f\"Test AUROC: {auroc:.4f}\")"
   ]
  },
  {
   "cell_type": "markdown",
   "id": "43538018-1bda-43ff-8ee2-0a440a91e4f0",
   "metadata": {},
   "source": [
    "## DNN"
   ]
  },
  {
   "cell_type": "code",
   "execution_count": 116,
   "id": "b2111157-0d0a-4dee-a1f9-fd16f3bbad90",
   "metadata": {},
   "outputs": [],
   "source": [
    "import tensorflow as tf\n",
    "from dataclasses import dataclass"
   ]
  },
  {
   "cell_type": "code",
   "execution_count": 117,
   "id": "ccc165fe-b8b0-4bb3-8a09-0ff90aa800cc",
   "metadata": {},
   "outputs": [],
   "source": [
    "@dataclass\n",
    "class Config:\n",
    "    batch_size: int\n",
    "    hidden_dim: int\n",
    "    reg_strength: float\n",
    "    lr: float\n",
    "    drop_rate: float\n",
    "        \n",
    "config = Config(\n",
    "                batch_size=16, \n",
    "                hidden_dim=64,\n",
    "                reg_strength=0,\n",
    "                lr=1e-2,\n",
    "                drop_rate=0.2\n",
    "               )\n",
    "\n",
    "def build_model(L):\n",
    "    inputs = tf.keras.Input(shape=(L,))\n",
    "    x = tf.keras.layers.Dense(\n",
    "        config.hidden_dim, \n",
    "        activation='relu', \n",
    "        kernel_regularizer=tf.keras.regularizers.l2(config.reg_strength))(inputs)\n",
    "    x = tf.keras.layers.LayerNormalization()(x)\n",
    "    x = tf.keras.layers.Dropout(config.drop_rate)(x)\n",
    "    x = tf.keras.layers.Dense(\n",
    "        config.hidden_dim // 8, \n",
    "        activation='relu', \n",
    "        kernel_regularizer=tf.keras.regularizers.l2(config.reg_strength))(x)\n",
    "    x = tf.keras.layers.LayerNormalization()(x)\n",
    "    x = tf.keras.layers.Dropout(config.drop_rate)(x)\n",
    "    # predicting prob, so no activation\n",
    "    yhat = tf.keras.layers.Dense(1, activation='sigmoid')(x)\n",
    "\n",
    "    model = tf.keras.Model(inputs=inputs, outputs=yhat, name='DNN')\n",
    "    return model\n"
   ]
  },
  {
   "cell_type": "code",
   "execution_count": 118,
   "id": "fbc68acd-86a2-47f0-95b0-71696995128a",
   "metadata": {},
   "outputs": [
    {
     "name": "stdout",
     "output_type": "stream",
     "text": [
      "Model: \"DNN\"\n",
      "_________________________________________________________________\n",
      " Layer (type)                Output Shape              Param #   \n",
      "=================================================================\n",
      " input_1 (InputLayer)        [(None, 480)]             0         \n",
      "                                                                 \n",
      " dense (Dense)               (None, 64)                30784     \n",
      "                                                                 \n",
      " layer_normalization (Layer  (None, 64)                128       \n",
      " Normalization)                                                  \n",
      "                                                                 \n",
      " dropout (Dropout)           (None, 64)                0         \n",
      "                                                                 \n",
      " dense_1 (Dense)             (None, 8)                 520       \n",
      "                                                                 \n",
      " layer_normalization_1 (Lay  (None, 8)                 16        \n",
      " erNormalization)                                                \n",
      "                                                                 \n",
      " dropout_1 (Dropout)         (None, 8)                 0         \n",
      "                                                                 \n",
      " dense_2 (Dense)             (None, 1)                 9         \n",
      "                                                                 \n",
      "=================================================================\n",
      "Total params: 31457 (122.88 KB)\n",
      "Trainable params: 31457 (122.88 KB)\n",
      "Non-trainable params: 0 (0.00 Byte)\n",
      "_________________________________________________________________\n"
     ]
    }
   ],
   "source": [
    "tf.keras.backend.clear_session()\n",
    "model = build_model(X_train_standardized.shape[1])\n",
    "opt = tf.optimizers.Adam(config.lr)\n",
    "model.compile(\n",
    "      opt,\n",
    "      loss=tf.keras.losses.BinaryCrossentropy(from_logits=False),\n",
    "      metrics=[tf.keras.metrics.AUC(from_logits=False), tf.keras.metrics.BinaryAccuracy(threshold=0.5)])\n",
    "\n",
    "model.summary()"
   ]
  },
  {
   "cell_type": "code",
   "execution_count": 119,
   "id": "dd08efb0-3653-4a32-b842-02fa07289f8b",
   "metadata": {},
   "outputs": [
    {
     "name": "stdout",
     "output_type": "stream",
     "text": [
      "Epoch 1/100\n",
      "11/11 [==============================] - 4s 73ms/step - loss: 0.8400 - auc: 0.4599 - binary_accuracy: 0.5838 - val_loss: 0.7435 - val_auc: 0.4403 - val_binary_accuracy: 0.6000 - lr: 0.0100\n",
      "Epoch 2/100\n",
      "11/11 [==============================] - 0s 13ms/step - loss: 0.5768 - auc: 0.6115 - binary_accuracy: 0.7457 - val_loss: 0.6756 - val_auc: 0.4347 - val_binary_accuracy: 0.7000 - lr: 0.0100\n",
      "Epoch 3/100\n",
      "11/11 [==============================] - 0s 14ms/step - loss: 0.5532 - auc: 0.6685 - binary_accuracy: 0.7168 - val_loss: 0.6156 - val_auc: 0.5398 - val_binary_accuracy: 0.7000 - lr: 0.0100\n",
      "Epoch 4/100\n",
      "11/11 [==============================] - 0s 13ms/step - loss: 0.5216 - auc: 0.7204 - binary_accuracy: 0.7399 - val_loss: 0.5996 - val_auc: 0.5739 - val_binary_accuracy: 0.7333 - lr: 0.0100\n",
      "Epoch 5/100\n",
      "11/11 [==============================] - 0s 13ms/step - loss: 0.5020 - auc: 0.7187 - binary_accuracy: 0.7861 - val_loss: 0.6062 - val_auc: 0.6818 - val_binary_accuracy: 0.7000 - lr: 0.0100\n",
      "Epoch 6/100\n",
      "11/11 [==============================] - 0s 14ms/step - loss: 0.4944 - auc: 0.7492 - binary_accuracy: 0.7399 - val_loss: 0.5869 - val_auc: 0.6250 - val_binary_accuracy: 0.6667 - lr: 0.0100\n",
      "Epoch 7/100\n",
      " 1/11 [=>............................] - ETA: 0s - loss: 0.4428 - auc: 0.7564 - binary_accuracy: 0.8125\n",
      "Epoch 7: ReduceLROnPlateau reducing learning rate to 0.008999999798834325.\n",
      "11/11 [==============================] - 0s 14ms/step - loss: 0.4534 - auc: 0.8084 - binary_accuracy: 0.7861 - val_loss: 0.5900 - val_auc: 0.6506 - val_binary_accuracy: 0.6667 - lr: 0.0100\n",
      "Epoch 8/100\n",
      "11/11 [==============================] - 0s 15ms/step - loss: 0.4399 - auc: 0.8119 - binary_accuracy: 0.8208 - val_loss: 0.6407 - val_auc: 0.5739 - val_binary_accuracy: 0.6667 - lr: 0.0090\n",
      "Epoch 9/100\n",
      "11/11 [==============================] - 0s 14ms/step - loss: 0.4190 - auc: 0.8418 - binary_accuracy: 0.8035 - val_loss: 0.6652 - val_auc: 0.5653 - val_binary_accuracy: 0.6667 - lr: 0.0090\n",
      "Epoch 10/100\n",
      "11/11 [==============================] - 0s 13ms/step - loss: 0.3661 - auc: 0.8899 - binary_accuracy: 0.8497 - val_loss: 0.6980 - val_auc: 0.5795 - val_binary_accuracy: 0.6000 - lr: 0.0090\n",
      "Epoch 11/100\n",
      "11/11 [==============================] - 0s 13ms/step - loss: 0.3853 - auc: 0.8729 - binary_accuracy: 0.8324 - val_loss: 0.7350 - val_auc: 0.5369 - val_binary_accuracy: 0.6667 - lr: 0.0090\n",
      "Epoch 12/100\n",
      " 1/11 [=>............................] - ETA: 0s - loss: 0.5705 - auc: 0.7636 - binary_accuracy: 0.7500\n",
      "Epoch 12: ReduceLROnPlateau reducing learning rate to 0.008099999651312828.\n",
      "11/11 [==============================] - 0s 13ms/step - loss: 0.4682 - auc: 0.7889 - binary_accuracy: 0.7977 - val_loss: 0.7137 - val_auc: 0.6051 - val_binary_accuracy: 0.6667 - lr: 0.0090\n",
      "Epoch 13/100\n",
      "11/11 [==============================] - 0s 14ms/step - loss: 0.4745 - auc: 0.7740 - binary_accuracy: 0.7919 - val_loss: 0.7101 - val_auc: 0.5455 - val_binary_accuracy: 0.6667 - lr: 0.0081\n",
      "Epoch 14/100\n",
      "11/11 [==============================] - 0s 14ms/step - loss: 0.4329 - auc: 0.8299 - binary_accuracy: 0.8092 - val_loss: 0.6420 - val_auc: 0.5540 - val_binary_accuracy: 0.7333 - lr: 0.0081\n",
      "Epoch 15/100\n",
      "11/11 [==============================] - 0s 16ms/step - loss: 0.3634 - auc: 0.8940 - binary_accuracy: 0.8613 - val_loss: 0.6939 - val_auc: 0.5852 - val_binary_accuracy: 0.7000 - lr: 0.0081\n"
     ]
    }
   ],
   "source": [
    "from tensorflow.keras.callbacks import ReduceLROnPlateau\n",
    "reduce_lr = ReduceLROnPlateau(monitor='val_auc',  # Metric to be monitored\n",
    "                             factor=0.9,          # Factor by which the learning rate will be reduced\n",
    "                             patience=5,         # No. of epochs with no improvement after which learning rate will be reduced\n",
    "                             min_lr=0.00001,      # Lower bound on the learning rate\n",
    "                             verbose=1) \n",
    "\n",
    "result = model.fit(\n",
    "    X_train_standardized, y_train, \n",
    "    validation_data=(X_val_standardized, y_val), \n",
    "    callbacks=[reduce_lr,\n",
    "        tf.keras.callbacks.EarlyStopping(monitor='val_auc', mode='max', restore_best_weights=True, patience=10)],\n",
    "    epochs=100, batch_size=config.batch_size)"
   ]
  },
  {
   "cell_type": "code",
   "execution_count": 120,
   "id": "128ca8fc-1892-463b-8fe9-aa51f9f43d95",
   "metadata": {},
   "outputs": [
    {
     "name": "stdout",
     "output_type": "stream",
     "text": [
      "2/2 [==============================] - 0s 16ms/step - loss: 0.8465 - auc: 0.6113 - binary_accuracy: 0.5778\n"
     ]
    },
    {
     "data": {
      "image/png": "[encoded data removed]",
      "text/plain": [
       "<Figure size 640x480 with 1 Axes>"
      ]
     },
     "metadata": {},
     "output_type": "display_data"
    }
   ],
   "source": [
    "plt.plot(result.history['val_auc'])\n",
    "test_result = model.evaluate(X_test_standardized, y_test)"
   ]
  },
  {
   "cell_type": "code",
   "execution_count": 121,
   "id": "2ba46974-2b06-40a5-a1ff-404b810bb654",
   "metadata": {},
   "outputs": [
    {
     "data": {
      "text/plain": [
       "(array([19.,  0.,  0.,  0.,  0.,  0.,  0.,  0.,  0., 26.]),\n",
       " array([0. , 0.1, 0.2, 0.3, 0.4, 0.5, 0.6, 0.7, 0.8, 0.9, 1. ]),\n",
       " <BarContainer object of 10 artists>)"
      ]
     },
     "execution_count": 121,
     "metadata": {},
     "output_type": "execute_result"
    },
    {
     "data": {
      "image/png": "[encoded data removed]",
      "text/plain": [
       "<Figure size 640x480 with 1 Axes>"
      ]
     },
     "metadata": {},
     "output_type": "display_data"
    }
   ],
   "source": [
    "plt.hist(y_test)"
   ]
  },
  {
   "cell_type": "code",
   "execution_count": null,
   "id": "b2c39bb8-4d7c-411c-9f64-75759eb5c683",
   "metadata": {},
   "outputs": [],
   "source": []
  }
 ],
 "metadata": {
  "kernelspec": {
   "display_name": "agent",
   "language": "python",
   "name": "agent"
  },
  "language_info": {
   "codemirror_mode": {
    "name": "ipython",
    "version": 3
   },
   "file_extension": ".py",
   "mimetype": "text/x-python",
   "name": "python",
   "nbconvert_exporter": "python",
   "pygments_lexer": "ipython3",
   "version": "3.9.17"
  }
 },
 "nbformat": 4,
 "nbformat_minor": 5
}
