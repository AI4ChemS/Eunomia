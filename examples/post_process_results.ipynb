{
 "cells": [
  {
   "cell_type": "code",
   "execution_count": 1,
   "id": "c00e11e9",
   "metadata": {},
   "outputs": [
    {
     "name": "stderr",
     "output_type": "stream",
     "text": [
      "C:\\Users\\mehra\\anaconda3\\envs\\elm\\lib\\site-packages\\fuzzywuzzy\\fuzz.py:11: UserWarning: Using slow pure-python SequenceMatcher. Install python-Levenshtein to remove this warning\n",
      "  warnings.warn('Using slow pure-python SequenceMatcher. Install python-Levenshtein to remove this warning')\n"
     ]
    }
   ],
   "source": [
    "import json\n",
    "from tqdm import tqdm\n",
    "import eunomia\n",
    "import numpy as np"
   ]
  },
  {
   "cell_type": "code",
   "execution_count": 2,
   "id": "db2e99b1",
   "metadata": {},
   "outputs": [
    {
     "name": "stderr",
     "output_type": "stream",
     "text": [
      "100%|████████████████████████████████████████████████████████████████████████████████████████████████████████████████████████████| 111/111 [00:00<00:00, 218.79it/s]\n"
     ]
    }
   ],
   "source": [
    "LLM_model = 'gpt-3.5-turbo-16k'\n",
    "Embedding_model = 'text-davinci-003'\n",
    "k = 5\n",
    "\n",
    "\n",
    "predictions_list = []\n",
    "for i in tqdm(range(1,112)):\n",
    "    results_index_path = f\"../Data/faiss/results/{LLM_model}/faiss-{Embedding_model}/k_{k}/results_paper_{i}.json\"\n",
    "    with open(results_index_path, 'rb') as f:\n",
    "        paper_result = json.load(f)\n",
    "    predictions_list.append(paper_result)"
   ]
  },
  {
   "cell_type": "code",
   "execution_count": 3,
   "id": "491082e6",
   "metadata": {},
   "outputs": [
    {
     "data": {
      "text/plain": [
       "{'MOF-74': {'Predicted Stability': 'Stable', 'Paper id': '2'},\n",
       " 'MOF-508b': {'Predicted Stability': 'Stable', 'Paper id': '2'},\n",
       " 'Zn-BDC-DABCO': {'Predicted Stability': 'Stable', 'Paper id': '2'},\n",
       " 'HKUST-1': {'Predicted Stability': 'Stable', 'Paper id': '2'},\n",
       " 'Cr-MIL-101': {'Predicted Stability': 'Stable', 'Paper id': '2'},\n",
       " 'Al-MIL-110': {'Predicted Stability': 'Not provided', 'Paper id': '2'}}"
      ]
     },
     "execution_count": 3,
     "metadata": {},
     "output_type": "execute_result"
    }
   ],
   "source": [
    "predictions_list[1]"
   ]
  },
  {
   "cell_type": "code",
   "execution_count": 4,
   "id": "ada071c1",
   "metadata": {},
   "outputs": [],
   "source": [
    "def parse_ground_truth():\n",
    "    import pandas as pd\n",
    "    # Read the Excel file into a pandas DataFrame\n",
    "    df = pd.read_excel('../Result/Excel/Standard_Criteria_Binary.xlsx', engine='openpyxl')\n",
    "    # Replace column names with corrected names\n",
    "    df.columns = df.columns.str.replace('_x0002_', ' ')\n",
    "\n",
    "    df = df[['MOF contained', 'True Water Stability', 'Reference #']]\n",
    "    df = df.rename(columns={'MOF contained': 'MOF name', 'True Water Stability': 'Ground-truth Stability',\n",
    "                            'Reference #': 'Paper id'})\n",
    "    ground_truth_list = []\n",
    "    for _, group in df.groupby(\"Paper id\"):\n",
    "        mofs = {\n",
    "            row[\"MOF name\"]: {\n",
    "                \"Ground-truth Stability\": row[\"Ground-truth Stability\"],\n",
    "                \"Paper id\": str(row[\"Paper id\"])\n",
    "            }\n",
    "            for _, row in group.iterrows()\n",
    "        }\n",
    "        ground_truth_list.append(mofs)\n",
    "    return ground_truth_list\n",
    "\n",
    "ground_truth_list = parse_ground_truth()"
   ]
  },
  {
   "cell_type": "code",
   "execution_count": 5,
   "id": "7a0c08a6",
   "metadata": {},
   "outputs": [
    {
     "name": "stdout",
     "output_type": "stream",
     "text": [
      "{'Ni3(BTP)2': {'Predicted Stability': 'Stable', 'Paper id': '13'}, 'Cu3(BTP)2': {'Predicted Stability': 'Stable', 'Paper id': '13'}, 'Zn3(BTP)2': {'Predicted Stability': 'Stable', 'Paper id': '13'}, 'Co3(BTP)2': {'Predicted Stability': 'Stable', 'Paper id': '13'}}\n",
      "{'Ni3(BTP)2': {'Ground-truth Stability': 'Stable', 'Paper id': '13'}, 'Cu3(BTP)2': {'Ground-truth Stability': 'Stable', 'Paper id': '13'}, 'Zn3(BTP)2': {'Ground-truth Stability': 'Stable', 'Paper id': '13'}}\n"
     ]
    },
    {
     "data": {
      "text/plain": [
       "({'Ni3(BTP)2': {'Predicted Stability': 'Stable',\n",
       "   'Paper id': '13',\n",
       "   'Ground-truth Stability': 'Stable'},\n",
       "  'Cu3(BTP)2': {'Predicted Stability': 'Stable',\n",
       "   'Paper id': '13',\n",
       "   'Ground-truth Stability': 'Stable'},\n",
       "  'Zn3(BTP)2': {'Predicted Stability': 'Stable',\n",
       "   'Paper id': '13',\n",
       "   'Ground-truth Stability': 'Stable'}},\n",
       " [('Ni3(BTP)2', 'Ni3(BTP)2'),\n",
       "  ('Cu3(BTP)2', 'Cu3(BTP)2'),\n",
       "  ('Zn3(BTP)2', 'Zn3(BTP)2')])"
      ]
     },
     "execution_count": 5,
     "metadata": {},
     "output_type": "execute_result"
    }
   ],
   "source": [
    "paper_id = 12\n",
    "prediction_dict = predictions_list[paper_id]  \n",
    "ground_truth_dict = ground_truth_list[paper_id]\n",
    "print(prediction_dict)\n",
    "print(ground_truth_dict)\n",
    "eunomia.match_MOF_names(prediction_dict, ground_truth_dict, threshold=90)"
   ]
  },
  {
   "cell_type": "code",
   "execution_count": 6,
   "id": "e5758d6a",
   "metadata": {},
   "outputs": [
    {
     "name": "stdout",
     "output_type": "stream",
     "text": [
      "{'MIL-100': {'Predicted Stability': 'Stable', 'Paper id': '6'}, 'MIL-101': {'Predicted Stability': 'Stable', 'Paper id': '6'}}\n",
      "\n",
      "{'MIL-101(Cr)': {'Ground-truth Stability': 'Stable', 'Paper id': '6'}, 'MIL-100(Fe)': {'Ground-truth Stability': 'Stable', 'Paper id': '6'}}\n"
     ]
    },
    {
     "data": {
      "text/plain": [
       "({'MIL-100': {'Predicted Stability': 'Stable',\n",
       "   'Paper id': '6',\n",
       "   'Ground-truth Stability': 'Stable'},\n",
       "  'MIL-101': {'Predicted Stability': 'Stable',\n",
       "   'Paper id': '6',\n",
       "   'Ground-truth Stability': 'Stable'}},\n",
       " [('MIL-100', 'MIL-100(Fe)'), ('MIL-101', 'MIL-101(Cr)')])"
      ]
     },
     "execution_count": 6,
     "metadata": {},
     "output_type": "execute_result"
    }
   ],
   "source": [
    "paper_id = 5\n",
    "prediction_dict = predictions_list[paper_id]  \n",
    "ground_truth_dict = ground_truth_list[paper_id]\n",
    "print(f'{prediction_dict}\\n')\n",
    "print(ground_truth_dict)\n",
    "eunomia.match_MOF_names(prediction_dict, ground_truth_dict, threshold=80)"
   ]
  },
  {
   "cell_type": "code",
   "execution_count": 7,
   "id": "79cafd26",
   "metadata": {},
   "outputs": [
    {
     "name": "stdout",
     "output_type": "stream",
     "text": [
      "{'MOF-74': {'Predicted Stability': 'Stable', 'Paper id': '2'}, 'MOF-508b': {'Predicted Stability': 'Stable', 'Paper id': '2'}, 'Zn-BDC-DABCO': {'Predicted Stability': 'Stable', 'Paper id': '2'}, 'HKUST-1': {'Predicted Stability': 'Stable', 'Paper id': '2'}, 'Cr-MIL-101': {'Predicted Stability': 'Stable', 'Paper id': '2'}, 'Al-MIL-110': {'Predicted Stability': 'Not provided', 'Paper id': '2'}}\n",
      "\n",
      "{'MIL-101(Cr)': {'Ground-truth Stability': 'Stable', 'Paper id': '2'}, 'ZIF-8': {'Ground-truth Stability': 'Stable', 'Paper id': '2'}, 'MIL-53(Al)': {'Ground-truth Stability': 'Stable', 'Paper id': '2'}, 'HKUST-1': {'Ground-truth Stability': 'Unstable', 'Paper id': '2'}, 'Zn-MOF-74': {'Ground-truth Stability': 'Unstable', 'Paper id': '2'}, 'MIL-110(Al)': {'Ground-truth Stability': 'Unstable', 'Paper id': '2'}, 'MOF-5': {'Ground-truth Stability': 'Unstable', 'Paper id': '2'}, 'MOF-508': {'Ground-truth Stability': 'Unstable', 'Paper id': '2'}, 'MOF-69C': {'Ground-truth Stability': 'Unstable', 'Paper id': '2'}}\n"
     ]
    },
    {
     "data": {
      "text/plain": [
       "({'HKUST-1': {'Predicted Stability': 'Stable',\n",
       "   'Paper id': '2',\n",
       "   'Ground-truth Stability': 'Unstable'},\n",
       "  'Cr-MIL-101': {'Predicted Stability': 'Stable',\n",
       "   'Paper id': '2',\n",
       "   'Ground-truth Stability': 'Stable'},\n",
       "  'Al-MIL-110': {'Predicted Stability': 'Not provided',\n",
       "   'Paper id': '2',\n",
       "   'Ground-truth Stability': 'Unstable'}},\n",
       " [('HKUST-1', 'HKUST-1'),\n",
       "  ('Cr-MIL-101', 'MIL-101(Cr)'),\n",
       "  ('Al-MIL-110', 'MIL-110(Al)')])"
      ]
     },
     "execution_count": 7,
     "metadata": {},
     "output_type": "execute_result"
    }
   ],
   "source": [
    "paper_id = 1\n",
    "prediction_dict = predictions_list[paper_id]  \n",
    "ground_truth_dict = ground_truth_list[paper_id]\n",
    "print(f'{prediction_dict}\\n')\n",
    "print(ground_truth_dict)\n",
    "eunomia.match_MOF_names(prediction_dict, ground_truth_dict, threshold=95)"
   ]
  },
  {
   "cell_type": "code",
   "execution_count": 8,
   "id": "e79c9017",
   "metadata": {},
   "outputs": [],
   "source": [
    "def eval_single_paper_results(combined_dict):\n",
    "    y = []\n",
    "    y_hat = []\n",
    "    not_provided_count = 0\n",
    "    for k, v in combined_dict.items():\n",
    "        if v['Predicted Stability'] != 'Not provided':\n",
    "            if v['Ground-truth Stability'] == 'Stable':\n",
    "                y.append(1)\n",
    "            else:\n",
    "                y.append(0)\n",
    "            if v['Predicted Stability'] == 'Stable':\n",
    "                y_hat.append(1)\n",
    "            else:\n",
    "                y_hat.append(0)\n",
    "        else:\n",
    "            not_provided_count += 1\n",
    "    return y, y_hat, not_provided_count\n",
    "        "
   ]
  },
  {
   "cell_type": "code",
   "execution_count": 9,
   "id": "5a050bbe",
   "metadata": {},
   "outputs": [],
   "source": [
    "from fuzzywuzzy import fuzz\n",
    "\n",
    "def match_MOF_names(prediction_dict, ground_truth_dict, threshold=80):\n",
    "    \"\"\"\n",
    "    Match MOF names between prediction and ground truth dictionaries based on similarity.\n",
    "\n",
    "    This function takes two dictionaries, prediction_dict and ground_truth_dict,\n",
    "    where the keys represent MOF names and the values are dictionaries containing\n",
    "    information related to the MOFs. It uses fuzzy matching to find matching pairs\n",
    "    of MOF names between the two dictionaries based on similarity.\n",
    "\n",
    "    Parameters:\n",
    "        prediction_dict (dict): A dictionary containing predicted MOF data.\n",
    "        ground_truth_dict (dict): A dictionary containing ground truth MOF data.\n",
    "        threshold (int, optional): The minimum similarity score required to consider\n",
    "            two keys as a match. The default threshold is 80.\n",
    "\n",
    "    Returns:\n",
    "        tuple: A tuple containing two elements:\n",
    "            - A dictionary (combined_dict) that contains the combined information of\n",
    "              the matched MOFs between prediction_dict and ground_truth_dict.\n",
    "            - A list (matched_pairs) that contains tuples of matched key pairs from\n",
    "              prediction_dict and ground_truth_dict.\n",
    "    \"\"\"\n",
    "\n",
    "    combined_dict = {}\n",
    "    matched_pairs = []\n",
    "    matched_ground_truth_keys = set()  # Set to store matched ground_truth_dict keys\n",
    "\n",
    "    for key_1, value_1 in prediction_dict.items():\n",
    "        matched_key = None\n",
    "        highest_similarity = 0\n",
    "\n",
    "        for key_2 in ground_truth_dict.keys():\n",
    "            # Check if the key_2 is already matched, if so, skip it\n",
    "            if key_2 in matched_ground_truth_keys:\n",
    "                continue\n",
    "\n",
    "            similarity = fuzz.token_sort_ratio(key_1, key_2)\n",
    "            if similarity > threshold and similarity > highest_similarity:\n",
    "                matched_key = key_2\n",
    "                highest_similarity = similarity\n",
    "\n",
    "        if matched_key is not None:\n",
    "            combined_dict[key_1] = {**value_1, **ground_truth_dict[matched_key]}\n",
    "            matched_pairs.append((key_1, matched_key))\n",
    "            # Add the matched ground_truth_dict key to the set\n",
    "            matched_ground_truth_keys.add(matched_key)\n",
    "\n",
    "    return combined_dict, matched_pairs\n"
   ]
  },
  {
   "cell_type": "code",
   "execution_count": 10,
   "id": "9171209b",
   "metadata": {},
   "outputs": [
    {
     "data": {
      "text/plain": [
       "{'MOF-74': {'Predicted Stability': 'Stable', 'Paper id': '2'},\n",
       " 'MOF-508b': {'Predicted Stability': 'Stable', 'Paper id': '2'},\n",
       " 'Zn-BDC-DABCO': {'Predicted Stability': 'Stable', 'Paper id': '2'},\n",
       " 'HKUST-1': {'Predicted Stability': 'Stable', 'Paper id': '2'},\n",
       " 'Cr-MIL-101': {'Predicted Stability': 'Stable', 'Paper id': '2'},\n",
       " 'Al-MIL-110': {'Predicted Stability': 'Not provided', 'Paper id': '2'}}"
      ]
     },
     "execution_count": 10,
     "metadata": {},
     "output_type": "execute_result"
    }
   ],
   "source": [
    "prediction_dict"
   ]
  },
  {
   "cell_type": "code",
   "execution_count": 11,
   "id": "ecd7d164",
   "metadata": {},
   "outputs": [
    {
     "data": {
      "text/plain": [
       "{'MIL-101(Cr)': {'Ground-truth Stability': 'Stable', 'Paper id': '2'},\n",
       " 'ZIF-8': {'Ground-truth Stability': 'Stable', 'Paper id': '2'},\n",
       " 'MIL-53(Al)': {'Ground-truth Stability': 'Stable', 'Paper id': '2'},\n",
       " 'HKUST-1': {'Ground-truth Stability': 'Unstable', 'Paper id': '2'},\n",
       " 'Zn-MOF-74': {'Ground-truth Stability': 'Unstable', 'Paper id': '2'},\n",
       " 'MIL-110(Al)': {'Ground-truth Stability': 'Unstable', 'Paper id': '2'},\n",
       " 'MOF-5': {'Ground-truth Stability': 'Unstable', 'Paper id': '2'},\n",
       " 'MOF-508': {'Ground-truth Stability': 'Unstable', 'Paper id': '2'},\n",
       " 'MOF-69C': {'Ground-truth Stability': 'Unstable', 'Paper id': '2'}}"
      ]
     },
     "execution_count": 11,
     "metadata": {},
     "output_type": "execute_result"
    }
   ],
   "source": [
    "ground_truth_dict"
   ]
  },
  {
   "cell_type": "code",
   "execution_count": 14,
   "id": "72083576",
   "metadata": {},
   "outputs": [
    {
     "data": {
      "text/plain": [
       "({'MOF-74': {'Predicted Stability': 'Stable',\n",
       "   'Paper id': '2',\n",
       "   'Ground-truth Stability': 'Unstable'},\n",
       "  'MOF-508b': {'Predicted Stability': 'Stable',\n",
       "   'Paper id': '2',\n",
       "   'Ground-truth Stability': 'Unstable'},\n",
       "  'HKUST-1': {'Predicted Stability': 'Stable',\n",
       "   'Paper id': '2',\n",
       "   'Ground-truth Stability': 'Unstable'},\n",
       "  'Cr-MIL-101': {'Predicted Stability': 'Stable',\n",
       "   'Paper id': '2',\n",
       "   'Ground-truth Stability': 'Stable'},\n",
       "  'Al-MIL-110': {'Predicted Stability': 'Not provided',\n",
       "   'Paper id': '2',\n",
       "   'Ground-truth Stability': 'Unstable'}},\n",
       " [('MOF-74', 'Zn-MOF-74'),\n",
       "  ('MOF-508b', 'MOF-508'),\n",
       "  ('HKUST-1', 'HKUST-1'),\n",
       "  ('Cr-MIL-101', 'MIL-101(Cr)'),\n",
       "  ('Al-MIL-110', 'MIL-110(Al)')])"
      ]
     },
     "execution_count": 14,
     "metadata": {},
     "output_type": "execute_result"
    }
   ],
   "source": [
    "match_MOF_names(prediction_dict, ground_truth_dict, threshold=50)"
   ]
  },
  {
   "cell_type": "code",
   "execution_count": null,
   "id": "8993e0ed",
   "metadata": {},
   "outputs": [],
   "source": []
  },
  {
   "cell_type": "code",
   "execution_count": 160,
   "id": "46c62717",
   "metadata": {},
   "outputs": [
    {
     "data": {
      "text/plain": [
       "{'HKUST-1': {'Predicted Stability': 'Stable',\n",
       "  'Paper id': '2',\n",
       "  'Ground-truth Stability': 'Unstable'},\n",
       " 'Cr-MIL-101': {'Predicted Stability': 'Stable',\n",
       "  'Paper id': '2',\n",
       "  'Ground-truth Stability': 'Stable'},\n",
       " 'Al-MIL-110': {'Predicted Stability': 'Not provided',\n",
       "  'Paper id': '2',\n",
       "  'Ground-truth Stability': 'Unstable'}}"
      ]
     },
     "execution_count": 160,
     "metadata": {},
     "output_type": "execute_result"
    }
   ],
   "source": [
    "combined_dict"
   ]
  },
  {
   "cell_type": "code",
   "execution_count": 161,
   "id": "f35bf4c3",
   "metadata": {},
   "outputs": [
    {
     "data": {
      "text/plain": [
       "[[('HKUST-1', 'HKUST-1'),\n",
       "  ('Cr-MIL-101', 'MIL-101(Cr)'),\n",
       "  ('Al-MIL-110', 'MIL-110(Al)')]]"
      ]
     },
     "execution_count": 161,
     "metadata": {},
     "output_type": "execute_result"
    }
   ],
   "source": [
    "matched_pairs_list"
   ]
  },
  {
   "cell_type": "code",
   "execution_count": 178,
   "id": "bc76f574",
   "metadata": {},
   "outputs": [
    {
     "data": {
      "text/plain": [
       "([0], [0], 0)"
      ]
     },
     "execution_count": 178,
     "metadata": {},
     "output_type": "execute_result"
    }
   ],
   "source": [
    "eval_single_paper_results(combined_dict)"
   ]
  },
  {
   "cell_type": "code",
   "execution_count": 228,
   "id": "1bcde023",
   "metadata": {},
   "outputs": [
    {
     "name": "stderr",
     "output_type": "stream",
     "text": [
      "  0%|                                                                                                                                        | 0/16 [00:00<?, ?it/s]"
     ]
    },
    {
     "name": "stdout",
     "output_type": "stream",
     "text": [
      "0 0\n"
     ]
    },
    {
     "name": "stderr",
     "output_type": "stream",
     "text": [
      "\n"
     ]
    }
   ],
   "source": [
    "sim_threshold = 95\n",
    "y_values = []\n",
    "y_hat_values = []\n",
    "not_provided_count_values = []\n",
    "matched_pairs_list = []\n",
    "number_of_mofs_in_paper = []\n",
    "number_of_mofs_matched_in_paper = []\n",
    "for i in tqdm(range(95,111)): \n",
    "    prediction_dict = predictions_list[i]\n",
    "    ground_truth_dict = ground_truth_list[i]\n",
    "    combined_dict, matched_pairs = eunomia.match_MOF_names(prediction_dict, ground_truth_dict, threshold=sim_threshold)\n",
    "    y, y_hat, not_provided_count = eval_single_paper_results(combined_dict)\n",
    "    y_values.append(y)\n",
    "    y_hat_values.append(y_hat)\n",
    "    not_provided_count_values.append(not_provided_count)\n",
    "    matched_pairs_list.append(matched_pairs)\n",
    "    unique_mofs_in_paper = len(ground_truth_dict.keys())\n",
    "    number_of_mofs_in_paper.append(unique_mofs_in_paper)\n",
    "    number_of_mofs_matched_in_paper.append(len(combined_dict.keys()))\n",
    "    break\n",
    "\n",
    "y_values = [item for sublist in y_values for item in sublist]\n",
    "y_hat_values = [item for sublist in y_hat_values for item in sublist]\n",
    "not_provided_counts = np.sum(not_provided_count_values)\n",
    "total_mofs = np.sum(number_of_mofs_in_paper)\n",
    "total_mofs_matched = np.sum(number_of_mofs_matched_in_paper)\n",
    "print(total_mofs, total_mofs_matched)"
   ]
  },
  {
   "cell_type": "code",
   "execution_count": 177,
   "id": "ce9b7027",
   "metadata": {},
   "outputs": [
    {
     "name": "stdout",
     "output_type": "stream",
     "text": [
      "Classification accuracy: 0.763, % MOF identified: 64.311\n"
     ]
    },
    {
     "data": {
      "text/plain": [
       "<matplotlib.legend.Legend at 0x1dcc051e490>"
      ]
     },
     "execution_count": 177,
     "metadata": {},
     "output_type": "execute_result"
    },
    {
     "data": {
      "image/png": "[encoded data removed]",
      "text/plain": [
       "<Figure size 640x480 with 1 Axes>"
      ]
     },
     "metadata": {},
     "output_type": "display_data"
    }
   ],
   "source": [
    "from sklearn.metrics import accuracy_score\n",
    "# Calculate Accuracy\n",
    "acc = accuracy_score(y_values, y_hat_values)\n",
    "mof_indetified = (1 - total_mofs_matched/total_mofs) * 100\n",
    "\n",
    "print(f\"Classification accuracy: {acc:.03f}, % MOF identified: {mof_indetified:.03f}\")\n",
    "\n",
    "plt.hist(y_values, label='Ground-truth', alpha=0.5)\n",
    "plt.hist(y_hat_values, label='Predictions', alpha=0.5)\n",
    "plt.legend()"
   ]
  },
  {
   "cell_type": "code",
   "execution_count": 146,
   "id": "ba1865be",
   "metadata": {},
   "outputs": [
    {
     "data": {
      "image/png": "[encoded data removed]",
      "text/plain": [
       "<Figure size 1000x700 with 2 Axes>"
      ]
     },
     "metadata": {},
     "output_type": "display_data"
    }
   ],
   "source": [
    "import matplotlib.pyplot as plt\n",
    "import seaborn as sns\n",
    "from sklearn.metrics import confusion_matrix\n",
    "\n",
    "\n",
    "# Confusion Matrix\n",
    "cm = confusion_matrix(y_values, y_hat_values)\n",
    "\n",
    "plt.figure(figsize=(10,7))\n",
    "\n",
    "# Using seaborn to plot heatmap, annot=True to annotate the numbers\n",
    "sns.heatmap(cm, annot=True, fmt='d', cmap='Blues')\n",
    "\n",
    "plt.xlabel('Predicted')\n",
    "plt.ylabel('Truth')\n",
    "\n",
    "plt.show()"
   ]
  },
  {
   "cell_type": "code",
   "execution_count": 46,
   "id": "21938437",
   "metadata": {},
   "outputs": [
    {
     "data": {
      "image/png": "[encoded data removed]",
      "text/plain": [
       "<Figure size 640x480 with 1 Axes>"
      ]
     },
     "metadata": {},
     "output_type": "display_data"
    }
   ],
   "source": [
    "import matplotlib.pyplot as plt\n",
    "\n",
    "# Extract Ground-truth Stability values\n",
    "stability_values = [v['Ground-truth Stability'] for d in ground_truth_list for v in d.values()]\n",
    "\n",
    "# Create histogram\n",
    "plt.hist(stability_values, bins=2, edgecolor='black')\n",
    "plt.ylabel('Frequency')\n",
    "plt.title('Ground-truth Stability')\n",
    "plt.show()"
   ]
  },
  {
   "cell_type": "code",
   "execution_count": null,
   "id": "d1444487",
   "metadata": {},
   "outputs": [],
   "source": []
  }
 ],
 "metadata": {
  "kernelspec": {
   "display_name": "elm",
   "language": "python",
   "name": "elm"
  },
  "language_info": {
   "codemirror_mode": {
    "name": "ipython",
    "version": 3
   },
   "file_extension": ".py",
   "mimetype": "text/x-python",
   "name": "python",
   "nbconvert_exporter": "python",
   "pygments_lexer": "ipython3",
   "version": "3.8.16"
  }
 },
 "nbformat": 4,
 "nbformat_minor": 5
}
