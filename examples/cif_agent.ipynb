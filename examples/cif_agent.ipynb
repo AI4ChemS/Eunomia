{
 "cells": [
  {
   "cell_type": "code",
   "execution_count": 1,
   "id": "83d7b445-3613-48b9-847d-56cb13b2e54c",
   "metadata": {},
   "outputs": [],
   "source": [
    "import eunomia\n",
    "from eunomia.agents import Eunomia\n",
    "from eunomia.tools import EunomiaTools"
   ]
  },
  {
   "cell_type": "code",
   "execution_count": 2,
   "id": "1d78172d-7e0d-4cae-831c-d77323a413be",
   "metadata": {},
   "outputs": [],
   "source": [
    "import logging\n",
    "logging.getLogger().setLevel(logging.CRITICAL)\n",
    "import warnings\n",
    "\n",
    "# Disable all warning messages\n",
    "warnings.filterwarnings(\"ignore\")"
   ]
  },
  {
   "cell_type": "markdown",
   "id": "ecdff22c-6be0-4d9d-ab54-edc1de04c512",
   "metadata": {},
   "source": [
    "# Obtaining Information from Online Datasets"
   ]
  },
  {
   "cell_type": "markdown",
   "id": "d0bd5063-584e-4eef-ba33-9faa5e3fc9f4",
   "metadata": {},
   "source": [
    "## Get chemical structures (CIF files) from Crystallography Open Database (COD)"
   ]
  },
  {
   "cell_type": "code",
   "execution_count": 3,
   "id": "8969532c-8903-461a-ad38-04af1db2f549",
   "metadata": {},
   "outputs": [
    {
     "name": "stdout",
     "output_type": "stream",
     "text": [
      "\n",
      "\n",
      "\u001b[1m> Entering new AgentExecutor chain...\u001b[0m\n",
      "\u001b[32;1m\u001b[1;3mI need to first download the CIF files from the Crystallography Open Database (COD) using the given DOI. Then, I will rename the files using the MOF-Name associated with a target key from each CIF file.\n",
      "Action: get_cif_from_COD\n",
      "Action Input: 10.1021/cg301691d\u001b[0m\n",
      "Observation: \u001b[36;1m\u001b[1;3m['4507517.cif', '4507518.cif', '4507519.cif', '4507520.cif', '4507521.cif', '4507522.cif']\u001b[0m\n",
      "Thought:\u001b[32;1m\u001b[1;3mNow that I have the CIF files, I need to rename each of them using the MOF-Name associated with a target key from each CIF file.\n",
      "Action: rename_cif\n",
      "Action Input: '4507517.cif'\u001b[0m\n",
      "Observation: \u001b[33;1m\u001b[1;3mNone\u001b[0m\n",
      "Thought:\u001b[32;1m\u001b[1;3mI have renamed the first file. Now I need to rename the rest of the files.\n",
      "Action: rename_cif\n",
      "Action Input: '4507518.cif'\u001b[0m\n",
      "Observation: \u001b[33;1m\u001b[1;3mNone\u001b[0m\n",
      "Thought:\u001b[32;1m\u001b[1;3mI have renamed the second file. Now I need to rename the rest of the files.\n",
      "Action: rename_cif\n",
      "Action Input: '4507519.cif'\u001b[0m\n",
      "Observation: \u001b[33;1m\u001b[1;3mNone\u001b[0m\n",
      "Thought:\u001b[32;1m\u001b[1;3mI have renamed the third file. Now I need to rename the rest of the files.\n",
      "Action: rename_cif\n",
      "Action Input: '4507520.cif'\u001b[0m\n",
      "Observation: \u001b[33;1m\u001b[1;3mNone\u001b[0m\n",
      "Thought:\u001b[32;1m\u001b[1;3mI have renamed the fourth file. Now I need to rename the rest of the files.\n",
      "Action: rename_cif\n",
      "Action Input: '4507521.cif'\u001b[0m\n",
      "Observation: \u001b[33;1m\u001b[1;3mNone\u001b[0m\n",
      "Thought:\u001b[32;1m\u001b[1;3mI have renamed the fifth file. Now I need to rename the last file.\n",
      "Action: rename_cif\n",
      "Action Input: '4507522.cif'\u001b[0m\n",
      "Observation: \u001b[33;1m\u001b[1;3mNone\u001b[0m\n",
      "Thought:\u001b[32;1m\u001b[1;3mI have renamed all the CIF files.\n",
      "Final Answer: All CIF files have been downloaded and renamed.\u001b[0m\n",
      "\n",
      "\u001b[1m> Finished chain.\u001b[0m\n",
      "Tokens Used: 3926\n",
      "\tPrompt Tokens: 3623\n",
      "\tCompletion Tokens: 303\n",
      "Successful Requests: 8\n",
      "Total Cost (USD): $0.12686999999999998\n"
     ]
    },
    {
     "data": {
      "text/plain": [
       "'All CIF files have been downloaded and renamed.'"
      ]
     },
     "execution_count": 3,
     "metadata": {},
     "output_type": "execute_result"
    }
   ],
   "source": [
    "tools = EunomiaTools(tool_names = ['get_cif_from_COD', 'rename_cif']).get_tools()\n",
    "agent = Eunomia(tools=tools, model='gpt-4', get_cost=True)\n",
    "agent.run(prompt=\"Download cif files for this doi: 10.1021/cg301691d from COD and rename them.\")"
   ]
  },
  {
   "cell_type": "markdown",
   "id": "e09d6c3b-3b0d-4226-816d-29de6f6f9aec",
   "metadata": {},
   "source": [
    "## Get chemical structures (CIF files) from Cambridge Structural Database (CCDC)"
   ]
  },
  {
   "cell_type": "code",
   "execution_count": 4,
   "id": "3417c3d9-2ab9-4ada-80b6-a6c267fca973",
   "metadata": {},
   "outputs": [
    {
     "name": "stdout",
     "output_type": "stream",
     "text": [
      "\n",
      "\n",
      "\u001b[1m> Entering new AgentExecutor chain...\u001b[0m\n",
      "\u001b[32;1m\u001b[1;3mI need to use the tool get_cif_from_CCDC to download the CIF file for the given DOI.\n",
      "Action: get_cif_from_CCDC\n",
      "Action Input: 10.1021/cg301691d\u001b[0m\n",
      "Observation: \u001b[36;1m\u001b[1;3mNone\u001b[0m\n",
      "Thought:\u001b[32;1m\u001b[1;3mThe CIF file for the DOI 10.1021/cg301691d has been downloaded.\n",
      "Final Answer: The CIF file for the DOI 10.1021/cg301691d has been downloaded.\u001b[0m\n",
      "\n",
      "\u001b[1m> Finished chain.\u001b[0m\n",
      "Tokens Used: 484\n",
      "\tPrompt Tokens: 397\n",
      "\tCompletion Tokens: 87\n",
      "Successful Requests: 2\n",
      "Total Cost (USD): $0.01713\n"
     ]
    },
    {
     "data": {
      "text/plain": [
       "'The CIF file for the DOI 10.1021/cg301691d has been downloaded.'"
      ]
     },
     "execution_count": 4,
     "metadata": {},
     "output_type": "execute_result"
    }
   ],
   "source": [
    "tools = EunomiaTools(tool_names = ['get_cif_from_CCDC']).get_tools()\n",
    "agent = Eunomia(tools=tools, model='gpt-4', get_cost=True)\n",
    "agent.run(prompt=\"Download cif files for this doi: 10.1021/cg301691d from CCDC.\")"
   ]
  },
  {
   "cell_type": "markdown",
   "id": "d226afa9-14ce-45e6-9ee6-c258324356be",
   "metadata": {},
   "source": [
    "# Obtaining Information from Local PDFs"
   ]
  },
  {
   "cell_type": "code",
   "execution_count": 10,
   "id": "c6d755fe-290e-4bea-bfeb-931322c0028b",
   "metadata": {},
   "outputs": [],
   "source": [
    "paper_id = 69\n",
    "paper_file =f'../Data/chosen_papers/{paper_id}.pdf'\n",
    "docs_processor = eunomia.LoadDoc(file_name=paper_file, encoding=\"utf8\")\n",
    "sliced_pages = docs_processor.process(['references ', 'acknowledgement', 'acknowledgments', 'references\\n'],\n",
    "                                             chunk_size=1000, chunk_overlap=20, chunking_type='fixed-size')"
   ]
  },
  {
   "cell_type": "code",
   "execution_count": 11,
   "id": "1dda3e07-f325-4c6d-8103-487b8d498e77",
   "metadata": {},
   "outputs": [],
   "source": [
    "from langchain.vectorstores import FAISS\n",
    "from langchain.embeddings.openai import OpenAIEmbeddings\n",
    "\n",
    "Embedding_model = 'text-embedding-ada-002' # text-embedding-ada-002 text-davinci-003\n",
    "faiss_index_path = f\"../Data/chosen_papers/faiss/{Embedding_model}/faiss_index_{Embedding_model}_{paper_id}.pkl\"\n",
    "faiss_index = FAISS.from_documents(sliced_pages, OpenAIEmbeddings(model=Embedding_model))"
   ]
  },
  {
   "cell_type": "code",
   "execution_count": 14,
   "id": "5a1b1245-2bae-46ea-a626-e606ca49b1c2",
   "metadata": {
    "scrolled": true
   },
   "outputs": [
    {
     "name": "stdout",
     "output_type": "stream",
     "text": [
      "\n",
      "\n",
      "\u001b[1m> Entering new AgentExecutor chain...\u001b[0m\n",
      "\u001b[32;1m\u001b[1;3mI need to first read the document to identify the MOFs and their water stability.\n",
      "Action: read_doc\n",
      "Action Input: User's original prompt\u001b[0m\n",
      "k=9 results hitting the token limit for the chosen LLM. Reducing k and retrying...\n",
      "\n",
      "k=8 results hitting the token limit for the chosen LLM. Reducing k and retrying...\n",
      "\n",
      "Observation: \u001b[36;1m\u001b[1;3m1. MOF: [ZrO(O2C-R-CO2)] (R =C6H4(MIL-140A), C10H6(B), C12H8(C), C12N2H6Cl2(D))\n",
      "   Water Stability: Stable\n",
      "   Probability Score: 0.9\n",
      "   Justification: \"The MIL-140 solids crystallize in the space group(SG) C2/c(No. 15) (MIL-140A and C) or Cc (No. 9) (MIL-140B and D; Supporting Information, Table S3). These solids all have the same cparameter (ca. 7.8 /C138), consistent with the inorganic subunit of complex zirconium oxide chains, ori- ented along the caxis (Figure 1), connected to six other chains through the dicarboxylate linkers. This delimits triangular channels along the caxis.\" and \"The MIL-140 solids are highly stable with a slightly higher thermal stability, of around 500 8C under air, against 450 8C for the UiOs.\"\n",
      "\n",
      "2. MOF: UiO-66(Zr)\n",
      "   Water Stability: Stable\n",
      "   Probability Score: 0.9\n",
      "   Justification: \"UiO-66(Zr) is stable up to 450 8C under air and remains unaltered upon water adsorp- tion/desorption cycles by switching reversibly between dehy- droxylated and hydroxylated versions, [9,11]and has an excep- tional stability under mechanical stimulus.\"\n",
      "\n",
      "3. MOF: [Zr6O4(OH)4(O2C-R-CO2)6]\n",
      "   Water Stability: Not provided\n",
      "   Probability Score: 0.5\n",
      "   Justification: Not provided\n",
      "\n",
      "DOI: 10.1002/anie.201204806\u001b[0m\n",
      "Thought:\u001b[32;1m\u001b[1;3mI have identified the MOFs and their water stability from the document. Now, I need to evaluate the justification for each MOF's water stability.\n",
      "Action: eval_justification\n",
      "Action Input: \"The MIL-140 solids crystallize in the space group(SG) C2/c(No. 15) (MIL-140A and C) or Cc (No. 9) (MIL-140B and D; Supporting Information, Table S3). These solids all have the same cparameter (ca. 7.8 /C138), consistent with the inorganic subunit of complex zirconium oxide chains, ori- ented along the caxis (Figure 1), connected to six other chains through the dicarboxylate linkers. This delimits triangular channels along the caxis.\" and \"The MIL-140 solids are highly stable with a slightly higher thermal stability, of around 500 8C under air, against 450 8C for the UiOs.\"\u001b[0m\n",
      "Observation: \u001b[33;1m\u001b[1;3mThe provided sentences do not provide information about the water stability of the found MOF. They discuss the crystalline structure and thermal stability of the MIL-140 solids, but do not mention their behavior or stability in water or when exposed to water/steam. Therefore, the water stability of the MOF cannot be determined from these sentences.\u001b[0m\n",
      "Thought:\u001b[32;1m\u001b[1;3mThe justification for the water stability of the first MOF is not valid. I need to find a better reason for its water stability.\n",
      "Action: recheck_justification\n",
      "Action Input: [ZrO(O2C-R-CO2)] (R =C6H4(MIL-140A), C10H6(B), C12H8(C), C12N2H6Cl2(D))\u001b[0m\n",
      "Observation: \u001b[38;5;200m\u001b[1;3m1. The water stability of the MOF is Stable.\n",
      "2. The probability score is 1.\n",
      "3. The exact sentences from the document that justify my decision are: \"Thermogravimetric analysis (TGA) and IR spectroscopy were therefore used to qualitatively assess the hydrophobic character of these solids. TGA measurements have shown that the samples exhibit almost no loss of free water.\" and \"Optical water vapor adsorption isotherms have been collected (Figure S29) and show that these solids can be considered as being more hydrophobic than the UiO-66 counterpart which is fully loaded with water at intermediate humidity rate ( P/P 0=0.5):[11]Only a little adsorption occurs at low pressure, particularly for the smaller pore size MIL-140A and B solids, probably corresponding to coordination to the metal sites; at higher pressure, a filling of the pores starts, as typically observed for some activated carbons or siliceous zeolites.\"\u001b[0m\n",
      "Thought:\u001b[32;1m\u001b[1;3mThe new justification provides valid reasons for the water stability of the first MOF. It mentions that the MOF exhibits almost no loss of free water and has a hydrophobic character. Now, I need to evaluate the justification for the water stability of the second MOF.\n",
      "Action: eval_justification\n",
      "Action Input: \"UiO-66(Zr) is stable up to 450 8C under air and remains unaltered upon water adsorp- tion/desorption cycles by switching reversibly between dehy- droxylated and hydroxylated versions, [9,11]and has an excep- tional stability under mechanical stimulus.\"\u001b[0m\n",
      "Observation: \u001b[33;1m\u001b[1;3mThe sentence does talk about the water stability of the found MOF. It mentions that UiO-66(Zr) remains unaltered upon water adsorption/desorption cycles, implying that it is stable in water.\n",
      "\n",
      "Water Stability: Stable\u001b[0m\n",
      "Thought:\u001b[32;1m\u001b[1;3mThe justification for the water stability of the second MOF is valid. It mentions that the MOF remains unaltered upon water adsorption/desorption cycles, implying that it is stable in water. Now, I need to evaluate the justification for the water stability of the third MOF.\n",
      "Action: eval_justification\n",
      "Action Input: Not provided\u001b[0m\n",
      "Observation: \u001b[33;1m\u001b[1;3mAs the text \"Not provided\" suggests, there is no information given in the document about the water stability of the found MOF. Therefore, I cannot provide a justification or update the \"Water stability\" status.\u001b[0m\n",
      "Thought:\u001b[32;1m\u001b[1;3mThe justification for the water stability of the third MOF is not provided in the document. Therefore, I cannot provide a justification or update the \"Water stability\" status. \n",
      "Final Answer: The water stability of the MOFs are as follows: \n",
      "1. MOF: [ZrO(O2C-R-CO2)] (R =C6H4(MIL-140A), C10H6(B), C12H8(C), C12N2H6Cl2(D)) is stable. The justification is that the MOF exhibits almost no loss of free water and has a hydrophobic character.\n",
      "2. MOF: UiO-66(Zr) is stable. The justification is that the MOF remains unaltered upon water adsorption/desorption cycles.\n",
      "3. The water stability of MOF: [Zr6O4(OH)4(O2C-R-CO2)6] is not provided in the document.\u001b[0m\n",
      "\n",
      "\u001b[1m> Finished chain.\u001b[0m\n",
      "Tokens Used: 21448\n",
      "\tPrompt Tokens: 20112\n",
      "\tCompletion Tokens: 1336\n",
      "Successful Requests: 8\n",
      "Total Cost (USD): $0.68352\n"
     ]
    },
    {
     "data": {
      "text/plain": [
       "'The water stability of the MOFs are as follows: \\n1. MOF: [ZrO(O2C-R-CO2)] (R =C6H4(MIL-140A), C10H6(B), C12H8(C), C12N2H6Cl2(D)) is stable. The justification is that the MOF exhibits almost no loss of free water and has a hydrophobic character.\\n2. MOF: UiO-66(Zr) is stable. The justification is that the MOF remains unaltered upon water adsorption/desorption cycles.\\n3. The water stability of MOF: [Zr6O4(OH)4(O2C-R-CO2)6] is not provided in the document.'"
      ]
     },
     "execution_count": 14,
     "metadata": {},
     "output_type": "execute_result"
    }
   ],
   "source": [
    "tools = EunomiaTools(tool_names = ['read_doc', 'eval_justification', 'recheck_justification'], vectorstore=faiss_index).get_tools()\n",
    "agent = Eunomia(tools=tools, model='gpt-4', get_cost=True)\n",
    "agent.run(prompt=\"Read the document and find the MOFS and their water stability.\\\n",
    "            \\Check your answers and if the reasoning is not valid, try to find better reasons.\")"
   ]
  },
  {
   "cell_type": "code",
   "execution_count": null,
   "id": "91fba4aa-d5d0-496f-980f-da827b2d18b7",
   "metadata": {},
   "outputs": [],
   "source": []
  }
 ],
 "metadata": {
  "kernelspec": {
   "display_name": "agent",
   "language": "python",
   "name": "agent"
  },
  "language_info": {
   "codemirror_mode": {
    "name": "ipython",
    "version": 3
   },
   "file_extension": ".py",
   "mimetype": "text/x-python",
   "name": "python",
   "nbconvert_exporter": "python",
   "pygments_lexer": "ipython3",
   "version": "3.9.17"
  }
 },
 "nbformat": 4,
 "nbformat_minor": 5
}
