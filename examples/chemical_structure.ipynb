{
 "cells": [
  {
   "cell_type": "code",
   "execution_count": 1,
   "id": "eaee5761-1a1e-44b5-82ae-2a71e8495d97",
   "metadata": {},
   "outputs": [],
   "source": [
    "import eunomia\n",
    "from eunomia.agents import Eunomia\n",
    "from eunomia.tools import EunomiaTools\n",
    "\n",
    "import logging\n",
    "logging.getLogger().setLevel(logging.CRITICAL)\n",
    "import warnings\n",
    "\n",
    "# Disable all warning messages\n",
    "warnings.filterwarnings(\"ignore\")"
   ]
  },
  {
   "cell_type": "markdown",
   "id": "5a5b2dfc-e37e-4237-9139-58c8287d06e0",
   "metadata": {},
   "source": [
    "## Obtaining Information from Online Datasets"
   ]
  },
  {
   "cell_type": "markdown",
   "id": "409e6fbe-db03-461f-98c9-a55da3b712dd",
   "metadata": {},
   "source": [
    "### Get chemical structures (CIF files) from Crystallography Open Database (COD)"
   ]
  },
  {
   "cell_type": "code",
   "execution_count": 3,
   "id": "abbcb5fa-2403-41ed-8556-bf7707d259ba",
   "metadata": {},
   "outputs": [
    {
     "name": "stdout",
     "output_type": "stream",
     "text": [
      "\n",
      "\n",
      "\u001b[1m> Entering new AgentExecutor chain...\u001b[0m\n",
      "\u001b[32;1m\u001b[1;3mI need to first download the CIF files from the Crystallography Open Database (COD) using the given DOI.\n",
      "Action: get_cif_from_COD\n",
      "Action Input: 10.1021/cg301691d\u001b[0m\n",
      "Observation: \u001b[36;1m\u001b[1;3m['4507517.cif', '4507518.cif', '4507519.cif', '4507520.cif', '4507521.cif', '4507522.cif']\u001b[0m\n",
      "Thought:\u001b[32;1m\u001b[1;3mNow that I have the CIF files, I need to rename them based on their qmof ID.\n",
      "Action: rename_cif\n",
      "Action Input: '4507517.cif'\u001b[0m\n",
      "Observation: \u001b[33;1m\u001b[1;3mNone\u001b[0m\n",
      "Thought:\u001b[32;1m\u001b[1;3mI have renamed the first file. I need to repeat this process for the remaining files.\n",
      "Action: rename_cif\n",
      "Action Input: '4507518.cif'\u001b[0m\n",
      "Observation: \u001b[33;1m\u001b[1;3mNone\u001b[0m\n",
      "Thought:\u001b[32;1m\u001b[1;3mI have renamed the second file. I need to repeat this process for the remaining files.\n",
      "Action: rename_cif\n",
      "Action Input: '4507519.cif'\u001b[0m\n",
      "Observation: \u001b[33;1m\u001b[1;3mNone\u001b[0m\n",
      "Thought:\u001b[32;1m\u001b[1;3mI have renamed the third file. I need to repeat this process for the remaining files.\n",
      "Action: rename_cif\n",
      "Action Input: '4507520.cif'\u001b[0m\n",
      "Observation: \u001b[33;1m\u001b[1;3mNone\u001b[0m\n",
      "Thought:\u001b[32;1m\u001b[1;3mI have renamed the fourth file. I need to repeat this process for the remaining files.\n",
      "Action: rename_cif\n",
      "Action Input: '4507521.cif'\u001b[0m\n",
      "Observation: \u001b[33;1m\u001b[1;3mNone\u001b[0m\n",
      "Thought:\u001b[32;1m\u001b[1;3mI have renamed the fifth file. I need to repeat this process for the remaining file.\n",
      "Action: rename_cif\n",
      "Action Input: '4507522.cif'\u001b[0m\n",
      "Observation: \u001b[33;1m\u001b[1;3mNone\u001b[0m\n",
      "Thought:\u001b[32;1m\u001b[1;3mI have renamed all the files.\n",
      "Final Answer: All CIF files have been downloaded and renamed based on their qmof ID.\u001b[0m\n",
      "\n",
      "\u001b[1m> Finished chain.\u001b[0m\n",
      "Tokens Used: 3738\n",
      "\tPrompt Tokens: 3460\n",
      "\tCompletion Tokens: 278\n",
      "Successful Requests: 8\n",
      "Total Cost (USD): $0.12048\n"
     ]
    },
    {
     "data": {
      "text/plain": [
       "'All CIF files have been downloaded and renamed based on their qmof ID.'"
      ]
     },
     "execution_count": 3,
     "metadata": {},
     "output_type": "execute_result"
    }
   ],
   "source": [
    "tools = EunomiaTools(tool_names = ['get_cif_from_COD', 'rename_cif']).get_tools()\n",
    "agent = Eunomia(tools=tools, model='gpt-4', get_cost=True)\n",
    "agent.run(prompt=\"Download cif files for this doi: 10.1021/cg301691d from COD and rename them based on their qmof ID.\")"
   ]
  },
  {
   "cell_type": "markdown",
   "id": "e544928a-8fc0-4e2c-bb91-08d85fef3c11",
   "metadata": {},
   "source": [
    "### Get chemical structures (CIF files) from Cambridge Structural Database (CCDC)"
   ]
  },
  {
   "cell_type": "code",
   "execution_count": 4,
   "id": "c0e0b490-481e-4e20-9de3-59b3fd173233",
   "metadata": {},
   "outputs": [
    {
     "name": "stdout",
     "output_type": "stream",
     "text": [
      "\n",
      "\n",
      "\u001b[1m> Entering new AgentExecutor chain...\u001b[0m\n",
      "\u001b[32;1m\u001b[1;3mI need to use the get_cif_from_CCDC tool to download the CIF file for the given DOI.\n",
      "Action: get_cif_from_CCDC\n",
      "Action Input: 10.1021/cg301691d\u001b[0m\n",
      "Observation: \u001b[36;1m\u001b[1;3mNone\u001b[0m\n",
      "Thought:\u001b[32;1m\u001b[1;3mThe CIF file for the given DOI has been downloaded.\n",
      "Final Answer: The CIF file for the DOI 10.1021/cg301691d has been downloaded from CCDC.\u001b[0m\n",
      "\n",
      "\u001b[1m> Finished chain.\u001b[0m\n",
      "Tokens Used: 478\n",
      "\tPrompt Tokens: 397\n",
      "\tCompletion Tokens: 81\n",
      "Successful Requests: 2\n",
      "Total Cost (USD): $0.01677\n"
     ]
    },
    {
     "data": {
      "text/plain": [
       "'The CIF file for the DOI 10.1021/cg301691d has been downloaded from CCDC.'"
      ]
     },
     "execution_count": 4,
     "metadata": {},
     "output_type": "execute_result"
    }
   ],
   "source": [
    "tools = EunomiaTools(tool_names = ['get_cif_from_CCDC']).get_tools()\n",
    "agent = Eunomia(tools=tools, model='gpt-4', get_cost=True)\n",
    "agent.run(prompt=\"Download cif files for this doi: 10.1021/cg301691d from CCDC.\")"
   ]
  }
 ],
 "metadata": {
  "kernelspec": {
   "display_name": "agent",
   "language": "python",
   "name": "agent"
  },
  "language_info": {
   "codemirror_mode": {
    "name": "ipython",
    "version": 3
   },
   "file_extension": ".py",
   "mimetype": "text/x-python",
   "name": "python",
   "nbconvert_exporter": "python",
   "pygments_lexer": "ipython3",
   "version": "3.9.17"
  }
 },
 "nbformat": 4,
 "nbformat_minor": 5
}
