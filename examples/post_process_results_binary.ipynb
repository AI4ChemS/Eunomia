{
 "cells": [
  {
   "cell_type": "code",
   "execution_count": 1,
   "id": "c00e11e9",
   "metadata": {},
   "outputs": [
    {
     "name": "stderr",
     "output_type": "stream",
     "text": [
      "C:\\Users\\mehra\\anaconda3\\envs\\elm\\lib\\site-packages\\fuzzywuzzy\\fuzz.py:11: UserWarning: Using slow pure-python SequenceMatcher. Install python-Levenshtein to remove this warning\n",
      "  warnings.warn('Using slow pure-python SequenceMatcher. Install python-Levenshtein to remove this warning')\n"
     ]
    }
   ],
   "source": [
    "import json\n",
    "from tqdm import tqdm\n",
    "import eunomia\n",
    "import numpy as np\n",
    "import matplotlib.pyplot as plt"
   ]
  },
  {
   "cell_type": "code",
   "execution_count": 3,
   "id": "db2e99b1",
   "metadata": {},
   "outputs": [
    {
     "name": "stderr",
     "output_type": "stream",
     "text": [
      "100%|███████████████████████████████████████████████████████████████████████████████████████████████████████████████████████████████████████████████████████████████████████| 111/111 [00:01<00:00, 86.14it/s]\n"
     ]
    }
   ],
   "source": [
    "LLM_model = 'gpt-3.5-turbo-16k' #'gpt-3.5-turbo-16k'\n",
    "Embedding_model = 'text-davinci-003' #'text-davinci-003'\n",
    "k = 8\n",
    "temp = 0\n",
    "\n",
    "\n",
    "predictions_list = []\n",
    "for i in tqdm(range(1,112)):\n",
    "    results_index_path = f\"../Data/faiss/results/{LLM_model}/faiss-{Embedding_model}/k_{k}/t_{temp}/two-step/results_paper_{i}.json\"\n",
    "    with open(results_index_path, 'rb') as f:\n",
    "        paper_result = json.load(f)\n",
    "    predictions_list.append(paper_result)"
   ]
  },
  {
   "cell_type": "code",
   "execution_count": 4,
   "id": "491082e6",
   "metadata": {},
   "outputs": [
    {
     "data": {
      "text/plain": [
       "{'Zn-MOF-74': {'Predicted Stability': 'Stable', 'Paper id': '2'},\n",
       " 'MOF-508b': {'Predicted Stability': 'Stable', 'Paper id': '2'},\n",
       " 'Zn-BDC-DABCO': {'Predicted Stability': 'Stable', 'Paper id': '2'},\n",
       " 'HKUST-1': {'Predicted Stability': 'Stable', 'Paper id': '2'},\n",
       " 'Cr-MIL-101': {'Predicted Stability': 'Stable', 'Paper id': '2'},\n",
       " 'Al-MIL-110': {'Predicted Stability': 'Not provided', 'Paper id': '2'}}"
      ]
     },
     "execution_count": 4,
     "metadata": {},
     "output_type": "execute_result"
    }
   ],
   "source": [
    "predictions_list[1]"
   ]
  },
  {
   "cell_type": "code",
   "execution_count": 5,
   "id": "ada071c1",
   "metadata": {},
   "outputs": [],
   "source": [
    "def parse_ground_truth():\n",
    "    import pandas as pd\n",
    "    # Read the Excel file into a pandas DataFrame\n",
    "    df = pd.read_excel('../Result/Excel/Standard_Criteria_Binary.xlsx', engine='openpyxl')\n",
    "    # Replace column names with corrected names\n",
    "    df.columns = df.columns.str.replace('_x0002_', ' ')\n",
    "\n",
    "    df = df[['MOF contained', 'True Water Stability', 'Reference #']]\n",
    "    df = df.rename(columns={'MOF contained': 'MOF name', 'True Water Stability': 'Ground-truth Stability',\n",
    "                            'Reference #': 'Paper id'})\n",
    "    ground_truth_list = []\n",
    "    for _, group in df.groupby(\"Paper id\"):\n",
    "        mofs = {\n",
    "            row[\"MOF name\"]: {\n",
    "                \"Ground-truth Stability\": row[\"Ground-truth Stability\"],\n",
    "                \"Paper id\": str(row[\"Paper id\"])\n",
    "            }\n",
    "            for _, row in group.iterrows()\n",
    "        }\n",
    "        ground_truth_list.append(mofs)\n",
    "    return ground_truth_list\n",
    "\n",
    "ground_truth_list = parse_ground_truth()"
   ]
  },
  {
   "cell_type": "code",
   "execution_count": 6,
   "id": "7a0c08a6",
   "metadata": {},
   "outputs": [
    {
     "name": "stdout",
     "output_type": "stream",
     "text": [
      "{'Ni3(BTP)2': {'Predicted Stability': 'Stable', 'Paper id': '13'}, 'Cu3(BTP)2': {'Predicted Stability': 'Stable', 'Paper id': '13'}, 'Zn3(BTP)2': {'Predicted Stability': 'Stable', 'Paper id': '13'}, 'Co3(BTP)2': {'Predicted Stability': 'Stable', 'Paper id': '13'}}\n",
      "{'Ni3(BTP)2': {'Ground-truth Stability': 'Stable', 'Paper id': '13'}, 'Cu3(BTP)2': {'Ground-truth Stability': 'Stable', 'Paper id': '13'}, 'Zn3(BTP)2': {'Ground-truth Stability': 'Stable', 'Paper id': '13'}}\n"
     ]
    },
    {
     "data": {
      "text/plain": [
       "({'Ni3(BTP)2': {'Predicted Stability': 'Stable',\n",
       "   'Paper id': '13',\n",
       "   'Ground-truth Stability': 'Stable'},\n",
       "  'Cu3(BTP)2': {'Predicted Stability': 'Stable',\n",
       "   'Paper id': '13',\n",
       "   'Ground-truth Stability': 'Stable'},\n",
       "  'Zn3(BTP)2': {'Predicted Stability': 'Stable',\n",
       "   'Paper id': '13',\n",
       "   'Ground-truth Stability': 'Stable'}},\n",
       " [('Ni3(BTP)2', 'Ni3(BTP)2'),\n",
       "  ('Cu3(BTP)2', 'Cu3(BTP)2'),\n",
       "  ('Zn3(BTP)2', 'Zn3(BTP)2')])"
      ]
     },
     "execution_count": 6,
     "metadata": {},
     "output_type": "execute_result"
    }
   ],
   "source": [
    "paper_id = 12\n",
    "prediction_dict = predictions_list[paper_id]  \n",
    "ground_truth_dict = ground_truth_list[paper_id]\n",
    "print(prediction_dict)\n",
    "print(ground_truth_dict)\n",
    "eunomia.match_MOF_names(prediction_dict, ground_truth_dict, threshold=90)"
   ]
  },
  {
   "cell_type": "code",
   "execution_count": 7,
   "id": "e5758d6a",
   "metadata": {},
   "outputs": [
    {
     "name": "stdout",
     "output_type": "stream",
     "text": [
      "{'MIL-100': {'Predicted Stability': 'Stable', 'Paper id': '6'}, 'MIL-101': {'Predicted Stability': 'Stable', 'Paper id': '6'}}\n",
      "\n",
      "{'MIL-101(Cr)': {'Ground-truth Stability': 'Stable', 'Paper id': '6'}, 'MIL-100(Fe)': {'Ground-truth Stability': 'Stable', 'Paper id': '6'}}\n"
     ]
    },
    {
     "data": {
      "text/plain": [
       "({'MIL-100': {'Predicted Stability': 'Stable',\n",
       "   'Paper id': '6',\n",
       "   'Ground-truth Stability': 'Stable'},\n",
       "  'MIL-101': {'Predicted Stability': 'Stable',\n",
       "   'Paper id': '6',\n",
       "   'Ground-truth Stability': 'Stable'}},\n",
       " [('MIL-100', 'MIL-100(Fe)'), ('MIL-101', 'MIL-101(Cr)')])"
      ]
     },
     "execution_count": 7,
     "metadata": {},
     "output_type": "execute_result"
    }
   ],
   "source": [
    "paper_id = 5\n",
    "prediction_dict = predictions_list[paper_id]  \n",
    "ground_truth_dict = ground_truth_list[paper_id]\n",
    "print(f'{prediction_dict}\\n')\n",
    "print(ground_truth_dict)\n",
    "eunomia.match_MOF_names(prediction_dict, ground_truth_dict, threshold=80)"
   ]
  },
  {
   "cell_type": "code",
   "execution_count": 8,
   "id": "79cafd26",
   "metadata": {},
   "outputs": [
    {
     "name": "stdout",
     "output_type": "stream",
     "text": [
      "{'Zn-MOF-74': {'Predicted Stability': 'Stable', 'Paper id': '2'}, 'MOF-508b': {'Predicted Stability': 'Stable', 'Paper id': '2'}, 'Zn-BDC-DABCO': {'Predicted Stability': 'Stable', 'Paper id': '2'}, 'HKUST-1': {'Predicted Stability': 'Stable', 'Paper id': '2'}, 'Cr-MIL-101': {'Predicted Stability': 'Stable', 'Paper id': '2'}, 'Al-MIL-110': {'Predicted Stability': 'Not provided', 'Paper id': '2'}}\n",
      "\n",
      "{'MIL-101(Cr)': {'Ground-truth Stability': 'Stable', 'Paper id': '2'}, 'ZIF-8': {'Ground-truth Stability': 'Stable', 'Paper id': '2'}, 'MIL-53(Al)': {'Ground-truth Stability': 'Stable', 'Paper id': '2'}, 'HKUST-1': {'Ground-truth Stability': 'Unstable', 'Paper id': '2'}, 'Zn-MOF-74': {'Ground-truth Stability': 'Unstable', 'Paper id': '2'}, 'MIL-110(Al)': {'Ground-truth Stability': 'Unstable', 'Paper id': '2'}, 'MOF-5': {'Ground-truth Stability': 'Unstable', 'Paper id': '2'}, 'MOF-508': {'Ground-truth Stability': 'Unstable', 'Paper id': '2'}, 'MOF-69C': {'Ground-truth Stability': 'Unstable', 'Paper id': '2'}}\n"
     ]
    },
    {
     "data": {
      "text/plain": [
       "({'Zn-MOF-74': {'Predicted Stability': 'Stable',\n",
       "   'Paper id': '2',\n",
       "   'Ground-truth Stability': 'Unstable'},\n",
       "  'MOF-508b': {'Predicted Stability': 'Stable',\n",
       "   'Paper id': '2',\n",
       "   'Ground-truth Stability': 'Unstable'},\n",
       "  'Zn-BDC-DABCO': {'Predicted Stability': 'Stable',\n",
       "   'Paper id': '2',\n",
       "   'Ground-truth Stability': 'Unstable'},\n",
       "  'HKUST-1': {'Predicted Stability': 'Stable',\n",
       "   'Paper id': '2',\n",
       "   'Ground-truth Stability': 'Unstable'},\n",
       "  'Cr-MIL-101': {'Predicted Stability': 'Stable',\n",
       "   'Paper id': '2',\n",
       "   'Ground-truth Stability': 'Stable'},\n",
       "  'Al-MIL-110': {'Predicted Stability': 'Not provided',\n",
       "   'Paper id': '2',\n",
       "   'Ground-truth Stability': 'Unstable'}},\n",
       " [('Zn-MOF-74', 'Zn-MOF-74'),\n",
       "  ('MOF-508b', 'MOF-508'),\n",
       "  ('Zn-BDC-DABCO', 'MOF-69C'),\n",
       "  ('HKUST-1', 'HKUST-1'),\n",
       "  ('Cr-MIL-101', 'MIL-101(Cr)'),\n",
       "  ('Al-MIL-110', 'MIL-110(Al)')])"
      ]
     },
     "execution_count": 8,
     "metadata": {},
     "output_type": "execute_result"
    }
   ],
   "source": [
    "paper_id = 1\n",
    "prediction_dict = predictions_list[paper_id]  \n",
    "ground_truth_dict = ground_truth_list[paper_id]\n",
    "print(f'{prediction_dict}\\n')\n",
    "print(ground_truth_dict)\n",
    "eunomia.match_MOF_names(prediction_dict, ground_truth_dict, threshold=10)"
   ]
  },
  {
   "cell_type": "code",
   "execution_count": 9,
   "id": "e79c9017",
   "metadata": {},
   "outputs": [],
   "source": [
    "def eval_single_paper_results(combined_dict):\n",
    "    y = []\n",
    "    y_hat = []\n",
    "    not_provided_count = 0\n",
    "    for k, v in combined_dict.items():\n",
    "        if v['Predicted Stability'] != 'Not provided':\n",
    "            if v['Ground-truth Stability'] == 'Stable':\n",
    "                y.append(1)\n",
    "            else:\n",
    "                y.append(0)\n",
    "            if v['Predicted Stability'] == 'Stable':\n",
    "                y_hat.append(1)\n",
    "            else:\n",
    "                y_hat.append(0)\n",
    "        else:\n",
    "            not_provided_count += 1\n",
    "    return y, y_hat, not_provided_count\n",
    "        "
   ]
  },
  {
   "cell_type": "code",
   "execution_count": 10,
   "id": "1bcde023",
   "metadata": {},
   "outputs": [
    {
     "name": "stderr",
     "output_type": "stream",
     "text": [
      "100%|█████████████████████████████████████████████████████████████████████████████████████████████████████████████████████████████████████████████████████████████████████| 111/111 [00:00<00:00, 1009.12it/s]"
     ]
    },
    {
     "name": "stdout",
     "output_type": "stream",
     "text": [
      "283 259\n"
     ]
    },
    {
     "name": "stderr",
     "output_type": "stream",
     "text": [
      "\n"
     ]
    }
   ],
   "source": [
    "sim_threshold = 15\n",
    "y_values = []\n",
    "y_hat_values = []\n",
    "not_provided_count_values = []\n",
    "matched_pairs_list = []\n",
    "number_of_mofs_in_paper = []\n",
    "number_of_mofs_matched_in_paper = []\n",
    "for i in tqdm(range(0,111)): \n",
    "    prediction_dict = predictions_list[i]\n",
    "    ground_truth_dict = ground_truth_list[i]\n",
    "    combined_dict, matched_pairs = eunomia.match_MOF_names(prediction_dict, ground_truth_dict, threshold=sim_threshold)\n",
    "    y, y_hat, not_provided_count = eval_single_paper_results(combined_dict)\n",
    "    y_values.append(y)\n",
    "    y_hat_values.append(y_hat)\n",
    "    not_provided_count_values.append(not_provided_count)\n",
    "    matched_pairs_list.append(matched_pairs)\n",
    "    unique_mofs_in_paper = len(ground_truth_dict.keys())\n",
    "    number_of_mofs_in_paper.append(unique_mofs_in_paper)\n",
    "    number_of_mofs_matched_in_paper.append(len(combined_dict.keys()))\n",
    "#     break\n",
    "\n",
    "y_values = [item for sublist in y_values for item in sublist]\n",
    "y_hat_values = [item for sublist in y_hat_values for item in sublist]\n",
    "not_provided_counts = np.sum(not_provided_count_values)\n",
    "total_mofs = np.sum(number_of_mofs_in_paper)\n",
    "total_mofs_matched = np.sum(number_of_mofs_matched_in_paper)\n",
    "print(total_mofs, total_mofs_matched)"
   ]
  },
  {
   "cell_type": "code",
   "execution_count": 11,
   "id": "c48e075a",
   "metadata": {
    "scrolled": false
   },
   "outputs": [
    {
     "data": {
      "text/plain": [
       "[[('bio-MOF-11', 'Bio-MOF-11'),\n",
       "  ('bio-MOF-12', 'Bio-MOF-12'),\n",
       "  ('bio-MOF-13', 'Bio-MOF-13'),\n",
       "  ('bio-MOF-14', 'Bio-MOF-14')],\n",
       " [('Zn-MOF-74', 'Zn-MOF-74'),\n",
       "  ('MOF-508b', 'MOF-508'),\n",
       "  ('Zn-BDC-DABCO', 'MOF-69C'),\n",
       "  ('HKUST-1', 'HKUST-1'),\n",
       "  ('Cr-MIL-101', 'MIL-101(Cr)'),\n",
       "  ('Al-MIL-110', 'MIL-110(Al)')],\n",
       " [('MIL-101', 'MIL-101(Cr)'),\n",
       "  ('MIL-101-NO2', 'MIL-101\\n-NO2(Cr)'),\n",
       "  ('MIL-101-NH2', 'MIL-101\\n-NH2(Cr)'),\n",
       "  ('MIL-101-SO3H', 'MIL-101\\n-SO3H(Cr)')],\n",
       " [('HKUST-1', 'HKUST-1'),\n",
       "  ('ZIF-8', 'ZIF-8'),\n",
       "  ('MIL-101', 'MIL-101(Cr)'),\n",
       "  ('MIL-100(Fe)', 'MIL-100(Fe)')],\n",
       " [('MIL-101', 'MIL-101(Cr)')],\n",
       " [('MIL-100', 'MIL-100(Fe)'), ('MIL-101', 'MIL-101(Cr)')],\n",
       " [('MIL-101', 'MIL-101(Cr)')],\n",
       " [('MIL-101', 'MIL-101(Cr)')],\n",
       " [('MIL-100', 'MIL-101(Cr)')],\n",
       " [('MIL-101', 'MIL-101\\n-SO3H(Cr)')],\n",
       " [('MIL-96(Al)', 'MIL-96(Al)')],\n",
       " [('ZIF-8', 'MIL-96(Al)'),\n",
       "  ('ZIF-74', 'MIL-100(Al)'),\n",
       "  ('ZIF-90', 'MIL-110 (Al)')],\n",
       " [('Ni3(BTP)2', 'Ni3(BTP)2'),\n",
       "  ('Cu3(BTP)2', 'Cu3(BTP)2'),\n",
       "  ('Zn3(BTP)2', 'Zn3(BTP)2')],\n",
       " [('PCN-222', 'PCN-222(Fe)')],\n",
       " [('PCN-224', 'PCN-224(M)')],\n",
       " [('ZIF-1', 'ZIF-11'), ('ZIF-2', 'ZIF-8')],\n",
       " [('MOF-5', 'MOF-5'),\n",
       "  ('HKUST-1', 'HKUST-1'),\n",
       "  ('MOF-177', 'MOF-177'),\n",
       "  ('UMCM-150', 'UMCM-150'),\n",
       "  ('MOF-505', 'MOF-505')],\n",
       " [('ZIF-8', 'ZIF-8'),\n",
       "  ('Co-NIC', 'Co-NIC'),\n",
       "  ('ZIF-7', 'ZIF-7'),\n",
       "  ('Cu-PCN', 'Cu-PCN'),\n",
       "  ('ZIF-90', 'ZIF-90'),\n",
       "  ('Zn/Co-BTEC', 'Zn/Co-BTEC'),\n",
       "  ('Zn-TTC', 'Zn-TTC'),\n",
       "  ('Ni-HF', 'Ni-HF')],\n",
       " [('Al-PMOF', 'Al-PMOF')],\n",
       " [('JUC-110', 'JUC-110')],\n",
       " [('MOF-205', 'MIL-100(Cr)'), ('MOF-210', 'HKUST-1')],\n",
       " [('MIL-100', 'MIL-100(Cr)')],\n",
       " [('MONT1', 'MONT1')],\n",
       " [('[Pb2(ptptp)2(H2O)2]', 'Pb2(PTPTP)2(H2O)2'),\n",
       "  ('[Pb2(p-PDA)(Hptptp)2]', 'Pb2(p-PDA)\\n(PTPTP)2'),\n",
       "  ('[Pb4(o-PDA)2(ptptp)2]·2H2O', 'Pb4(o-PDA)2\\n(PTPTP)2')],\n",
       " [('LaBTB', 'LaBTB')],\n",
       " [('Cu-BTT', 'H3(Cu4Cl)3-\\n(BTTRI)8')],\n",
       " [('Zn(1,4-BDP)', 'Zn(1,4-BDP)'), ('Co(1,4-BDP)', 'Zn(1,3-BDP)')],\n",
       " [('MOF-68', 'Cu2(TCMBT)\\n(BPP)(OH)')],\n",
       " [('NOTT-300', 'NOTT-300')],\n",
       " [('PCMOF-5', 'PCMOF-5')],\n",
       " [('SNU-80', 'SNU-80')],\n",
       " [('CALF-25', 'CALF-25')],\n",
       " [('MOF-805', 'MOF-805'),\n",
       "  ('MOF-812', 'MOF-802'),\n",
       "  ('MOF-841', 'MOF-841'),\n",
       "  ('MOF-801-P', 'MOF-801-P'),\n",
       "  ('MOF-802', 'MOF-804'),\n",
       "  ('MOF-808', 'MOF-808'),\n",
       "  ('MOF-804', 'MOF-806'),\n",
       "  ('MOF-806', 'MOF-801-SC'),\n",
       "  ('UiO-66', 'UiO-66'),\n",
       "  ('DUT-67', 'DUT-67(Zr)'),\n",
       "  ('PIZOF-2', 'Co-MOF-74/\\nCo-CPO-27/\\nCo-DOBDC'),\n",
       "  ('Mg-MOF-74', 'Mg-MOF-74/\\nMg-CPO-27/\\nMg-DOBDC'),\n",
       "  ('Co-MOF-74', 'Ni-MOF-74/\\nNi-CPO-27/\\nNi-DOBDC'),\n",
       "  ('CAU-6', 'CAU-6'),\n",
       "  ('CAU-10', 'CAU-10')],\n",
       " [('DUT-51(Zr)', 'DUT-51(Zr)'), ('DUT-51(Hf)', 'DUT-51(Hf)')],\n",
       " [('DUT-67', 'DUT-67(Zr)'),\n",
       "  ('DUT-68', 'DUT-68(Hf)'),\n",
       "  ('DUT-69', 'DUT-69(Zr)')],\n",
       " [('FMOF-1', 'FMOF-1')],\n",
       " [('MIL-100(Fe)', 'MIL-100(Fe)'), ('MIL-100(Al)', 'MIL-100(Al)')],\n",
       " [('UiO-66', 'UiO-66'),\n",
       "  ('HKUST-1', 'HKUST-1'),\n",
       "  ('MIL-100(Fe)', 'MIL-100(Fe)')],\n",
       " [('MIL-100', 'MIL-100(Fe)'),\n",
       "  ('MIL-127', 'MIL-127'),\n",
       "  ('UiO-66', 'UiO-66'),\n",
       "  ('UiO-66_Br', 'UiO-66-Br'),\n",
       "  ('UiO-66_NH2', 'UiO-66-NH2')],\n",
       " [('MIL-101Cr', 'MIL-101-NH2(Cr)')],\n",
       " [('MIL-125', 'MIL-125(Ti)'), ('NH2-MIL-125', 'MIL-125-NH2(Ti)')],\n",
       " [('UiO-66', 'UiO-66-NH2'), ('H2N-UiO-66', 'MIL-125-NH2(Ti)')],\n",
       " [('MIL-125(Ti)', 'MIL-125(Ti)'), ('MIL-125(Ti)-NH2', 'MIL-125-NH2(Ti)')],\n",
       " [('MIL-53-Al', 'MIL-53(Al)'),\n",
       "  ('MIL-53-Cr', 'MIL-53(Cr)'),\n",
       "  ('MIL-47-V', 'MIL-47(V)')],\n",
       " [('MIL-53 (Al)', 'MIL-53(Al)')],\n",
       " [('MOF-525', 'MOF-525'), ('MOF-535', 'MOF-545')],\n",
       " [('MOF name [Ni8(L1)6]', 'Ni8(OH)4(H2O)2(L10)6'),\n",
       "  ('MOF name [Ni8(L2)6]', 'Ni8(OH)4(H2O)2(L6)6'),\n",
       "  ('MOF name [Ni8(L3)6]', 'Ni8(OH)4(H2O)2(L10- (CH3)2)6'),\n",
       "  ('MOF name [Ni8(L4)6]', 'Ni8(OH)4(H2O)2(L8)6'),\n",
       "  ('MOF name [Ni8(L5)6]', 'Ni8(OH)4(H2O)2(L9)6'),\n",
       "  ('MOF name [Ni8(L5-CH3)6]', 'Ni8(OH)4(H2O)2(L10- (CF3)2)6')],\n",
       " [('Zn2(BTC)(OH)(H2O)·1.67H2O', 'Zn2(BTC)(OH)\\n(H2O)')],\n",
       " [],\n",
       " [('CdZrSr BEVQID', 'CdZrSr'),\n",
       "  ('Ni-Nic VOCNOQ', 'Zn-NDC'),\n",
       "  ('La-Cu XOHJUA', 'La-Cu'),\n",
       "  ('Eu-Cu DOHYIJ', 'Eu-Cu'),\n",
       "  ('Zn-NDC JASNEX', 'ZnPO3'),\n",
       "  ('Cu-HF ESIPUR', 'Cu-HF')],\n",
       " [('UiO-67', 'UiO-67'), ('NU-1000', 'NU-1000')],\n",
       " [('PCN-225', 'PCN-225(M)')],\n",
       " [('MOF-508', 'MOF-508'), ('SCUTC-18', 'SCUTC-18'), ('SCUTC-19', 'SCUTC-19')],\n",
       " [('Zn(BDC)(DMBPY)', 'Zn-NDC'),\n",
       "  ('Zn(NDC)(DMBPY)', 'Zn2(2,6-NDC)2\\n(2,2’-dimethyl\\nBPY)'),\n",
       "  ('Zn(NDC)(BPY)', 'SCUTC-18')],\n",
       " [('HKUST-1', 'HKUST-1'),\n",
       "  ('Mg MOF-74', 'Mg-MOF-74/Mg\\nCPO-27/Mg\\nDOBDC'),\n",
       "  ('UiO-66', 'UiO-66'),\n",
       "  ('DMOF-1', 'Zn-DMOF'),\n",
       "  ('UMCM-1', 'UMCM-1')],\n",
       " [('MIL-125', 'MIL-140 A'),\n",
       "  ('UiO-66', 'UiO-66'),\n",
       "  ('MIL-140A', 'MIL-140 B'),\n",
       "  ('MIL-140B', 'MIL-140 C'),\n",
       "  ('MIL-140C', 'MIL-140 D'),\n",
       "  ('MIL-140D', 'UiO-2,6-NDC')],\n",
       " [('UiO-66', 'UiO-66')],\n",
       " [('UiO-66(Zr)', 'UiO-66'),\n",
       "  ('UiO-67(Zr)', 'UiO-67'),\n",
       "  ('UiO-68(Zr)', 'Zr6O6(ABDC-Cl2)12')],\n",
       " [('UiO-66', 'UiO-66'),\n",
       "  ('UiO-67', 'UiO-67'),\n",
       "  ('ZrMOF –BDC', 'UiO-BPY'),\n",
       "  ('ZrMOF –NH2', 'UiO-66-NH2')],\n",
       " [('UiO-66', 'UiO-66-MM')],\n",
       " [('UiO-66', 'UiO-66-NH2'),\n",
       "  ('UiO-66 −NH2', 'UiO-66-NO2'),\n",
       "  ('UiO-66 −NO2', 'UiO-66-(OMe)2'),\n",
       "  ('UiO-66 −1,4-Naphyl', 'UiO-1,4-NDC')],\n",
       " [('UiO-66', 'UiO-66-Br'),\n",
       "  ('UiO-66-NH2', 'UiO-66-NH2'),\n",
       "  ('UiO-66-NO2', 'UiO-66-NO2')],\n",
       " [('DMOF-N', 'Zn-DMOF-A'),\n",
       "  ('DMOF-A', 'Zn-DMOF-Br'),\n",
       "  ('DMOF-TM1', 'Zn-DMOF-TM'),\n",
       "  ('DMOF-TM2', 'Zn-DMOF-TM0.5'),\n",
       "  ('DMOF-NO2', 'Zn-DMOF-NO2'),\n",
       "  ('DMOF-Br', 'Zn-DMOF-Cl2'),\n",
       "  ('DMOF-Cl2', 'Zn-DMOF-N'),\n",
       "  ('DMOF-OH', 'Zn-DMOF-OH')],\n",
       " [('DMOF', 'Zn-DMOF-TM'),\n",
       "  ('DMOF-MM2', 'Zn-DMOF-MM'),\n",
       "  ('DMOF-DM2', 'Zn-DMOF-DM'),\n",
       "  ('DMOF-TM2', 'Zn-DMOF-TF'),\n",
       "  ('DMOF-MM1', 'Zn-DMOF-MM0.5'),\n",
       "  ('DMOF-DM1', 'Zn-DMOF-DM0.5')],\n",
       " [('DMOF', 'Zn-MOF-508'), ('MOF-508', 'Zn-MOF-508-TM')],\n",
       " [('CAU-10-H', 'CAU-10-H'),\n",
       "  ('CAU-10-CH3', 'CAU-10-CH3'),\n",
       "  ('CAU-10-OCH3', 'CAU-10-OCH3'),\n",
       "  ('CAU-10-NO2', 'CAU-10-NO2'),\n",
       "  ('CAU-10-NH2', 'CAU-10-NH2'),\n",
       "  ('CAU-10-OH', 'CAU-10-OH')],\n",
       " [('MIL-47-F', 'MIL-47-F(V)'), ('Al-MIL-53-F', 'MIL-53-F(Al)')],\n",
       " [('Al(OH)(1,4-NDC)', 'Al(OH)(1,4-NDC)')],\n",
       " [('Cu-TDPAT', 'UTSA-16')],\n",
       " [],\n",
       " [('ValZnCl', 'ValZnCl'),\n",
       "  ('AlaZnCl', 'AlaZnCl'),\n",
       "  ('ValZnBr', 'ValZnFor'),\n",
       "  ('AlaZnBr', 'AlaZnOAc')],\n",
       " [('CUK-1', 'CUK-1')],\n",
       " [('MOF-1', 'MOFF-1'), ('MOF-2', 'MOFF-2'), ('MOF-3', 'MOFF-3')],\n",
       " [('MOOFOUR-1-Ni', 'MOOFOUR-1-Ni')],\n",
       " [('MOF name 1', 'Zn6(IDC)4(OH)2 (HPRZ)2')],\n",
       " [('[Cd(NDC)0.5(PCA)]', 'Cd(2,6-NDC)0.5 (PCA)')],\n",
       " [('MOF 1', 'Cd(L2)(Cl)(H2O)'), ('MOF 2', 'Cd(L3)(Cl)(H2O)2')],\n",
       " [],\n",
       " [('HKUST-1', 'Ni(HPTZ)2')],\n",
       " [('MOF name 1', 'Zn4O(BFBPDC)3\\n(BPY)0.5(H2O)')],\n",
       " [('MOF name [Ni(L)2]', 'Ni(L13)2'), ('MOF name [Co(L)2]', 'Co(L13)2')],\n",
       " [('MOF-177', 'Ni2(C2O4)(L16)2')],\n",
       " [('MOF name [Zn3(bpdc)3(2,2’-dmbpy)]', 'Zn3(BPDC)3(2,2’-\\ndimethyl-BPY)')],\n",
       " [('NU-1000', 'NU-1000-SALI-1'),\n",
       "  ('SALI-1', 'NU-1000-SALI-3'),\n",
       "  ('SALI-3', 'NU-1000-SALI-7'),\n",
       "  ('SALI-7', 'NU-1000-SALI-9')],\n",
       " [('PCN-56', 'PCN-56'), ('PCN-57', 'PCN-57'), ('PCN-58', 'PCN-58')],\n",
       " [('SIFSIX-1-Cu', 'SIFSIX-2-Cu-i'), ('SIFSIX-2-Cu', 'SIFSIX-3-Zn')],\n",
       " [('Tb-FTZB-MOF', 'Tb-FTZB-MOF')],\n",
       " [('UiO-66(Zr)', 'UiO-2,6-NDC')],\n",
       " [('UiO-66', 'UiO-66-F'),\n",
       "  ('MIL-53', 'UiO-66-CF3'),\n",
       "  ('MIL-88B', 'UiO-66-Br2'),\n",
       "  ('MIL-101', 'UiO-66-F2')],\n",
       " [('UiO-66-SO3H', 'UiO-66-SO3H'),\n",
       "  ('UiO-66-CO2H', 'UiO-66-CO2H'),\n",
       "  ('UiO-66-I', 'UiO-66-I')],\n",
       " [('UiO-66', 'UiO-66-DM')],\n",
       " [('MOF name 1', 'Zn-DMOF-(NO2)2'), ('MOF name 2', 'Zn-DMOF-NO2')],\n",
       " [('Zn(NDI-H)', 'Zn(NDI-H)')],\n",
       " [('Zr-fumarate MOF', 'Zr-fum')],\n",
       " [('Zn/DOBDC', 'Zn-MOF-74/\\nZn-CPO-27/\\nZn-DOBDC'),\n",
       "  ('Ni/DOBDC', 'Ni-MOF-74/Ni\\nCPO-27/Ni-DOBDC'),\n",
       "  ('Co/DOBDC', 'Co-MOF-74/\\nCo-CPO-27/\\nCo-DOBDC'),\n",
       "  ('Mg/DOBDC', 'Mg-MOF-74/Mg\\nCPO-27/Mg\\nDOBDC')],\n",
       " [('Co-MOF-74', 'Co-MOF-74/\\nCo-CPO-27/\\nCo-DOBDC')],\n",
       " [('HKUST-1', 'Cu-BTC/HKUST-1')],\n",
       " [('Ni/DOBDC', 'Ni-MOF-74/Ni\\nCPO-27/Ni-DOBDC'),\n",
       "  ('Mg/DOBDC', 'Mg-MOF-74/Mg\\nCPO-27/Mg\\nDOBDC')],\n",
       " [('Mg-MOF-74', 'Mg-MOF-74/Mg\\nCPO-27/Mg\\nDOBDC')],\n",
       " [('MOF-14', 'MOF-14')],\n",
       " [('Zn2(BDC)2(Dabco)', 'Ni-DMOF')],\n",
       " [('Cu(bdc)(ted)0.5', 'Cu-DMOF'),\n",
       "  ('Zn(bdc)(ted)0.5', 'Zn-DMOF'),\n",
       "  ('Ni(bdc)(ted)0.5', 'Ni-DMOF'),\n",
       "  ('Co(bdc)(ted)0.5', 'Co-DMOF')],\n",
       " [('IRMOF-1', 'IRMOF-1/MOF-5'),\n",
       "  ('Banasorb-22', 'IRMOF-1-CF3O/\\nMOF-5-CF3O/\\nBanasorb-22')],\n",
       " [('CuMBTC', 'Cu-MBTC'), ('CuEBTC', 'Cu-EBTC')],\n",
       " [('MOF-5', 'IRMOF-1/MOF-5')],\n",
       " [('IRMOF-1', 'IRMOF-3-AM15'),\n",
       "  ('IRMOF-3', 'IRMOF-1/MOF-5'),\n",
       "  ('IRMOF-3-AM1', 'IRMOF-3/\\nMOF-5-NH2')],\n",
       " [('Cu2TPTC-OMe', 'Cu2(TPTC-O- (ethyl))'),\n",
       "  ('Cu2TPTC-OEt', 'Cu2(TPTC-O_x0002_methyl)'),\n",
       "  ('Cu2TPTC-OnPr', 'Cu2(TPTC-O-(n_x0002_hexyl))'),\n",
       "  ('Cu2TPTC-OnHex', 'Cu2(TPTC-O-(n_x0002_propyl))')],\n",
       " [('Zr–abdc', 'Zr6O6(ABDC)12')],\n",
       " [('MOF-5', 'IRMOF-1/MOF-5')],\n",
       " [('MOF-177', 'MOF-177')],\n",
       " [('MOF-177', 'MOF-177')]]"
      ]
     },
     "execution_count": 11,
     "metadata": {},
     "output_type": "execute_result"
    }
   ],
   "source": [
    "matched_pairs_list"
   ]
  },
  {
   "cell_type": "code",
   "execution_count": 12,
   "id": "ce9b7027",
   "metadata": {},
   "outputs": [
    {
     "name": "stdout",
     "output_type": "stream",
     "text": [
      "Classification accuracy: 0.748, % MOF identified: 91.519\n"
     ]
    },
    {
     "data": {
      "text/plain": [
       "<matplotlib.legend.Legend at 0x22d84773fa0>"
      ]
     },
     "execution_count": 12,
     "metadata": {},
     "output_type": "execute_result"
    },
    {
     "data": {
      "image/png": "[encoded data removed]",
      "text/plain": [
       "<Figure size 640x480 with 1 Axes>"
      ]
     },
     "metadata": {},
     "output_type": "display_data"
    }
   ],
   "source": [
    "from sklearn.metrics import accuracy_score\n",
    "# Calculate Accuracy\n",
    "acc = accuracy_score(y_values, y_hat_values)\n",
    "mof_indetified = (total_mofs_matched/total_mofs) * 100\n",
    "\n",
    "print(f\"Classification accuracy: {acc:.03f}, % MOF identified: {mof_indetified:.03f}\")\n",
    "\n",
    "plt.hist(y_values, label='Ground-truth', alpha=0.5)\n",
    "plt.hist(y_hat_values, label='Predictions', alpha=0.5)\n",
    "plt.legend()"
   ]
  },
  {
   "cell_type": "code",
   "execution_count": 12,
   "id": "ba1865be",
   "metadata": {},
   "outputs": [
    {
     "data": {
      "image/png": "[encoded data removed]",
      "text/plain": [
       "<Figure size 1000x700 with 2 Axes>"
      ]
     },
     "metadata": {},
     "output_type": "display_data"
    }
   ],
   "source": [
    "\n",
    "import seaborn as sns\n",
    "from sklearn.metrics import confusion_matrix\n",
    "\n",
    "\n",
    "# Confusion Matrix\n",
    "cm = confusion_matrix(y_values, y_hat_values)\n",
    "\n",
    "plt.figure(figsize=(10,7))\n",
    "\n",
    "# Using seaborn to plot heatmap, annot=True to annotate the numbers\n",
    "sns.heatmap(cm, annot=True, fmt='d', cmap='Blues')\n",
    "\n",
    "plt.xlabel('Predicted')\n",
    "plt.ylabel('Truth')\n",
    "\n",
    "plt.show()"
   ]
  },
  {
   "cell_type": "code",
   "execution_count": 13,
   "id": "21938437",
   "metadata": {},
   "outputs": [
    {
     "data": {
      "image/png": "[encoded data removed]",
      "text/plain": [
       "<Figure size 640x480 with 1 Axes>"
      ]
     },
     "metadata": {},
     "output_type": "display_data"
    }
   ],
   "source": [
    "import matplotlib.pyplot as plt\n",
    "\n",
    "# Extract Ground-truth Stability values\n",
    "stability_values = [v['Ground-truth Stability'] for d in ground_truth_list for v in d.values()]\n",
    "\n",
    "# Create histogram\n",
    "plt.hist(stability_values, bins=2, edgecolor='black')\n",
    "plt.ylabel('Frequency')\n",
    "plt.title('Ground-truth Stability')\n",
    "plt.show()"
   ]
  },
  {
   "cell_type": "code",
   "execution_count": null,
   "id": "d1444487",
   "metadata": {},
   "outputs": [],
   "source": []
  }
 ],
 "metadata": {
  "kernelspec": {
   "display_name": "elm",
   "language": "python",
   "name": "elm"
  },
  "language_info": {
   "codemirror_mode": {
    "name": "ipython",
    "version": 3
   },
   "file_extension": ".py",
   "mimetype": "text/x-python",
   "name": "python",
   "nbconvert_exporter": "python",
   "pygments_lexer": "ipython3",
   "version": "3.8.16"
  }
 },
 "nbformat": 4,
 "nbformat_minor": 5
}
