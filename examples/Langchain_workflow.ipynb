{
 "cells": [
  {
   "cell_type": "code",
   "execution_count": 1,
   "id": "3d29a1bf",
   "metadata": {},
   "outputs": [],
   "source": [
    "import openai\n",
    "import numpy as np\n",
    "import os\n",
    "import pickle\n",
    "#os.environ[\"OPENAI_API_KEY\"] = \"ADD YOUR KEY\""
   ]
  },
  {
   "cell_type": "code",
   "execution_count": 2,
   "id": "adcf8fb6",
   "metadata": {},
   "outputs": [],
   "source": [
    "from langchain.embeddings.openai import OpenAIEmbeddings\n",
    "from langchain.vectorstores import FAISS\n",
    "from langchain.text_splitter import CharacterTextSplitter\n",
    "from langchain.document_loaders import PyPDFLoader"
   ]
  },
  {
   "cell_type": "code",
   "execution_count": 3,
   "id": "175433a1",
   "metadata": {},
   "outputs": [],
   "source": [
    "from typing import List, Optional\n",
    "from langchain.schema import Document\n",
    "from copy import deepcopy\n",
    "\n",
    "def cut_text(text: str, keywords: List[str]) -> str:\n",
    "    lower_text = text.lower()\n",
    "    indices = [lower_text.find(keyword) for keyword in keywords if lower_text.find(keyword) != -1]\n",
    "    min_index = min(indices)\n",
    "    return text[:min_index].strip()  # remove any trailing spaces\n",
    "\n",
    "def find_in_document(document: Document, search_strings: List[str]) -> bool:\n",
    "    return any(search_string.lower() in document.page_content.lower() for search_string in search_strings)\n",
    "\n",
    "def filter_documents(documents: List[Document], search_strings: List[str]) -> List[Document]:\n",
    "    filtered_documents = deepcopy(documents)  # Create a deep copy of documents\n",
    "    for i, doc in enumerate(filtered_documents):\n",
    "        if find_in_document(doc, search_strings):\n",
    "            filtered_documents[i].page_content = cut_text(filtered_documents[i].page_content, keywords=search_strings)\n",
    "            filtered_documents = filtered_documents[:i+1]\n",
    "            break\n",
    "    return filtered_documents"
   ]
  },
  {
   "cell_type": "markdown",
   "id": "29fde8cd",
   "metadata": {},
   "source": [
    "# Method : RetrievalQA"
   ]
  },
  {
   "cell_type": "code",
   "execution_count": 4,
   "id": "323d4f40",
   "metadata": {},
   "outputs": [],
   "source": [
    "paper_id = '2'\n",
    "mofpaper_path = 'Data/SI_PDF/' + paper_id + '.pdf'\n",
    "loader = PyPDFLoader(mofpaper_path)\n",
    "pages = loader.load_and_split()"
   ]
  },
  {
   "cell_type": "code",
   "execution_count": 51,
   "id": "364ae6d9",
   "metadata": {},
   "outputs": [],
   "source": [
    "sliced_pages = filter_documents(pages, ['references ', 'acknowledgement', 'acknowledgments'])\n",
    "text_splitter = CharacterTextSplitter(chunk_size=1000, chunk_overlap=0)\n",
    "sliced_pages_chunks = text_splitter.split_documents(sliced_pages)"
   ]
  },
  {
   "cell_type": "code",
   "execution_count": 52,
   "id": "9dc91fed",
   "metadata": {},
   "outputs": [
    {
     "name": "stdout",
     "output_type": "stream",
     "text": [
      "15 15\n"
     ]
    }
   ],
   "source": [
    "print(len(pages), len(sliced_pages))"
   ]
  },
  {
   "cell_type": "code",
   "execution_count": 53,
   "id": "b15a33ed",
   "metadata": {},
   "outputs": [],
   "source": [
    "from langchain.chains import RetrievalQA\n",
    "faiss_index_path = f\"Data/faiss/faiss_index_0{paper_id}.pkl\"\n",
    "just_load = False\n",
    "if os.path.isfile(faiss_index_path) and just_load:\n",
    "    print('loadded Embeddings')\n",
    "    with open(faiss_index_path, \"rb\") as f:\n",
    "        faiss_index = pickle.load(f)\n",
    "else:\n",
    "    with open(faiss_index_path, \"wb\") as f:\n",
    "        faiss_index = FAISS.from_documents(sliced_pages, OpenAIEmbeddings(model='text-embedding-ada-002'))    # 'text-davinci-003\n",
    "        pickle.dump(faiss_index, f)\n",
    "retriever  = faiss_index.as_retriever(search_type=\"mmr\", search_kwargs={\"k\":5}) # Maximum Marginal Relevance Retrieval\n"
   ]
  },
  {
   "cell_type": "code",
   "execution_count": 54,
   "id": "88f146f7",
   "metadata": {},
   "outputs": [],
   "source": [
    "from langchain.llms import OpenAI\n",
    "from langchain.chat_models  import ChatOpenAI\n",
    "llm = OpenAI(temperature=0, model_name='gpt-4') # gpt-3.5-turbo-16k\n",
    "qa = RetrievalQA.from_chain_type(\n",
    "    llm=llm, chain_type=\"stuff\", retriever=retriever, return_source_documents=False,)"
   ]
  },
  {
   "cell_type": "code",
   "execution_count": 55,
   "id": "b5fa61e3",
   "metadata": {},
   "outputs": [
    {
     "name": "stdout",
     "output_type": "stream",
     "text": [
      "{'query': 'What is DOI, paper title, published journal?', 'result': 'The document does not provide information on the DOI, paper title, or the journal in which it was published.'}\n",
      "Tokens Used: 4589\n",
      "\tPrompt Tokens: 4567\n",
      "\tCompletion Tokens: 22\n",
      "Successful Requests: 1\n",
      "Total Cost (USD): $0.13832999999999998\n"
     ]
    }
   ],
   "source": [
    "query = 'What is DOI, paper title, published journal?'\n",
    "\n",
    "from langchain.callbacks import get_openai_callback\n",
    "with get_openai_callback() as cb:\n",
    "    result = qa({\"query\": query})\n",
    "    print(result)\n",
    "    print(cb)"
   ]
  },
  {
   "cell_type": "code",
   "execution_count": 56,
   "id": "e93405f9",
   "metadata": {},
   "outputs": [],
   "source": [
    "Rule = f\"\"\"\n",
    "\n",
    "There are only 2 options for water stability: \\\n",
    "1. Stable \\\n",
    "2. Unstable \\\n",
    "\n",
    "For 1. Stable, \\\n",
    "The MOF should be stable to keep structure integrity \\\n",
    "after exposure to aqueous solution. \\\n",
    "\n",
    "For 2. Unstable, \\\n",
    "The MOF will decompose after exposure \\\n",
    "to humid environment. \\\n",
    "\n",
    "\"\"\""
   ]
  },
  {
   "cell_type": "code",
   "execution_count": 57,
   "id": "303b13c1",
   "metadata": {},
   "outputs": [
    {
     "name": "stdout",
     "output_type": "stream",
     "text": [
      "{'query': '\\n    This doc describes the water stability properties of afew     Metal-Organic Framework(MOF) compound. Please find     the full name for all MOFs, and the     water stability corresponding to each MOF.     Please use the following rules to identify    the water stability of each MOF. \\n    Rule: ```\\n\\nThere are only 2 options for water stability: 1. Stable 2. Unstable \\nFor 1. Stable, The MOF should be stable to keep structure integrity after exposure to aqueous solution. \\nFor 2. Unstable, The MOF will decompose after exposure to humid environment. \\n``` \\n    If there are multiple MOFs, please list them all and put \"MOF name\" before them. \\n    Your answer should be in json format. \\n\\n    If information is not provided, state it as not provided.\\n    ', 'result': '{\\n\"MOF-69C\": \"Unstable\",\\n\"MOF-5\": \"Unstable\",\\n\"MOF-508b\": \"Stable\",\\n\"HKUST-1\": \"Stable\",\\n\"MOF-74\": \"Stable\",\\n\"ZIF-8\": \"Stable\",\\n\"Zn-MOF-74\": \"Not Provided\",\\n\"MOF-508b\": \"Not Provided\",\\n\"Zn-BDC-DABCO\": \"Not Provided\",\\n\"HKUST-1\": \"Not Provided\",\\n\"Cr-MIL-101\": \"Stable\",\\n\"Al-MIL-110\": \"Not Provided\"\\n}'}\n",
      "Tokens Used: 5352\n",
      "\tPrompt Tokens: 5220\n",
      "\tCompletion Tokens: 132\n",
      "Successful Requests: 1\n",
      "Total Cost (USD): $0.16452\n"
     ]
    }
   ],
   "source": [
    "prompt3a = f\"\"\"\n",
    "    This doc describes the water stability properties of afew \\\n",
    "    Metal-Organic Framework(MOF) compound. Please find \\\n",
    "    the full name for all MOFs, and the \\\n",
    "    water stability corresponding to each MOF. \\\n",
    "    Please use the following rules to identify\\\n",
    "    the water stability of each MOF. \\\n",
    "\n",
    "    Rule: ```{Rule}``` \\\n",
    "\n",
    "    If there are multiple MOFs, please list them all and put \"MOF name\" before them. \\\n",
    "\n",
    "    Your answer should be in json format. \n",
    "\n",
    "    If information is not provided, state it as not provided.\\\n",
    "\n",
    "    \"\"\"\n",
    "\n",
    "from langchain.callbacks import get_openai_callback\n",
    "with get_openai_callback() as cb:\n",
    "    result = qa({\"query\": prompt3a})\n",
    "    print(result)\n",
    "    print(cb)"
   ]
  },
  {
   "cell_type": "code",
   "execution_count": 58,
   "id": "95aad51c",
   "metadata": {},
   "outputs": [],
   "source": [
    "def parse_to_dict(result):\n",
    "    from pydantic import BaseModel, Field, validator\n",
    "    from langchain.output_parsers import OutputFixingParser\n",
    "    class MOF(BaseModel):\n",
    "        name: List[str] = Field(description=\"name of a MOF\")\n",
    "        stability: List[str] = Field(description=\"choose one: stable or unstable\")\n",
    "\n",
    "    from langchain.output_parsers import PydanticOutputParser\n",
    "    parser = PydanticOutputParser(pydantic_object=MOF)\n",
    "\n",
    "    llm_parser = OutputFixingParser.from_llm(parser=parser, llm=ChatOpenAI(temperature=0))\n",
    "    parsed_result = llm_parser.parse(result['result'])\n",
    "    dict_response = dict(zip(parsed_result.name, parsed_result.stability))\n",
    "    new_dict = {}\n",
    "    for i, (key, value) in enumerate(dict_response.items(), start=1):\n",
    "        new_dict[f\"MOF {i}\"] = {'MOF name': key, 'Predicted Stability': value}\n",
    "    return new_dict\n"
   ]
  },
  {
   "cell_type": "code",
   "execution_count": 59,
   "id": "174bcc46",
   "metadata": {},
   "outputs": [
    {
     "data": {
      "text/plain": [
       "{'MOF 1': {'MOF name': 'MOF-69C', 'Predicted Stability': 'Unstable'},\n",
       " 'MOF 2': {'MOF name': 'MOF-5', 'Predicted Stability': 'Unstable'},\n",
       " 'MOF 3': {'MOF name': 'MOF-508b', 'Predicted Stability': 'Not Provided'},\n",
       " 'MOF 4': {'MOF name': 'HKUST-1', 'Predicted Stability': 'Not Provided'},\n",
       " 'MOF 5': {'MOF name': 'MOF-74', 'Predicted Stability': 'Stable'},\n",
       " 'MOF 6': {'MOF name': 'ZIF-8', 'Predicted Stability': 'Stable'},\n",
       " 'MOF 7': {'MOF name': 'Zn-MOF-74', 'Predicted Stability': 'Not Provided'},\n",
       " 'MOF 8': {'MOF name': 'Zn-BDC-DABCO', 'Predicted Stability': 'Not Provided'},\n",
       " 'MOF 9': {'MOF name': 'Cr-MIL-101', 'Predicted Stability': 'Stable'},\n",
       " 'MOF 10': {'MOF name': 'Al-MIL-110', 'Predicted Stability': 'Not Provided'}}"
      ]
     },
     "execution_count": 59,
     "metadata": {},
     "output_type": "execute_result"
    }
   ],
   "source": [
    "parse_to_dict(result)"
   ]
  },
  {
   "cell_type": "code",
   "execution_count": null,
   "id": "cc3dd738",
   "metadata": {},
   "outputs": [],
   "source": []
  }
 ],
 "metadata": {
  "kernelspec": {
   "display_name": "elm",
   "language": "python",
   "name": "elm"
  },
  "language_info": {
   "codemirror_mode": {
    "name": "ipython",
    "version": 3
   },
   "file_extension": ".py",
   "mimetype": "text/x-python",
   "name": "python",
   "nbconvert_exporter": "python",
   "pygments_lexer": "ipython3",
   "version": "3.8.16"
  }
 },
 "nbformat": 4,
 "nbformat_minor": 5
}
