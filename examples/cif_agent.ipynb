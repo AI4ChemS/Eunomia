{
 "cells": [
  {
   "cell_type": "code",
   "execution_count": 1,
   "id": "83d7b445-3613-48b9-847d-56cb13b2e54c",
   "metadata": {},
   "outputs": [],
   "source": [
    "from eunomia.agents import Eunomia\n",
    "from eunomia.tools import get_cif_from_COD, rename_cif, get_cif_from_ccdc"
   ]
  },
  {
   "cell_type": "code",
   "execution_count": 2,
   "id": "8969532c-8903-461a-ad38-04af1db2f549",
   "metadata": {},
   "outputs": [
    {
     "name": "stdout",
     "output_type": "stream",
     "text": [
      "\n",
      "\n",
      "\u001b[1m> Entering new AgentExecutor chain...\u001b[0m\n",
      "\u001b[32;1m\u001b[1;3mI need to first download the cif files using the given doi from the Crystallography Open Database (COD) and then rename them.\n",
      "Action: get_cif_from_COD\n",
      "Action Input: 10.1021/cg301691d\u001b[0m\n",
      "Observation: \u001b[36;1m\u001b[1;3m['4507517.cif', '4507518.cif', '4507519.cif', '4507520.cif', '4507521.cif', '4507522.cif']\u001b[0m\n",
      "Thought:\u001b[32;1m\u001b[1;3mNow that I have the cif files, I need to rename them using the MOF-Name associated with a target key from each CIF file.\n",
      "Action: rename_cif\n",
      "Action Input: '4507517.cif'\u001b[0m\n",
      "Observation: \u001b[33;1m\u001b[1;3mNone\u001b[0m\n",
      "Thought:\u001b[32;1m\u001b[1;3mThe first file has been renamed. Now I need to rename the rest of the files.\n",
      "Action: rename_cif\n",
      "Action Input: '4507518.cif'\u001b[0m\n",
      "Observation: \u001b[33;1m\u001b[1;3mNone\u001b[0m\n",
      "Thought:\u001b[32;1m\u001b[1;3mThe second file has been renamed. Now I need to rename the rest of the files.\n",
      "Action: rename_cif\n",
      "Action Input: '4507519.cif'\u001b[0m\n",
      "Observation: \u001b[33;1m\u001b[1;3mNone\u001b[0m\n",
      "Thought:"
     ]
    },
    {
     "name": "stderr",
     "output_type": "stream",
     "text": [
      "Retrying langchain.chat_models.openai.ChatOpenAI.completion_with_retry.<locals>._completion_with_retry in 4.0 seconds as it raised RateLimitError: Rate limit reached for 10KTPM-200RPM in organization org-ch7xZkxfNhNOfiyd4gkEf754 on tokens per min. Limit: 10000 / min. Please try again in 6ms. Contact us through our help center at help.openai.com if you continue to have issues..\n"
     ]
    },
    {
     "name": "stdout",
     "output_type": "stream",
     "text": [
      "\u001b[32;1m\u001b[1;3mThe third file has been renamed. Now I need to rename the rest of the files.\n",
      "Action: rename_cif\n",
      "Action Input: '4507520.cif'\u001b[0m\n",
      "Observation: \u001b[33;1m\u001b[1;3mNone\u001b[0m\n",
      "Thought:"
     ]
    },
    {
     "name": "stderr",
     "output_type": "stream",
     "text": [
      "Retrying langchain.chat_models.openai.ChatOpenAI.completion_with_retry.<locals>._completion_with_retry in 4.0 seconds as it raised RateLimitError: Rate limit reached for 10KTPM-200RPM in organization org-ch7xZkxfNhNOfiyd4gkEf754 on tokens per min. Limit: 10000 / min. Please try again in 6ms. Contact us through our help center at help.openai.com if you continue to have issues..\n",
      "Retrying langchain.chat_models.openai.ChatOpenAI.completion_with_retry.<locals>._completion_with_retry in 4.0 seconds as it raised RateLimitError: Rate limit reached for 10KTPM-200RPM in organization org-ch7xZkxfNhNOfiyd4gkEf754 on tokens per min. Limit: 10000 / min. Please try again in 6ms. Contact us through our help center at help.openai.com if you continue to have issues..\n",
      "Retrying langchain.chat_models.openai.ChatOpenAI.completion_with_retry.<locals>._completion_with_retry in 4.0 seconds as it raised RateLimitError: Rate limit reached for 10KTPM-200RPM in organization org-ch7xZkxfNhNOfiyd4gkEf754 on tokens per min. Limit: 10000 / min. Please try again in 6ms. Contact us through our help center at help.openai.com if you continue to have issues..\n"
     ]
    },
    {
     "name": "stdout",
     "output_type": "stream",
     "text": [
      "\u001b[32;1m\u001b[1;3mThe fourth file has been renamed. Now I need to rename the rest of the files.\n",
      "Action: rename_cif\n",
      "Action Input: '4507521.cif'\u001b[0m\n",
      "Observation: \u001b[33;1m\u001b[1;3mNone\u001b[0m\n",
      "Thought:"
     ]
    },
    {
     "name": "stderr",
     "output_type": "stream",
     "text": [
      "Retrying langchain.chat_models.openai.ChatOpenAI.completion_with_retry.<locals>._completion_with_retry in 4.0 seconds as it raised RateLimitError: Rate limit reached for 10KTPM-200RPM in organization org-ch7xZkxfNhNOfiyd4gkEf754 on tokens per min. Limit: 10000 / min. Please try again in 6ms. Contact us through our help center at help.openai.com if you continue to have issues..\n",
      "Retrying langchain.chat_models.openai.ChatOpenAI.completion_with_retry.<locals>._completion_with_retry in 4.0 seconds as it raised RateLimitError: Rate limit reached for 10KTPM-200RPM in organization org-ch7xZkxfNhNOfiyd4gkEf754 on tokens per min. Limit: 10000 / min. Please try again in 6ms. Contact us through our help center at help.openai.com if you continue to have issues..\n",
      "Retrying langchain.chat_models.openai.ChatOpenAI.completion_with_retry.<locals>._completion_with_retry in 4.0 seconds as it raised RateLimitError: Rate limit reached for 10KTPM-200RPM in organization org-ch7xZkxfNhNOfiyd4gkEf754 on tokens per min. Limit: 10000 / min. Please try again in 6ms. Contact us through our help center at help.openai.com if you continue to have issues..\n"
     ]
    },
    {
     "name": "stdout",
     "output_type": "stream",
     "text": [
      "\u001b[32;1m\u001b[1;3mThe fifth file has been renamed. Now I need to rename the last file.\n",
      "Action: rename_cif\n",
      "Action Input: '4507522.cif'\u001b[0m\n",
      "Observation: \u001b[33;1m\u001b[1;3mNone\u001b[0m\n",
      "Thought:"
     ]
    },
    {
     "name": "stderr",
     "output_type": "stream",
     "text": [
      "Retrying langchain.chat_models.openai.ChatOpenAI.completion_with_retry.<locals>._completion_with_retry in 4.0 seconds as it raised RateLimitError: Rate limit reached for 10KTPM-200RPM in organization org-ch7xZkxfNhNOfiyd4gkEf754 on tokens per min. Limit: 10000 / min. Please try again in 6ms. Contact us through our help center at help.openai.com if you continue to have issues..\n",
      "Retrying langchain.chat_models.openai.ChatOpenAI.completion_with_retry.<locals>._completion_with_retry in 4.0 seconds as it raised RateLimitError: Rate limit reached for 10KTPM-200RPM in organization org-ch7xZkxfNhNOfiyd4gkEf754 on tokens per min. Limit: 10000 / min. Please try again in 6ms. Contact us through our help center at help.openai.com if you continue to have issues..\n"
     ]
    },
    {
     "name": "stdout",
     "output_type": "stream",
     "text": [
      "\u001b[32;1m\u001b[1;3mAll the files have been renamed successfully.\n",
      "Final Answer: All cif files for the doi: 10.1021/cg301691d have been downloaded from COD and renamed successfully.\u001b[0m\n",
      "\n",
      "\u001b[1m> Finished chain.\u001b[0m\n",
      "Tokens Used: 3865\n",
      "\tPrompt Tokens: 3566\n",
      "\tCompletion Tokens: 299\n",
      "Successful Requests: 8\n",
      "Total Cost (USD): $0.12492\n"
     ]
    },
    {
     "data": {
      "text/plain": [
       "'All cif files for the doi: 10.1021/cg301691d have been downloaded from COD and renamed successfully.'"
      ]
     },
     "execution_count": 2,
     "metadata": {},
     "output_type": "execute_result"
    }
   ],
   "source": [
    "tools = [get_cif_from_COD, rename_cif]\n",
    "agent = Eunomia(tools=tools, model='gpt-4', get_cost=True)\n",
    "agent.run(prompt=\"Download cif files for this doi: 10.1021/cg301691d from COD and rename them.\")"
   ]
  },
  {
   "cell_type": "code",
   "execution_count": 2,
   "id": "3417c3d9-2ab9-4ada-80b6-a6c267fca973",
   "metadata": {},
   "outputs": [
    {
     "name": "stdout",
     "output_type": "stream",
     "text": [
      "\n",
      "\n",
      "\u001b[1m> Entering new AgentExecutor chain...\u001b[0m\n",
      "\u001b[32;1m\u001b[1;3mI need to use the get_cif_from_ccdc tool to download the CIF file for the given DOI.\n",
      "Action: get_cif_from_ccdc\n",
      "Action Input: 10.1021/cg301691d\u001b[0m\n",
      "Observation: \u001b[36;1m\u001b[1;3mNone\u001b[0m\n",
      "Thought:\u001b[32;1m\u001b[1;3mThe CIF file for the DOI 10.1021/cg301691d has been downloaded.\n",
      "Final Answer: The CIF file for the DOI 10.1021/cg301691d has been successfully downloaded from CCDC.\u001b[0m\n",
      "\n",
      "\u001b[1m> Finished chain.\u001b[0m\n",
      "Tokens Used: 508\n",
      "\tPrompt Tokens: 417\n",
      "\tCompletion Tokens: 91\n",
      "Successful Requests: 2\n",
      "Total Cost (USD): $0.01797\n"
     ]
    },
    {
     "data": {
      "text/plain": [
       "'The CIF file for the DOI 10.1021/cg301691d has been successfully downloaded from CCDC.'"
      ]
     },
     "execution_count": 2,
     "metadata": {},
     "output_type": "execute_result"
    }
   ],
   "source": [
    "tools = [get_cif_from_ccdc]\n",
    "agent = Eunomia(tools=tools, model='gpt-4', get_cost=True)\n",
    "agent.run(prompt=\"Download cif files for this doi: 10.1021/cg301691d from CCDC.\")"
   ]
  },
  {
   "cell_type": "code",
   "execution_count": null,
   "id": "c6d755fe-290e-4bea-bfeb-931322c0028b",
   "metadata": {},
   "outputs": [],
   "source": []
  },
  {
   "cell_type": "code",
   "execution_count": null,
   "id": "1dda3e07-f325-4c6d-8103-487b8d498e77",
   "metadata": {},
   "outputs": [],
   "source": []
  },
  {
   "cell_type": "code",
   "execution_count": 4,
   "id": "86887f65-d54c-4844-880d-8c4e6ad72fa9",
   "metadata": {},
   "outputs": [],
   "source": [
    "import json\n",
    "# Read in structure data\n",
    "with open(\"../data/qmof_database/qmof_structure_data.json\") as f:\n",
    "    qmof_struct_data = json.load(f)"
   ]
  },
  {
   "cell_type": "code",
   "execution_count": 5,
   "id": "bc697b18-aa34-47f1-a392-f81d5da8ddad",
   "metadata": {},
   "outputs": [
    {
     "name": "stdout",
     "output_type": "stream",
     "text": [
      "{'qmof_id': 'qmof-8a95c27', 'name': 'ABACUF01_FSR', 'structure': {'@module': 'pymatgen.core.structure', '@class': 'Structure', 'charge': 0, 'lattice': {'matrix': [[6.577866356, 0.001198396, 2.218642526], [0.78166899, 7.070336339, 0.96662035], [0.000658751, 0.000799513, 8.791651588]], 'a': 6.9419523112540436, 'b': 7.17878940055673, 'c': 8.791651649033692, 'alpha': 82.25599709677074, 'beta': 71.35701701555689, 'gamma': 81.58285544631552, 'volume': 408.857471262788}, 'sites': [{'species': [{'element': 'Ba', 'occu': 1}], 'abc': [0.09830491028584015, 0.7343525664213004, 0.35340986612669667], 'xyz': [1.220889999999993, 5.192519999999996, 4.034999999999976], 'label': 'Ba', 'properties': {'pbe_ddec_sum_bond_order': 1.559709, 'pbe_ddec_charge': 1.48179, 'pbe_cm5_charge': 0.910193, 'pbe_bader_charge': 1.705145, 'pbe_magmom': 0.001, 'pbe_ddec_spin_density': 0.001119, 'pbe_bader_spin_density': 0.001378}}, {'species': [{'element': 'Ba', 'occu': 1}], 'abc': [0.901694538181694, 0.265646832757696, 0.6465909688039274], 'xyz': [6.139300000000021, 1.8798100000000137, 7.94191999999998], 'label': 'Ba', 'properties': {'pbe_ddec_sum_bond_order': 1.559776, 'pbe_ddec_charge': 1.481747, 'pbe_cm5_charge': 0.910195, 'pbe_bader_charge': 1.705164, 'pbe_magmom': 0.001, 'pbe_ddec_spin_density': 0.001119, 'pbe_bader_spin_density': 0.001378}}, {'species': [{'element': 'Cu', 'occu': 1}], 'abc': [5.170719425969487e-06, 0.9999977570962884, 0.9999998587362527], 'xyz': [0.7823600000000118, 7.07112000000001, 9.75827999999999], 'label': 'Cu', 'properties': {'pbe_ddec_sum_bond_order': 2.182011, 'pbe_ddec_charge': 0.909228, 'pbe_cm5_charge': 0.72247, 'pbe_bader_charge': 1.142811, 'pbe_magmom': 0.612, 'pbe_ddec_spin_density': 0.764102, 'pbe_bader_spin_density': 0.613436}}, {'species': [{'element': 'H', 'occu': 1}], 'abc': [0.5962962275396606, 0.9043668247402861, 0.0722642894192376], 'xyz': [4.62932000000002, 6.394950000000013, 2.8324700000000393], 'label': 'H', 'properties': {'pbe_ddec_sum_bond_order': 1.021105, 'pbe_ddec_charge': 0.015817, 'pbe_cm5_charge': 0.117777, 'pbe_bader_charge': 0.089814, 'pbe_magmom': 0.001, 'pbe_ddec_spin_density': 0.000335, 'pbe_bader_spin_density': 0.001004}}, {'species': [{'element': 'H', 'occu': 1}], 'abc': [0.40370490920943075, 0.0956311596946477, 0.9277374124505684], 'xyz': [2.7308799999999827, 0.6773699999999973, 9.14446000000001], 'label': 'H', 'properties': {'pbe_ddec_sum_bond_order': 1.021092, 'pbe_ddec_charge': 0.015804, 'pbe_cm5_charge': 0.117751, 'pbe_bader_charge': 0.089747, 'pbe_magmom': 0.001, 'pbe_ddec_spin_density': 0.000335, 'pbe_bader_spin_density': 0.001004}}, {'species': [{'element': 'H', 'occu': 1}], 'abc': [0.004605354330749388, 0.36603386587027836, 0.0899770166705451], 'xyz': [0.31647000000001996, 2.5880600000000187, 1.1550799999999808], 'label': 'H', 'properties': {'pbe_ddec_sum_bond_order': 1.004185, 'pbe_ddec_charge': 0.019429, 'pbe_cm5_charge': 0.118912, 'pbe_bader_charge': 0.112846, 'pbe_magmom': 0.001, 'pbe_ddec_spin_density': 0.000198, 'pbe_bader_spin_density': 0.000719}}, {'species': [{'element': 'H', 'occu': 1}], 'abc': [0.9953947667973394, 0.6339598762185688, 0.9100197207211309], 'xyz': [7.0437200000000235, 4.484230000000013, 10.821800000000028], 'label': 'H', 'properties': {'pbe_ddec_sum_bond_order': 1.004206, 'pbe_ddec_charge': 0.019471, 'pbe_cm5_charge': 0.118933, 'pbe_bader_charge': 0.112779, 'pbe_magmom': 0.001, 'pbe_ddec_spin_density': 0.000199, 'pbe_bader_spin_density': 0.000719}}, {'species': [{'element': 'H', 'occu': 1}], 'abc': [0.45740439622594653, 0.3977423424604396, 0.12471460017494707], 'xyz': [3.3197300000000127, 2.812819999999978, 2.4957300000000275], 'label': 'H', 'properties': {'pbe_ddec_sum_bond_order': 1.012423, 'pbe_ddec_charge': 0.005645, 'pbe_cm5_charge': 0.112501, 'pbe_bader_charge': 0.055405, 'pbe_magmom': 0.0, 'pbe_ddec_spin_density': -0.000113, 'pbe_bader_spin_density': -0.000132}}, {'species': [{'element': 'H', 'occu': 1}], 'abc': [0.5425952208998838, 0.602255643089066, 0.8752795229622451], 'xyz': [4.040459999999995, 4.259500000000025, 9.481129999999979], 'label': 'H', 'properties': {'pbe_ddec_sum_bond_order': 1.01248, 'pbe_ddec_charge': 0.005564, 'pbe_cm5_charge': 0.112457, 'pbe_bader_charge': 0.056804, 'pbe_magmom': 0.0, 'pbe_ddec_spin_density': -0.000113, 'pbe_bader_spin_density': -0.000132}}, {'species': [{'element': 'H', 'occu': 1}], 'abc': [0.3466791782176201, 0.057198759367324194, 0.4253516316129549], 'xyz': [2.3253999999999975, 0.4051700000000139, 4.56398999999998], 'label': 'H', 'properties': {'pbe_ddec_sum_bond_order': 0.947266, 'pbe_ddec_charge': 0.38612, 'pbe_cm5_charge': 0.310347, 'pbe_bader_charge': 0.637736, 'pbe_magmom': 0.0, 'pbe_ddec_spin_density': 2.7e-05, 'pbe_bader_spin_density': 9e-06}}, {'species': [{'element': 'H', 'occu': 1}], 'abc': [0.6533231422189871, 0.9428020530125492, 0.5746551478319688], 'xyz': [5.0348100000000136, 6.667169999999982, 7.412990000000003], 'label': 'H', 'properties': {'pbe_ddec_sum_bond_order': 0.947235, 'pbe_ddec_charge': 0.386134, 'pbe_cm5_charge': 0.31034, 'pbe_bader_charge': 0.637715, 'pbe_magmom': 0.0, 'pbe_ddec_spin_density': 2.7e-05, 'pbe_bader_spin_density': 9e-06}}, {'species': [{'element': 'H', 'occu': 1}], 'abc': [0.30121594127030693, 0.9272877106443786, 0.5916435927550339], 'xyz': [2.7065799999999984, 6.557069999999997, 6.7661500000000085], 'label': 'H', 'properties': {'pbe_ddec_sum_bond_order': 0.939641, 'pbe_ddec_charge': 0.393568, 'pbe_cm5_charge': 0.305323, 'pbe_bader_charge': 0.637674, 'pbe_magmom': 0.0, 'pbe_ddec_spin_density': -4.6e-05, 'pbe_bader_spin_density': -9e-06}}, {'species': [{'element': 'H', 'occu': 1}], 'abc': [0.6987819864890099, 0.07271168823448448, 0.4083621757421271], 'xyz': [4.653599999999981, 0.515260000000009, 5.21080999999999], 'label': 'H', 'properties': {'pbe_ddec_sum_bond_order': 0.939558, 'pbe_ddec_charge': 0.393622, 'pbe_cm5_charge': 0.305333, 'pbe_bader_charge': 0.637727, 'pbe_magmom': 0.0, 'pbe_ddec_spin_density': -4.6e-05, 'pbe_bader_spin_density': -9e-06}}, {'species': [{'element': 'H', 'occu': 1}], 'abc': [0.38406320258661714, 0.3476375915674693, 0.4190597680945629], 'xyz': [2.7983299999999893, 2.4587100000000137, 4.872360000000002], 'label': 'H', 'properties': {'pbe_ddec_sum_bond_order': 0.982663, 'pbe_ddec_charge': 0.368885, 'pbe_cm5_charge': 0.296364, 'pbe_bader_charge': 0.625563, 'pbe_magmom': 0.0, 'pbe_ddec_spin_density': -1.3e-05, 'pbe_bader_spin_density': 7e-06}}, {'species': [{'element': 'H', 'occu': 1}], 'abc': [0.6159367500804294, 0.6523575644080849, 0.5809414061270743], 'xyz': [4.561859999999992, 4.613590000000001, 7.104560000000012], 'label': 'H', 'properties': {'pbe_ddec_sum_bond_order': 0.982652, 'pbe_ddec_charge': 0.368887, 'pbe_cm5_charge': 0.296362, 'pbe_bader_charge': 0.625553, 'pbe_magmom': 0.0, 'pbe_ddec_spin_density': -1.3e-05, 'pbe_bader_spin_density': 7e-06}}, {'species': [{'element': 'H', 'occu': 1}], 'abc': [0.3502887990015823, 0.4045403499833995, 0.592708592612567], 'xyz': [2.6207600000000175, 2.861129999999981, 6.379089999999973], 'label': 'H', 'properties': {'pbe_ddec_sum_bond_order': 0.944994, 'pbe_ddec_charge': 0.390619, 'pbe_cm5_charge': 0.303033, 'pbe_bader_charge': 0.641051, 'pbe_magmom': 0.0, 'pbe_ddec_spin_density': 1.7e-05, 'pbe_bader_spin_density': -3.5e-05}}, {'species': [{'element': 'H', 'occu': 1}], 'abc': [0.6497081208518624, 0.5954675359453957, 0.40729080989387967], 'xyz': [4.739419999999982, 4.211260000000006, 5.597819999999999], 'label': 'H', 'properties': {'pbe_ddec_sum_bond_order': 0.945034, 'pbe_ddec_charge': 0.390588, 'pbe_cm5_charge': 0.303028, 'pbe_bader_charge': 0.640936, 'pbe_magmom': 0.0, 'pbe_ddec_spin_density': 1.7e-05, 'pbe_bader_spin_density': -3.5e-05}}, {'species': [{'element': 'C', 'occu': 1}], 'abc': [0.6517881315070967, 0.8075003852456676, 0.16207635325652345], 'xyz': [4.918680000000012, 5.71021000000001, 3.651549999999991], 'label': 'C', 'properties': {'pbe_ddec_sum_bond_order': 4.196747, 'pbe_ddec_charge': 0.50075, 'pbe_cm5_charge': 0.161638, 'pbe_bader_charge': 1.557242, 'pbe_magmom': -0.003, 'pbe_ddec_spin_density': -0.002056, 'pbe_bader_spin_density': -0.002106}}, {'species': [{'element': 'C', 'occu': 1}], 'abc': [0.34821435748917656, 0.19249901337610706, 0.8379248518767], 'xyz': [2.441530000000008, 1.3621199999999927, 8.325379999999976], 'label': 'C', 'properties': {'pbe_ddec_sum_bond_order': 4.196779, 'pbe_ddec_charge': 0.500733, 'pbe_cm5_charge': 0.161648, 'pbe_bader_charge': 1.557719, 'pbe_magmom': -0.003, 'pbe_ddec_spin_density': -0.002057, 'pbe_bader_spin_density': -0.002106}}, {'species': [{'element': 'C', 'occu': 1}], 'abc': [0.044977973141449495, 0.2753156342839844, 0.1900717111633341], 'xyz': [0.5111899999999844, 1.9467799999999975, 2.0369599999999664], 'label': 'C', 'properties': {'pbe_ddec_sum_bond_order': 4.176439, 'pbe_ddec_charge': 0.517375, 'pbe_cm5_charge': 0.170002, 'pbe_bader_charge': 1.520673, 'pbe_magmom': -0.003, 'pbe_ddec_spin_density': -0.001982, 'pbe_bader_spin_density': -0.002093}}, {'species': [{'element': 'C', 'occu': 1}], 'abc': [0.9550229958370268, 0.7246837649379215, 0.8099264651642387], 'xyz': [6.849009999999982, 5.125549999999983, 9.939939999999966], 'label': 'C', 'properties': {'pbe_ddec_sum_bond_order': 4.176778, 'pbe_ddec_charge': 0.51726, 'pbe_cm5_charge': 0.170013, 'pbe_bader_charge': 1.520636, 'pbe_magmom': -0.003, 'pbe_ddec_spin_density': -0.001982, 'pbe_bader_spin_density': -0.002093}}, {'species': [{'element': 'C', 'occu': 1}], 'abc': [0.5770313135026797, 0.2811349169334392, 0.13766958859902453], 'xyz': [4.01548000000002, 1.9885200000000076, 2.762320000000026], 'label': 'C', 'properties': {'pbe_ddec_sum_bond_order': 4.230174, 'pbe_ddec_charge': 0.508782, 'pbe_cm5_charge': 0.15406, 'pbe_bader_charge': 1.56908, 'pbe_magmom': 0.0, 'pbe_ddec_spin_density': -0.000223, 'pbe_bader_spin_density': -0.000193}}, {'species': [{'element': 'C', 'occu': 1}], 'abc': [0.4229666149470646, 0.7188644828456887, 0.8623282175259561], 'xyz': [3.3446999999999885, 5.08380999999998, 9.214569999999975], 'label': 'C', 'properties': {'pbe_ddec_sum_bond_order': 4.230121, 'pbe_ddec_charge': 0.508756, 'pbe_cm5_charge': 0.15408, 'pbe_bader_charge': 1.567746, 'pbe_magmom': 0.0, 'pbe_ddec_spin_density': -0.000223, 'pbe_bader_spin_density': -0.000193}}, {'species': [{'element': 'O', 'occu': 1}], 'abc': [0.837003387806135, 0.8149470627522034, 0.15897971619871498], 'xyz': [6.142820000000003, 5.763079999999988, 4.04244999999999], 'label': 'O', 'properties': {'pbe_ddec_sum_bond_order': 2.495984, 'pbe_ddec_charge': -0.571781, 'pbe_cm5_charge': -0.36304, 'pbe_bader_charge': -1.156484, 'pbe_magmom': 0.078, 'pbe_ddec_spin_density': 0.054296, 'pbe_bader_spin_density': 0.086693}}, {'species': [{'element': 'O', 'occu': 1}], 'abc': [0.1629991012887686, 0.18505233599817925, 0.8410203514527693], 'xyz': [1.2173900000000044, 1.3092500000000036, 7.934469999999979], 'label': 'O', 'properties': {'pbe_ddec_sum_bond_order': 2.495968, 'pbe_ddec_charge': -0.571706, 'pbe_cm5_charge': -0.363001, 'pbe_bader_charge': -1.156428, 'pbe_magmom': 0.078, 'pbe_ddec_spin_density': 0.054299, 'pbe_bader_spin_density': 0.086697}}, {'species': [{'element': 'O', 'occu': 1}], 'abc': [0.5352199266313277, 0.6968483383999027, 0.25823822776951033], 'xyz': [4.065480000000011, 4.927799999999995, 4.131390000000017], 'label': 'O', 'properties': {'pbe_ddec_sum_bond_order': 2.28955, 'pbe_ddec_charge': -0.52896, 'pbe_cm5_charge': -0.325245, 'pbe_bader_charge': -1.200942, 'pbe_magmom': 0.009, 'pbe_ddec_spin_density': 0.006382, 'pbe_bader_spin_density': 0.010585}}, {'species': [{'element': 'O', 'occu': 1}], 'abc': [0.46478053745721576, 0.3031553031251804, 0.7417675716392438], 'xyz': [3.2947200000000056, 2.1445599999999936, 7.845579999999995], 'label': 'O', 'properties': {'pbe_ddec_sum_bond_order': 2.28961, 'pbe_ddec_charge': -0.528978, 'pbe_cm5_charge': -0.325251, 'pbe_bader_charge': -1.201473, 'pbe_magmom': 0.009, 'pbe_ddec_spin_density': 0.006382, 'pbe_bader_spin_density': 0.010585}}, {'species': [{'element': 'O', 'occu': 1}], 'abc': [0.06417234503597768, 0.35074003552380617, 0.30403184471747846], 'xyz': [0.6964799999999783, 2.480169999999985, 3.154349999999988], 'label': 'O', 'properties': {'pbe_ddec_sum_bond_order': 2.287778, 'pbe_ddec_charge': -0.553597, 'pbe_cm5_charge': -0.352288, 'pbe_bader_charge': -1.20455, 'pbe_magmom': 0.01, 'pbe_ddec_spin_density': 0.007118, 'pbe_bader_spin_density': 0.011742}}, {'species': [{'element': 'O', 'occu': 1}], 'abc': [0.9358191660260076, 0.6492621939148362, 0.6959672697717849], 'xyz': [6.663659999999977, 4.592179999999977, 8.82254000000002], 'label': 'O', 'properties': {'pbe_ddec_sum_bond_order': 2.287901, 'pbe_ddec_charge': -0.553591, 'pbe_cm5_charge': -0.35232, 'pbe_bader_charge': -1.204559, 'pbe_magmom': 0.01, 'pbe_ddec_spin_density': 0.007117, 'pbe_bader_spin_density': 0.011742}}, {'species': [{'element': 'O', 'occu': 1}], 'abc': [0.0704192691415599, 0.09574825635859699, 0.1791509349516645], 'xyz': [0.5381700000000118, 0.6771999999999944, 1.823820000000027], 'label': 'O', 'properties': {'pbe_ddec_sum_bond_order': 2.43172, 'pbe_ddec_charge': -0.565987, 'pbe_cm5_charge': -0.352319, 'pbe_bader_charge': -1.153303, 'pbe_magmom': 0.078, 'pbe_ddec_spin_density': 0.054124, 'pbe_bader_spin_density': 0.086372}}, {'species': [{'element': 'O', 'occu': 1}], 'abc': [0.9295909895882775, 0.9042497269191115, 0.8208473275989759], 'xyz': [6.822090000000018, 6.39512000000001, 10.153100000000025], 'label': 'O', 'properties': {'pbe_ddec_sum_bond_order': 2.431823, 'pbe_ddec_charge': -0.565885, 'pbe_cm5_charge': -0.352336, 'pbe_bader_charge': -1.153391, 'pbe_magmom': 0.078, 'pbe_ddec_spin_density': 0.054122, 'pbe_bader_spin_density': 0.086371}}, {'species': [{'element': 'O', 'occu': 1}], 'abc': [0.7189766502643168, 0.2414580109456068, 0.011297035656824052], 'xyz': [4.918080000000026, 1.7080600000000226, 1.9278699999999986], 'label': 'O', 'properties': {'pbe_ddec_sum_bond_order': 2.349485, 'pbe_ddec_charge': -0.605742, 'pbe_cm5_charge': -0.338325, 'pbe_bader_charge': -1.210142, 'pbe_magmom': 0.0, 'pbe_ddec_spin_density': -0.001672, 'pbe_bader_spin_density': -0.001495}}, {'species': [{'element': 'O', 'occu': 1}], 'abc': [0.28102600699572383, 0.7585399735322439, 0.9887020076099233], 'xyz': [2.4421299999999837, 5.364260000000012, 10.049039999999986], 'label': 'O', 'properties': {'pbe_ddec_sum_bond_order': 2.349534, 'pbe_ddec_charge': -0.605681, 'pbe_cm5_charge': -0.338292, 'pbe_bader_charge': -1.210125, 'pbe_magmom': 0.0, 'pbe_ddec_spin_density': -0.001672, 'pbe_bader_spin_density': -0.001496}}, {'species': [{'element': 'O', 'occu': 1}], 'abc': [0.5554223411421405, 0.2013016028036532, 0.28060417585942327], 'xyz': [3.8110300000000055, 1.4241600000000028, 3.8938399999999906], 'label': 'O', 'properties': {'pbe_ddec_sum_bond_order': 2.266586, 'pbe_ddec_charge': -0.550045, 'pbe_cm5_charge': -0.309715, 'pbe_bader_charge': -1.214286, 'pbe_magmom': 0.0, 'pbe_ddec_spin_density': -0.000225, 'pbe_bader_spin_density': -0.000162}}, {'species': [{'element': 'O', 'occu': 1}], 'abc': [0.4445723786137279, 0.7986992118052356, 0.719394284447695], 'xyz': [3.549130000000004, 5.648179999999998, 8.083049999999993], 'label': 'O', 'properties': {'pbe_ddec_sum_bond_order': 2.266444, 'pbe_ddec_charge': -0.549992, 'pbe_cm5_charge': -0.309727, 'pbe_bader_charge': -1.214283, 'pbe_magmom': 0.0, 'pbe_ddec_spin_density': -0.000225, 'pbe_bader_spin_density': -0.000162}}, {'species': [{'element': 'O', 'occu': 1}], 'abc': [0.24143604396419965, 0.9868535187545219, 0.5057692502195862], 'xyz': [2.3598599999999905, 6.978080000000007, 5.936120000000001], 'label': 'O', 'properties': {'pbe_ddec_sum_bond_order': 2.057378, 'pbe_ddec_charge': -0.818559, 'pbe_cm5_charge': -0.627387, 'pbe_bader_charge': -1.286431, 'pbe_magmom': 0.0, 'pbe_ddec_spin_density': 0.000188, 'pbe_bader_spin_density': 0.000255}}, {'species': [{'element': 'O', 'occu': 1}], 'abc': [0.7585630679757928, 0.013148708712328996, 0.49423590844399706], 'xyz': [5.000330000000003, 0.0942699999999833, 6.040839999999972], 'label': 'O', 'properties': {'pbe_ddec_sum_bond_order': 2.057298, 'pbe_ddec_charge': -0.818616, 'pbe_cm5_charge': -0.627385, 'pbe_bader_charge': -1.286496, 'pbe_magmom': 0.0, 'pbe_ddec_spin_density': 0.000188, 'pbe_bader_spin_density': 0.000255}}, {'species': [{'element': 'O', 'occu': 1}], 'abc': [0.286036652205155, 0.4225914474459529, 0.5047415018860235], 'xyz': [2.2121699999999875, 2.988609999999983, 5.480610000000006], 'label': 'O', 'properties': {'pbe_ddec_sum_bond_order': 2.114873, 'pbe_ddec_charge': -0.848744, 'pbe_cm5_charge': -0.653064, 'pbe_bader_charge': -1.297388, 'pbe_magmom': 0.0, 'pbe_ddec_spin_density': 0.000474, 'pbe_bader_spin_density': 0.000744}}, {'species': [{'element': 'O', 'occu': 1}], 'abc': [0.7139626283931335, 0.5774093663914073, 0.4952569449841278], 'xyz': [5.14802, 4.083730000000003, 6.496290000000018], 'label': 'O', 'properties': {'pbe_ddec_sum_bond_order': 2.114914, 'pbe_ddec_charge': -0.84871, 'pbe_cm5_charge': -0.653064, 'pbe_bader_charge': -1.297285, 'pbe_magmom': 0.0, 'pbe_ddec_spin_density': 0.000474, 'pbe_bader_spin_density': 0.000744}}]}}\n"
     ]
    }
   ],
   "source": [
    "for entry in qmof_struct_data:\n",
    "    print(entry)\n",
    "    break"
   ]
  },
  {
   "cell_type": "code",
   "execution_count": null,
   "id": "1448713e-ec55-4e70-8c6e-2ca0c77f63f1",
   "metadata": {},
   "outputs": [],
   "source": []
  },
  {
   "cell_type": "code",
   "execution_count": null,
   "id": "2a374400-c3ee-4495-8b90-d42851b9354a",
   "metadata": {},
   "outputs": [],
   "source": []
  },
  {
   "cell_type": "code",
   "execution_count": null,
   "id": "b1e8a143-fd39-40ee-8b75-78e2913332d1",
   "metadata": {},
   "outputs": [],
   "source": []
  },
  {
   "cell_type": "code",
   "execution_count": 2,
   "id": "b688097c-2b39-4348-8565-24fde6aa7e22",
   "metadata": {},
   "outputs": [],
   "source": []
  },
  {
   "cell_type": "code",
   "execution_count": 3,
   "id": "8de355e1-bab1-4c93-b21c-a8ecc37b31dd",
   "metadata": {},
   "outputs": [],
   "source": []
  },
  {
   "cell_type": "code",
   "execution_count": 4,
   "id": "432fe2ee-7fe0-4c26-88fc-fd6f79c166f6",
   "metadata": {},
   "outputs": [
    {
     "name": "stdout",
     "output_type": "stream",
     "text": [
      "\n",
      "\n",
      "\u001b[1m> Entering new AgentExecutor chain...\u001b[0m\n",
      "\u001b[32;1m\u001b[1;3mI need to first download the CIF files from the COD using the provided DOI, then rename them using the MOF-Name associated with a target key.\n",
      "Action: get_cif_from_COD\n",
      "Action Input: 10.1021/cg301691d\u001b[0m\n",
      "Observation: \u001b[36;1m\u001b[1;3m['4507517.cif', '4507518.cif', '4507519.cif', '4507520.cif', '4507521.cif', '4507522.cif']\u001b[0m\n",
      "Thought:\u001b[32;1m\u001b[1;3mNow that I have the CIF files, I need to rename them using the MOF-Name associated with a target key.\n",
      "Action: rename_cif\n",
      "Action Input: '4507517.cif'\u001b[0m\n",
      "Observation: \u001b[33;1m\u001b[1;3mNone\u001b[0m\n",
      "Thought:\u001b[32;1m\u001b[1;3mThe first file has been renamed. I need to repeat this process for the remaining files.\n",
      "Action: rename_cif\n",
      "Action Input: '4507518.cif'\u001b[0m\n",
      "Observation: \u001b[33;1m\u001b[1;3mNone\u001b[0m\n",
      "Thought:\u001b[32;1m\u001b[1;3mThe second file has been renamed. I need to repeat this process for the remaining files.\n",
      "Action: rename_cif\n",
      "Action Input: '4507519.cif'\u001b[0m\n",
      "Observation: \u001b[33;1m\u001b[1;3mNone\u001b[0m\n",
      "Thought:\u001b[32;1m\u001b[1;3mThe third file has been renamed. I need to repeat this process for the remaining files.\n",
      "Action: rename_cif\n",
      "Action Input: '4507520.cif'\u001b[0m\n",
      "Observation: \u001b[33;1m\u001b[1;3mNone\u001b[0m\n",
      "Thought:"
     ]
    },
    {
     "name": "stderr",
     "output_type": "stream",
     "text": [
      "Retrying langchain.chat_models.openai.ChatOpenAI.completion_with_retry.<locals>._completion_with_retry in 4.0 seconds as it raised RateLimitError: Rate limit reached for 10KTPM-200RPM in organization org-ch7xZkxfNhNOfiyd4gkEf754 on tokens per min. Limit: 10000 / min. Please try again in 6ms. Contact us through our help center at help.openai.com if you continue to have issues..\n"
     ]
    },
    {
     "name": "stdout",
     "output_type": "stream",
     "text": [
      "\u001b[32;1m\u001b[1;3mThe fourth file has been renamed. I need to repeat this process for the remaining files.\n",
      "Action: rename_cif\n",
      "Action Input: '4507521.cif'\u001b[0m\n",
      "Observation: \u001b[33;1m\u001b[1;3mNone\u001b[0m\n",
      "Thought:"
     ]
    },
    {
     "name": "stderr",
     "output_type": "stream",
     "text": [
      "Retrying langchain.chat_models.openai.ChatOpenAI.completion_with_retry.<locals>._completion_with_retry in 4.0 seconds as it raised RateLimitError: Rate limit reached for 10KTPM-200RPM in organization org-ch7xZkxfNhNOfiyd4gkEf754 on tokens per min. Limit: 10000 / min. Please try again in 6ms. Contact us through our help center at help.openai.com if you continue to have issues..\n",
      "Retrying langchain.chat_models.openai.ChatOpenAI.completion_with_retry.<locals>._completion_with_retry in 4.0 seconds as it raised RateLimitError: Rate limit reached for 10KTPM-200RPM in organization org-ch7xZkxfNhNOfiyd4gkEf754 on tokens per min. Limit: 10000 / min. Please try again in 6ms. Contact us through our help center at help.openai.com if you continue to have issues..\n"
     ]
    },
    {
     "name": "stdout",
     "output_type": "stream",
     "text": [
      "\u001b[32;1m\u001b[1;3mThe fifth file has been renamed. I need to repeat this process for the last file.\n",
      "Action: rename_cif\n",
      "Action Input: '4507522.cif'\u001b[0m\n",
      "Observation: \u001b[33;1m\u001b[1;3mNone\u001b[0m\n",
      "Thought:"
     ]
    },
    {
     "name": "stderr",
     "output_type": "stream",
     "text": [
      "Retrying langchain.chat_models.openai.ChatOpenAI.completion_with_retry.<locals>._completion_with_retry in 4.0 seconds as it raised RateLimitError: Rate limit reached for 10KTPM-200RPM in organization org-ch7xZkxfNhNOfiyd4gkEf754 on tokens per min. Limit: 10000 / min. Please try again in 6ms. Contact us through our help center at help.openai.com if you continue to have issues..\n",
      "Retrying langchain.chat_models.openai.ChatOpenAI.completion_with_retry.<locals>._completion_with_retry in 4.0 seconds as it raised RateLimitError: Rate limit reached for 10KTPM-200RPM in organization org-ch7xZkxfNhNOfiyd4gkEf754 on tokens per min. Limit: 10000 / min. Please try again in 6ms. Contact us through our help center at help.openai.com if you continue to have issues..\n"
     ]
    },
    {
     "name": "stdout",
     "output_type": "stream",
     "text": [
      "\u001b[32;1m\u001b[1;3mAll the CIF files have been renamed successfully.\n",
      "Final Answer: All CIF files for the DOI 10.1021/cg301691d have been downloaded and renamed.\u001b[0m\n",
      "\n",
      "\u001b[1m> Finished chain.\u001b[0m\n",
      "Tokens Used: 3862\n",
      "\tPrompt Tokens: 3565\n",
      "\tCompletion Tokens: 297\n",
      "Successful Requests: 8\n",
      "Total Cost (USD): $0.12476999999999999\n"
     ]
    },
    {
     "data": {
      "text/plain": [
       "'All CIF files for the DOI 10.1021/cg301691d have been downloaded and renamed.'"
      ]
     },
     "execution_count": 4,
     "metadata": {},
     "output_type": "execute_result"
    }
   ],
   "source": [
    "agent.run(\"Download cif files for this doi: 10.1021/cg301691d from COD and rename them.\")"
   ]
  },
  {
   "cell_type": "code",
   "execution_count": null,
   "id": "6e5d074e-255e-4ac0-b60d-20fba53d987e",
   "metadata": {},
   "outputs": [],
   "source": []
  }
 ],
 "metadata": {
  "kernelspec": {
   "display_name": "agent",
   "language": "python",
   "name": "agent"
  },
  "language_info": {
   "codemirror_mode": {
    "name": "ipython",
    "version": 3
   },
   "file_extension": ".py",
   "mimetype": "text/x-python",
   "name": "python",
   "nbconvert_exporter": "python",
   "pygments_lexer": "ipython3",
   "version": "3.9.17"
  }
 },
 "nbformat": 4,
 "nbformat_minor": 5
}
