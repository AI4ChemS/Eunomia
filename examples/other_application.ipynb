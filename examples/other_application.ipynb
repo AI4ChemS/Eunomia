{
 "cells": [
  {
   "cell_type": "code",
   "execution_count": 1,
   "id": "c867f8d6-e3b4-4929-9ac0-055854b9c99c",
   "metadata": {},
   "outputs": [],
   "source": [
    "import eunomia\n",
    "from eunomia.agents import Eunomia\n",
    "from eunomia.tools import EunomiaTools"
   ]
  },
  {
   "cell_type": "code",
   "execution_count": 2,
   "id": "370f22cd-f117-4cc3-8493-9926358f36f4",
   "metadata": {},
   "outputs": [],
   "source": [
    "import logging\n",
    "logging.getLogger().setLevel(logging.CRITICAL)\n",
    "import warnings\n",
    "\n",
    "# Disable all warning messages\n",
    "warnings.filterwarnings(\"ignore\")"
   ]
  },
  {
   "cell_type": "code",
   "execution_count": 3,
   "id": "d1ed2260-b7f1-4be8-ab3d-dc1c31e1b66d",
   "metadata": {},
   "outputs": [],
   "source": [
    "paper_file =f'95.pdf'\n",
    "docs_processor = eunomia.LoadDoc(file_name=paper_file, encoding=\"utf8\")\n",
    "sliced_pages = docs_processor.process([], chunk_size=1000, chunk_overlap=20, chunking_type='fixed-size')"
   ]
  },
  {
   "cell_type": "code",
   "execution_count": 6,
   "id": "7f526767-4b5b-4ba2-b56e-7dd6f9789ed0",
   "metadata": {},
   "outputs": [],
   "source": [
    "from langchain.vectorstores import FAISS\n",
    "from langchain.embeddings.openai import OpenAIEmbeddings\n",
    "\n",
    "Embedding_model = 'text-embedding-ada-002' \n",
    "faiss_index = FAISS.from_documents(sliced_pages, OpenAIEmbeddings(model=Embedding_model))"
   ]
  },
  {
   "cell_type": "code",
   "execution_count": 21,
   "id": "eaa353e6-7d3b-4bdd-8be7-8aac9c408557",
   "metadata": {},
   "outputs": [],
   "source": [
    "Rule = f\"\"\"\n",
    "There are only 3 options for water stability: \n",
    "1. Stable: No change in properties after exposure to moisture or steam, soaking or boiling in water or an aqueous solution.\n",
    "Retaining its porous structure in solution.\n",
    "No loss of crystallinity.\n",
    "Insoluble in water or an aqueous solution.\n",
    "Water adsorption isotherm should have a steep uptake.\n",
    "Good cycling performance.\n",
    "\n",
    "2. Unstable \n",
    "The MOF will decompose or change properties or has a change in its crystal structure after exposure/soak to a humid environment, steam or if it partially dissolves in water.\n",
    "Soluble or patrially soluble in water or an aqueous solution.\n",
    "\n",
    "\n",
    "3. Not provided, \n",
    "If you don't know or cannot justfy 1 or 2\n",
    "\"\"\"\n",
    "\n",
    "prompt3a = f\"\"\"\n",
    "    You are an expert chemist. The document describes the water stability properties of few metal-organic frameworks.\n",
    "    Find the exact full name or chemical formula for this material, and its stability in water.\n",
    "    Find any information on why this MOF is water stable or not from the synthesis steps.\n",
    "    Find any additional guidlines to design more water-stable MOFs.\n",
    "    \n",
    "\n",
    "    Use the following rules to determine water stability:\n",
    "    {Rule}\n",
    "    \n",
    "    Your final answer should contain the following:\n",
    "    1. The water stability of each MOF.\n",
    "    2. The exact sentences without any changes from the document that justifies your decision. Try to find more than once sentence. This should be \"Not provided\" if you cannot find water stability.\n",
    "    \"\"\""
   ]
  },
  {
   "cell_type": "code",
   "execution_count": 22,
   "id": "80e287ea-35de-4d1b-978d-847483ad4e9e",
   "metadata": {},
   "outputs": [],
   "source": [
    "from langchain.agents import Tool, tool\n",
    "from langchain.llms import OpenAI\n",
    "\n",
    "@tool\n",
    "def read_doc(input):\n",
    "    \"\"\"\n",
    "    Input the users original prompt and get context on water stability of metal organic frameworks.\n",
    "    Always search for the answers using this tool first, don't make up answers yourself.\n",
    "    \"\"\"\n",
    "\n",
    "    k = 9\n",
    "    min_k = 2  # Minimum limit for k\n",
    "    llm = OpenAI(temperature=0, model_name=\"gpt-4\")\n",
    "    result = eunomia.RetrievalQABypassTokenLimit(\n",
    "        prompt3a,\n",
    "        faiss_index,\n",
    "        k=k,\n",
    "        min_k=min_k,\n",
    "        llm=llm,\n",
    "        search_type=\"mmr\",\n",
    "        fetch_k=50,\n",
    "        chain_type=\"stuff\",\n",
    "        memory=None,\n",
    "    )\n",
    "    return result\n",
    "\n",
    "\n",
    "tools = [read_doc]"
   ]
  },
  {
   "cell_type": "code",
   "execution_count": 23,
   "id": "7512213d-d9e6-4b8f-a210-4e7d506f7be2",
   "metadata": {},
   "outputs": [],
   "source": [
    "agent = Eunomia(tools=tools, model='gpt-4', get_cost=True)"
   ]
  },
  {
   "cell_type": "code",
   "execution_count": 24,
   "id": "e1f1040d-8afd-48dc-8ad8-cba65b45d958",
   "metadata": {},
   "outputs": [
    {
     "name": "stdout",
     "output_type": "stream",
     "text": [
      "\n",
      "\n",
      "\u001b[1m> Entering new AgentExecutor chain...\u001b[0m\n",
      "\u001b[32;1m\u001b[1;3mI need to read the document to find information on designing more water-stable metal-organic frameworks.\n",
      "Action: read_doc\n",
      "Action Input: Detailed guidelines with examples to design more water-stable metal-organic frameworks.\u001b[0m\n",
      "Observation: \u001b[36;1m\u001b[1;3m1. The water stability of the MOF, barium tetraethyl-1,3,6,8-pyrenetetraphosphonate(CALF-25), is stable. \n",
      "\n",
      "2. The following sentences from the document justify this decision: \n",
      "- \"The ethyl ester groups within the pores also protect CALF-25 from decomposition by water vapor, with crystallinity and porosity being retained after exposure to harsh humid conditions (90% relative humidity at 353 K).\"\n",
      "- \"The retention of crystallinity and porosity of CALF-25 at 273 K after exposure to humid conditions suggests that the material is stable toward water vapor.\"\n",
      "- \"While CALF-25 is stable toward water vapor at 353 K, boiling the MOF in water caused a significant loss in crystallinity (Figure S9), a partial phase change, and partial solubilization of the material, suggesting that the water vapor stability is due to a kinetic protective effect of the ethyl groups within the pores.\"\n",
      "\n",
      "Additional guidelines to design more water-stable MOFs include: \n",
      "- \"The use of phosphonate esters as linkers for the construction of MOFs provides a method to protect hydrolytically susceptible coordination backbones through kinetic blocking.\"\n",
      "- \"Phosphonate monoesters are an underexplored class of ligands, with earlier reports concerning only structural studies using clodronate esters as ligands and two materials for NLO applications.\"\n",
      "- \"The stability arises from the steric protection offered by ethyl ester groups shielding the inorganic backbone of CALF-25 and defining the nature of the pore. Appending organic tethers has been established as a means of enhancing the water stability of MOFs.\"\u001b[0m\n",
      "Thought:\u001b[32;1m\u001b[1;3mThe document provides information on the water stability of the MOF, CALF-25, and how its design contributes to this stability. It also provides guidelines for designing more water-stable MOFs.\n",
      "Final Answer: The document provides an example of a water-stable MOF, CALF-25, which retains its crystallinity and porosity even after exposure to harsh humid conditions. This is attributed to the ethyl ester groups within the pores that protect the MOF from decomposition by water vapor. The document suggests that the use of phosphonate esters as linkers for the construction of MOFs can protect hydrolytically susceptible coordination backbones. It also suggests that appending organic tethers can enhance the water stability of MOFs. The stability arises from the steric protection offered by ethyl ester groups shielding the inorganic backbone of CALF-25 and defining the nature of the pore.\u001b[0m\n",
      "\n",
      "\u001b[1m> Finished chain.\u001b[0m\n",
      "Tokens Used: 7081\n",
      "\tPrompt Tokens: 6497\n",
      "\tCompletion Tokens: 584\n",
      "Successful Requests: 3\n",
      "Total Cost (USD): $0.22995000000000002\n"
     ]
    },
    {
     "data": {
      "text/plain": [
       "'The document provides an example of a water-stable MOF, CALF-25, which retains its crystallinity and porosity even after exposure to harsh humid conditions. This is attributed to the ethyl ester groups within the pores that protect the MOF from decomposition by water vapor. The document suggests that the use of phosphonate esters as linkers for the construction of MOFs can protect hydrolytically susceptible coordination backbones. It also suggests that appending organic tethers can enhance the water stability of MOFs. The stability arises from the steric protection offered by ethyl ester groups shielding the inorganic backbone of CALF-25 and defining the nature of the pore.'"
      ]
     },
     "execution_count": 24,
     "metadata": {},
     "output_type": "execute_result"
    }
   ],
   "source": [
    "agent.run(prompt=\"Read the document and identify detailed guidlines with examples to design more water-stable metal-organic frameworks.\")"
   ]
  }
 ],
 "metadata": {
  "kernelspec": {
   "display_name": "agent",
   "language": "python",
   "name": "agent"
  },
  "language_info": {
   "codemirror_mode": {
    "name": "ipython",
    "version": 3
   },
   "file_extension": ".py",
   "mimetype": "text/x-python",
   "name": "python",
   "nbconvert_exporter": "python",
   "pygments_lexer": "ipython3",
   "version": "3.9.18"
  }
 },
 "nbformat": 4,
 "nbformat_minor": 5
}
