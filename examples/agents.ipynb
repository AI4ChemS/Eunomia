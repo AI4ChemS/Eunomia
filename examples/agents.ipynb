{
 "cells": [
  {
   "cell_type": "code",
   "execution_count": 1,
   "id": "7cbcb6a9-23d3-4b4d-b374-a08db33eec03",
   "metadata": {},
   "outputs": [],
   "source": [
    "import os\n",
    "import eunomia\n",
    "import pickle\n"
   ]
  },
  {
   "cell_type": "code",
   "execution_count": 2,
   "id": "9b579528-34f3-48ec-bc7e-dd19f5b042d7",
   "metadata": {},
   "outputs": [],
   "source": [
    "paper_id = '70'\n",
    "docs_processor = eunomia.LoadDoc('../Data/chosen_papers/', paper_id=paper_id)\n",
    "sliced_pages = docs_processor.process(['references ', 'acknowledgement', 'acknowledgments', 'references\\n'],\n",
    "                                             chunk_size=1000, chunk_overlap=20, chunking_type='fixed-size')"
   ]
  },
  {
   "cell_type": "code",
   "execution_count": 3,
   "id": "47369b25-691d-4a96-983b-9a46adcb46ce",
   "metadata": {},
   "outputs": [
    {
     "name": "stdout",
     "output_type": "stream",
     "text": [
      "loadded Embeddings\n"
     ]
    }
   ],
   "source": [
    "from langchain.chains import RetrievalQA\n",
    "\n",
    "from langchain.embeddings.openai import OpenAIEmbeddings\n",
    "from langchain.vectorstores import FAISS\n",
    "\n",
    "k = 5\n",
    "# Embedding_model = 'text-davinci-003' # text-embedding-ada-002\n",
    "Embedding_model = 'text-embedding-ada-002' # text-embedding-ada-002\n",
    "\n",
    "\n",
    "faiss_index_path = f\"../Data/chosen_papers/faiss/{Embedding_model}/faiss_index_{Embedding_model}_{paper_id}.pkl\"\n",
    "just_load = True\n",
    "if os.path.isfile(faiss_index_path) and just_load:\n",
    "    print('loadded Embeddings')\n",
    "    with open(faiss_index_path, \"rb\") as f:\n",
    "        faiss_index = pickle.load(f)\n",
    "else:\n",
    "    with open(faiss_index_path, \"wb\") as f:  # text-embedding-ada-002\n",
    "        faiss_index = FAISS.from_documents(sliced_pages, OpenAIEmbeddings(model=Embedding_model))    # 'text-davinci-003\n",
    "        pickle.dump(faiss_index, f)\n",
    "\n",
    "# faiss_index = LanceDB.from_documents(sliced_pages, OpenAIEmbeddings(model=Embedding_model))\n",
    "\n",
    "retriever  = faiss_index.as_retriever(search_type=\"mmr\", search_kwargs={\"k\":k, 'fetch_k': 50}) # Maximum Marginal Relevance Retrieval\n"
   ]
  },
  {
   "cell_type": "code",
   "execution_count": 4,
   "id": "5cd4afbe-f0e8-493e-8919-e5ef952feeb5",
   "metadata": {},
   "outputs": [
    {
     "name": "stderr",
     "output_type": "stream",
     "text": [
      "C:\\Users\\mehra\\anaconda3\\envs\\agent\\lib\\site-packages\\langchain\\llms\\openai.py:201: UserWarning: You are trying to use a chat model. This way of initializing it is no longer supported. Instead, please use: `from langchain.chat_models import ChatOpenAI`\n",
      "  warnings.warn(\n",
      "C:\\Users\\mehra\\anaconda3\\envs\\agent\\lib\\site-packages\\langchain\\llms\\openai.py:786: UserWarning: You are trying to use a chat model. This way of initializing it is no longer supported. Instead, please use: `from langchain.chat_models import ChatOpenAI`\n",
      "  warnings.warn(\n"
     ]
    }
   ],
   "source": [
    "from langchain.llms import OpenAI\n",
    "from langchain.agents import Tool, tool\n",
    "from langchain.chat_models  import ChatOpenAI\n",
    "from langchain.chains import RetrievalQA\n",
    "llm = OpenAI(temperature=0, model_name='gpt-3.5-turbo-16k') # gpt-3.5-turbo-16k\n",
    "qa = RetrievalQA.from_chain_type(\n",
    "    llm=llm, chain_type=\"stuff\", retriever=retriever, return_source_documents=False,)"
   ]
  },
  {
   "cell_type": "code",
   "execution_count": 5,
   "id": "5c68369b-2532-4b98-899a-f3ca8913237a",
   "metadata": {},
   "outputs": [],
   "source": [
    "Rule = f\"\"\"\n",
    "There are only 3 options for water stability: \\\n",
    "1. Stable \\\n",
    "2. Unstable \\\n",
    "3. Not provided\\\n",
    "For 1. Stable, \\\n",
    "No change after exposure, soaking or boiling in water or an aqueous solution.\\\n",
    "Water adsorption isotherm should have a steep uptake.\\\n",
    "For 2. Unstable, \\\n",
    "The MOF will decompose after exposure \\\n",
    "to humid environment or partially dissolves in water. \\\n",
    "For 3. Not provided, \\\n",
    "If you don't know or cannot justfy 1 or 2\n",
    "\"\"\"\n",
    "\n",
    "# Steep uptake behavior is from this paper: https://pubs.acs.org/doi/epdf/10.1021/ja306812r"
   ]
  },
  {
   "cell_type": "code",
   "execution_count": 6,
   "id": "a32c21eb-4a39-44fc-9f22-2987d019bae5",
   "metadata": {
    "scrolled": true
   },
   "outputs": [],
   "source": [
    "prompt3a = f\"\"\"\n",
    "    You are an expert chemist. The doc tool describes the water stability properties of a few materials including \\\n",
    "    Metal-Organic Frameworks(MOF) or coordination polymers, Coordination Networks or ZIF compounds. Please find \\\n",
    "    the full name for materials, and their \\\n",
    "    stability in water. \\\n",
    "    Your final answer should contain the following:\\\n",
    "    Your first output is the water stability of each MOF. \\\n",
    "    Your second output for each mof should be a probability score ranging between [0, 1].\\\n",
    "    This probability score shows how certain you are in your answer.\\\n",
    "    Your third output should be exact sentences without any changes from the document that justifies your decision.\\\n",
    "    This should be \"Not provided\" if you cannot find water stability.\\\n",
    "    Rule: {Rule}\\\n",
    "    If there are multiple MOFs, please list them all and put \"MOF name\" before them. \\\n",
    "    You should only respond in JSON format as described below. \n",
    "    Make sure it is parsable using Python json.load.\n",
    "    Make sure \"MOF name\"s do not have duplicates\n",
    "    If information is not provided, state it as not provided.\\\n",
    "    \"\"\""
   ]
  },
  {
   "cell_type": "code",
   "execution_count": 7,
   "id": "2989b4e5-2da3-415e-a5ed-ee6cdc6c14ed",
   "metadata": {},
   "outputs": [
    {
     "data": {
      "text/plain": [
       "'{\\n  \"UiO-66\": {\\n    \"water_stability\": \"Stable\",\\n    \"probability_score\": 0.9,\\n    \"justification\": \"UiO-66 has high thermal and chemical stability, making it suitable for CO2/CH4 gas separation. It has been demonstrated to retain its crystallinity after treatment with water, acetic acid, and 1mHCl solutions.\"\\n  },\\n  \"UiO-66-F\": {\\n    \"water_stability\": \"Unstable\",\\n    \"probability_score\": 0.8,\\n    \"justification\": \"UiO-66-F loses its crystallinity after treatment with 1mNaOH solution, indicating its instability in water.\"\\n  },\\n  \"UiO-66-CH3\": {\\n    \"water_stability\": \"Not provided\",\\n    \"probability_score\": 0.5,\\n    \"justification\": \"Water stability information for UiO-66-CH3 is not provided in the given context.\"\\n  },\\n  \"UiO-66-SO3H\": {\\n    \"water_stability\": \"Stable\",\\n    \"probability_score\": 0.9,\\n    \"justification\": \"UiO-66-SO3H retains its crystallinity after removing guest molecules from the pores, indicating its stability in water.\"\\n  }\\n}'"
      ]
     },
     "execution_count": 7,
     "metadata": {},
     "output_type": "execute_result"
    }
   ],
   "source": [
    "qa = RetrievalQA.from_chain_type(llm=llm, chain_type=\"stuff\", retriever=retriever)\n",
    "qa.run(prompt3a)"
   ]
  },
  {
   "cell_type": "code",
   "execution_count": 8,
   "id": "46a744d6-bfbc-4a63-90f3-e6123a720b32",
   "metadata": {},
   "outputs": [],
   "source": [
    "from langchain.llms import OpenAI\n",
    "\n",
    "llm = OpenAI(temperature=0, model_name='gpt-3.5-turbo-16k') # gpt-3.5-turbo-16k\n",
    "qa = RetrievalQA.from_chain_type(\n",
    "    llm=llm, chain_type=\"stuff\", retriever=retriever, return_source_documents=False,)"
   ]
  },
  {
   "cell_type": "code",
   "execution_count": 9,
   "id": "5789bda3-1847-4c9d-bb87-9d906d558746",
   "metadata": {},
   "outputs": [],
   "source": [
    "from langchain.agents import Tool, tool\n",
    "\n",
    "@tool\n",
    "def eval_justification(justification):\n",
    "    '''\n",
    "    Always use this tool at the last step. This function checks if the justification talks about the water stability perdiction makes sense. \n",
    "    '''\n",
    "    import openai\n",
    "    model=\"gpt-3.5-turbo\"\n",
    "    prompt = f\"\"\"\n",
    "            Does the below sentence talk about water stability on all found MOFS?\\\n",
    "            If not try to find a better justification for the MOF that does not.\\\n",
    "            \n",
    "            \"{justification}\"\\\n",
    "\n",
    "            To do this, you should be looking at information on steep uptakes, change or desolving in water and water stability in the sentence.\\\n",
    "            Do not make up answers. Do not consider chemical or thermal stability or stability in air as a valid reason.\\\n",
    "            \"\"\"\n",
    "    messages = [{\"role\": \"user\", \"content\": prompt}]\n",
    "    response = openai.ChatCompletion.create(\n",
    "        model=model,\n",
    "        messages=messages,\n",
    "        temperature=0, \n",
    "    )\n",
    "    return response.choices[0].message[\"content\"]\n",
    "\n",
    "\n",
    "# tools = [doc_retrival]\n"
   ]
  },
  {
   "cell_type": "code",
   "execution_count": 10,
   "id": "ec4e70fa-9f3f-4ebc-896f-094fe5b76c48",
   "metadata": {},
   "outputs": [],
   "source": [
    "\n",
    "prompt3a = f\"\"\"\n",
    "    You are an expert chemist. The document describes the water stability properties of a few materials including\n",
    "    Metal-Organic Frameworks(MOF) or coordination polymers, Coordination Networks or ZIF compounds. Please find\n",
    "    the exact full name for materials, and their stability in water.\n",
    "    As an example, sentence \"UiO-66-X compounds with X = NO2, NH2, OH, CH3 and (CH3)2 show enhanced CO2 uptake\", contains the five following MOFS:\n",
    "    [UiO-66-NO2, UiO-66-NH2, UiO-66-OH, UiO-66-CH3, UiO-66-(CH3)2], but does not provide any information their water stability.\n",
    "    \n",
    "    Your final answer should contain the following:\n",
    "    Your first output is the water stability of each MOF.\n",
    "    Your second output for each mof should be a probability score ranging between [0, 1].\n",
    "    This probability score shows how certain you are in your answer.\n",
    "    Your third output should be exact sentences without any changes from the document that justifies your decision.\n",
    "    Do not make up a justification that does not exist in the doc.\n",
    "    This should be \"Not provided\" if you cannot find water stability.\n",
    "    Rules: \n",
    "    {Rule}\n",
    "    \n",
    "    IMPORTANT:\n",
    "    1. If there are multiple MOFs, please list them all and put \"MOF name\" before them.\n",
    "    2. You should only respond in JSON format as described below. \n",
    "    3. Make sure it is parsable using Python json.load.\n",
    "    4. Make sure \"MOF name\"s do not have duplicates\n",
    "    5. If information is not provided, state it as not provided.\\\n",
    "    \"\"\""
   ]
  },
  {
   "cell_type": "code",
   "execution_count": 11,
   "id": "ecf31034-bdcd-4623-81f2-4fbbb89f271a",
   "metadata": {},
   "outputs": [
    {
     "data": {
      "text/plain": [
       "'[\\n    {\\n        \"MOF name\": \"UiO-66-CF3\",\\n        \"Water Stability\": \"Stable\",\\n        \"Probability Score\": 1,\\n        \"Justification\": \"The chemical stabilities of the five UiO-66-X compounds were examined by stirring the samples in water, acetic acid,1mHCl and 1 mNaOH solutions for 12 h. Afterwards, the solids were collected by filtration, and their crystallinity was checked by XRPD measurements. All of the solids, except 3-F2, retained their crystallinity after treatment with water, acetic acid and 1 mHCl solutions.\"\\n    },\\n    {\\n        \"MOF name\": \"UiO-66-(CO2H)2\",\\n        \"Water Stability\": \"Stable\",\\n        \"Probability Score\": 1,\\n        \"Justification\": \"The chemical stabilities of the five UiO-66-X compounds were examined by stirring the samples in water, acetic acid,1mHCl and 1 mNaOH solutions for 12 h. Afterwards, the solids were collected by filtration, and their crystallinity was checked by XRPD measurements. All of the solids, except 3-F2, retained their crystallinity after treatment with water, acetic acid and 1 mHCl solutions.\"\\n    },\\n    {\\n        \"MOF name\": \"UiO-66-F2\",\\n        \"Water Stability\": \"Unstable\",\\n        \"Probability Score\": 1,\\n        \"Justification\": \"The chemical stabilities of the five UiO-66-X compounds were examined by stirring the samples in water, acetic acid,1mHCl and 1 mNaOH solutions for 12 h. Afterwards, the solids were collected by filtration, and their crystallinity was checked by XRPD measurements. All of the solids, except 3-F2, retained their crystallinity after treatment with water, acetic acid and 1 mHCl solutions.\"\\n    },\\n    {\\n        \"MOF name\": \"UiO-66-Cl2\",\\n        \"Water Stability\": \"Stable\",\\n        \"Probability Score\": 1,\\n        \"Justification\": \"The chemical stabilities of the five UiO-66-X compounds were examined by stirring the samples in water, acetic acid,1mHCl and 1 mNaOH solutions for 12 h. Afterwards, the solids were collected by filtration, and their crystallinity was checked by XRPD measurements. All of the solids, except 3-F2, retained their crystallinity after treatment with water, acetic acid and 1 mHCl solutions.\"\\n    },\\n    {\\n        \"MOF name\": \"UiO-66-Br2\",\\n        \"Water Stability\": \"Stable\",\\n        \"Probability Score\": 1,\\n        \"Justification\": \"The chemical stabilities of the five UiO-66-X compounds were examined by stirring the samples in water, acetic acid,1mHCl and 1 mNaOH solutions for 12 h. Afterwards, the solids were collected by filtration, and their crystallinity was checked by XRPD measurements. All of the solids, except 3-F2, retained their crystallinity after treatment with water, acetic acid and 1 mHCl solutions.\"\\n    }\\n]'"
      ]
     },
     "execution_count": 11,
     "metadata": {},
     "output_type": "execute_result"
    }
   ],
   "source": [
    "llm = OpenAI(temperature=0, model_name='gpt-4') # gpt-3.5-turbo-16k\n",
    "qa_chain = RetrievalQA.from_chain_type(\n",
    "    llm=llm, chain_type=\"stuff\", retriever=retriever)\n",
    "qa_chain.run(prompt3a)"
   ]
  },
  {
   "cell_type": "code",
   "execution_count": 12,
   "id": "710471a5-feb4-461a-99b6-55e953d05103",
   "metadata": {},
   "outputs": [],
   "source": [
    "@tool\n",
    "def read_doc(input):\n",
    "    '''\n",
    "    Input the users original prompt and get context on water stability of metal organic frameworks.\n",
    "    Always search for the answers using this tool first, don't make up answers yourself.\n",
    "    '''\n",
    "    llm = OpenAI(temperature=0, model_name='gpt-4') # gpt-3.5-turbo-16k\n",
    "    qa_chain = RetrievalQA.from_chain_type(\n",
    "        llm=llm, chain_type=\"stuff\", retriever=retriever)\n",
    "    return qa_chain({\"query\": prompt3a})['result']\n",
    "\n",
    "tools = [\n",
    "    # Tool(\n",
    "    #     name = \"read_doc\",\n",
    "    #     func=qa.run,\n",
    "    #     description=f\"Always use this tool for context. Use the input prompt for this tool to get context about water stability of MOFs.\"\n",
    "    # )\n",
    "    read_doc, eval_justification]\n"
   ]
  },
  {
   "cell_type": "code",
   "execution_count": 13,
   "id": "a05f53c5-f791-4bfc-b20d-ba90a040f4dd",
   "metadata": {},
   "outputs": [],
   "source": [
    "from langchain.memory import ConversationBufferMemory\n",
    "from langchain.chat_models  import ChatOpenAI\n",
    "from langchain.agents import initialize_agent\n",
    "from langchain.agents import AgentType\n",
    "from langchain.callbacks import get_openai_callback\n",
    "\n",
    "agent_llm = OpenAI(temperature=0, model_name='gpt-4')\n",
    "\n",
    "memory = ConversationBufferMemory(memory_key=\"chat_history\")\n",
    "\n",
    "agent_chain = initialize_agent(tools, agent_llm, agent=AgentType.ZERO_SHOT_REACT_DESCRIPTION,\n",
    "                               verbose=True, memory=memory, handle_parsing_errors=True,\n",
    "                              prefix= None, suffix=None, output_parser=None, max_iterations=6)"
   ]
  },
  {
   "cell_type": "code",
   "execution_count": 14,
   "id": "e89c47d0-cd3a-4d6b-8db5-a42bb7d8ea90",
   "metadata": {},
   "outputs": [
    {
     "name": "stdout",
     "output_type": "stream",
     "text": [
      "\n",
      "\n",
      "\u001b[1m> Entering new AgentExecutor chain...\u001b[0m\n",
      "\u001b[32;1m\u001b[1;3mI need to read the document to find all the mentioned MOFs and their water stability. If the document does not provide a reason for the water stability, I will note that in my final answer.\n",
      "Action: read_doc\n",
      "Action Input: 70.pdf\u001b[0m\n",
      "Observation: \u001b[36;1m\u001b[1;3m[\n",
      "    {\n",
      "        \"MOF name\": \"UiO-66-CF3\",\n",
      "        \"Water Stability\": \"Stable\",\n",
      "        \"Probability Score\": 1,\n",
      "        \"Justification\": \"The chemical stabilities of the five UiO-66-X compounds were examined by stirring the samples in water, acetic acid,1mHCl and 1 mNaOH solutions for 12 h. Afterwards, the solids were collected by filtration, and their crystallinity was checked by XRPD measurements. All of the solids, except 3-F2, retained their crystallinity after treatment with water, acetic acid and 1 mHCl solutions.\"\n",
      "    },\n",
      "    {\n",
      "        \"MOF name\": \"UiO-66-(CO2H)2\",\n",
      "        \"Water Stability\": \"Stable\",\n",
      "        \"Probability Score\": 1,\n",
      "        \"Justification\": \"The chemical stabilities of the five UiO-66-X compounds were examined by stirring the samples in water, acetic acid,1mHCl and 1 mNaOH solutions for 12 h. Afterwards, the solids were collected by filtration, and their crystallinity was checked by XRPD measurements. All of the solids, except 3-F2, retained their crystallinity after treatment with water, acetic acid and 1 mHCl solutions.\"\n",
      "    },\n",
      "    {\n",
      "        \"MOF name\": \"UiO-66-F2\",\n",
      "        \"Water Stability\": \"Unstable\",\n",
      "        \"Probability Score\": 1,\n",
      "        \"Justification\": \"The chemical stabilities of the five UiO-66-X compounds were examined by stirring the samples in water, acetic acid,1mHCl and 1 mNaOH solutions for 12 h. Afterwards, the solids were collected by filtration, and their crystallinity was checked by XRPD measurements. All of the solids, except 3-F2, retained their crystallinity after treatment with water, acetic acid and 1 mHCl solutions.\"\n",
      "    },\n",
      "    {\n",
      "        \"MOF name\": \"UiO-66-Cl2\",\n",
      "        \"Water Stability\": \"Stable\",\n",
      "        \"Probability Score\": 1,\n",
      "        \"Justification\": \"The chemical stabilities of the five UiO-66-X compounds were examined by stirring the samples in water, acetic acid,1mHCl and 1 mNaOH solutions for 12 h. Afterwards, the solids were collected by filtration, and their crystallinity was checked by XRPD measurements. All of the solids, except 3-F2, retained their crystallinity after treatment with water, acetic acid and 1 mHCl solutions.\"\n",
      "    },\n",
      "    {\n",
      "        \"MOF name\": \"UiO-66-Br2\",\n",
      "        \"Water Stability\": \"Stable\",\n",
      "        \"Probability Score\": 1,\n",
      "        \"Justification\": \"The chemical stabilities of the five UiO-66-X compounds were examined by stirring the samples in water, acetic acid,1mHCl and 1 mNaOH solutions for 12 h. Afterwards, the solids were collected by filtration, and their crystallinity was checked by XRPD measurements. All of the solids, except 3-F2, retained their crystallinity after treatment with water, acetic acid and 1 mHCl solutions.\"\n",
      "    }\n",
      "]\u001b[0m\n",
      "Thought:\u001b[32;1m\u001b[1;3mI have found all the mentioned MOFs and their water stability from the document. Now I need to evaluate the justification for each MOF's water stability.\n",
      "Action: eval_justification\n",
      "Action Input: \"The chemical stabilities of the five UiO-66-X compounds were examined by stirring the samples in water, acetic acid,1mHCl and 1 mNaOH solutions for 12 h. Afterwards, the solids were collected by filtration, and their crystallinity was checked by XRPD measurements. All of the solids, except 3-F2, retained their crystallinity after treatment with water, acetic acid and 1 mHCl solutions.\"\u001b[0m\n",
      "Observation: \u001b[33;1m\u001b[1;3mYes, the sentence does talk about water stability on all found MOFs. It states that the chemical stabilities of the five UiO-66-X compounds were examined by stirring the samples in water, along with other solutions, and mentions that all of the solids, except 3-F2, retained their crystallinity after treatment with water. Therefore, the sentence provides information about the water stability of the MOFs.\u001b[0m\n",
      "Thought:\u001b[32;1m\u001b[1;3mI now know the final answer.\n",
      "Final Answer: The MOFs mentioned in the paper and their water stability are as follows:\n",
      "1. UiO-66-CF3: Stable. Justification: The chemical stabilities of the five UiO-66-X compounds were examined by stirring the samples in water, acetic acid,1mHCl and 1 mNaOH solutions for 12 h. Afterwards, the solids were collected by filtration, and their crystallinity was checked by XRPD measurements. All of the solids, except 3-F2, retained their crystallinity after treatment with water, acetic acid and 1 mHCl solutions.\n",
      "2. UiO-66-(CO2H)2: Stable. Justification: Same as above.\n",
      "3. UiO-66-F2: Unstable. Justification: Same as above.\n",
      "4. UiO-66-Cl2: Stable. Justification: Same as above.\n",
      "5. UiO-66-Br2: Stable. Justification: Same as above.\u001b[0m\n",
      "\n",
      "\u001b[1m> Finished chain.\u001b[0m\n",
      "Tokens Used: 6759\n",
      "\tPrompt Tokens: 5675\n",
      "\tCompletion Tokens: 1084\n",
      "Successful Requests: 4\n",
      "Total Cost (USD): $0.23529\n"
     ]
    }
   ],
   "source": [
    "input_prompt = f'''You are an expert chemist. Read paper {paper_id}.pdf, find all the mentioned MOFs and their water stability with a justification of your answers.\n",
    "                If you cannot find the reason, have \"Water Stability\" as \"Not provided\" in your final answer.\\\n",
    "\n",
    "'''\n",
    "\n",
    "with get_openai_callback() as cb:\n",
    "    result = agent_chain.run(input=input_prompt)\n",
    "    print(cb)"
   ]
  },
  {
   "cell_type": "code",
   "execution_count": 15,
   "id": "55c17a2e-f611-4ca8-90f2-e6c07e927510",
   "metadata": {},
   "outputs": [
    {
     "name": "stderr",
     "output_type": "stream",
     "text": [
      "Retrying langchain.chat_models.openai.ChatOpenAI.completion_with_retry.<locals>._completion_with_retry in 4.0 seconds as it raised ServiceUnavailableError: The server is overloaded or not ready yet..\n"
     ]
    },
    {
     "data": {
      "text/plain": [
       "{'UiO-66-CF3': {'Predicted Stability': 'Stable',\n",
       "  'Score': 0.9,\n",
       "  'Justification': 'The chemical stabilities of the five UiO-66-X compounds were examined by stirring the samples in water, acetic acid, 1mHCl and 1mNaOH solutions for 12 h. Afterwards, the solids were collected by filtration, and their crystallinity was checked by XRPD measurements. All of the solids, except 3-F2, retained their crystallinity after treatment with water, acetic acid, and 1mHCl solutions.',\n",
       "  'Paper id': '70'},\n",
       " 'UiO-66-(CO2H)2': {'Predicted Stability': 'Stable',\n",
       "  'Score': 0.8,\n",
       "  'Justification': 'Same as above.',\n",
       "  'Paper id': '70'},\n",
       " 'UiO-66-F2': {'Predicted Stability': 'Unstable',\n",
       "  'Score': 0.2,\n",
       "  'Justification': 'Same as above.',\n",
       "  'Paper id': '70'},\n",
       " 'UiO-66-Cl2': {'Predicted Stability': 'Stable',\n",
       "  'Score': 0.7,\n",
       "  'Justification': 'Same as above.',\n",
       "  'Paper id': '70'},\n",
       " 'UiO-66-Br2': {'Predicted Stability': 'Stable',\n",
       "  'Score': 0.6,\n",
       "  'Justification': 'Same as above.',\n",
       "  'Paper id': '70'}}"
      ]
     },
     "execution_count": 15,
     "metadata": {},
     "output_type": "execute_result"
    }
   ],
   "source": [
    "eunomia.parse_to_dict(result, paper_id)"
   ]
  },
  {
   "cell_type": "code",
   "execution_count": null,
   "id": "8c4a80b3-4d9a-4932-970f-447a561251e1",
   "metadata": {},
   "outputs": [],
   "source": []
  }
 ],
 "metadata": {
  "kernelspec": {
   "display_name": "agent",
   "language": "python",
   "name": "agent"
  },
  "language_info": {
   "codemirror_mode": {
    "name": "ipython",
    "version": 3
   },
   "file_extension": ".py",
   "mimetype": "text/x-python",
   "name": "python",
   "nbconvert_exporter": "python",
   "pygments_lexer": "ipython3",
   "version": "3.9.17"
  }
 },
 "nbformat": 4,
 "nbformat_minor": 5
}
