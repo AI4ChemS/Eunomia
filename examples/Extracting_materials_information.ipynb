{
 "cells": [
  {
   "cell_type": "code",
   "execution_count": 1,
   "id": "89a4e695-ac6f-407b-b67f-bb3fe621b86a",
   "metadata": {},
   "outputs": [],
   "source": [
    "import eunomia\n",
    "from eunomia.agents import Eunomia\n",
    "from eunomia.tools import EunomiaTools"
   ]
  },
  {
   "cell_type": "code",
   "execution_count": 2,
   "id": "cf56ce26-055d-4573-9c14-b49d98e26a50",
   "metadata": {},
   "outputs": [],
   "source": [
    "import logging\n",
    "logging.getLogger().setLevel(logging.CRITICAL)\n",
    "import warnings\n",
    "\n",
    "# Disable all warning messages\n",
    "warnings.filterwarnings(\"ignore\")"
   ]
  },
  {
   "cell_type": "markdown",
   "id": "85e7c0d9-652d-4320-94f3-07ffe0e795fb",
   "metadata": {},
   "source": [
    "## Obtaining Water Stability Information from a MOF Paper"
   ]
  },
  {
   "cell_type": "code",
   "execution_count": 3,
   "id": "ef84c915-398b-44f8-bcb7-2b8fe3044161",
   "metadata": {},
   "outputs": [],
   "source": [
    "paper_id = 69\n",
    "paper_file =f'../Data/chosen_papers/{paper_id}.pdf'\n",
    "docs_processor = eunomia.LoadDoc(file_name=paper_file, encoding=\"utf8\")\n",
    "sliced_pages = docs_processor.process(['references ', 'acknowledgement', 'acknowledgments', 'references\\n'],\n",
    "                                             chunk_size=1000, chunk_overlap=20, chunking_type='fixed-size')"
   ]
  },
  {
   "cell_type": "code",
   "execution_count": 4,
   "id": "4f91e223-7591-4f7f-9399-a605d3dd70e8",
   "metadata": {},
   "outputs": [],
   "source": [
    "from langchain.vectorstores import FAISS\n",
    "from langchain.embeddings.openai import OpenAIEmbeddings\n",
    "\n",
    "Embedding_model = 'text-embedding-ada-002' \n",
    "faiss_index_path = f\"../Data/chosen_papers/faiss/{Embedding_model}/faiss_index_{Embedding_model}_{paper_id}.pkl\"\n",
    "faiss_index = FAISS.from_documents(sliced_pages, OpenAIEmbeddings(model=Embedding_model))"
   ]
  },
  {
   "cell_type": "code",
   "execution_count": 5,
   "id": "2491b61b-d899-4174-9db9-e791c8b6d893",
   "metadata": {},
   "outputs": [
    {
     "name": "stdout",
     "output_type": "stream",
     "text": [
      "\n",
      "\n",
      "\u001b[1m> Entering new AgentExecutor chain...\u001b[0m\n",
      "\u001b[32;1m\u001b[1;3mI need to read the document first to find information about the water stability of MOFs.\n",
      "Action: read_doc\n",
      "Action Input: User's original prompt\u001b[0mThis model's maximum context length is 8192 tokens. However, your messages resulted in 9134 tokens. Please reduce the length of the messages.\n",
      "\n",
      "k=9 results hitting the token limit for the chosen LLM. Reducing k and retrying...\n",
      "\n",
      "This model's maximum context length is 8192 tokens. However, your messages resulted in 8459 tokens. Please reduce the length of the messages.\n",
      "\n",
      "k=8 results hitting the token limit for the chosen LLM. Reducing k and retrying...\n",
      "\n",
      "\n",
      "Observation: \u001b[36;1m\u001b[1;3m1. MOF: [ZrO(O2C-R-CO2)] (R =C6H4(MIL-140A), C10H6(B), C12H8(C), C12N2H6Cl2(D))\n",
      "   Water Stability: Stable\n",
      "   Probability Score: 0.9\n",
      "   Justification: \"The MIL-140 solids crystallize in the space group(SG) C2/c(No. 15) (MIL-140A and C) or Cc (No. 9) (MIL-140B and D; Supporting Information, Table S3). These solids all have the same cparameter (ca. 7.8 /C138), consistent with the inorganic subunit of complex zirconium oxide chains, ori- ented along the caxis (Figure 1), connected to six other chains through the dicarboxylate linkers. This delimits triangular channels along the caxis.\" and \"The MIL-140 solids are highly stable with a slightly higher thermal stability, of around 500 8C under air, against 450 8C for the UiOs.\"\n",
      "   \n",
      "2. MOF: UiO-66(Zr)\n",
      "   Water Stability: Stable\n",
      "   Probability Score: 0.9\n",
      "   Justification: \"UiO-66(Zr) is stable up to 450 8C under air and remains unaltered upon water adsorp- tion/desorption cycles by switching reversibly between dehy- droxylated and hydroxylated versions, [9,11]and has an excep- tional stability under mechanical stimulus.\"\n",
      "\n",
      "3. Paper's DOI: Not provided.\u001b[0m\n",
      "Thought:\u001b[32;1m\u001b[1;3mThe document provides information about the water stability of two MOFs: [ZrO(O2C-R-CO2)] and UiO-66(Zr). Both are reported to be stable. However, I need to validate the justifications provided for their water stability.\n",
      "Action: eval_justification\n",
      "Action Input: \"The MIL-140 solids crystallize in the space group(SG) C2/c(No. 15) (MIL-140A and C) or Cc (No. 9) (MIL-140B and D; Supporting Information, Table S3). These solids all have the same cparameter (ca. 7.8 /C138), consistent with the inorganic subunit of complex zirconium oxide chains, ori- ented along the caxis (Figure 1), connected to six other chains through the dicarboxylate linkers. This delimits triangular channels along the caxis.\" and \"The MIL-140 solids are highly stable with a slightly higher thermal stability, of around 500 8C under air, against 450 8C for the UiOs.\"\u001b[0m\n",
      "Observation: \u001b[33;1m\u001b[1;3mThe provided sentences do not provide information about the water stability of the found MOF. They discuss the crystalline structure and thermal stability of the MIL-140 solids, but do not mention their behavior or stability in water or when exposed to water/steam. Therefore, the water stability of the MOF cannot be determined from these sentences.\u001b[0m\n",
      "Thought:\u001b[32;1m\u001b[1;3mThe justification for the water stability of [ZrO(O2C-R-CO2)] is not valid as it does not mention anything about its behavior or stability in water. I need to find a better justification for its water stability.\n",
      "Action: recheck_justification\n",
      "Action Input: [ZrO(O2C-R-CO2)]\u001b[0m\n",
      "Observation: \u001b[38;5;200m\u001b[1;3m1. The water stability of the MOF is Stable.\n",
      "2. The probability score is 1.\n",
      "3. The exact sentences from the document that justify my decision are: \"Thermogravimetric analysis (TGA) and IR spectroscopy were therefore used to qualitatively assess the hydrophobic character of these solids. TGA measurements have shown that the samples exhibit almost no loss of free water.\" and \"Optical water vapor adsorption isotherms have been collected (Figure S29) and show that these solids can be considered as being more hydrophobic than the UiO-66 counterpart which is fully loaded with water at intermediate humidity rate ( P/P 0=0.5):[11]Only a little adsorption occurs at low pressure, particularly for the smaller pore size MIL-140A and B solids, probably corresponding to coordination to the metal sites; at higher pressure, a filling of the pores starts, as typically observed for some activated carbons or siliceous zeolites.\"\u001b[0m\n",
      "Thought:\u001b[32;1m\u001b[1;3mThe new justification provides information about the water stability of [ZrO(O2C-R-CO2)]. It mentions that the MOF exhibits almost no loss of free water and that it can be considered more hydrophobic than the UiO-66 counterpart. This suggests that the MOF is stable in water. Now, I need to validate the justification for the water stability of UiO-66(Zr).\n",
      "Action: eval_justification\n",
      "Action Input: \"UiO-66(Zr) is stable up to 450 8C under air and remains unaltered upon water adsorp- tion/desorption cycles by switching reversibly between dehy- droxylated and hydroxylated versions, [9,11]and has an excep- tional stability under mechanical stimulus.\"\u001b[0m\n",
      "Observation: \u001b[33;1m\u001b[1;3mThe sentence does talk about the water stability of the found MOF. It mentions that UiO-66(Zr) remains unaltered upon water adsorption/desorption cycles, implying that it is stable in water.\n",
      "\n",
      "Water Stability: Stable\u001b[0m\n",
      "Thought:\u001b[32;1m\u001b[1;3mThe justification for the water stability of UiO-66(Zr) is valid as it mentions that the MOF remains unaltered upon water adsorption/desorption cycles. Therefore, both MOFs [ZrO(O2C-R-CO2)] and UiO-66(Zr) are stable in water.\n",
      "Final Answer: The MOFs [ZrO(O2C-R-CO2)] and UiO-66(Zr) are stable in water. The justification for the water stability of [ZrO(O2C-R-CO2)] is that it exhibits almost no loss of free water and can be considered more hydrophobic than the UiO-66 counterpart. The justification for the water stability of UiO-66(Zr) is that it remains unaltered upon water adsorption/desorption cycles.\u001b[0m\n",
      "\n",
      "\u001b[1m> Finished chain.\u001b[0m\n",
      "Tokens Used: 19576\n",
      "\tPrompt Tokens: 18347\n",
      "\tCompletion Tokens: 1229\n",
      "Successful Requests: 7\n",
      "Total Cost (USD): $0.62415\n"
     ]
    },
    {
     "data": {
      "text/plain": [
       "'The MOFs [ZrO(O2C-R-CO2)] and UiO-66(Zr) are stable in water. The justification for the water stability of [ZrO(O2C-R-CO2)] is that it exhibits almost no loss of free water and can be considered more hydrophobic than the UiO-66 counterpart. The justification for the water stability of UiO-66(Zr) is that it remains unaltered upon water adsorption/desorption cycles.'"
      ]
     },
     "execution_count": 5,
     "metadata": {},
     "output_type": "execute_result"
    }
   ],
   "source": [
    "tools = EunomiaTools(tool_names = ['read_doc', 'eval_justification', 'recheck_justification'], vectorstore=faiss_index).get_tools()\n",
    "agent = Eunomia(tools=tools, model='gpt-4', get_cost=True)\n",
    "agent.run(prompt=\"Read the document and find the MOFS and their water stability.\\\n",
    "            \\Check your answers and if the reasoning is not valid, try to find better reasons.\")"
   ]
  }
 ],
 "metadata": {
  "kernelspec": {
   "display_name": "agent",
   "language": "python",
   "name": "agent"
  },
  "language_info": {
   "codemirror_mode": {
    "name": "ipython",
    "version": 3
   },
   "file_extension": ".py",
   "mimetype": "text/x-python",
   "name": "python",
   "nbconvert_exporter": "python",
   "pygments_lexer": "ipython3",
   "version": "3.9.17"
  }
 },
 "nbformat": 4,
 "nbformat_minor": 5
}
