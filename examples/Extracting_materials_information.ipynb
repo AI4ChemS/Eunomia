{
 "cells": [
  {
   "cell_type": "code",
   "execution_count": 1,
   "id": "89a4e695-ac6f-407b-b67f-bb3fe621b86a",
   "metadata": {},
   "outputs": [],
   "source": [
    "import eunomia\n",
    "from eunomia.agents import Eunomia\n",
    "from eunomia.tools import EunomiaTools"
   ]
  },
  {
   "cell_type": "code",
   "execution_count": 2,
   "id": "cf56ce26-055d-4573-9c14-b49d98e26a50",
   "metadata": {},
   "outputs": [],
   "source": [
    "import logging\n",
    "logging.getLogger().setLevel(logging.CRITICAL)\n",
    "import warnings\n",
    "\n",
    "# Disable all warning messages\n",
    "warnings.filterwarnings(\"ignore\")"
   ]
  },
  {
   "cell_type": "markdown",
   "id": "85e7c0d9-652d-4320-94f3-07ffe0e795fb",
   "metadata": {},
   "source": [
    "## Obtaining Water Stability Information from a MOF Paper"
   ]
  },
  {
   "cell_type": "code",
   "execution_count": 3,
   "id": "ef84c915-398b-44f8-bcb7-2b8fe3044161",
   "metadata": {},
   "outputs": [],
   "source": [
    "paper_id = 69\n",
    "paper_file =f'../data/{paper_id}.pdf'\n",
    "docs_processor = eunomia.LoadDoc(file_name=paper_file, encoding=\"utf8\")\n",
    "sliced_pages = docs_processor.process(['references ', 'acknowledgement', 'acknowledgments', 'references\\n'],\n",
    "                                             chunk_size=1000, chunk_overlap=20, chunking_type='fixed-size')"
   ]
  },
  {
   "cell_type": "code",
   "execution_count": 4,
   "id": "4f91e223-7591-4f7f-9399-a605d3dd70e8",
   "metadata": {},
   "outputs": [],
   "source": [
    "from langchain.vectorstores import FAISS\n",
    "from langchain.embeddings.openai import OpenAIEmbeddings\n",
    "\n",
    "Embedding_model = 'text-embedding-ada-002' \n",
    "faiss_index = FAISS.from_documents(sliced_pages, OpenAIEmbeddings(model=Embedding_model))"
   ]
  },
  {
   "cell_type": "code",
   "execution_count": 5,
   "id": "2491b61b-d899-4174-9db9-e791c8b6d893",
   "metadata": {},
   "outputs": [
    {
     "name": "stdout",
     "output_type": "stream",
     "text": [
      "\n",
      "\n",
      "\u001b[1m> Entering new AgentExecutor chain...\u001b[0m\n",
      "\u001b[32;1m\u001b[1;3mI need to first read the document to identify the MOFs and their water stability.\n",
      "Action: read_doc\n",
      "Action Input: User's original prompt\u001b[0mThis model's maximum context length is 8192 tokens. However, your messages resulted in 9134 tokens. Please reduce the length of the messages.\n",
      "\n",
      "k=9 results hitting the token limit for the chosen LLM. Reducing k and retrying...\n",
      "\n",
      "This model's maximum context length is 8192 tokens. However, your messages resulted in 8459 tokens. Please reduce the length of the messages.\n",
      "\n",
      "k=8 results hitting the token limit for the chosen LLM. Reducing k and retrying...\n",
      "\n",
      "\n",
      "Observation: \u001b[36;1m\u001b[1;3mThe document mentions several Metal-Organic Frameworks (MOFs) including UiO-66, MIL-140A, MIL-140B, MIL-140C, and MIL-140D. \n",
      "\n",
      "1. UiO-66: The water stability of UiO-66 is not explicitly mentioned in the document. However, it is mentioned that UiO-66 is stable up to 450°C under air and remains unaltered upon water adsorption/desorption cycles. This suggests that UiO-66 may have some degree of water stability. Probability score: 0.7. Justifying sentence: \"UiO-66(Zr) is stable up to 450 8C under air and remains unaltered upon water adsorption/desorption cycles.\"\n",
      "\n",
      "2. MIL-140A: The document mentions that MIL-140A exhibits almost no loss of free water, suggesting it has some degree of water stability. Probability score: 0.7. Justifying sentence: \"TGA measurements have shown that the samples exhibit almost no loss of free water.\"\n",
      "\n",
      "3. MIL-140B: Similar to MIL-140A, MIL-140B also exhibits almost no loss of free water, suggesting it has some degree of water stability. Probability score: 0.7. Justifying sentence: \"TGA measurements have shown that the samples exhibit almost no loss of free water.\"\n",
      "\n",
      "4. MIL-140C: The document mentions that MIL-140C is highly stable with a slightly higher thermal stability of around 500°C under air. However, the document does not provide explicit information about its water stability. Probability score: 0.5. Justifying sentence: \"It appears that MIL-140s are highly stable with a slightly higher thermal stability, of around 500 8C under air.\"\n",
      "\n",
      "5. MIL-140D: Similar to MIL-140C, the document mentions that MIL-140D is highly stable with a slightly higher thermal stability of around 500°C under air. However, the document does not provide explicit information about its water stability. Probability score: 0.5. Justifying sentence: \"It appears that MIL-140s are highly stable with a slightly higher thermal stability, of around 500 8C under air.\"\n",
      "\n",
      "Paper's DOI: Not provided.\u001b[0m\n",
      "Thought:\u001b[32;1m\u001b[1;3mI have identified the MOFs and their water stability from the document. Now, I need to validate the justifications for each MOF's water stability.\n",
      "Action: eval_justification\n",
      "Action Input: \"UiO-66(Zr) is stable up to 450 8C under air and remains unaltered upon water adsorption/desorption cycles.\"\u001b[0m\n",
      "Observation: \u001b[33;1m\u001b[1;3mThe sentence does talk about the water stability of the found MOF. The MOF, UiO-66(Zr), remains unaltered upon water adsorption/desorption cycles, implying that it is stable in water.\n",
      "\n",
      "Water Stability: Stable\u001b[0m\n",
      "Thought:\u001b[32;1m\u001b[1;3mThe justification for UiO-66's water stability is valid. Now, I need to validate the justification for MIL-140A's water stability.\n",
      "Action: eval_justification\n",
      "Action Input: \"TGA measurements have shown that the samples exhibit almost no loss of free water.\"\u001b[0m\n",
      "Observation: \u001b[33;1m\u001b[1;3mThe sentence does not directly talk about the water stability of the found MOF. It mentions the lack of loss of free water in TGA measurements, but this does not necessarily imply water stability. The document would need to provide information on the MOF's performance or structural integrity after exposure to water or steam, its solubility in water, or any changes in its properties or crystallinity due to water exposure. Without this information, a definitive statement on water stability cannot be made.\u001b[0m\n",
      "Thought:\u001b[32;1m\u001b[1;3mThe justification for MIL-140A's water stability is not valid. I need to recheck the document for a better justification.\n",
      "Action: recheck_justification\n",
      "Action Input: MIL-140A\u001b[0m\n",
      "Observation: \u001b[38;5;200m\u001b[1;3m1. The water stability of MIL-140A is Stable.\n",
      "2. The probability score is 1.\n",
      "3. The justifying sentences from the document are: \"First, it appears, based on XRPD analysis, that MIL-140 compounds are hydrothermally stable, that is, after an overnight dispersion in deionized water at 100 8C (Figure 3), no loss of crystallinity occurs, even for the upper analogues.\" and \"Optical water vapor adsorption isotherms have been collected (Figure S29) and show that these solids can be considered as being more hydrophobic than the UiO-66 counterpart which is fully loaded with water at intermediate humidity rate ( P/P 0=0.5):[11]Only a little adsorption occurs at low pressure, particularly for the smaller pore size MIL-140A and B solids, probably corresponding to coordination to the metal sites; at higher pressure, a filling of the pores starts, as typically observed for some activated carbons or siliceous zeolites.\"\u001b[0m\n",
      "Thought:\u001b[32;1m\u001b[1;3mThe rechecked justification for MIL-140A's water stability is valid. Now, I need to validate the justification for MIL-140B's water stability.\n",
      "Action: eval_justification\n",
      "Action Input: \"TGA measurements have shown that the samples exhibit almost no loss of free water.\"\u001b[0m\n",
      "Observation: \u001b[33;1m\u001b[1;3mThe sentence does not directly talk about the water stability of the found MOF. It mentions the lack of loss of free water in TGA measurements, but this does not necessarily imply water stability. The document does not provide enough information to determine the water stability of the MOF.\u001b[0m\n",
      "Thought:\u001b[32;1m\u001b[1;3mThe justification for MIL-140B's water stability is not valid. I need to recheck the document for a better justification.\n",
      "Action: recheck_justification\n",
      "Action Input: MIL-140B\u001b[0m\n",
      "Observation: \u001b[38;5;200m\u001b[1;3m1. The water stability of MIL-140B is Stable.\n",
      "2. The probability score is 1.\n",
      "3. The justifying sentences from the document are: \"First, it appears, based on XRPD analysis, that MIL-140 compounds are hydrothermally stable, that is, after an overnight dispersion in deionized water at 100 8C (Figure 3), no loss of crystallinity occurs, even for the upper analogues.\" and \"Interestingly, no peaks from the recrystallized dicarboxylate linkers are observed after the hydrothermal treatment. Considering the poor solubility of these linkers in water and the position of the remaining diffraction peaks of the sample after hydrothermal treatment, close to the main peaks of the initial phase, this data suggest a loss of long range order only.\"\u001b[0m\n",
      "Thought:\u001b[32;1m\u001b[1;3mThe rechecked justification for MIL-140B's water stability is valid. Now, I need to validate the justification for MIL-140C's water stability.\n",
      "Action: eval_justification\n",
      "Action Input: \"It appears that MIL-140s are highly stable with a slightly higher thermal stability, of around 500 8C under air.\"\u001b[0m\n",
      "Observation: \u001b[33;1m\u001b[1;3mThe sentence does not provide information about the water stability of the found MOF. It only mentions the thermal stability of the MOF in air.\u001b[0m\n",
      "Thought:\u001b[32;1m\u001b[1;3mThe justification for MIL-140C's water stability is not valid. I need to recheck the document for a better justification.\n",
      "Action: recheck_justification\n",
      "Action Input: MIL-140C\u001b[0m\n",
      "Observation: \u001b[38;5;200m\u001b[1;3m1. The water stability of the MOF is Stable.\n",
      "2. The probability score is 1.\n",
      "3. The exact sentences from the document that justify my decision are: \"First, it appears, based on XRPD analysis, that MIL-140 compounds are hydrothermally stable, that is, after an overnight dispersion in deionized water at 100 8C (Figure 3), no loss of crystallinity occurs, even for the upper analogues.\" and \"Thus, it can be estimated that UiOs and their polymorph MIL-140s are the kinetic or thermodynamic phases, respectively. To our knowledge, this is the first time that a series of isoreticular extended solids exhibits a hydrothermal stability.\"\u001b[0m\n",
      "Thought:\u001b[32;1m\u001b[1;3mThe rechecked justification for MIL-140C's water stability is valid. Now, I need to validate the justification for MIL-140D's water stability.\n",
      "Action: eval_justification\n"
     ]
    },
    {
     "name": "stdout",
     "output_type": "stream",
     "text": [
      "Action Input: \"It appears that MIL-140s are highly stable with a slightly higher thermal stability, of around 500 8C under air.\"\u001b[0m\n",
      "Observation: \u001b[33;1m\u001b[1;3mThe sentence does not provide information about the water stability of the found MOF. It only mentions the thermal stability of the MOF in air.\u001b[0m\n",
      "Thought:\u001b[32;1m\u001b[1;3mThe justification for MIL-140D's water stability is not valid. I need to recheck the document for a better justification.\n",
      "Action: recheck_justification\n",
      "Action Input: MIL-140D\u001b[0m\n",
      "Observation: \u001b[38;5;200m\u001b[1;3m1. The water stability of the MOF is Stable.\n",
      "2. The probability score is 1.\n",
      "3. The exact sentences from the document that justify my decision are: \"First, it appears, based on XRPD analysis, that MIL-140 compounds are hydrothermally stable, that is, after an overnight dispersion in deionized water at 100 8C (Figure 3), no loss of crystallinity occurs, even for the upper analogues.\" and \"Thus, it can be estimated that UiOs and their polymorph MIL-140s are the kinetic or thermodynamic phases, respectively. To our knowledge, this is the first time that a series of isoreticular extended solids exhibits a hydrothermal stability.\"\u001b[0m\n",
      "Thought:\u001b[32;1m\u001b[1;3mI have now validated the justifications for all the MOFs' water stability. The final water stability for each MOF is as follows: UiO-66 is stable, MIL-140A is stable, MIL-140B is stable, MIL-140C is stable, and MIL-140D is stable.\n",
      "Final Answer: The water stability of the MOFs is as follows: UiO-66 is stable, MIL-140A is stable, MIL-140B is stable, MIL-140C is stable, and MIL-140D is stable.\u001b[0m\n",
      "\n",
      "\u001b[1m> Finished chain.\u001b[0m\n",
      "Tokens Used: 49320\n",
      "\tPrompt Tokens: 47522\n",
      "\tCompletion Tokens: 1798\n",
      "Successful Requests: 16\n",
      "Total Cost (USD): $1.5335399999999997\n"
     ]
    },
    {
     "data": {
      "text/plain": [
       "'The water stability of the MOFs is as follows: UiO-66 is stable, MIL-140A is stable, MIL-140B is stable, MIL-140C is stable, and MIL-140D is stable.'"
      ]
     },
     "execution_count": 5,
     "metadata": {},
     "output_type": "execute_result"
    }
   ],
   "source": [
    "tools = EunomiaTools(tool_names = ['read_doc', 'eval_justification', 'recheck_justification'], vectorstore=faiss_index).get_tools()\n",
    "agent = Eunomia(tools=tools, model='gpt-4', get_cost=True)\n",
    "agent.run(prompt=\"Read the document and find the MOFS and their water stability.\\\n",
    "            \\Check your answers and if the reasoning is not valid, try to find better reasons.\")"
   ]
  }
 ],
 "metadata": {
  "kernelspec": {
   "display_name": "agent",
   "language": "python",
   "name": "agent"
  },
  "language_info": {
   "codemirror_mode": {
    "name": "ipython",
    "version": 3
   },
   "file_extension": ".py",
   "mimetype": "text/x-python",
   "name": "python",
   "nbconvert_exporter": "python",
   "pygments_lexer": "ipython3",
   "version": "3.9.18"
  }
 },
 "nbformat": 4,
 "nbformat_minor": 5
}
