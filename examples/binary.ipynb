{
 "cells": [
  {
   "cell_type": "code",
   "execution_count": 1,
   "id": "c309a390",
   "metadata": {},
   "outputs": [
    {
     "name": "stderr",
     "output_type": "stream",
     "text": [
      "C:\\Users\\mehra\\anaconda3\\envs\\elm\\lib\\site-packages\\fuzzywuzzy\\fuzz.py:11: UserWarning: Using slow pure-python SequenceMatcher. Install python-Levenshtein to remove this warning\n",
      "  warnings.warn('Using slow pure-python SequenceMatcher. Install python-Levenshtein to remove this warning')\n"
     ]
    }
   ],
   "source": [
    "import os\n",
    "import eunomia\n",
    "import pickle\n"
   ]
  },
  {
   "cell_type": "code",
   "execution_count": 27,
   "id": "1bc680a1",
   "metadata": {},
   "outputs": [],
   "source": [
    "paper_id = '29'\n",
    "docs_processor = eunomia.LoadDoc('../Data/SI_PDF/', paper_id=paper_id)\n",
    "sliced_pages = docs_processor.process(['references ', 'acknowledgement', 'acknowledgments'],\n",
    "                                             chunk_size=None, chunk_overlap=0)"
   ]
  },
  {
   "cell_type": "code",
   "execution_count": 3,
   "id": "62e739b4",
   "metadata": {},
   "outputs": [
    {
     "name": "stdout",
     "output_type": "stream",
     "text": [
      "loadded Embeddings\n"
     ]
    }
   ],
   "source": [
    "from langchain.chains import RetrievalQA\n",
    "from langchain.embeddings.openai import OpenAIEmbeddings\n",
    "from langchain.vectorstores import FAISS\n",
    "\n",
    "k = 8\n",
    "Embedding_model = 'text-davinci-003' # text-embedding-ada-002\n",
    "\n",
    "faiss_index_path = f\"../Data/faiss/{Embedding_model}/faiss_index_{Embedding_model}_{paper_id}.pkl\"\n",
    "just_load = True\n",
    "if os.path.isfile(faiss_index_path) and just_load:\n",
    "    print('loadded Embeddings')\n",
    "    with open(faiss_index_path, \"rb\") as f:\n",
    "        faiss_index = pickle.load(f)\n",
    "else:\n",
    "    with open(faiss_index_path, \"wb\") as f:  # text-embedding-ada-002\n",
    "        faiss_index = FAISS.from_documents(sliced_pages, OpenAIEmbeddings(model=Embedding_model))    # 'text-davinci-003\n",
    "        pickle.dump(faiss_index, f)\n",
    "retriever  = faiss_index.as_retriever(search_type=\"mmr\", search_kwargs={\"k\":k}) # Maximum Marginal Relevance Retrieval\n"
   ]
  },
  {
   "cell_type": "code",
   "execution_count": 4,
   "id": "6847af41",
   "metadata": {},
   "outputs": [
    {
     "name": "stderr",
     "output_type": "stream",
     "text": [
      "C:\\Users\\mehra\\anaconda3\\envs\\elm\\lib\\site-packages\\langchain\\llms\\openai.py:173: UserWarning: You are trying to use a chat model. This way of initializing it is no longer supported. Instead, please use: `from langchain.chat_models import ChatOpenAI`\n",
      "  warnings.warn(\n",
      "C:\\Users\\mehra\\anaconda3\\envs\\elm\\lib\\site-packages\\langchain\\llms\\openai.py:753: UserWarning: You are trying to use a chat model. This way of initializing it is no longer supported. Instead, please use: `from langchain.chat_models import ChatOpenAI`\n",
      "  warnings.warn(\n"
     ]
    }
   ],
   "source": [
    "from langchain.llms import OpenAI\n",
    "from langchain.chat_models  import ChatOpenAI\n",
    "llm = OpenAI(temperature=0, model_name='gpt-3.5-turbo-16k') # gpt-3.5-turbo-16k\n",
    "qa = RetrievalQA.from_chain_type(\n",
    "    llm=llm, chain_type=\"stuff\", retriever=retriever, return_source_documents=False,)"
   ]
  },
  {
   "cell_type": "code",
   "execution_count": 5,
   "id": "9ecf9e07",
   "metadata": {},
   "outputs": [
    {
     "name": "stdout",
     "output_type": "stream",
     "text": [
      "{'query': 'What is DOI, paper title, published journal?', 'result': 'The DOI (Digital Object Identifier) is 10.1038/ncomms1956. The paper title is \"Microporous metal-organic framework with potential for carbon dioxide capture at ambient conditions\". The published journal is Nature Communications.'}\n",
      "Tokens Used: 4798\n",
      "\tPrompt Tokens: 4750\n",
      "\tCompletion Tokens: 48\n",
      "Successful Requests: 1\n",
      "Total Cost (USD): $0.014442\n"
     ]
    }
   ],
   "source": [
    "query = 'What is DOI, paper title, published journal?'\n",
    "\n",
    "from langchain.callbacks import get_openai_callback\n",
    "with get_openai_callback() as cb:\n",
    "    result = qa({\"query\": query})\n",
    "    print(result)\n",
    "    print(cb)"
   ]
  },
  {
   "cell_type": "code",
   "execution_count": 6,
   "id": "9da65689",
   "metadata": {},
   "outputs": [],
   "source": [
    "Rule = f\"\"\"\n",
    "\n",
    "There are only 2 options for water stability: \\\n",
    "1. Stable \\\n",
    "2. Unstable \\\n",
    "\n",
    "For 1. Stable, \\\n",
    "The MOF should be stable to keep structure integrity \\\n",
    "after exposure to aqueous solution. \\\n",
    "\n",
    "For 2. Unstable, \\\n",
    "The MOF will decompose after exposure \\\n",
    "to humid environment. \\\n",
    "\n",
    "\"\"\""
   ]
  },
  {
   "cell_type": "code",
   "execution_count": 7,
   "id": "a012dcdb",
   "metadata": {},
   "outputs": [
    {
     "name": "stdout",
     "output_type": "stream",
     "text": [
      "{'query': '\\n    This doc describes the water stability properties of afew     Metal-Organic Framework(MOF) compound. Please find     the full name for all MOFs, and the     water stability corresponding to each MOF.     Please use the following rules to identify    the water stability of each MOF. \\n    Rule: ```\\n\\nThere are only 2 options for water stability: 1. Stable 2. Unstable \\nFor 1. Stable, The MOF should be stable to keep structure integrity after exposure to aqueous solution. \\nFor 2. Unstable, The MOF will decompose after exposure to humid environment. \\n``` \\n    If there are multiple MOFs, please list them all and put \"MOF name\" before them. \\n    You should only respond in JSON format as described below. \\n    \\n    Make sure it is parsable using Python json.load.\\n    \\n    Make sure \"MOF name\"s do not have duplicates\\n\\n    If information is not provided, state it as not provided.\\n    ', 'result': '{\\n  \"MOF name\": \"UTSA-16\",\\n  \"Water Stability\": \"Stable\"\\n}'}\n",
      "Tokens Used: 5384\n",
      "\tPrompt Tokens: 5361\n",
      "\tCompletion Tokens: 23\n",
      "Successful Requests: 1\n",
      "Total Cost (USD): $0.016175\n"
     ]
    }
   ],
   "source": [
    "prompt3a = f\"\"\"\n",
    "    This doc describes the water stability properties of afew \\\n",
    "    Metal-Organic Framework(MOF) compound. Please find \\\n",
    "    the full name for all MOFs, and the \\\n",
    "    water stability corresponding to each MOF. \\\n",
    "    Please use the following rules to identify\\\n",
    "    the water stability of each MOF. \\\n",
    "\n",
    "    Rule: ```{Rule}``` \\\n",
    "\n",
    "    If there are multiple MOFs, please list them all and put \"MOF name\" before them. \\\n",
    "\n",
    "    You should only respond in JSON format as described below. \n",
    "    \n",
    "    Make sure it is parsable using Python json.load.\n",
    "    \n",
    "    Make sure \"MOF name\"s do not have duplicates\n",
    "\n",
    "    If information is not provided, state it as not provided.\\\n",
    "\n",
    "    \"\"\"\n",
    "\n",
    "from langchain.callbacks import get_openai_callback\n",
    "with get_openai_callback() as cb:\n",
    "    result = qa({\"query\": prompt3a})\n",
    "    print(result)\n",
    "    print(cb)"
   ]
  },
  {
   "cell_type": "code",
   "execution_count": 8,
   "id": "b71db0a8",
   "metadata": {},
   "outputs": [],
   "source": [
    "from typing import List\n",
    "from pydantic import BaseModel, Field, validator, ValidationError\n",
    "from langchain.output_parsers import OutputFixingParser, PydanticOutputParser\n",
    "# def parse_to_dict(result, paper_id):\n",
    "\n",
    "#     class MOF(BaseModel):\n",
    "#         name: str = Field(description=\"name of a MOF\")\n",
    "#         stability: str = Field(description=\"choose only one: stable or unstable or not provided\")\n",
    "\n",
    "#         def name_not_provided(cls, field):\n",
    "#             if field == \"Not Provided\":\n",
    "# #                 raise ValueError(\"Dummy-MOF!\")\n",
    "#                 field = 'Dummy-MOF'\n",
    "#             return field\n",
    "    \n",
    "#     class MOFList(BaseModel):\n",
    "#         MOFs: List[MOF]\n",
    "\n",
    "#     from langchain.output_parsers import PydanticOutputParser\n",
    "#     parser = PydanticOutputParser(pydantic_object=MOF)\n",
    "#     llm_parser = OutputFixingParser.from_llm(parser=parser, llm=ChatOpenAI(temperature=0))  \n",
    "    \n",
    "# #     print(result['result'])\n",
    "#     parsed_result = llm_parser.parse(result['result'].strip(\"'\").replace(\"\\\\\", \"\"))\n",
    "#     dict_response = dict(zip(parsed_result.name, parsed_result.stability))\n",
    "#     new_dict = {}\n",
    "#     for i, (key, value) in enumerate(dict_response.items(), start=1):\n",
    "#         new_dict[key] = {'Predicted Stability': value, 'Paper id': paper_id}\n",
    "#     return new_dict\n",
    "\n",
    "def parse_to_dict(result, paper_id):\n",
    "    from typing import List\n",
    "    from langchain.output_parsers import PydanticOutputParser\n",
    "\n",
    "    class MOF(BaseModel):\n",
    "        name: str = Field(description=\"name of a MOF\")\n",
    "        stability: str = Field(description=\"choose only one: stable or unstable or not provided\")\n",
    "\n",
    "    class MOFList(BaseModel):\n",
    "        MOFs: List[MOF]\n",
    "\n",
    "    parser = PydanticOutputParser(pydantic_object=MOFList)\n",
    "    llm_parser = OutputFixingParser.from_llm(parser=parser, llm=ChatOpenAI(temperature=0))\n",
    "\n",
    "    try:\n",
    "        parsed_result = llm_parser.parse(result['result'])\n",
    "    except OutputParserException as e:\n",
    "        raise OutputParserException(f\"Failed to parse MOF: {e}\", llm_output=result['result'])\n",
    "\n",
    "    dict_response = {mof.name: mof.stability for mof in parsed_result.MOFs}\n",
    "    new_dict = {key: {'Predicted Stability': value, 'Paper id': paper_id} for key, value in dict_response.items()}\n",
    "    return new_dict"
   ]
  },
  {
   "cell_type": "code",
   "execution_count": 9,
   "id": "1e8f29e3",
   "metadata": {},
   "outputs": [
    {
     "data": {
      "text/plain": [
       "{'UTSA-16': {'Predicted Stability': 'stable', 'Paper id': '69'}}"
      ]
     },
     "execution_count": 9,
     "metadata": {},
     "output_type": "execute_result"
    }
   ],
   "source": [
    "predictions_dict = parse_to_dict(result, paper_id)\n",
    "predictions_dict"
   ]
  },
  {
   "cell_type": "code",
   "execution_count": 10,
   "id": "37d0049c",
   "metadata": {},
   "outputs": [],
   "source": [
    "import os\n",
    "import pickle\n",
    "from langchain.callbacks import get_openai_callback\n",
    "from langchain.chains import RetrievalQA\n",
    "from langchain.llms import OpenAI\n",
    "from langchain.chat_models  import ChatOpenAI\n",
    "\n",
    "\n",
    "def retriev_QA(paper_id, LLM_model, Embedding_model, k, temperature):\n",
    "    mofpaper_path = '../Data/SI_PDF/' + paper_id + '.pdf'\n",
    "    print(mofpaper_path)\n",
    "    with get_openai_callback() as cb:\n",
    "        docs_processor = eunomia.LoadDoc('../Data/SI_PDF/', paper_id=str(paper_id))\n",
    "        sliced_pages = docs_processor.process(['references ', 'acknowledgement', 'acknowledgments'],\n",
    "                                                     chunk_size=None, chunk_overlap=0)\n",
    "        print(len(docs_processor.pages), len(sliced_pages))\n",
    "        faiss_index_path = f\"../Data/faiss/{Embedding_model}/faiss_index_{Embedding_model}_{paper_id}.pkl\"\n",
    "        if os.path.isfile(faiss_index_path):\n",
    "            with open(faiss_index_path, \"rb\") as f:\n",
    "                faiss_index = pickle.load(f)\n",
    "        else:\n",
    "            with open(faiss_index_path, \"wb\") as f:\n",
    "                faiss_index = FAISS.from_documents(sliced_pages, OpenAIEmbeddings(model=Embedding_model))   #text-davinci-003\n",
    "                pickle.dump(faiss_index, f)\n",
    "        retriever  = faiss_index.as_retriever(search_type=\"mmr\", search_kwargs={\"k\":k}) # Maximum Marginal Relevance Retrieval        \n",
    "#         retriever  = faiss_index.as_retriever(search_type=\"similarity_score_threshold\", search_kwargs={\"score_threshold\": .8}) # Maximum Marginal Relevance Retrieval        \n",
    "        qa = RetrievalQA.from_chain_type(\n",
    "            llm=ChatOpenAI(model=LLM_model, temperature=temperature), chain_type=\"stuff\", retriever=retriever, return_source_documents=False)\n",
    "        answer = qa({\"query\": prompt3a})\n",
    "        predictions_dict = parse_to_dict(answer, paper_id)\n",
    "        return predictions_dict, cb.total_cost"
   ]
  },
  {
   "cell_type": "code",
   "execution_count": 16,
   "id": "701ba35e",
   "metadata": {
    "scrolled": true
   },
   "outputs": [
    {
     "name": "stderr",
     "output_type": "stream",
     "text": [
      "\r",
      "  0%|                                                                                                                                                                                 | 0/111 [00:00<?, ?it/s]"
     ]
    },
    {
     "name": "stdout",
     "output_type": "stream",
     "text": [
      "Paper 1\n",
      "../Data/SI_PDF/1.pdf\n",
      "15 13\n"
     ]
    },
    {
     "name": "stderr",
     "output_type": "stream",
     "text": [
      "\r",
      "  1%|█▌                                                                                                                                                                       | 1/111 [00:07<13:53,  7.57s/it]"
     ]
    },
    {
     "name": "stdout",
     "output_type": "stream",
     "text": [
      "\n",
      " Total cost: $0.01808\n",
      "\n",
      "Paper 2\n",
      "../Data/SI_PDF/2.pdf\n",
      "15 15\n"
     ]
    },
    {
     "name": "stderr",
     "output_type": "stream",
     "text": [
      "\r",
      "  2%|███                                                                                                                                                                      | 2/111 [00:18<16:59,  9.35s/it]"
     ]
    },
    {
     "name": "stdout",
     "output_type": "stream",
     "text": [
      "\n",
      " Total cost: $0.041041999999999995\n",
      "\n",
      "Paper 3\n",
      "../Data/SI_PDF/3.pdf\n",
      "8 8\n"
     ]
    },
    {
     "name": "stderr",
     "output_type": "stream",
     "text": [
      "\r",
      "  3%|████▌                                                                                                                                                                    | 3/111 [00:28<17:26,  9.69s/it]"
     ]
    },
    {
     "name": "stdout",
     "output_type": "stream",
     "text": [
      "\n",
      " Total cost: $0.0625245\n",
      "\n",
      "Paper 4\n",
      "../Data/SI_PDF/4.pdf\n",
      "11 11\n"
     ]
    },
    {
     "name": "stderr",
     "output_type": "stream",
     "text": [
      "\r",
      "  4%|██████                                                                                                                                                                   | 4/111 [00:36<16:24,  9.20s/it]"
     ]
    },
    {
     "name": "stdout",
     "output_type": "stream",
     "text": [
      "\n",
      " Total cost: $0.0862705\n",
      "\n",
      "Paper 5\n",
      "../Data/SI_PDF/5.pdf\n",
      "31 25\n"
     ]
    },
    {
     "name": "stderr",
     "output_type": "stream",
     "text": [
      "\r",
      "  5%|███████▌                                                                                                                                                                 | 5/111 [00:44<15:12,  8.61s/it]"
     ]
    },
    {
     "name": "stdout",
     "output_type": "stream",
     "text": [
      "\n",
      " Total cost: $0.10369400000000001\n",
      "\n",
      "Paper 6\n",
      "../Data/SI_PDF/6.pdf\n",
      "10 9\n"
     ]
    },
    {
     "name": "stderr",
     "output_type": "stream",
     "text": [
      "\r",
      "  5%|█████████▏                                                                                                                                                               | 6/111 [00:50<13:40,  7.81s/it]"
     ]
    },
    {
     "name": "stdout",
     "output_type": "stream",
     "text": [
      "\n",
      " Total cost: $0.12352300000000001\n",
      "\n",
      "Paper 7\n",
      "../Data/SI_PDF/7.pdf\n",
      "6 4\n"
     ]
    },
    {
     "name": "stderr",
     "output_type": "stream",
     "text": [
      "\r",
      "  6%|██████████▋                                                                                                                                                              | 7/111 [00:53<10:53,  6.29s/it]"
     ]
    },
    {
     "name": "stdout",
     "output_type": "stream",
     "text": [
      "\n",
      " Total cost: $0.135054\n",
      "\n",
      "Paper 8\n",
      "../Data/SI_PDF/8.pdf\n",
      "15 13\n"
     ]
    },
    {
     "name": "stderr",
     "output_type": "stream",
     "text": [
      "\r",
      "  7%|████████████▏                                                                                                                                                            | 8/111 [00:59<10:43,  6.25s/it]"
     ]
    },
    {
     "name": "stdout",
     "output_type": "stream",
     "text": [
      "\n",
      " Total cost: $0.1590905\n",
      "\n",
      "Paper 9\n",
      "../Data/SI_PDF/9.pdf\n",
      "8 5\n"
     ]
    },
    {
     "name": "stderr",
     "output_type": "stream",
     "text": [
      "\r",
      "  8%|█████████████▋                                                                                                                                                           | 9/111 [01:03<09:11,  5.40s/it]"
     ]
    },
    {
     "name": "stdout",
     "output_type": "stream",
     "text": [
      "\n",
      " Total cost: $0.173143\n",
      "\n",
      "Paper 10\n",
      "../Data/SI_PDF/10.pdf\n",
      "7 6\n"
     ]
    },
    {
     "name": "stderr",
     "output_type": "stream",
     "text": [
      "\r",
      "  9%|███████████████▏                                                                                                                                                        | 10/111 [01:08<08:57,  5.32s/it]"
     ]
    },
    {
     "name": "stdout",
     "output_type": "stream",
     "text": [
      "\n",
      " Total cost: $0.1870845\n",
      "\n",
      "Paper 11\n",
      "../Data/SI_PDF/11.pdf\n",
      "6 6\n"
     ]
    },
    {
     "name": "stderr",
     "output_type": "stream",
     "text": [
      "\r",
      " 10%|████████████████▋                                                                                                                                                       | 11/111 [01:11<07:54,  4.75s/it]"
     ]
    },
    {
     "name": "stdout",
     "output_type": "stream",
     "text": [
      "\n",
      " Total cost: $0.203459\n",
      "\n",
      "Paper 12\n",
      "../Data/SI_PDF/12.pdf\n",
      "120 16\n"
     ]
    },
    {
     "name": "stderr",
     "output_type": "stream",
     "text": [
      "\r",
      " 11%|██████████████████▏                                                                                                                                                     | 12/111 [01:45<22:07, 13.41s/it]"
     ]
    },
    {
     "name": "stdout",
     "output_type": "stream",
     "text": [
      "\n",
      " Total cost: $0.213025\n",
      "\n",
      "Paper 13\n",
      "../Data/SI_PDF/13.pdf\n",
      "16 13\n"
     ]
    },
    {
     "name": "stderr",
     "output_type": "stream",
     "text": [
      "\r",
      " 12%|███████████████████▋                                                                                                                                                    | 13/111 [01:58<21:54, 13.41s/it]"
     ]
    },
    {
     "name": "stdout",
     "output_type": "stream",
     "text": [
      "\n",
      " Total cost: $0.234978\n",
      "\n",
      "Paper 14\n",
      "../Data/SI_PDF/14.pdf\n",
      "8 8\n"
     ]
    },
    {
     "name": "stderr",
     "output_type": "stream",
     "text": [
      "\r",
      " 13%|█████████████████████▏                                                                                                                                                  | 14/111 [02:04<17:51, 11.05s/it]"
     ]
    },
    {
     "name": "stdout",
     "output_type": "stream",
     "text": [
      "\n",
      " Total cost: $0.2606515\n",
      "\n",
      "Paper 15\n",
      "../Data/SI_PDF/15.pdf\n",
      "10 8\n"
     ]
    },
    {
     "name": "stderr",
     "output_type": "stream",
     "text": [
      "\r",
      " 14%|██████████████████████▋                                                                                                                                                 | 15/111 [02:07<13:59,  8.74s/it]"
     ]
    },
    {
     "name": "stdout",
     "output_type": "stream",
     "text": [
      "\n",
      " Total cost: $0.28220399999999995\n",
      "\n",
      "Paper 16\n",
      "../Data/SI_PDF/16.pdf\n",
      "12 12\n"
     ]
    },
    {
     "name": "stderr",
     "output_type": "stream",
     "text": [
      "\r",
      " 14%|████████████████████████▏                                                                                                                                               | 16/111 [02:24<17:50, 11.27s/it]"
     ]
    },
    {
     "name": "stdout",
     "output_type": "stream",
     "text": [
      "\n",
      " Total cost: $0.30363300000000004\n",
      "\n",
      "Paper 17\n",
      "../Data/SI_PDF/17.pdf\n",
      "4 4\n"
     ]
    },
    {
     "name": "stderr",
     "output_type": "stream",
     "text": [
      "\r",
      " 15%|█████████████████████████▋                                                                                                                                              | 17/111 [02:32<15:56, 10.18s/it]"
     ]
    },
    {
     "name": "stdout",
     "output_type": "stream",
     "text": [
      "\n",
      " Total cost: $0.31643800000000005\n",
      "\n",
      "Paper 18\n",
      "../Data/SI_PDF/18.pdf\n",
      "9 9\n"
     ]
    },
    {
     "name": "stderr",
     "output_type": "stream",
     "text": [
      "\r",
      " 16%|███████████████████████████▏                                                                                                                                            | 18/111 [02:45<16:55, 10.92s/it]"
     ]
    },
    {
     "name": "stdout",
     "output_type": "stream",
     "text": [
      "\n",
      " Total cost: $0.33645500000000006\n",
      "\n",
      "Paper 19\n",
      "../Data/SI_PDF/19.pdf\n",
      "8 8\n"
     ]
    },
    {
     "name": "stderr",
     "output_type": "stream",
     "text": [
      "\r",
      " 17%|████████████████████████████▊                                                                                                                                           | 19/111 [02:49<13:44,  8.96s/it]"
     ]
    },
    {
     "name": "stdout",
     "output_type": "stream",
     "text": [
      "\n",
      " Total cost: $0.36040150000000004\n",
      "\n",
      "Paper 20\n",
      "../Data/SI_PDF/20.pdf\n",
      "6 6\n"
     ]
    },
    {
     "name": "stderr",
     "output_type": "stream",
     "text": [
      "\r",
      " 18%|██████████████████████████████▎                                                                                                                                         | 20/111 [02:52<10:51,  7.16s/it]"
     ]
    },
    {
     "name": "stdout",
     "output_type": "stream",
     "text": [
      "\n",
      " Total cost: $0.37845400000000007\n",
      "\n",
      "Paper 21\n",
      "../Data/SI_PDF/21.pdf\n",
      "28 23\n"
     ]
    },
    {
     "name": "stderr",
     "output_type": "stream",
     "text": [
      "\r",
      " 19%|███████████████████████████████▊                                                                                                                                        | 21/111 [03:06<13:57,  9.30s/it]"
     ]
    },
    {
     "name": "stdout",
     "output_type": "stream",
     "text": [
      "\n",
      " Total cost: $0.3937460000000001\n",
      "\n",
      "Paper 22\n",
      "../Data/SI_PDF/22.pdf\n",
      "4 4\n"
     ]
    },
    {
     "name": "stderr",
     "output_type": "stream",
     "text": [
      "\r",
      " 20%|█████████████████████████████████▎                                                                                                                                      | 22/111 [03:10<11:13,  7.57s/it]"
     ]
    },
    {
     "name": "stdout",
     "output_type": "stream",
     "text": [
      "\n",
      " Total cost: $0.4078405000000001\n",
      "\n",
      "Paper 23\n",
      "../Data/SI_PDF/23.pdf\n",
      "11 9\n"
     ]
    },
    {
     "name": "stderr",
     "output_type": "stream",
     "text": [
      "\r",
      " 21%|██████████████████████████████████▊                                                                                                                                     | 23/111 [03:15<10:12,  6.96s/it]"
     ]
    },
    {
     "name": "stdout",
     "output_type": "stream",
     "text": [
      "\n",
      " Total cost: $0.4275290000000001\n",
      "\n",
      "Paper 24\n",
      "../Data/SI_PDF/24.pdf\n",
      "15 13\n"
     ]
    },
    {
     "name": "stderr",
     "output_type": "stream",
     "text": [
      "\r",
      " 22%|████████████████████████████████████▎                                                                                                                                   | 24/111 [03:23<10:18,  7.11s/it]"
     ]
    },
    {
     "name": "stdout",
     "output_type": "stream",
     "text": [
      "\n",
      " Total cost: $0.441863\n",
      "\n",
      "Paper 25\n",
      "../Data/SI_PDF/25.pdf\n",
      "13 8\n"
     ]
    },
    {
     "name": "stderr",
     "output_type": "stream",
     "text": [
      "\r",
      " 23%|█████████████████████████████████████▊                                                                                                                                  | 25/111 [03:28<09:23,  6.55s/it]"
     ]
    },
    {
     "name": "stdout",
     "output_type": "stream",
     "text": [
      "\n",
      " Total cost: $0.4632525\n",
      "\n",
      "Paper 26\n",
      "../Data/SI_PDF/26.pdf\n",
      "6 6\n"
     ]
    },
    {
     "name": "stderr",
     "output_type": "stream",
     "text": [
      "\r",
      " 23%|███████████████████████████████████████▎                                                                                                                                | 26/111 [03:35<09:30,  6.72s/it]"
     ]
    },
    {
     "name": "stdout",
     "output_type": "stream",
     "text": [
      "\n",
      " Total cost: $0.484707\n",
      "\n",
      "Paper 27\n",
      "../Data/SI_PDF/27.pdf\n",
      "13 11\n"
     ]
    },
    {
     "name": "stderr",
     "output_type": "stream",
     "text": [
      "\r",
      " 24%|████████████████████████████████████████▊                                                                                                                               | 27/111 [03:43<09:42,  6.93s/it]"
     ]
    },
    {
     "name": "stdout",
     "output_type": "stream",
     "text": [
      "\n",
      " Total cost: $0.505977\n",
      "\n",
      "Paper 28\n",
      "../Data/SI_PDF/28.pdf\n",
      "7 6\n"
     ]
    },
    {
     "name": "stderr",
     "output_type": "stream",
     "text": [
      "\r",
      " 25%|██████████████████████████████████████████▍                                                                                                                             | 28/111 [03:46<08:01,  5.80s/it]"
     ]
    },
    {
     "name": "stdout",
     "output_type": "stream",
     "text": [
      "\n",
      " Total cost: $0.5195705\n",
      "\n",
      "Paper 29\n",
      "../Data/SI_PDF/29.pdf\n",
      "13 13\n"
     ]
    },
    {
     "name": "stderr",
     "output_type": "stream",
     "text": [
      "\r",
      " 26%|███████████████████████████████████████████▉                                                                                                                            | 29/111 [03:54<08:49,  6.46s/it]"
     ]
    },
    {
     "name": "stdout",
     "output_type": "stream",
     "text": [
      "\n",
      " Total cost: $0.5457460000000001\n",
      "\n",
      "Paper 30\n",
      "../Data/SI_PDF/30.pdf\n",
      "9 7\n"
     ]
    },
    {
     "name": "stderr",
     "output_type": "stream",
     "text": [
      "\r",
      " 27%|█████████████████████████████████████████████▍                                                                                                                          | 30/111 [03:57<07:35,  5.62s/it]"
     ]
    },
    {
     "name": "stdout",
     "output_type": "stream",
     "text": [
      "\n",
      " Total cost: $0.5601865\n",
      "\n",
      "Paper 31\n",
      "../Data/SI_PDF/31.pdf\n",
      "7 6\n"
     ]
    },
    {
     "name": "stderr",
     "output_type": "stream",
     "text": [
      "\r",
      " 28%|██████████████████████████████████████████████▉                                                                                                                         | 31/111 [04:02<06:56,  5.21s/it]"
     ]
    },
    {
     "name": "stdout",
     "output_type": "stream",
     "text": [
      "\n",
      " Total cost: $0.5746695\n",
      "\n",
      "Paper 32\n",
      "../Data/SI_PDF/32.pdf\n",
      "5 4\n"
     ]
    },
    {
     "name": "stderr",
     "output_type": "stream",
     "text": [
      "\r",
      " 29%|████████████████████████████████████████████████▍                                                                                                                       | 32/111 [04:06<06:26,  4.89s/it]"
     ]
    },
    {
     "name": "stdout",
     "output_type": "stream",
     "text": [
      "\n",
      " Total cost: $0.5864195\n",
      "\n",
      "Paper 33\n",
      "../Data/SI_PDF/33.pdf\n",
      "24 21\n"
     ]
    },
    {
     "name": "stderr",
     "output_type": "stream",
     "text": [
      "\r",
      " 30%|█████████████████████████████████████████████████▉                                                                                                                      | 33/111 [04:39<17:18, 13.32s/it]"
     ]
    },
    {
     "name": "stdout",
     "output_type": "stream",
     "text": [
      "\n",
      " Total cost: $0.6097135\n",
      "\n",
      "Paper 34\n",
      "../Data/SI_PDF/34.pdf\n",
      "6 6\n"
     ]
    },
    {
     "name": "stderr",
     "output_type": "stream",
     "text": [
      "\r",
      " 31%|███████████████████████████████████████████████████▍                                                                                                                    | 34/111 [04:42<13:12, 10.29s/it]"
     ]
    },
    {
     "name": "stdout",
     "output_type": "stream",
     "text": [
      "\n",
      " Total cost: $0.626129\n",
      "\n",
      "Paper 35\n",
      "../Data/SI_PDF/35.pdf\n",
      "13 12\n"
     ]
    },
    {
     "name": "stderr",
     "output_type": "stream",
     "text": [
      "\r",
      " 32%|████████████████████████████████████████████████████▉                                                                                                                   | 35/111 [04:48<11:34,  9.14s/it]"
     ]
    },
    {
     "name": "stdout",
     "output_type": "stream",
     "text": [
      "\n",
      " Total cost: $0.645563\n",
      "\n",
      "Paper 36\n",
      "../Data/SI_PDF/36.pdf\n",
      "7 7\n"
     ]
    },
    {
     "name": "stderr",
     "output_type": "stream",
     "text": [
      "\r",
      " 32%|██████████████████████████████████████████████████████▍                                                                                                                 | 36/111 [04:55<10:31,  8.42s/it]"
     ]
    },
    {
     "name": "stdout",
     "output_type": "stream",
     "text": [
      "\n",
      " Total cost: $0.663795\n",
      "\n",
      "Paper 37\n",
      "../Data/SI_PDF/37.pdf\n",
      "7 6\n"
     ]
    },
    {
     "name": "stderr",
     "output_type": "stream",
     "text": [
      "\r",
      " 33%|████████████████████████████████████████████████████████                                                                                                                | 37/111 [05:03<10:07,  8.21s/it]"
     ]
    },
    {
     "name": "stdout",
     "output_type": "stream",
     "text": [
      "\n",
      " Total cost: $0.6791320000000001\n",
      "\n",
      "Paper 38\n",
      "../Data/SI_PDF/38.pdf\n",
      "13 11\n"
     ]
    },
    {
     "name": "stderr",
     "output_type": "stream",
     "text": [
      "\r",
      " 34%|█████████████████████████████████████████████████████████▌                                                                                                              | 38/111 [05:10<09:33,  7.86s/it]"
     ]
    },
    {
     "name": "stdout",
     "output_type": "stream",
     "text": [
      "\n",
      " Total cost: $0.6978700000000001\n",
      "\n",
      "Paper 39\n",
      "../Data/SI_PDF/39.pdf\n",
      "21 18\n"
     ]
    },
    {
     "name": "stderr",
     "output_type": "stream",
     "text": [
      "\r",
      " 35%|███████████████████████████████████████████████████████████                                                                                                             | 39/111 [05:21<10:44,  8.96s/it]"
     ]
    },
    {
     "name": "stdout",
     "output_type": "stream",
     "text": [
      "\n",
      " Total cost: $0.7219845000000001\n",
      "\n",
      "Paper 40\n",
      "../Data/SI_PDF/40.pdf\n",
      "15 12\n"
     ]
    },
    {
     "name": "stderr",
     "output_type": "stream",
     "text": [
      "\r",
      " 36%|████████████████████████████████████████████████████████████▌                                                                                                           | 40/111 [05:33<11:23,  9.63s/it]"
     ]
    },
    {
     "name": "stdout",
     "output_type": "stream",
     "text": [
      "\n",
      " Total cost: $0.7389145\n",
      "\n",
      "Paper 41\n",
      "../Data/SI_PDF/41.pdf\n",
      "16 13\n"
     ]
    },
    {
     "name": "stderr",
     "output_type": "stream",
     "text": [
      "\r",
      " 37%|██████████████████████████████████████████████████████████████                                                                                                          | 41/111 [05:42<11:10,  9.59s/it]"
     ]
    },
    {
     "name": "stdout",
     "output_type": "stream",
     "text": [
      "\n",
      " Total cost: $0.763511\n",
      "\n",
      "Paper 42\n",
      "../Data/SI_PDF/42.pdf\n",
      "13 10\n"
     ]
    },
    {
     "name": "stderr",
     "output_type": "stream",
     "text": [
      "\r",
      " 38%|███████████████████████████████████████████████████████████████▌                                                                                                        | 42/111 [05:52<11:00,  9.58s/it]"
     ]
    },
    {
     "name": "stdout",
     "output_type": "stream",
     "text": [
      "\n",
      " Total cost: $0.7848670000000001\n",
      "\n",
      "Paper 43\n",
      "../Data/SI_PDF/43.pdf\n",
      "6 6\n"
     ]
    },
    {
     "name": "stderr",
     "output_type": "stream",
     "text": [
      "\r",
      " 39%|█████████████████████████████████████████████████████████████████                                                                                                       | 43/111 [05:57<09:18,  8.21s/it]"
     ]
    },
    {
     "name": "stdout",
     "output_type": "stream",
     "text": [
      "\n",
      " Total cost: $0.8075000000000001\n",
      "\n",
      "Paper 44\n",
      "../Data/SI_PDF/44.pdf\n",
      "11 9\n"
     ]
    },
    {
     "name": "stderr",
     "output_type": "stream",
     "text": [
      "\r",
      " 40%|██████████████████████████████████████████████████████████████████▌                                                                                                     | 44/111 [06:02<08:10,  7.32s/it]"
     ]
    },
    {
     "name": "stdout",
     "output_type": "stream",
     "text": [
      "\n",
      " Total cost: $0.8263725000000001\n",
      "\n",
      "Paper 45\n",
      "../Data/SI_PDF/45.pdf\n",
      "9 6\n"
     ]
    },
    {
     "name": "stderr",
     "output_type": "stream",
     "text": [
      "Retrying langchain.chat_models.openai.ChatOpenAI.completion_with_retry.<locals>._completion_with_retry in 1.0 seconds as it raised ServiceUnavailableError: The server is overloaded or not ready yet..\n",
      " 41%|████████████████████████████████████████████████████████████████████                                                                                                    | 45/111 [06:42<18:44, 17.03s/it]"
     ]
    },
    {
     "name": "stdout",
     "output_type": "stream",
     "text": [
      "\n",
      " Total cost: $0.8428040000000001\n",
      "\n",
      "Paper 46\n",
      "../Data/SI_PDF/46.pdf\n",
      "6 5\n"
     ]
    },
    {
     "name": "stderr",
     "output_type": "stream",
     "text": [
      "\r",
      " 41%|█████████████████████████████████████████████████████████████████████▌                                                                                                  | 46/111 [06:49<15:10, 14.00s/it]"
     ]
    },
    {
     "name": "stdout",
     "output_type": "stream",
     "text": [
      "\n",
      " Total cost: $0.8567690000000001\n",
      "\n",
      "Paper 47\n",
      "../Data/SI_PDF/47.pdf\n",
      "9 9\n"
     ]
    },
    {
     "name": "stderr",
     "output_type": "stream",
     "text": [
      "\r",
      " 42%|███████████████████████████████████████████████████████████████████████▏                                                                                                | 47/111 [07:00<14:12, 13.31s/it]"
     ]
    },
    {
     "name": "stdout",
     "output_type": "stream",
     "text": [
      "\n",
      " Total cost: $0.8780110000000001\n",
      "\n",
      "Paper 48\n",
      "../Data/SI_PDF/48.pdf\n",
      "18 15\n"
     ]
    },
    {
     "name": "stderr",
     "output_type": "stream",
     "text": [
      "\r",
      " 43%|████████████████████████████████████████████████████████████████████████▋                                                                                               | 48/111 [07:06<11:28, 10.93s/it]"
     ]
    },
    {
     "name": "stdout",
     "output_type": "stream",
     "text": [
      "\n",
      " Total cost: $0.9002129999999999\n",
      "\n",
      "Paper 49\n",
      "../Data/SI_PDF/49.pdf\n",
      "9 9\n"
     ]
    },
    {
     "name": "stderr",
     "output_type": "stream",
     "text": [
      "\r",
      " 44%|██████████████████████████████████████████████████████████████████████████▏                                                                                             | 49/111 [07:15<10:42, 10.37s/it]"
     ]
    },
    {
     "name": "stdout",
     "output_type": "stream",
     "text": [
      "\n",
      " Total cost: $0.9246509999999999\n",
      "\n",
      "Paper 50\n",
      "../Data/SI_PDF/50.pdf\n",
      "10 9\n"
     ]
    },
    {
     "name": "stderr",
     "output_type": "stream",
     "text": [
      "\r",
      " 45%|███████████████████████████████████████████████████████████████████████████▋                                                                                            | 50/111 [07:25<10:40, 10.50s/it]"
     ]
    },
    {
     "name": "stdout",
     "output_type": "stream",
     "text": [
      "\n",
      " Total cost: $0.9463519999999999\n",
      "\n",
      "Paper 51\n",
      "../Data/SI_PDF/51.pdf\n",
      "6 6\n"
     ]
    },
    {
     "name": "stderr",
     "output_type": "stream",
     "text": [
      "Retrying langchain.chat_models.openai.ChatOpenAI.completion_with_retry.<locals>._completion_with_retry in 1.0 seconds as it raised ServiceUnavailableError: The server is overloaded or not ready yet..\n",
      " 46%|█████████████████████████████████████████████████████████████████████████████▏                                                                                          | 51/111 [08:30<26:33, 26.56s/it]"
     ]
    },
    {
     "name": "stdout",
     "output_type": "stream",
     "text": [
      "\n",
      " Total cost: $0.9663629999999999\n",
      "\n",
      "Paper 52\n",
      "../Data/SI_PDF/52.pdf\n",
      "11 10\n"
     ]
    },
    {
     "name": "stderr",
     "output_type": "stream",
     "text": [
      "\r",
      " 47%|██████████████████████████████████████████████████████████████████████████████▋                                                                                         | 52/111 [08:35<19:51, 20.19s/it]"
     ]
    },
    {
     "name": "stdout",
     "output_type": "stream",
     "text": [
      "\n",
      " Total cost: $0.9839589999999998\n",
      "\n",
      "Paper 53\n",
      "../Data/SI_PDF/53.pdf\n",
      "6 6\n"
     ]
    },
    {
     "name": "stderr",
     "output_type": "stream",
     "text": [
      "\r",
      " 48%|████████████████████████████████████████████████████████████████████████████████▏                                                                                       | 53/111 [08:44<16:18, 16.87s/it]"
     ]
    },
    {
     "name": "stdout",
     "output_type": "stream",
     "text": [
      "\n",
      " Total cost: $1.0043779999999998\n",
      "\n",
      "Paper 54\n",
      "../Data/SI_PDF/54.pdf\n",
      "17 17\n"
     ]
    },
    {
     "name": "stderr",
     "output_type": "stream",
     "text": [
      "\r",
      " 49%|█████████████████████████████████████████████████████████████████████████████████▋                                                                                      | 54/111 [08:56<14:43, 15.51s/it]"
     ]
    },
    {
     "name": "stdout",
     "output_type": "stream",
     "text": [
      "\n",
      " Total cost: $1.0229079999999997\n",
      "\n",
      "Paper 55\n",
      "../Data/SI_PDF/55.pdf\n",
      "13 7\n"
     ]
    },
    {
     "name": "stderr",
     "output_type": "stream",
     "text": [
      "\r",
      " 50%|███████████████████████████████████████████████████████████████████████████████████▏                                                                                    | 55/111 [09:01<11:19, 12.13s/it]"
     ]
    },
    {
     "name": "stdout",
     "output_type": "stream",
     "text": [
      "\n",
      " Total cost: $1.0421994999999997\n",
      "\n",
      "Paper 56\n",
      "../Data/SI_PDF/56.pdf\n",
      "9 9\n"
     ]
    },
    {
     "name": "stderr",
     "output_type": "stream",
     "text": [
      "\r",
      " 50%|████████████████████████████████████████████████████████████████████████████████████▊                                                                                   | 56/111 [09:10<10:19, 11.26s/it]"
     ]
    },
    {
     "name": "stdout",
     "output_type": "stream",
     "text": [
      "\n",
      " Total cost: $1.064552\n",
      "\n",
      "Paper 57\n",
      "../Data/SI_PDF/57.pdf\n",
      "4 4\n"
     ]
    },
    {
     "name": "stderr",
     "output_type": "stream",
     "text": [
      "\r",
      " 51%|██████████████████████████████████████████████████████████████████████████████████████▎                                                                                 | 57/111 [09:20<09:48, 10.90s/it]"
     ]
    },
    {
     "name": "stdout",
     "output_type": "stream",
     "text": [
      "\n",
      " Total cost: $1.079033\n",
      "\n",
      "Paper 58\n",
      "../Data/SI_PDF/58.pdf\n",
      "8 8\n"
     ]
    },
    {
     "name": "stderr",
     "output_type": "stream",
     "text": [
      "\r",
      " 52%|███████████████████████████████████████████████████████████████████████████████████████▊                                                                                | 58/111 [09:24<07:50,  8.87s/it]"
     ]
    },
    {
     "name": "stdout",
     "output_type": "stream",
     "text": [
      "\n",
      " Total cost: $1.1017584999999999\n",
      "\n",
      "Paper 59\n",
      "../Data/SI_PDF/59.pdf\n",
      "13 11\n"
     ]
    },
    {
     "name": "stderr",
     "output_type": "stream",
     "text": [
      "\r",
      " 53%|█████████████████████████████████████████████████████████████████████████████████████████▎                                                                              | 59/111 [09:30<06:50,  7.89s/it]"
     ]
    },
    {
     "name": "stdout",
     "output_type": "stream",
     "text": [
      "\n",
      " Total cost: $1.1251339999999999\n",
      "\n",
      "Paper 60\n",
      "../Data/SI_PDF/60.pdf\n",
      "12 10\n"
     ]
    },
    {
     "name": "stderr",
     "output_type": "stream",
     "text": [
      "\r",
      " 54%|██████████████████████████████████████████████████████████████████████████████████████████▊                                                                             | 60/111 [09:35<05:59,  7.04s/it]"
     ]
    },
    {
     "name": "stdout",
     "output_type": "stream",
     "text": [
      "\n",
      " Total cost: $1.1421759999999999\n",
      "\n",
      "Paper 61\n",
      "../Data/SI_PDF/61.pdf\n",
      "15 12\n"
     ]
    },
    {
     "name": "stderr",
     "output_type": "stream",
     "text": [
      "\r",
      " 55%|████████████████████████████████████████████████████████████████████████████████████████████▎                                                                           | 61/111 [09:45<06:42,  8.04s/it]"
     ]
    },
    {
     "name": "stdout",
     "output_type": "stream",
     "text": [
      "\n",
      " Total cost: $1.163393\n",
      "\n",
      "Paper 62\n",
      "../Data/SI_PDF/62.pdf\n",
      "13 13\n"
     ]
    },
    {
     "name": "stderr",
     "output_type": "stream",
     "text": [
      "\r",
      " 56%|█████████████████████████████████████████████████████████████████████████████████████████████▊                                                                          | 62/111 [09:54<06:41,  8.20s/it]"
     ]
    },
    {
     "name": "stdout",
     "output_type": "stream",
     "text": [
      "\n",
      " Total cost: $1.188037\n",
      "\n",
      "Paper 63\n",
      "../Data/SI_PDF/63.pdf\n",
      "14 11\n"
     ]
    },
    {
     "name": "stderr",
     "output_type": "stream",
     "text": [
      "\r",
      " 57%|███████████████████████████████████████████████████████████████████████████████████████████████▎                                                                        | 63/111 [10:07<07:54,  9.88s/it]"
     ]
    },
    {
     "name": "stdout",
     "output_type": "stream",
     "text": [
      "\n",
      " Total cost: $1.2102140000000001\n",
      "\n",
      "Paper 64\n",
      "../Data/SI_PDF/64.pdf\n",
      "19 16\n"
     ]
    },
    {
     "name": "stderr",
     "output_type": "stream",
     "text": [
      "\r",
      " 58%|████████████████████████████████████████████████████████████████████████████████████████████████▊                                                                       | 64/111 [10:20<08:24, 10.73s/it]"
     ]
    },
    {
     "name": "stdout",
     "output_type": "stream",
     "text": [
      "\n",
      " Total cost: $1.2243659999999998\n",
      "\n",
      "Paper 65\n",
      "../Data/SI_PDF/65.pdf\n",
      "12 12\n"
     ]
    },
    {
     "name": "stderr",
     "output_type": "stream",
     "text": [
      "\r",
      " 59%|██████████████████████████████████████████████████████████████████████████████████████████████████▍                                                                     | 65/111 [10:26<07:10,  9.37s/it]"
     ]
    },
    {
     "name": "stdout",
     "output_type": "stream",
     "text": [
      "\n",
      " Total cost: $1.2456804999999997\n",
      "\n",
      "Paper 66\n",
      "../Data/SI_PDF/66.pdf\n",
      "20 18\n"
     ]
    },
    {
     "name": "stderr",
     "output_type": "stream",
     "text": [
      "\r",
      " 59%|███████████████████████████████████████████████████████████████████████████████████████████████████▉                                                                    | 66/111 [10:31<05:55,  7.91s/it]"
     ]
    },
    {
     "name": "stdout",
     "output_type": "stream",
     "text": [
      "\n",
      " Total cost: $1.2648539999999997\n",
      "\n",
      "Paper 67\n",
      "../Data/SI_PDF/67.pdf\n",
      "18 14\n"
     ]
    },
    {
     "name": "stderr",
     "output_type": "stream",
     "text": [
      "\r",
      " 60%|█████████████████████████████████████████████████████████████████████████████████████████████████████▍                                                                  | 67/111 [10:36<05:13,  7.13s/it]"
     ]
    },
    {
     "name": "stdout",
     "output_type": "stream",
     "text": [
      "\n",
      " Total cost: $1.2825999999999997\n",
      "\n",
      "Paper 68\n",
      "../Data/SI_PDF/68.pdf\n",
      "17 17\n"
     ]
    },
    {
     "name": "stderr",
     "output_type": "stream",
     "text": [
      "\r",
      " 61%|██████████████████████████████████████████████████████████████████████████████████████████████████████▉                                                                 | 68/111 [10:41<04:36,  6.44s/it]"
     ]
    },
    {
     "name": "stdout",
     "output_type": "stream",
     "text": [
      "\n",
      " Total cost: $1.3028804999999997\n",
      "\n",
      "Paper 69\n",
      "../Data/SI_PDF/69.pdf\n",
      "19 14\n"
     ]
    },
    {
     "name": "stderr",
     "output_type": "stream",
     "text": [
      "\r",
      " 62%|████████████████████████████████████████████████████████████████████████████████████████████████████████▍                                                               | 69/111 [11:00<07:05, 10.14s/it]"
     ]
    },
    {
     "name": "stdout",
     "output_type": "stream",
     "text": [
      "\n",
      " Total cost: $1.3227534999999997\n",
      "\n",
      "Paper 70\n",
      "../Data/SI_PDF/70.pdf\n",
      "8 6\n"
     ]
    },
    {
     "name": "stderr",
     "output_type": "stream",
     "text": [
      "\r",
      " 63%|█████████████████████████████████████████████████████████████████████████████████████████████████████████▉                                                              | 70/111 [11:03<05:34,  8.16s/it]"
     ]
    },
    {
     "name": "stdout",
     "output_type": "stream",
     "text": [
      "\n",
      " Total cost: $1.3378089999999998\n",
      "\n",
      "Paper 71\n",
      "../Data/SI_PDF/71.pdf\n",
      "6 6\n"
     ]
    },
    {
     "name": "stderr",
     "output_type": "stream",
     "text": [
      "\r",
      " 64%|███████████████████████████████████████████████████████████████████████████████████████████████████████████▍                                                            | 71/111 [11:15<06:06,  9.16s/it]"
     ]
    },
    {
     "name": "stdout",
     "output_type": "stream",
     "text": [
      "\n",
      " Total cost: $1.3577\n",
      "\n",
      "Paper 72\n",
      "../Data/SI_PDF/72.pdf\n",
      "8 8\n"
     ]
    },
    {
     "name": "stderr",
     "output_type": "stream",
     "text": [
      "\r",
      " 65%|████████████████████████████████████████████████████████████████████████████████████████████████████████████▉                                                           | 72/111 [11:19<04:57,  7.63s/it]"
     ]
    },
    {
     "name": "stdout",
     "output_type": "stream",
     "text": [
      "\n",
      " Total cost: $1.382938\n",
      "\n",
      "Paper 73\n",
      "../Data/SI_PDF/73.pdf\n",
      "7 7\n"
     ]
    },
    {
     "name": "stderr",
     "output_type": "stream",
     "text": [
      "\r",
      " 66%|██████████████████████████████████████████████████████████████████████████████████████████████████████████████▍                                                         | 73/111 [11:25<04:33,  7.21s/it]"
     ]
    },
    {
     "name": "stdout",
     "output_type": "stream",
     "text": [
      "\n",
      " Total cost: $1.402267\n",
      "\n",
      "Paper 74\n",
      "../Data/SI_PDF/74.pdf\n",
      "7 5\n"
     ]
    },
    {
     "name": "stderr",
     "output_type": "stream",
     "text": [
      "\r",
      " 67%|████████████████████████████████████████████████████████████████████████████████████████████████████████████████                                                        | 74/111 [11:29<03:54,  6.34s/it]"
     ]
    },
    {
     "name": "stdout",
     "output_type": "stream",
     "text": [
      "\n",
      " Total cost: $1.41632\n",
      "\n",
      "Paper 75\n",
      "../Data/SI_PDF/75.pdf\n",
      "5 5\n"
     ]
    },
    {
     "name": "stderr",
     "output_type": "stream",
     "text": [
      "\r",
      " 68%|█████████████████████████████████████████████████████████████████████████████████████████████████████████████████▌                                                      | 75/111 [11:32<03:13,  5.38s/it]"
     ]
    },
    {
     "name": "stdout",
     "output_type": "stream",
     "text": [
      "\n",
      " Total cost: $1.435282\n",
      "\n",
      "Paper 76\n",
      "../Data/SI_PDF/76.pdf\n",
      "9 6\n"
     ]
    },
    {
     "name": "stderr",
     "output_type": "stream",
     "text": [
      "\r",
      " 68%|███████████████████████████████████████████████████████████████████████████████████████████████████████████████████                                                     | 76/111 [11:36<02:44,  4.70s/it]"
     ]
    },
    {
     "name": "stdout",
     "output_type": "stream",
     "text": [
      "\n",
      " Total cost: $1.451073\n",
      "\n",
      "Paper 77\n",
      "../Data/SI_PDF/77.pdf\n",
      "18 18\n"
     ]
    },
    {
     "name": "stderr",
     "output_type": "stream",
     "text": [
      "\r",
      " 69%|████████████████████████████████████████████████████████████████████████████████████████████████████████████████████▌                                                   | 77/111 [11:41<02:48,  4.97s/it]"
     ]
    },
    {
     "name": "stdout",
     "output_type": "stream",
     "text": [
      "\n",
      " Total cost: $1.4717120000000001\n",
      "\n",
      "Paper 78\n",
      "../Data/SI_PDF/78.pdf\n",
      "17 17\n"
     ]
    },
    {
     "name": "stderr",
     "output_type": "stream",
     "text": [
      "\r",
      " 70%|██████████████████████████████████████████████████████████████████████████████████████████████████████████████████████                                                  | 78/111 [11:47<02:54,  5.30s/it]"
     ]
    },
    {
     "name": "stdout",
     "output_type": "stream",
     "text": [
      "\n",
      " Total cost: $1.491311\n",
      "\n",
      "Paper 79\n",
      "../Data/SI_PDF/79.pdf\n",
      "7 5\n"
     ]
    },
    {
     "name": "stderr",
     "output_type": "stream",
     "text": [
      "\r",
      " 71%|███████████████████████████████████████████████████████████████████████████████████████████████████████████████████████▌                                                | 79/111 [11:53<02:49,  5.31s/it]"
     ]
    },
    {
     "name": "stdout",
     "output_type": "stream",
     "text": [
      "\n",
      " Total cost: $1.504956\n",
      "\n",
      "Paper 80\n",
      "../Data/SI_PDF/80.pdf\n",
      "13 10\n"
     ]
    },
    {
     "name": "stderr",
     "output_type": "stream",
     "text": [
      "\r",
      " 72%|█████████████████████████████████████████████████████████████████████████████████████████████████████████████████████████                                               | 80/111 [11:57<02:38,  5.11s/it]"
     ]
    },
    {
     "name": "stdout",
     "output_type": "stream",
     "text": [
      "\n",
      " Total cost: $1.522789\n",
      "\n",
      "Paper 81\n",
      "../Data/SI_PDF/81.pdf\n",
      "11 5\n"
     ]
    },
    {
     "name": "stderr",
     "output_type": "stream",
     "text": [
      "\r",
      " 73%|██████████████████████████████████████████████████████████████████████████████████████████████████████████████████████████▌                                             | 81/111 [12:04<02:50,  5.70s/it]"
     ]
    },
    {
     "name": "stdout",
     "output_type": "stream",
     "text": [
      "\n",
      " Total cost: $1.538159\n",
      "\n",
      "Paper 82\n",
      "../Data/SI_PDF/82.pdf\n",
      "10 8\n"
     ]
    },
    {
     "name": "stderr",
     "output_type": "stream",
     "text": [
      "\r",
      " 74%|████████████████████████████████████████████████████████████████████████████████████████████████████████████████████████████                                            | 82/111 [12:09<02:37,  5.44s/it]"
     ]
    },
    {
     "name": "stdout",
     "output_type": "stream",
     "text": [
      "\n",
      " Total cost: $1.559986\n",
      "\n",
      "Paper 83\n",
      "../Data/SI_PDF/83.pdf\n",
      "15 12\n"
     ]
    },
    {
     "name": "stderr",
     "output_type": "stream",
     "text": [
      "\r",
      " 75%|█████████████████████████████████████████████████████████████████████████████████████████████████████████████████████████████▌                                          | 83/111 [12:15<02:34,  5.53s/it]"
     ]
    },
    {
     "name": "stdout",
     "output_type": "stream",
     "text": [
      "\n",
      " Total cost: $1.580035\n",
      "\n",
      "Paper 84\n",
      "../Data/SI_PDF/84.pdf\n",
      "8 7\n"
     ]
    },
    {
     "name": "stderr",
     "output_type": "stream",
     "text": [
      "\r",
      " 76%|███████████████████████████████████████████████████████████████████████████████████████████████████████████████████████████████▏                                        | 84/111 [12:19<02:15,  5.02s/it]"
     ]
    },
    {
     "name": "stdout",
     "output_type": "stream",
     "text": [
      "\n",
      " Total cost: $1.596999\n",
      "\n",
      "Paper 85\n",
      "../Data/SI_PDF/85.pdf\n",
      "8 7\n"
     ]
    },
    {
     "name": "stderr",
     "output_type": "stream",
     "text": [
      "\r",
      " 77%|████████████████████████████████████████████████████████████████████████████████████████████████████████████████████████████████▋                                       | 85/111 [12:26<02:31,  5.82s/it]"
     ]
    },
    {
     "name": "stdout",
     "output_type": "stream",
     "text": [
      "\n",
      " Total cost: $1.614791\n",
      "\n",
      "Paper 86\n",
      "../Data/SI_PDF/86.pdf\n",
      "10 9\n"
     ]
    },
    {
     "name": "stderr",
     "output_type": "stream",
     "text": [
      "\r",
      " 77%|██████████████████████████████████████████████████████████████████████████████████████████████████████████████████████████████████▏                                     | 86/111 [12:35<02:49,  6.80s/it]"
     ]
    },
    {
     "name": "stdout",
     "output_type": "stream",
     "text": [
      "\n",
      " Total cost: $1.641469\n",
      "\n",
      "Paper 87\n",
      "../Data/SI_PDF/87.pdf\n",
      "14 12\n"
     ]
    },
    {
     "name": "stderr",
     "output_type": "stream",
     "text": [
      "\r",
      " 78%|███████████████████████████████████████████████████████████████████████████████████████████████████████████████████████████████████▋                                    | 87/111 [12:39<02:21,  5.90s/it]"
     ]
    },
    {
     "name": "stdout",
     "output_type": "stream",
     "text": [
      "\n",
      " Total cost: $1.6600095000000001\n",
      "\n",
      "Paper 88\n",
      "../Data/SI_PDF/88.pdf\n",
      "11 5\n"
     ]
    },
    {
     "name": "stderr",
     "output_type": "stream",
     "text": [
      "\r",
      " 79%|█████████████████████████████████████████████████████████████████████████████████████████████████████████████████████████████████████▏                                  | 88/111 [12:46<02:23,  6.24s/it]"
     ]
    },
    {
     "name": "stdout",
     "output_type": "stream",
     "text": [
      "\n",
      " Total cost: $1.6754895\n",
      "\n",
      "Paper 89\n",
      "../Data/SI_PDF/89.pdf\n",
      "13 10\n"
     ]
    },
    {
     "name": "stderr",
     "output_type": "stream",
     "text": [
      "\r",
      " 80%|██████████████████████████████████████████████████████████████████████████████████████████████████████████████████████████████████████▋                                 | 89/111 [13:06<03:46, 10.32s/it]"
     ]
    },
    {
     "name": "stdout",
     "output_type": "stream",
     "text": [
      "\n",
      " Total cost: $1.697591\n",
      "\n",
      "Paper 90\n",
      "../Data/SI_PDF/90.pdf\n",
      "15 12\n"
     ]
    },
    {
     "name": "stderr",
     "output_type": "stream",
     "text": [
      "\r",
      " 81%|████████████████████████████████████████████████████████████████████████████████████████████████████████████████████████████████████████▏                               | 90/111 [13:14<03:20,  9.54s/it]"
     ]
    },
    {
     "name": "stdout",
     "output_type": "stream",
     "text": [
      "\n",
      " Total cost: $1.716175\n",
      "\n",
      "Paper 91\n",
      "../Data/SI_PDF/91.pdf\n",
      "14 11\n"
     ]
    },
    {
     "name": "stderr",
     "output_type": "stream",
     "text": [
      "\r",
      " 82%|█████████████████████████████████████████████████████████████████████████████████████████████████████████████████████████████████████████▋                              | 91/111 [13:18<02:39,  7.97s/it]"
     ]
    },
    {
     "name": "stdout",
     "output_type": "stream",
     "text": [
      "\n",
      " Total cost: $1.7337155\n",
      "\n",
      "Paper 92\n",
      "../Data/SI_PDF/92.pdf\n",
      "10 8\n"
     ]
    },
    {
     "name": "stderr",
     "output_type": "stream",
     "text": [
      "\r",
      " 83%|███████████████████████████████████████████████████████████████████████████████████████████████████████████████████████████████████████████▏                            | 92/111 [13:24<02:16,  7.19s/it]"
     ]
    },
    {
     "name": "stdout",
     "output_type": "stream",
     "text": [
      "\n",
      " Total cost: $1.7546285\n",
      "\n",
      "Paper 93\n",
      "../Data/SI_PDF/93.pdf\n",
      "10 8\n"
     ]
    },
    {
     "name": "stderr",
     "output_type": "stream",
     "text": [
      "\r",
      " 84%|████████████████████████████████████████████████████████████████████████████████████████████████████████████████████████████████████████████▊                           | 93/111 [13:27<01:48,  6.05s/it]"
     ]
    },
    {
     "name": "stdout",
     "output_type": "stream",
     "text": [
      "\n",
      " Total cost: $1.77415\n",
      "\n",
      "Paper 94\n",
      "../Data/SI_PDF/94.pdf\n",
      "12 11\n"
     ]
    },
    {
     "name": "stderr",
     "output_type": "stream",
     "text": [
      "\r",
      " 85%|██████████████████████████████████████████████████████████████████████████████████████████████████████████████████████████████████████████████▎                         | 94/111 [13:35<01:54,  6.76s/it]"
     ]
    },
    {
     "name": "stdout",
     "output_type": "stream",
     "text": [
      "\n",
      " Total cost: $1.796698\n",
      "\n",
      "Paper 95\n",
      "../Data/SI_PDF/95.pdf\n",
      "8 8\n"
     ]
    },
    {
     "name": "stderr",
     "output_type": "stream",
     "text": [
      "\r",
      " 86%|███████████████████████████████████████████████████████████████████████████████████████████████████████████████████████████████████████████████▊                        | 95/111 [13:42<01:47,  6.70s/it]"
     ]
    },
    {
     "name": "stdout",
     "output_type": "stream",
     "text": [
      "\n",
      " Total cost: $1.8218275\n",
      "\n",
      "Paper 96\n",
      "../Data/SI_PDF/96.pdf\n",
      "11 6\n"
     ]
    },
    {
     "name": "stderr",
     "output_type": "stream",
     "text": [
      "\r",
      " 86%|█████████████████████████████████████████████████████████████████████████████████████████████████████████████████████████████████████████████████▎                      | 96/111 [13:46<01:29,  6.00s/it]"
     ]
    },
    {
     "name": "stdout",
     "output_type": "stream",
     "text": [
      "\n",
      " Total cost: $1.8373005\n",
      "\n",
      "Paper 97\n",
      "../Data/SI_PDF/97.pdf\n",
      "15 12\n"
     ]
    },
    {
     "name": "stderr",
     "output_type": "stream",
     "text": [
      "\r",
      " 87%|██████████████████████████████████████████████████████████████████████████████████████████████████████████████████████████████████████████████████▊                     | 97/111 [13:58<01:47,  7.70s/it]"
     ]
    },
    {
     "name": "stdout",
     "output_type": "stream",
     "text": [
      "\n",
      " Total cost: $1.8522245\n",
      "\n",
      "Paper 98\n",
      "../Data/SI_PDF/98.pdf\n",
      "10 10\n"
     ]
    },
    {
     "name": "stderr",
     "output_type": "stream",
     "text": [
      "\r",
      " 88%|████████████████████████████████████████████████████████████████████████████████████████████████████████████████████████████████████████████████████▎                   | 98/111 [14:02<01:26,  6.69s/it]"
     ]
    },
    {
     "name": "stdout",
     "output_type": "stream",
     "text": [
      "\n",
      " Total cost: $1.871282\n",
      "\n",
      "Paper 99\n",
      "../Data/SI_PDF/99.pdf\n",
      "18 15\n"
     ]
    },
    {
     "name": "stderr",
     "output_type": "stream",
     "text": [
      "\r",
      " 89%|█████████████████████████████████████████████████████████████████████████████████████████████████████████████████████████████████████████████████████▊                  | 99/111 [14:09<01:21,  6.81s/it]"
     ]
    },
    {
     "name": "stdout",
     "output_type": "stream",
     "text": [
      "\n",
      " Total cost: $1.89143\n",
      "\n",
      "Paper 100\n",
      "../Data/SI_PDF/100.pdf\n",
      "11 4\n"
     ]
    },
    {
     "name": "stderr",
     "output_type": "stream",
     "text": [
      "\r",
      " 90%|██████████████████████████████████████████████████████████████████████████████████████████████████████████████████████████████████████████████████████▍                | 100/111 [14:13<01:04,  5.84s/it]"
     ]
    },
    {
     "name": "stdout",
     "output_type": "stream",
     "text": [
      "\n",
      " Total cost: $1.9012324999999999\n",
      "\n",
      "Paper 101\n",
      "../Data/SI_PDF/101.pdf\n",
      "11 11\n"
     ]
    },
    {
     "name": "stderr",
     "output_type": "stream",
     "text": [
      "\r",
      " 91%|███████████████████████████████████████████████████████████████████████████████████████████████████████████████████████████████████████████████████████▉               | 101/111 [14:26<01:21,  8.11s/it]"
     ]
    },
    {
     "name": "stdout",
     "output_type": "stream",
     "text": [
      "\n",
      " Total cost: $1.9252675\n",
      "\n",
      "Paper 102\n",
      "../Data/SI_PDF/102.pdf\n",
      "26 22\n"
     ]
    },
    {
     "name": "stderr",
     "output_type": "stream",
     "text": [
      "\r",
      " 92%|█████████████████████████████████████████████████████████████████████████████████████████████████████████████████████████████████████████████████████████▍             | 102/111 [14:37<01:19,  8.85s/it]"
     ]
    },
    {
     "name": "stdout",
     "output_type": "stream",
     "text": [
      "\n",
      " Total cost: $1.9453165\n",
      "\n",
      "Paper 103\n",
      "../Data/SI_PDF/103.pdf\n",
      "4 4\n"
     ]
    },
    {
     "name": "stderr",
     "output_type": "stream",
     "text": [
      "\r",
      " 93%|██████████████████████████████████████████████████████████████████████████████████████████████████████████████████████████████████████████████████████████▉            | 103/111 [14:41<01:00,  7.54s/it]"
     ]
    },
    {
     "name": "stdout",
     "output_type": "stream",
     "text": [
      "\n",
      " Total cost: $1.9574224999999998\n",
      "\n",
      "Paper 104\n",
      "../Data/SI_PDF/104.pdf\n",
      "7 6\n"
     ]
    },
    {
     "name": "stderr",
     "output_type": "stream",
     "text": [
      "\r",
      " 94%|████████████████████████████████████████████████████████████████████████████████████████████████████████████████████████████████████████████████████████████▍          | 104/111 [14:47<00:49,  7.02s/it]"
     ]
    },
    {
     "name": "stdout",
     "output_type": "stream",
     "text": [
      "\n",
      " Total cost: $1.9729985\n",
      "\n",
      "Paper 105\n",
      "../Data/SI_PDF/105.pdf\n",
      "6 6\n"
     ]
    },
    {
     "name": "stderr",
     "output_type": "stream",
     "text": [
      "\r",
      " 95%|█████████████████████████████████████████████████████████████████████████████████████████████████████████████████████████████████████████████████████████████▉         | 105/111 [14:54<00:41,  6.98s/it]"
     ]
    },
    {
     "name": "stdout",
     "output_type": "stream",
     "text": [
      "\n",
      " Total cost: $1.9935785000000001\n",
      "\n",
      "Paper 106\n",
      "../Data/SI_PDF/106.pdf\n",
      "4 4\n"
     ]
    },
    {
     "name": "stderr",
     "output_type": "stream",
     "text": [
      "\r",
      " 95%|███████████████████████████████████████████████████████████████████████████████████████████████████████████████████████████████████████████████████████████████▍       | 106/111 [15:17<00:58, 11.68s/it]"
     ]
    },
    {
     "name": "stdout",
     "output_type": "stream",
     "text": [
      "\n",
      " Total cost: $2.009148\n",
      "\n",
      "Paper 107\n",
      "../Data/SI_PDF/107.pdf\n",
      "16 14\n"
     ]
    },
    {
     "name": "stderr",
     "output_type": "stream",
     "text": [
      "\r",
      " 96%|████████████████████████████████████████████████████████████████████████████████████████████████████████████████████████████████████████████████████████████████▉      | 107/111 [15:22<00:38,  9.64s/it]"
     ]
    },
    {
     "name": "stdout",
     "output_type": "stream",
     "text": [
      "\n",
      " Total cost: $2.026117\n",
      "\n",
      "Paper 108\n",
      "../Data/SI_PDF/108.pdf\n",
      "13 12\n"
     ]
    },
    {
     "name": "stderr",
     "output_type": "stream",
     "text": [
      "\r",
      " 97%|██████████████████████████████████████████████████████████████████████████████████████████████████████████████████████████████████████████████████████████████████▍    | 108/111 [15:27<00:25,  8.36s/it]"
     ]
    },
    {
     "name": "stdout",
     "output_type": "stream",
     "text": [
      "\n",
      " Total cost: $2.043218\n",
      "\n",
      "Paper 109\n",
      "../Data/SI_PDF/109.pdf\n",
      "15 15\n"
     ]
    },
    {
     "name": "stderr",
     "output_type": "stream",
     "text": [
      "\r",
      " 98%|███████████████████████████████████████████████████████████████████████████████████████████████████████████████████████████████████████████████████████████████████▉   | 109/111 [15:31<00:13,  6.94s/it]"
     ]
    },
    {
     "name": "stdout",
     "output_type": "stream",
     "text": [
      "\n",
      " Total cost: $2.0593295\n",
      "\n",
      "Paper 110\n",
      "../Data/SI_PDF/110.pdf\n",
      "13 13\n"
     ]
    },
    {
     "name": "stderr",
     "output_type": "stream",
     "text": [
      "\r",
      " 99%|█████████████████████████████████████████████████████████████████████████████████████████████████████████████████████████████████████████████████████████████████████▍ | 110/111 [15:34<00:05,  5.90s/it]"
     ]
    },
    {
     "name": "stdout",
     "output_type": "stream",
     "text": [
      "\n",
      " Total cost: $2.0843760000000002\n",
      "\n",
      "Paper 111\n",
      "../Data/SI_PDF/111.pdf\n",
      "8 8\n"
     ]
    },
    {
     "name": "stderr",
     "output_type": "stream",
     "text": [
      "100%|███████████████████████████████████████████████████████████████████████████████████████████████████████████████████████████████████████████████████████████████████████| 111/111 [15:39<00:00,  8.46s/it]"
     ]
    },
    {
     "name": "stdout",
     "output_type": "stream",
     "text": [
      "\n",
      " Total cost: $2.1057175000000004\n",
      "\n"
     ]
    },
    {
     "name": "stderr",
     "output_type": "stream",
     "text": [
      "\n"
     ]
    }
   ],
   "source": [
    "from tqdm import tqdm\n",
    "import numpy as np\n",
    "import json\n",
    "predictions = []\n",
    "costs = []\n",
    "\n",
    "\n",
    "LLM_model = 'gpt-3.5-turbo-16k'\n",
    "Embedding_model = 'text-davinci-003'#'text-davinci-003' text-embedding-ada-002\n",
    "k = 8\n",
    "temp = 0.9\n",
    "\n",
    "for i in tqdm(range(1,112)):\n",
    "    print(f'Paper {i}')\n",
    "    p, c = retriev_QA(str(i), LLM_model, Embedding_model, k, temperature=temp)\n",
    "    costs.append(c)\n",
    "    predictions.append(p)\n",
    "    print(f'\\n Total cost: ${np.sum(costs)}\\n') \n",
    "    results_index_path = f\"../Data/faiss/results/{LLM_model}/faiss-{Embedding_model}/k_{k}/t_{temp}/results_paper_{i}.json\"\n",
    "    with open(results_index_path, 'w') as f:\n",
    "        json.dump(p, f)\n",
    "#     break"
   ]
  },
  {
   "cell_type": "markdown",
   "id": "fd1dd799",
   "metadata": {},
   "source": [
    "## Two-step LLM"
   ]
  },
  {
   "cell_type": "code",
   "execution_count": 24,
   "id": "24ee6665",
   "metadata": {},
   "outputs": [],
   "source": [
    "chain_1_prompt = f\"\"\"\n",
    "    This doc describes the water stability properties of a few \\\n",
    "    Metal-Organic Framework(MOF) compound. Please find \\\n",
    "    the full name for all MOFs.\n",
    "    Please use the following rules:\n",
    "\n",
    "    Rule: \\\n",
    "\n",
    "    If there are multiple MOFs, please list them all and put \"MOF name\" before them. \\\n",
    "\n",
    "    Your output sould be a Python list.\n",
    "    \n",
    "    Make sure \"MOF name\"s do not have duplicates.\n",
    "\n",
    "    \"\"\"\n",
    "\n",
    "\n",
    "\n",
    "\n",
    "def two_step_retriev_QA_(paper_id, LLM_model, Embedding_model, k, temperature):\n",
    "    mofpaper_path = '../Data/SI_PDF/' + paper_id + '.pdf'\n",
    "    print(mofpaper_path)\n",
    "    with get_openai_callback() as cb:\n",
    "        docs_processor = eunomia.LoadDoc('../Data/SI_PDF/', paper_id=str(paper_id))\n",
    "        sliced_pages = docs_processor.process(['references ', 'acknowledgement', 'acknowledgments'],\n",
    "                                                     chunk_size=None, chunk_overlap=0)\n",
    "        print(len(docs_processor.pages), len(sliced_pages))\n",
    "        faiss_index_path = f\"../Data/faiss/{Embedding_model}/faiss_index_{Embedding_model}_{paper_id}.pkl\"\n",
    "        if os.path.isfile(faiss_index_path):\n",
    "            with open(faiss_index_path, \"rb\") as f:\n",
    "                faiss_index = pickle.load(f)\n",
    "        else:\n",
    "            with open(faiss_index_path, \"wb\") as f:\n",
    "                faiss_index = FAISS.from_documents(sliced_pages, OpenAIEmbeddings(model=Embedding_model))   #text-davinci-003\n",
    "                pickle.dump(faiss_index, f)\n",
    "        retriever  = faiss_index.as_retriever(search_type=\"mmr\", search_kwargs={\"k\":k}) # Maximum Marginal Relevance Retrieval        \n",
    "#         retriever  = faiss_index.as_retriever(search_type=\"similarity_score_threshold\", search_kwargs={\"score_threshold\": .8}) # Maximum Marginal Relevance Retrieval        \n",
    "        qa = RetrievalQA.from_chain_type(\n",
    "            llm=ChatOpenAI(model=LLM_model, temperature=temperature), chain_type=\"stuff\", retriever=retriever, return_source_documents=False)\n",
    "        answer_1 = qa({\"query\": chain_1_prompt})\n",
    "        mof_list = answer_1['result']\n",
    "        chain_2_prompt = f\"\"\"\n",
    "        This doc describes the water stability properties of a few \\\n",
    "        Metal-Organic Framework(MOF) compound listed as {mof_list}. Please find \\\n",
    "        the water stability corresponding to each MOF. \\\n",
    "        Please use the following rules to identify\\\n",
    "        the water stability of each MOF. \\\n",
    "\n",
    "        Rule: \\\n",
    "        There are only 2 options for water stability: \\\n",
    "        1. Stable \\\n",
    "        2. Unstable \\\n",
    "\n",
    "        For 1. Stable, \\\n",
    "        The MOF should be stable to keep structure integrity \\\n",
    "        after exposure to aqueous solution. \\\n",
    "\n",
    "        For 2. Unstable, \\\n",
    "        The MOF will decompose after exposure \\\n",
    "        to humid environment. \\\n",
    "\n",
    "\n",
    "        If there are multiple MOFs, please list them all and put \"MOF name\" before them. \\\n",
    "\n",
    "        You should only respond in JSON format as described below. \\\n",
    "\n",
    "        Make sure it is parsable using Python json.load.\\\n",
    "\n",
    "        Make sure \"MOF name\"s do not have duplicates.\\\n",
    "\n",
    "        If information is not provided, state it as not provided.\\\n",
    "\n",
    "\n",
    "        \"\"\"\n",
    "        answer_2 = qa(chain_2_prompt)\n",
    "        predictions_dict = parse_to_dict(answer_2, paper_id)\n",
    "        return predictions_dict, cb.total_cost"
   ]
  },
  {
   "cell_type": "code",
   "execution_count": 28,
   "id": "f2c99663",
   "metadata": {},
   "outputs": [
    {
     "name": "stderr",
     "output_type": "stream",
     "text": [
      "\r",
      "  0%|                                                                                                                                                                                  | 0/83 [00:00<?, ?it/s]"
     ]
    },
    {
     "name": "stdout",
     "output_type": "stream",
     "text": [
      "Paper 29\n",
      "../Data/SI_PDF/29.pdf\n",
      "13 13\n"
     ]
    },
    {
     "name": "stderr",
     "output_type": "stream",
     "text": [
      "\r",
      "  1%|██                                                                                                                                                                        | 1/83 [00:21<29:33, 21.63s/it]"
     ]
    },
    {
     "name": "stdout",
     "output_type": "stream",
     "text": [
      "\n",
      " Total cost: $0.05010850000000001\n",
      "\n",
      "Paper 30\n",
      "../Data/SI_PDF/30.pdf\n",
      "9 7\n"
     ]
    },
    {
     "name": "stderr",
     "output_type": "stream",
     "text": [
      "\r",
      "  2%|████                                                                                                                                                                      | 2/83 [00:26<16:01, 11.87s/it]"
     ]
    },
    {
     "name": "stdout",
     "output_type": "stream",
     "text": [
      "\n",
      " Total cost: $0.077736\n",
      "\n",
      "Paper 31\n",
      "../Data/SI_PDF/31.pdf\n",
      "7 6\n"
     ]
    },
    {
     "name": "stderr",
     "output_type": "stream",
     "text": [
      "\r",
      "  4%|██████▏                                                                                                                                                                   | 3/83 [00:32<11:59,  8.99s/it]"
     ]
    },
    {
     "name": "stdout",
     "output_type": "stream",
     "text": [
      "\n",
      " Total cost: $0.10529949999999999\n",
      "\n",
      "Paper 32\n",
      "../Data/SI_PDF/32.pdf\n",
      "5 4\n"
     ]
    },
    {
     "name": "stderr",
     "output_type": "stream",
     "text": [
      "\r",
      "  5%|████████▏                                                                                                                                                                 | 4/83 [00:36<09:24,  7.14s/it]"
     ]
    },
    {
     "name": "stdout",
     "output_type": "stream",
     "text": [
      "\n",
      " Total cost: $0.12739099999999998\n",
      "\n",
      "Paper 33\n",
      "../Data/SI_PDF/33.pdf\n",
      "24 21\n"
     ]
    },
    {
     "name": "stderr",
     "output_type": "stream",
     "text": [
      "\r",
      "  6%|██████████▏                                                                                                                                                               | 5/83 [01:01<17:43, 13.63s/it]"
     ]
    },
    {
     "name": "stdout",
     "output_type": "stream",
     "text": [
      "\n",
      " Total cost: $0.16299549999999996\n",
      "\n",
      "Paper 34\n",
      "../Data/SI_PDF/34.pdf\n",
      "6 6\n"
     ]
    },
    {
     "name": "stderr",
     "output_type": "stream",
     "text": [
      "\r",
      "  7%|████████████▎                                                                                                                                                             | 6/83 [01:08<14:25, 11.24s/it]"
     ]
    },
    {
     "name": "stdout",
     "output_type": "stream",
     "text": [
      "\n",
      " Total cost: $0.19488999999999995\n",
      "\n",
      "Paper 35\n",
      "../Data/SI_PDF/35.pdf\n",
      "13 12\n"
     ]
    },
    {
     "name": "stderr",
     "output_type": "stream",
     "text": [
      "\r",
      "  8%|██████████████▎                                                                                                                                                           | 7/83 [01:16<12:54, 10.19s/it]"
     ]
    },
    {
     "name": "stdout",
     "output_type": "stream",
     "text": [
      "\n",
      " Total cost: $0.23154949999999996\n",
      "\n",
      "Paper 36\n",
      "../Data/SI_PDF/36.pdf\n",
      "7 7\n"
     ]
    },
    {
     "name": "stderr",
     "output_type": "stream",
     "text": [
      "\r",
      " 10%|████████████████▍                                                                                                                                                         | 8/83 [01:22<11:10,  8.94s/it]"
     ]
    },
    {
     "name": "stdout",
     "output_type": "stream",
     "text": [
      "\n",
      " Total cost: $0.266201\n",
      "\n",
      "Paper 37\n",
      "../Data/SI_PDF/37.pdf\n",
      "7 6\n"
     ]
    },
    {
     "name": "stderr",
     "output_type": "stream",
     "text": [
      "\r",
      " 11%|██████████████████▍                                                                                                                                                       | 9/83 [01:34<12:04,  9.79s/it]"
     ]
    },
    {
     "name": "stdout",
     "output_type": "stream",
     "text": [
      "\n",
      " Total cost: $0.29434150000000003\n",
      "\n",
      "Paper 38\n",
      "../Data/SI_PDF/38.pdf\n",
      "13 11\n"
     ]
    },
    {
     "name": "stderr",
     "output_type": "stream",
     "text": [
      "\r",
      " 12%|████████████████████▎                                                                                                                                                    | 10/83 [01:41<11:08,  9.16s/it]"
     ]
    },
    {
     "name": "stdout",
     "output_type": "stream",
     "text": [
      "\n",
      " Total cost: $0.33340700000000006\n",
      "\n",
      "Paper 39\n",
      "../Data/SI_PDF/39.pdf\n",
      "21 18\n"
     ]
    },
    {
     "name": "stderr",
     "output_type": "stream",
     "text": [
      "\r",
      " 13%|██████████████████████▍                                                                                                                                                  | 11/83 [01:55<12:38, 10.54s/it]"
     ]
    },
    {
     "name": "stdout",
     "output_type": "stream",
     "text": [
      "\n",
      " Total cost: $0.37658650000000005\n",
      "\n",
      "Paper 40\n",
      "../Data/SI_PDF/40.pdf\n",
      "15 12\n"
     ]
    },
    {
     "name": "stderr",
     "output_type": "stream",
     "text": [
      "\r",
      " 14%|████████████████████████▍                                                                                                                                                | 12/83 [02:01<10:50,  9.16s/it]"
     ]
    },
    {
     "name": "stdout",
     "output_type": "stream",
     "text": [
      "\n",
      " Total cost: $0.40645800000000004\n",
      "\n",
      "Paper 41\n",
      "../Data/SI_PDF/41.pdf\n",
      "16 13\n"
     ]
    },
    {
     "name": "stderr",
     "output_type": "stream",
     "text": [
      "\r",
      " 16%|██████████████████████████▍                                                                                                                                              | 13/83 [02:13<11:38,  9.98s/it]"
     ]
    },
    {
     "name": "stdout",
     "output_type": "stream",
     "text": [
      "\n",
      " Total cost: $0.45425550000000003\n",
      "\n",
      "Paper 42\n",
      "../Data/SI_PDF/42.pdf\n",
      "13 10\n"
     ]
    },
    {
     "name": "stderr",
     "output_type": "stream",
     "text": [
      "\r",
      " 17%|████████████████████████████▌                                                                                                                                            | 14/83 [02:24<11:41, 10.17s/it]"
     ]
    },
    {
     "name": "stdout",
     "output_type": "stream",
     "text": [
      "\n",
      " Total cost: $0.49538000000000004\n",
      "\n",
      "Paper 43\n",
      "../Data/SI_PDF/43.pdf\n",
      "6 6\n"
     ]
    },
    {
     "name": "stderr",
     "output_type": "stream",
     "text": [
      "\r",
      " 18%|██████████████████████████████▌                                                                                                                                          | 15/83 [02:37<12:36, 11.13s/it]"
     ]
    },
    {
     "name": "stdout",
     "output_type": "stream",
     "text": [
      "\n",
      " Total cost: $0.5398075\n",
      "\n",
      "Paper 44\n",
      "../Data/SI_PDF/44.pdf\n",
      "11 9\n"
     ]
    },
    {
     "name": "stderr",
     "output_type": "stream",
     "text": [
      "\r",
      " 19%|████████████████████████████████▌                                                                                                                                        | 16/83 [02:45<11:29, 10.29s/it]"
     ]
    },
    {
     "name": "stdout",
     "output_type": "stream",
     "text": [
      "\n",
      " Total cost: $0.576201\n",
      "\n",
      "Paper 45\n",
      "../Data/SI_PDF/45.pdf\n",
      "9 6\n"
     ]
    },
    {
     "name": "stderr",
     "output_type": "stream",
     "text": [
      "\r",
      " 20%|██████████████████████████████████▌                                                                                                                                      | 17/83 [03:01<13:00, 11.82s/it]"
     ]
    },
    {
     "name": "stdout",
     "output_type": "stream",
     "text": [
      "\n",
      " Total cost: $0.6086965\n",
      "\n",
      "Paper 46\n",
      "../Data/SI_PDF/46.pdf\n",
      "6 5\n"
     ]
    },
    {
     "name": "stderr",
     "output_type": "stream",
     "text": [
      "\r",
      " 22%|████████████████████████████████████▋                                                                                                                                    | 18/83 [03:09<11:36, 10.72s/it]"
     ]
    },
    {
     "name": "stdout",
     "output_type": "stream",
     "text": [
      "\n",
      " Total cost: $0.634412\n",
      "\n",
      "Paper 47\n",
      "../Data/SI_PDF/47.pdf\n",
      "9 9\n"
     ]
    },
    {
     "name": "stderr",
     "output_type": "stream",
     "text": [
      "\r",
      " 23%|██████████████████████████████████████▋                                                                                                                                  | 19/83 [03:24<12:56, 12.13s/it]"
     ]
    },
    {
     "name": "stdout",
     "output_type": "stream",
     "text": [
      "\n",
      " Total cost: $0.6735995\n",
      "\n",
      "Paper 48\n",
      "../Data/SI_PDF/48.pdf\n",
      "18 15\n"
     ]
    },
    {
     "name": "stderr",
     "output_type": "stream",
     "text": [
      "\r",
      " 24%|████████████████████████████████████████▋                                                                                                                                | 20/83 [03:31<11:00, 10.49s/it]"
     ]
    },
    {
     "name": "stdout",
     "output_type": "stream",
     "text": [
      "\n",
      " Total cost: $0.711229\n",
      "\n",
      "Paper 49\n",
      "../Data/SI_PDF/49.pdf\n",
      "9 9\n"
     ]
    },
    {
     "name": "stderr",
     "output_type": "stream",
     "text": [
      "\r",
      " 25%|██████████████████████████████████████████▊                                                                                                                              | 21/83 [03:42<11:01, 10.67s/it]"
     ]
    },
    {
     "name": "stdout",
     "output_type": "stream",
     "text": [
      "\n",
      " Total cost: $0.7566725\n",
      "\n",
      "Paper 50\n",
      "../Data/SI_PDF/50.pdf\n",
      "10 9\n"
     ]
    },
    {
     "name": "stderr",
     "output_type": "stream",
     "text": [
      "\r",
      " 27%|████████████████████████████████████████████▊                                                                                                                            | 22/83 [03:55<11:30, 11.32s/it]"
     ]
    },
    {
     "name": "stdout",
     "output_type": "stream",
     "text": [
      "\n",
      " Total cost: $0.7966265\n",
      "\n",
      "Paper 51\n",
      "../Data/SI_PDF/51.pdf\n",
      "6 6\n"
     ]
    },
    {
     "name": "stderr",
     "output_type": "stream",
     "text": [
      "\r",
      " 28%|██████████████████████████████████████████████▊                                                                                                                          | 23/83 [04:02<09:58,  9.97s/it]"
     ]
    },
    {
     "name": "stdout",
     "output_type": "stream",
     "text": [
      "\n",
      " Total cost: $0.835008\n",
      "\n",
      "Paper 52\n",
      "../Data/SI_PDF/52.pdf\n",
      "11 10\n"
     ]
    },
    {
     "name": "stderr",
     "output_type": "stream",
     "text": [
      "\r",
      " 29%|████████████████████████████████████████████████▊                                                                                                                        | 24/83 [04:09<08:54,  9.05s/it]"
     ]
    },
    {
     "name": "stdout",
     "output_type": "stream",
     "text": [
      "\n",
      " Total cost: $0.8683795000000001\n",
      "\n",
      "Paper 53\n",
      "../Data/SI_PDF/53.pdf\n",
      "6 6\n"
     ]
    },
    {
     "name": "stderr",
     "output_type": "stream",
     "text": [
      "\r",
      " 30%|██████████████████████████████████████████████████▉                                                                                                                      | 25/83 [04:19<09:08,  9.46s/it]"
     ]
    },
    {
     "name": "stdout",
     "output_type": "stream",
     "text": [
      "\n",
      " Total cost: $0.906421\n",
      "\n",
      "Paper 54\n",
      "../Data/SI_PDF/54.pdf\n",
      "17 17\n"
     ]
    },
    {
     "name": "stderr",
     "output_type": "stream",
     "text": [
      "\r",
      " 31%|████████████████████████████████████████████████████▉                                                                                                                    | 26/83 [04:31<09:43, 10.24s/it]"
     ]
    },
    {
     "name": "stdout",
     "output_type": "stream",
     "text": [
      "\n",
      " Total cost: $0.9394355000000001\n",
      "\n",
      "Paper 55\n",
      "../Data/SI_PDF/55.pdf\n",
      "13 7\n"
     ]
    },
    {
     "name": "stderr",
     "output_type": "stream",
     "text": [
      "\r",
      " 33%|██████████████████████████████████████████████████████▉                                                                                                                  | 27/83 [04:42<09:46, 10.47s/it]"
     ]
    },
    {
     "name": "stdout",
     "output_type": "stream",
     "text": [
      "\n",
      " Total cost: $0.9775790000000001\n",
      "\n",
      "Paper 56\n",
      "../Data/SI_PDF/56.pdf\n",
      "9 9\n"
     ]
    },
    {
     "name": "stderr",
     "output_type": "stream",
     "text": [
      "\r",
      " 34%|█████████████████████████████████████████████████████████                                                                                                                | 28/83 [04:54<10:01, 10.94s/it]"
     ]
    },
    {
     "name": "stdout",
     "output_type": "stream",
     "text": [
      "\n",
      " Total cost: $1.0258585\n",
      "\n",
      "Paper 57\n",
      "../Data/SI_PDF/57.pdf\n",
      "4 4\n"
     ]
    },
    {
     "name": "stderr",
     "output_type": "stream",
     "text": [
      "\r",
      " 35%|███████████████████████████████████████████████████████████                                                                                                              | 29/83 [05:00<08:27,  9.40s/it]"
     ]
    },
    {
     "name": "stdout",
     "output_type": "stream",
     "text": [
      "\n",
      " Total cost: $1.050884\n",
      "\n",
      "Paper 58\n",
      "../Data/SI_PDF/58.pdf\n",
      "8 8\n"
     ]
    },
    {
     "name": "stderr",
     "output_type": "stream",
     "text": [
      "\r",
      " 36%|█████████████████████████████████████████████████████████████                                                                                                            | 30/83 [05:11<08:39,  9.80s/it]"
     ]
    },
    {
     "name": "stdout",
     "output_type": "stream",
     "text": [
      "\n",
      " Total cost: $1.0960955\n",
      "\n",
      "Paper 59\n",
      "../Data/SI_PDF/59.pdf\n",
      "13 11\n"
     ]
    },
    {
     "name": "stderr",
     "output_type": "stream",
     "text": [
      "\r",
      " 37%|███████████████████████████████████████████████████████████████                                                                                                          | 31/83 [05:23<09:04, 10.48s/it]"
     ]
    },
    {
     "name": "stdout",
     "output_type": "stream",
     "text": [
      "\n",
      " Total cost: $1.142383\n",
      "\n",
      "Paper 60\n",
      "../Data/SI_PDF/60.pdf\n",
      "12 10\n"
     ]
    },
    {
     "name": "stderr",
     "output_type": "stream",
     "text": [
      "\r",
      " 39%|█████████████████████████████████████████████████████████████████▏                                                                                                       | 32/83 [05:29<07:52,  9.27s/it]"
     ]
    },
    {
     "name": "stdout",
     "output_type": "stream",
     "text": [
      "\n",
      " Total cost: $1.1747985\n",
      "\n",
      "Paper 61\n",
      "../Data/SI_PDF/61.pdf\n",
      "15 12\n"
     ]
    },
    {
     "name": "stderr",
     "output_type": "stream",
     "text": [
      "\r",
      " 40%|███████████████████████████████████████████████████████████████████▏                                                                                                     | 33/83 [05:40<08:08,  9.78s/it]"
     ]
    },
    {
     "name": "stdout",
     "output_type": "stream",
     "text": [
      "\n",
      " Total cost: $1.2142160000000002\n",
      "\n",
      "Paper 62\n",
      "../Data/SI_PDF/62.pdf\n",
      "13 13\n"
     ]
    },
    {
     "name": "stderr",
     "output_type": "stream",
     "text": [
      "\r",
      " 41%|█████████████████████████████████████████████████████████████████████▏                                                                                                   | 34/83 [05:50<08:06,  9.93s/it]"
     ]
    },
    {
     "name": "stdout",
     "output_type": "stream",
     "text": [
      "\n",
      " Total cost: $1.2608705000000002\n",
      "\n",
      "Paper 63\n",
      "../Data/SI_PDF/63.pdf\n",
      "14 11\n"
     ]
    },
    {
     "name": "stderr",
     "output_type": "stream",
     "text": [
      "\r",
      " 42%|███████████████████████████████████████████████████████████████████████▎                                                                                                 | 35/83 [06:04<08:50, 11.05s/it]"
     ]
    },
    {
     "name": "stdout",
     "output_type": "stream",
     "text": [
      "\n",
      " Total cost: $1.3009730000000002\n",
      "\n",
      "Paper 64\n",
      "../Data/SI_PDF/64.pdf\n",
      "19 16\n"
     ]
    },
    {
     "name": "stderr",
     "output_type": "stream",
     "text": [
      "\r",
      " 43%|█████████████████████████████████████████████████████████████████████████▎                                                                                               | 36/83 [06:18<09:21, 11.95s/it]"
     ]
    },
    {
     "name": "stdout",
     "output_type": "stream",
     "text": [
      "\n",
      " Total cost: $1.3274165000000002\n",
      "\n",
      "Paper 65\n",
      "../Data/SI_PDF/65.pdf\n",
      "12 12\n"
     ]
    },
    {
     "name": "stderr",
     "output_type": "stream",
     "text": [
      "\r",
      " 45%|███████████████████████████████████████████████████████████████████████████▎                                                                                             | 37/83 [06:27<08:25, 10.98s/it]"
     ]
    },
    {
     "name": "stdout",
     "output_type": "stream",
     "text": [
      "\n",
      " Total cost: $1.3687920000000002\n",
      "\n",
      "Paper 66\n",
      "../Data/SI_PDF/66.pdf\n",
      "20 18\n"
     ]
    },
    {
     "name": "stderr",
     "output_type": "stream",
     "text": [
      "\r",
      " 46%|█████████████████████████████████████████████████████████████████████████████▎                                                                                           | 38/83 [06:39<08:33, 11.41s/it]"
     ]
    },
    {
     "name": "stdout",
     "output_type": "stream",
     "text": [
      "\n",
      " Total cost: $1.4098045000000001\n",
      "\n",
      "Paper 67\n",
      "../Data/SI_PDF/67.pdf\n",
      "18 14\n"
     ]
    },
    {
     "name": "stderr",
     "output_type": "stream",
     "text": [
      "\r",
      " 47%|███████████████████████████████████████████████████████████████████████████████▍                                                                                         | 39/83 [06:46<07:17,  9.95s/it]"
     ]
    },
    {
     "name": "stdout",
     "output_type": "stream",
     "text": [
      "\n",
      " Total cost: $1.438166\n",
      "\n",
      "Paper 68\n",
      "../Data/SI_PDF/68.pdf\n",
      "17 17\n"
     ]
    },
    {
     "name": "stderr",
     "output_type": "stream",
     "text": [
      "\r",
      " 48%|█████████████████████████████████████████████████████████████████████████████████▍                                                                                       | 40/83 [06:52<06:20,  8.84s/it]"
     ]
    },
    {
     "name": "stdout",
     "output_type": "stream",
     "text": [
      "\n",
      " Total cost: $1.4751565000000002\n",
      "\n",
      "Paper 69\n",
      "../Data/SI_PDF/69.pdf\n",
      "19 14\n"
     ]
    },
    {
     "name": "stderr",
     "output_type": "stream",
     "text": [
      "\r",
      " 49%|███████████████████████████████████████████████████████████████████████████████████▍                                                                                     | 41/83 [07:22<10:37, 15.17s/it]"
     ]
    },
    {
     "name": "stdout",
     "output_type": "stream",
     "text": [
      "\n",
      " Total cost: $1.5105590000000002\n",
      "\n",
      "Paper 70\n",
      "../Data/SI_PDF/70.pdf\n",
      "8 6\n"
     ]
    },
    {
     "name": "stderr",
     "output_type": "stream",
     "text": [
      "\r",
      " 51%|█████████████████████████████████████████████████████████████████████████████████████▌                                                                                   | 42/83 [07:29<08:37, 12.63s/it]"
     ]
    },
    {
     "name": "stdout",
     "output_type": "stream",
     "text": [
      "\n",
      " Total cost: $1.5396765000000001\n",
      "\n",
      "Paper 71\n",
      "../Data/SI_PDF/71.pdf\n",
      "6 6\n"
     ]
    },
    {
     "name": "stderr",
     "output_type": "stream",
     "text": [
      "\r",
      " 52%|███████████████████████████████████████████████████████████████████████████████████████▌                                                                                 | 43/83 [07:42<08:34, 12.87s/it]"
     ]
    },
    {
     "name": "stdout",
     "output_type": "stream",
     "text": [
      "\n",
      " Total cost: $1.5751920000000001\n",
      "\n",
      "Paper 72\n",
      "../Data/SI_PDF/72.pdf\n",
      "8 8\n"
     ]
    },
    {
     "name": "stderr",
     "output_type": "stream",
     "text": [
      "\r",
      " 53%|█████████████████████████████████████████████████████████████████████████████████████████▌                                                                               | 44/83 [07:49<07:09, 11.02s/it]"
     ]
    },
    {
     "name": "stdout",
     "output_type": "stream",
     "text": [
      "\n",
      " Total cost: $1.6242655000000001\n",
      "\n",
      "Paper 73\n",
      "../Data/SI_PDF/73.pdf\n",
      "7 7\n"
     ]
    },
    {
     "name": "stderr",
     "output_type": "stream",
     "text": [
      "\r",
      " 54%|███████████████████████████████████████████████████████████████████████████████████████████▋                                                                             | 45/83 [07:55<06:09,  9.72s/it]"
     ]
    },
    {
     "name": "stdout",
     "output_type": "stream",
     "text": [
      "\n",
      " Total cost: $1.6607090000000002\n",
      "\n",
      "Paper 74\n",
      "../Data/SI_PDF/74.pdf\n",
      "7 5\n"
     ]
    },
    {
     "name": "stderr",
     "output_type": "stream",
     "text": [
      "\r",
      " 55%|█████████████████████████████████████████████████████████████████████████████████████████████▋                                                                           | 46/83 [08:01<05:12,  8.44s/it]"
     ]
    },
    {
     "name": "stdout",
     "output_type": "stream",
     "text": [
      "\n",
      " Total cost: $1.6875015000000002\n",
      "\n",
      "Paper 75\n",
      "../Data/SI_PDF/75.pdf\n",
      "5 5\n"
     ]
    },
    {
     "name": "stderr",
     "output_type": "stream",
     "text": [
      "\r",
      " 57%|███████████████████████████████████████████████████████████████████████████████████████████████▋                                                                         | 47/83 [08:07<04:43,  7.88s/it]"
     ]
    },
    {
     "name": "stdout",
     "output_type": "stream",
     "text": [
      "\n",
      " Total cost: $1.7244610000000002\n",
      "\n",
      "Paper 76\n",
      "../Data/SI_PDF/76.pdf\n",
      "9 6\n"
     ]
    },
    {
     "name": "stderr",
     "output_type": "stream",
     "text": [
      "\r",
      " 58%|█████████████████████████████████████████████████████████████████████████████████████████████████▋                                                                       | 48/83 [08:13<04:06,  7.05s/it]"
     ]
    },
    {
     "name": "stdout",
     "output_type": "stream",
     "text": [
      "\n",
      " Total cost: $1.7549970000000001\n",
      "\n",
      "Paper 77\n",
      "../Data/SI_PDF/77.pdf\n",
      "18 18\n"
     ]
    },
    {
     "name": "stderr",
     "output_type": "stream",
     "text": [
      "\r",
      " 59%|███████████████████████████████████████████████████████████████████████████████████████████████████▊                                                                     | 49/83 [08:20<04:02,  7.13s/it]"
     ]
    },
    {
     "name": "stdout",
     "output_type": "stream",
     "text": [
      "\n",
      " Total cost: $1.7949985000000002\n",
      "\n",
      "Paper 78\n",
      "../Data/SI_PDF/78.pdf\n",
      "17 17\n"
     ]
    },
    {
     "name": "stderr",
     "output_type": "stream",
     "text": [
      "\r",
      " 60%|█████████████████████████████████████████████████████████████████████████████████████████████████████▊                                                                   | 50/83 [08:27<03:49,  6.97s/it]"
     ]
    },
    {
     "name": "stdout",
     "output_type": "stream",
     "text": [
      "\n",
      " Total cost: $1.8327160000000002\n",
      "\n",
      "Paper 79\n",
      "../Data/SI_PDF/79.pdf\n",
      "7 5\n"
     ]
    },
    {
     "name": "stderr",
     "output_type": "stream",
     "text": [
      "\r",
      " 61%|███████████████████████████████████████████████████████████████████████████████████████████████████████▊                                                                 | 51/83 [08:35<03:53,  7.31s/it]"
     ]
    },
    {
     "name": "stdout",
     "output_type": "stream",
     "text": [
      "\n",
      " Total cost: $1.8586045000000002\n",
      "\n",
      "Paper 80\n",
      "../Data/SI_PDF/80.pdf\n",
      "13 10\n"
     ]
    },
    {
     "name": "stderr",
     "output_type": "stream",
     "text": [
      "\r",
      " 63%|█████████████████████████████████████████████████████████████████████████████████████████████████████████▉                                                               | 52/83 [08:42<03:51,  7.48s/it]"
     ]
    },
    {
     "name": "stdout",
     "output_type": "stream",
     "text": [
      "\n",
      " Total cost: $1.8927680000000002\n",
      "\n",
      "Paper 81\n",
      "../Data/SI_PDF/81.pdf\n",
      "11 5\n"
     ]
    },
    {
     "name": "stderr",
     "output_type": "stream",
     "text": [
      "\r",
      " 64%|███████████████████████████████████████████████████████████████████████████████████████████████████████████▉                                                             | 53/83 [08:51<03:52,  7.76s/it]"
     ]
    },
    {
     "name": "stdout",
     "output_type": "stream",
     "text": [
      "\n",
      " Total cost: $1.9216325000000003\n",
      "\n",
      "Paper 82\n",
      "../Data/SI_PDF/82.pdf\n",
      "10 8\n"
     ]
    },
    {
     "name": "stderr",
     "output_type": "stream",
     "text": [
      "\r",
      " 65%|█████████████████████████████████████████████████████████████████████████████████████████████████████████████▉                                                           | 54/83 [08:57<03:27,  7.14s/it]"
     ]
    },
    {
     "name": "stdout",
     "output_type": "stream",
     "text": [
      "\n",
      " Total cost: $1.9639440000000004\n",
      "\n",
      "Paper 83\n",
      "../Data/SI_PDF/83.pdf\n",
      "15 12\n"
     ]
    },
    {
     "name": "stderr",
     "output_type": "stream",
     "text": [
      "\r",
      " 66%|███████████████████████████████████████████████████████████████████████████████████████████████████████████████▉                                                         | 55/83 [09:07<03:46,  8.10s/it]"
     ]
    },
    {
     "name": "stdout",
     "output_type": "stream",
     "text": [
      "\n",
      " Total cost: $2.0026935000000003\n",
      "\n",
      "Paper 84\n",
      "../Data/SI_PDF/84.pdf\n",
      "8 7\n"
     ]
    },
    {
     "name": "stderr",
     "output_type": "stream",
     "text": [
      "\r",
      " 67%|██████████████████████████████████████████████████████████████████████████████████████████████████████████████████                                                       | 56/83 [09:18<04:00,  8.93s/it]"
     ]
    },
    {
     "name": "stdout",
     "output_type": "stream",
     "text": [
      "\n",
      " Total cost: $2.036365\n",
      "\n",
      "Paper 85\n",
      "../Data/SI_PDF/85.pdf\n",
      "8 7\n"
     ]
    },
    {
     "name": "stderr",
     "output_type": "stream",
     "text": [
      "\r",
      " 69%|████████████████████████████████████████████████████████████████████████████████████████████████████████████████████                                                     | 57/83 [09:28<04:01,  9.28s/it]"
     ]
    },
    {
     "name": "stdout",
     "output_type": "stream",
     "text": [
      "\n",
      " Total cost: $2.070012\n",
      "\n",
      "Paper 86\n",
      "../Data/SI_PDF/86.pdf\n",
      "10 9\n"
     ]
    },
    {
     "name": "stderr",
     "output_type": "stream",
     "text": [
      "\r",
      " 70%|██████████████████████████████████████████████████████████████████████████████████████████████████████████████████████                                                   | 58/83 [09:39<04:04,  9.78s/it]"
     ]
    },
    {
     "name": "stdout",
     "output_type": "stream",
     "text": [
      "\n",
      " Total cost: $2.1207245\n",
      "\n",
      "Paper 87\n",
      "../Data/SI_PDF/87.pdf\n",
      "14 12\n"
     ]
    },
    {
     "name": "stderr",
     "output_type": "stream",
     "text": [
      "\r",
      " 71%|████████████████████████████████████████████████████████████████████████████████████████████████████████████████████████▏                                                | 59/83 [09:46<03:39,  9.13s/it]"
     ]
    },
    {
     "name": "stdout",
     "output_type": "stream",
     "text": [
      "\n",
      " Total cost: $2.159873\n",
      "\n",
      "Paper 88\n",
      "../Data/SI_PDF/88.pdf\n",
      "11 5\n"
     ]
    },
    {
     "name": "stderr",
     "output_type": "stream",
     "text": [
      "\r",
      " 72%|██████████████████████████████████████████████████████████████████████████████████████████████████████████████████████████▏                                              | 60/83 [09:56<03:29,  9.12s/it]"
     ]
    },
    {
     "name": "stdout",
     "output_type": "stream",
     "text": [
      "\n",
      " Total cost: $2.1886125\n",
      "\n",
      "Paper 89\n",
      "../Data/SI_PDF/89.pdf\n",
      "13 10\n"
     ]
    },
    {
     "name": "stderr",
     "output_type": "stream",
     "text": [
      "\r",
      " 73%|████████████████████████████████████████████████████████████████████████████████████████████████████████████████████████████▏                                            | 61/83 [10:05<03:19,  9.08s/it]"
     ]
    },
    {
     "name": "stdout",
     "output_type": "stream",
     "text": [
      "\n",
      " Total cost: $2.226632\n",
      "\n",
      "Paper 90\n",
      "../Data/SI_PDF/90.pdf\n",
      "15 12\n"
     ]
    },
    {
     "name": "stderr",
     "output_type": "stream",
     "text": [
      "\r",
      " 75%|██████████████████████████████████████████████████████████████████████████████████████████████████████████████████████████████▏                                          | 62/83 [10:12<03:02,  8.71s/it]"
     ]
    },
    {
     "name": "stdout",
     "output_type": "stream",
     "text": [
      "\n",
      " Total cost: $2.2622235\n",
      "\n",
      "Paper 91\n",
      "../Data/SI_PDF/91.pdf\n",
      "14 11\n"
     ]
    },
    {
     "name": "stderr",
     "output_type": "stream",
     "text": [
      "\r",
      " 76%|████████████████████████████████████████████████████████████████████████████████████████████████████████████████████████████████▎                                        | 63/83 [10:19<02:42,  8.12s/it]"
     ]
    },
    {
     "name": "stdout",
     "output_type": "stream",
     "text": [
      "\n",
      " Total cost: $2.2957170000000002\n",
      "\n",
      "Paper 92\n",
      "../Data/SI_PDF/92.pdf\n",
      "10 8\n"
     ]
    },
    {
     "name": "stderr",
     "output_type": "stream",
     "text": [
      "\r",
      " 77%|██████████████████████████████████████████████████████████████████████████████████████████████████████████████████████████████████▎                                      | 64/83 [10:25<02:19,  7.33s/it]"
     ]
    },
    {
     "name": "stdout",
     "output_type": "stream",
     "text": [
      "\n",
      " Total cost: $2.3353545\n",
      "\n",
      "Paper 93\n",
      "../Data/SI_PDF/93.pdf\n",
      "10 8\n"
     ]
    },
    {
     "name": "stderr",
     "output_type": "stream",
     "text": [
      "\r",
      " 78%|████████████████████████████████████████████████████████████████████████████████████████████████████████████████████████████████████▎                                    | 65/83 [10:33<02:15,  7.51s/it]"
     ]
    },
    {
     "name": "stdout",
     "output_type": "stream",
     "text": [
      "\n",
      " Total cost: $2.373717\n",
      "\n",
      "Paper 94\n",
      "../Data/SI_PDF/94.pdf\n",
      "12 11\n"
     ]
    },
    {
     "name": "stderr",
     "output_type": "stream",
     "text": [
      "\r",
      " 80%|██████████████████████████████████████████████████████████████████████████████████████████████████████████████████████████████████████▍                                  | 66/83 [10:42<02:18,  8.14s/it]"
     ]
    },
    {
     "name": "stdout",
     "output_type": "stream",
     "text": [
      "\n",
      " Total cost: $2.4135735\n",
      "\n",
      "Paper 95\n",
      "../Data/SI_PDF/95.pdf\n",
      "8 8\n"
     ]
    },
    {
     "name": "stderr",
     "output_type": "stream",
     "text": [
      "\r",
      " 81%|████████████████████████████████████████████████████████████████████████████████████████████████████████████████████████████████████████▍                                | 67/83 [10:50<02:10,  8.13s/it]"
     ]
    },
    {
     "name": "stdout",
     "output_type": "stream",
     "text": [
      "\n",
      " Total cost: $2.462448\n",
      "\n",
      "Paper 96\n",
      "../Data/SI_PDF/96.pdf\n",
      "11 6\n"
     ]
    },
    {
     "name": "stderr",
     "output_type": "stream",
     "text": [
      "\r",
      " 82%|██████████████████████████████████████████████████████████████████████████████████████████████████████████████████████████████████████████▍                              | 68/83 [10:58<01:59,  7.94s/it]"
     ]
    },
    {
     "name": "stdout",
     "output_type": "stream",
     "text": [
      "\n",
      " Total cost: $2.4923485000000003\n",
      "\n",
      "Paper 97\n",
      "../Data/SI_PDF/97.pdf\n",
      "15 12\n"
     ]
    },
    {
     "name": "stderr",
     "output_type": "stream",
     "text": [
      "\r",
      " 83%|████████████████████████████████████████████████████████████████████████████████████████████████████████████████████████████████████████████▍                            | 69/83 [11:11<02:12,  9.48s/it]"
     ]
    },
    {
     "name": "stdout",
     "output_type": "stream",
     "text": [
      "\n",
      " Total cost: $2.5186910000000005\n",
      "\n",
      "Paper 98\n",
      "../Data/SI_PDF/98.pdf\n",
      "10 10\n"
     ]
    },
    {
     "name": "stderr",
     "output_type": "stream",
     "text": [
      "\r",
      " 84%|██████████████████████████████████████████████████████████████████████████████████████████████████████████████████████████████████████████████▌                          | 70/83 [11:17<01:50,  8.46s/it]"
     ]
    },
    {
     "name": "stdout",
     "output_type": "stream",
     "text": [
      "\n",
      " Total cost: $2.5555885000000003\n",
      "\n",
      "Paper 99\n",
      "../Data/SI_PDF/99.pdf\n",
      "18 15\n"
     ]
    },
    {
     "name": "stderr",
     "output_type": "stream",
     "text": [
      "\r",
      " 86%|████████████████████████████████████████████████████████████████████████████████████████████████████████████████████████████████████████████████▌                        | 71/83 [11:31<02:01, 10.13s/it]"
     ]
    },
    {
     "name": "stdout",
     "output_type": "stream",
     "text": [
      "\n",
      " Total cost: $2.5937280000000005\n",
      "\n",
      "Paper 100\n",
      "../Data/SI_PDF/100.pdf\n",
      "11 4\n"
     ]
    },
    {
     "name": "stderr",
     "output_type": "stream",
     "text": [
      "\r",
      " 87%|██████████████████████████████████████████████████████████████████████████████████████████████████████████████████████████████████████████████████▌                      | 72/83 [11:37<01:37,  8.86s/it]"
     ]
    },
    {
     "name": "stdout",
     "output_type": "stream",
     "text": [
      "\n",
      " Total cost: $2.6125115\n",
      "\n",
      "Paper 101\n",
      "../Data/SI_PDF/101.pdf\n",
      "11 11\n"
     ]
    },
    {
     "name": "stderr",
     "output_type": "stream",
     "text": [
      "\r",
      " 88%|████████████████████████████████████████████████████████████████████████████████████████████████████████████████████████████████████████████████████▋                    | 73/83 [11:54<01:54, 11.41s/it]"
     ]
    },
    {
     "name": "stdout",
     "output_type": "stream",
     "text": [
      "\n",
      " Total cost: $2.658639\n",
      "\n",
      "Paper 102\n",
      "../Data/SI_PDF/102.pdf\n",
      "26 22\n"
     ]
    },
    {
     "name": "stderr",
     "output_type": "stream",
     "text": [
      "\r",
      " 89%|██████████████████████████████████████████████████████████████████████████████████████████████████████████████████████████████████████████████████████▋                  | 74/83 [12:06<01:43, 11.49s/it]"
     ]
    },
    {
     "name": "stdout",
     "output_type": "stream",
     "text": [
      "\n",
      " Total cost: $2.6980855\n",
      "\n",
      "Paper 103\n",
      "../Data/SI_PDF/103.pdf\n",
      "4 4\n"
     ]
    },
    {
     "name": "stderr",
     "output_type": "stream",
     "text": [
      "\r",
      " 90%|████████████████████████████████████████████████████████████████████████████████████████████████████████████████████████████████████████████████████████▋                | 75/83 [12:13<01:22, 10.26s/it]"
     ]
    },
    {
     "name": "stdout",
     "output_type": "stream",
     "text": [
      "\n",
      " Total cost: $2.720885\n",
      "\n",
      "Paper 104\n",
      "../Data/SI_PDF/104.pdf\n",
      "7 6\n"
     ]
    },
    {
     "name": "stderr",
     "output_type": "stream",
     "text": [
      "\r",
      " 92%|██████████████████████████████████████████████████████████████████████████████████████████████████████████████████████████████████████████████████████████▋              | 76/83 [12:19<01:02,  8.95s/it]"
     ]
    },
    {
     "name": "stdout",
     "output_type": "stream",
     "text": [
      "\n",
      " Total cost: $2.7498325\n",
      "\n",
      "Paper 105\n",
      "../Data/SI_PDF/105.pdf\n",
      "6 6\n"
     ]
    },
    {
     "name": "stderr",
     "output_type": "stream",
     "text": [
      "\r",
      " 93%|████████████████████████████████████████████████████████████████████████████████████████████████████████████████████████████████████████████████████████████▊            | 77/83 [12:25<00:47,  7.91s/it]"
     ]
    },
    {
     "name": "stdout",
     "output_type": "stream",
     "text": [
      "\n",
      " Total cost: $2.7886550000000003\n",
      "\n",
      "Paper 106\n",
      "../Data/SI_PDF/106.pdf\n",
      "4 4\n"
     ]
    },
    {
     "name": "stderr",
     "output_type": "stream",
     "text": [
      "\r",
      " 94%|██████████████████████████████████████████████████████████████████████████████████████████████████████████████████████████████████████████████████████████████▊          | 78/83 [12:51<01:06, 13.31s/it]"
     ]
    },
    {
     "name": "stdout",
     "output_type": "stream",
     "text": [
      "\n",
      " Total cost: $2.8174085000000004\n",
      "\n",
      "Paper 107\n",
      "../Data/SI_PDF/107.pdf\n",
      "16 14\n"
     ]
    },
    {
     "name": "stderr",
     "output_type": "stream",
     "text": [
      "\r",
      " 95%|████████████████████████████████████████████████████████████████████████████████████████████████████████████████████████████████████████████████████████████████▊        | 79/83 [12:58<00:46, 11.51s/it]"
     ]
    },
    {
     "name": "stdout",
     "output_type": "stream",
     "text": [
      "\n",
      " Total cost: $2.8515310000000005\n",
      "\n",
      "Paper 108\n",
      "../Data/SI_PDF/108.pdf\n",
      "13 12\n"
     ]
    },
    {
     "name": "stderr",
     "output_type": "stream",
     "text": [
      "\r",
      " 96%|██████████████████████████████████████████████████████████████████████████████████████████████████████████████████████████████████████████████████████████████████▉      | 80/83 [13:03<00:28,  9.60s/it]"
     ]
    },
    {
     "name": "stdout",
     "output_type": "stream",
     "text": [
      "\n",
      " Total cost: $2.8808925\n",
      "\n",
      "Paper 109\n",
      "../Data/SI_PDF/109.pdf\n",
      "15 15\n"
     ]
    },
    {
     "name": "stderr",
     "output_type": "stream",
     "text": [
      "\r",
      " 98%|████████████████████████████████████████████████████████████████████████████████████████████████████████████████████████████████████████████████████████████████████▉    | 81/83 [13:07<00:16,  8.00s/it]"
     ]
    },
    {
     "name": "stdout",
     "output_type": "stream",
     "text": [
      "\n",
      " Total cost: $2.911996\n",
      "\n",
      "Paper 110\n",
      "../Data/SI_PDF/110.pdf\n",
      "13 13\n"
     ]
    },
    {
     "name": "stderr",
     "output_type": "stream",
     "text": [
      "\r",
      " 99%|██████████████████████████████████████████████████████████████████████████████████████████████████████████████████████████████████████████████████████████████████████▉  | 82/83 [13:16<00:08,  8.32s/it]"
     ]
    },
    {
     "name": "stdout",
     "output_type": "stream",
     "text": [
      "\n",
      " Total cost: $2.9606005\n",
      "\n",
      "Paper 111\n",
      "../Data/SI_PDF/111.pdf\n",
      "8 8\n"
     ]
    },
    {
     "name": "stderr",
     "output_type": "stream",
     "text": [
      "100%|█████████████████████████████████████████████████████████████████████████████████████████████████████████████████████████████████████████████████████████████████████████| 83/83 [13:24<00:00,  9.70s/it]"
     ]
    },
    {
     "name": "stdout",
     "output_type": "stream",
     "text": [
      "\n",
      " Total cost: $3.00245\n",
      "\n"
     ]
    },
    {
     "name": "stderr",
     "output_type": "stream",
     "text": [
      "\n"
     ]
    }
   ],
   "source": [
    "predictions = []\n",
    "costs = []\n",
    "\n",
    "LLM_model = 'gpt-3.5-turbo-16k'\n",
    "Embedding_model = 'text-davinci-003'#'text-davinci-003' text-embedding-ada-002\n",
    "k = 8\n",
    "temp = 0\n",
    "\n",
    "for i in tqdm(range(29,112)):\n",
    "    print(f'Paper {i}')\n",
    "    p, c = two_step_retriev_QA_(str(i), LLM_model, Embedding_model, k, temperature=temp)\n",
    "    costs.append(c)\n",
    "    predictions.append(p)\n",
    "    print(f'\\n Total cost: ${np.sum(costs)}\\n') \n",
    "    results_index_path = f\"../Data/faiss/results/{LLM_model}/faiss-{Embedding_model}/k_{k}/t_{temp}/two-step/results_paper_{i}.json\"\n",
    "    with open(results_index_path, 'w') as f:\n",
    "        json.dump(p, f)\n",
    "#     break"
   ]
  },
  {
   "cell_type": "code",
   "execution_count": null,
   "id": "f97ad571",
   "metadata": {},
   "outputs": [],
   "source": []
  },
  {
   "cell_type": "code",
   "execution_count": null,
   "id": "72a88215",
   "metadata": {},
   "outputs": [],
   "source": [
    "from typing import List\n",
    "from pydantic import BaseModel, Field, validator\n",
    "from langchain.output_parsers import OutputFixingParser, PydanticOutputParser\n",
    "\n",
    "class MOF(BaseModel):\n",
    "    name: List[str] = Field(description=\"name of a MOF\")\n",
    "    stability: List[str] = Field(description=\"choose only one: stable or unstable or not provided\")\n",
    "    @validator(\"name\", pre=True)\n",
    "    def name_not_provided(cls, field):\n",
    "        if field == \"Not Provided\":\n",
    "#                 raise ValueError(\"Dummy-MOF!\")\n",
    "            field = 'Dummy-MOF'\n",
    "        return field\n",
    "\n",
    "from langchain.output_parsers import PydanticOutputParser\n",
    "parser = PydanticOutputParser(pydantic_object=MOF)\n",
    "#     try:\n",
    "llm_parser = OutputFixingParser.from_llm(parser=parser, llm=ChatOpenAI(temperature=0))\n",
    "\n",
    "test_dict = {\n",
    "  \"MOFs\": [\n",
    "    {\n",
    "      \"MOF name\": \"DMOF\",\n",
    "      \"Water stability\": \"Stable\"\n",
    "    },\n",
    "    {\n",
    "      \"MOF name\": \"MOF-508\",\n",
    "      \"Water stability\": \"Stable\"\n",
    "    },\n",
    "    {\n",
    "      \"MOF name\": \"DMOF-TM\",\n",
    "      \"Water stability\": \"Not provided\"\n",
    "    },\n",
    "    {\n",
    "      \"MOF name\": \"MOF-508-TM\",\n",
    "      \"Water stability\": \"Not provided\"\n",
    "    }\n",
    "  ]\n",
    "}"
   ]
  },
  {
   "cell_type": "code",
   "execution_count": null,
   "id": "a6e9de5f",
   "metadata": {},
   "outputs": [],
   "source": [
    "parsed_result = parse_to_dict(test_dict,65)"
   ]
  },
  {
   "cell_type": "code",
   "execution_count": null,
   "id": "ee880874",
   "metadata": {},
   "outputs": [],
   "source": []
  }
 ],
 "metadata": {
  "kernelspec": {
   "display_name": "elm",
   "language": "python",
   "name": "elm"
  },
  "language_info": {
   "codemirror_mode": {
    "name": "ipython",
    "version": 3
   },
   "file_extension": ".py",
   "mimetype": "text/x-python",
   "name": "python",
   "nbconvert_exporter": "python",
   "pygments_lexer": "ipython3",
   "version": "3.8.16"
  }
 },
 "nbformat": 4,
 "nbformat_minor": 5
}
