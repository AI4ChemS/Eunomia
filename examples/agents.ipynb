{
 "cells": [
  {
   "cell_type": "code",
   "execution_count": 1,
   "id": "7cbcb6a9-23d3-4b4d-b374-a08db33eec03",
   "metadata": {},
   "outputs": [],
   "source": [
    "import os\n",
    "import eunomia\n",
    "import pickle"
   ]
  },
  {
   "cell_type": "code",
   "execution_count": 2,
   "id": "fb34fe52-f1c7-4f14-bc43-dd571de3ac43",
   "metadata": {},
   "outputs": [],
   "source": [
    "from langchain.llms import OpenAI\n",
    "from langchain.agents import Tool, tool\n",
    "from langchain.chat_models import ChatOpenAI\n",
    "from langchain.chains import RetrievalQA"
   ]
  },
  {
   "cell_type": "code",
   "execution_count": 3,
   "id": "9b579528-34f3-48ec-bc7e-dd19f5b042d7",
   "metadata": {},
   "outputs": [],
   "source": [
    "paper_id = '62'\n",
    "docs_processor = eunomia.LoadDoc('../Data/chosen_papers/', paper_id=paper_id)\n",
    "# sliced_pages = docs_processor.process(['references ', 'acknowledgement', 'acknowledgments', 'references\\n'],\n",
    "#                                              chunk_size=1000, chunk_overlap=20, chunking_type='fixed-size')\n",
    "sliced_pages = docs_processor.process([],\n",
    "                                             chunk_size=1000, chunk_overlap=20, chunking_type='fixed-size')"
   ]
  },
  {
   "cell_type": "code",
   "execution_count": 4,
   "id": "47369b25-691d-4a96-983b-9a46adcb46ce",
   "metadata": {},
   "outputs": [],
   "source": [
    "from langchain.chains import RetrievalQA\n",
    "\n",
    "from langchain.embeddings.openai import OpenAIEmbeddings\n",
    "from langchain.vectorstores import FAISS\n",
    "\n",
    "k = 6\n",
    "# Embedding_model = 'text-davinci-003' # text-embedding-ada-002\n",
    "Embedding_model = 'text-embedding-ada-002' # text-embedding-ada-002 text-davinci-003\n",
    "\n",
    "\n",
    "faiss_index_path = f\"../Data/chosen_papers/faiss/{Embedding_model}/faiss_index_{Embedding_model}_{paper_id}.pkl\"\n",
    "just_load = False\n",
    "if os.path.isfile(faiss_index_path) and just_load:\n",
    "    print('loadded Embeddings')\n",
    "    with open(faiss_index_path, \"rb\") as f:\n",
    "        faiss_index = pickle.load(f)\n",
    "else:\n",
    "    with open(faiss_index_path, \"wb\") as f:  # text-embedding-ada-002\n",
    "        faiss_index = FAISS.from_documents(sliced_pages, OpenAIEmbeddings(model=Embedding_model))    # 'text-davinci-003\n",
    "        pickle.dump(faiss_index, f)\n",
    "\n",
    "# faiss_index = LanceDB.from_documents(sliced_pages, OpenAIEmbeddings(model=Embedding_model))\n",
    "\n",
    "retriever  = faiss_index.as_retriever(search_type=\"mmr\", search_kwargs={\"k\":k, 'fetch_k': 50}) # Maximum Marginal Relevance Retrieval\n"
   ]
  },
  {
   "cell_type": "code",
   "execution_count": 6,
   "id": "5c68369b-2532-4b98-899a-f3ca8913237a",
   "metadata": {},
   "outputs": [],
   "source": [
    "Rule = f\"\"\"\n",
    "There are only 3 options for water stability: \n",
    "1. Stable: No change in properties after exposure to moisture or steam, soaking or boiling in water or an aqueous solution.\n",
    "Retaining its porous structure in solution.\n",
    "No loss of crystallinity.\n",
    "Water adsorption isotherm should have a steep uptake.\n",
    "Good cycling performance.\n",
    "\n",
    "2. Unstable \n",
    "The MOF will decompose or change properties or has a change in its crystal structure after exposure/soak to a humid environment, steam or if it partially dissolves in water.\n",
    "\n",
    "\n",
    "3. Not provided, \n",
    "If you don't know or cannot justfy 1 or 2\n",
    "\"\"\"\n",
    "\n",
    "# Steep uptake behavior is from this paper: https://pubs.acs.org/doi/epdf/10.1021/ja306812r"
   ]
  },
  {
   "cell_type": "code",
   "execution_count": 7,
   "id": "ec4e70fa-9f3f-4ebc-896f-094fe5b76c48",
   "metadata": {},
   "outputs": [],
   "source": [
    "prompt3a = f\"\"\"\n",
    "    You are an expert chemist. The document describes the water stability properties of a few materials including\n",
    "    Metal-Organic Frameworks(MOF) or coordination polymers, coordination networks or ZIF compounds.\n",
    "    Find the exact full name for materials, and their stability in water.\n",
    "    As an example, sentence \"UiO-66-X compounds with X = NO2, NH2, OH, CH3 and (CH3)2 show enhanced CO2 uptake\", contains the five following MOFS:\n",
    "    [UiO-66-NO2, UiO-66-NH2, UiO-66-OH, UiO-66-CH3, UiO-66-(CH3)2], but does not provide any information their water stability.\n",
    "    Use this example to guide yourself better on finding other MOFs in the document.\n",
    "\n",
    "    Use the following rules to determine water stability:\n",
    "    {Rule}\n",
    "    \n",
    "    Your final answer should contain the following:\n",
    "    1. The water stability of each MOF.\n",
    "    2. For each mof:  a probability score ranging between [0, 1]. This probability score shows how certain you are in your answer.\n",
    "    3. The exact sentences without any changes from the document that justifies your decision. Try to find more than once sentence. This should be \"Not provided\" if you cannot find water stability.\n",
    "    \"\"\""
   ]
  },
  {
   "cell_type": "code",
   "execution_count": 15,
   "id": "ecf31034-bdcd-4623-81f2-4fbbb89f271a",
   "metadata": {},
   "outputs": [
    {
     "data": {
      "text/plain": [
       "'[\"Ni3(BTP) 2$3DMF $5CH 3OH$17H 2O( 1, green)\", \"Cu 3(BTP) 2$8- CH 3OH$10H 2O(2, blue)\", \"Zn 3(BTP) 2$4CH 3OH$2H2O(3, orange)\", \"Co3(BTP) 2$8CH 3OH$10H 2O(4, purple)\", \"Mn-BTT\", \"Zn(1,3-BDP)\", \"Co(1,3- BDP)\", \"UIO-66\"]'"
      ]
     },
     "execution_count": 15,
     "metadata": {},
     "output_type": "execute_result"
    }
   ],
   "source": [
    "llm = OpenAI(temperature=0, model_name='gpt-4') # gpt-3.5-turbo-16k\n",
    "qa_chain = RetrievalQA.from_chain_type(\n",
    "    llm=llm, chain_type=\"stuff\", retriever=retriever)\n",
    "result = qa_chain.run('Find all the MOF names in this document and put them in a list')\n",
    "result"
   ]
  },
  {
   "cell_type": "code",
   "execution_count": 20,
   "id": "710471a5-feb4-461a-99b6-55e953d05103",
   "metadata": {},
   "outputs": [],
   "source": [
    "from langchain.agents import Tool, tool\n",
    "\n",
    "@tool\n",
    "def eval_justification(justification):\n",
    "    '''\n",
    "    Always use this tool to validate justification. This function checks if the justification talks about the water stability perdiction makes sense for each MOF. \n",
    "    '''\n",
    "    import openai\n",
    "    model=\"gpt-4\"\n",
    "    prompt = f\"\"\"\n",
    "            Do the below sentences actually talk about water stability of the found MOF?\n",
    "            If not, try to find a better justification for that MOF in the document .\n",
    "            \n",
    "            \"{justification}\"\n",
    "\n",
    "            To do this, you should check on steep uptakes, change in properties after being exposed to water/steam, change in crystallinity, or mention of water stability in the sentence.\n",
    "            If the justification can somehow imply water stability, keep it but lower your \"Probability score\".\n",
    "            Do not make up answers.\n",
    "            Do not consider chemical or thermal stability or stability in air as a valid reason. \n",
    "            \"\"\"\n",
    "    messages = [{\"role\": \"user\", \"content\": prompt}]\n",
    "    response = openai.ChatCompletion.create(\n",
    "        model=model,\n",
    "        messages=messages,\n",
    "        temperature=0, \n",
    "    )\n",
    "    return response.choices[0].message[\"content\"]\n",
    "\n",
    "\n",
    "\n",
    "@tool\n",
    "def read_doc(input):\n",
    "    '''\n",
    "    Input the users original prompt and get context on water stability of metal organic frameworks.\n",
    "    Always search for the answers using this tool first, don't make up answers yourself.\n",
    "    '''\n",
    "\n",
    "    k = 8\n",
    "    min_k = 4  # Minimum limit for k\n",
    "    llm = OpenAI(temperature=0, model_name='gpt-4')  \n",
    "    result = eunomia.RetrievalQABypassTokenLimit(prompt3a, faiss_index, k=k, min_k=min_k, llm=llm,\n",
    "                         search_type=\"mmr\", fetch_k=50, chain_type=\"stuff\", memory=None)\n",
    "    return result\n",
    "\n",
    "@tool\n",
    "def recheck_justification(MOF_name):\n",
    "    '''\n",
    "    This tool reads the document again for the specific MOF_name and tries to find a better justification for its water stability. \n",
    "    '''\n",
    "    input_prompt = f\"\"\"\n",
    "        You are an expert chemist. The document describes the water stability properties of {MOF_name}\n",
    "    \n",
    "        Use the following rules to determine its water stability:\n",
    "        {Rule}\n",
    "        \n",
    "        Your final answer should contain the following:\n",
    "        1. The water stability of the MOF.\n",
    "        2. The probability score ranging between [0, 1]. This probability score shows how certain you are in your answer.\n",
    "        3. The exact sentences without any changes from the document that justifies your decision. Try to find more than once sentence. This should be \"Not provided\" if you cannot find water stability.\n",
    "        \"\"\"\n",
    "    k = 6\n",
    "    min_k = 4  # Minimum limit for k\n",
    "    llm = OpenAI(temperature=0, model_name='gpt-4')  \n",
    "    result = eunomia.RetrievalQABypassTokenLimit(input_prompt, faiss_index, k=k, min_k=min_k, llm=llm,\n",
    "                         search_type=\"mmr\", fetch_k=50, chain_type=\"stuff\", memory=None)\n",
    "    return result\n",
    "\n",
    "tools = [read_doc, eval_justification, recheck_justification]\n"
   ]
  },
  {
   "cell_type": "code",
   "execution_count": 21,
   "id": "a05f53c5-f791-4bfc-b20d-ba90a040f4dd",
   "metadata": {},
   "outputs": [],
   "source": [
    "from langchain.chat_models  import ChatOpenAI\n",
    "from langchain.agents import initialize_agent\n",
    "from langchain.agents import AgentType\n",
    "from langchain.callbacks import get_openai_callback\n",
    "\n",
    "from langchain.memory import ConversationBufferMemory\n",
    "memory = ConversationBufferMemory(memory_key=\"chat_history\")\n",
    "\n",
    "agent_llm = OpenAI(temperature=0, model_name='gpt-4')\n",
    "\n",
    "\n",
    "\n",
    "agent_chain = initialize_agent(tools, agent_llm, agent=AgentType.ZERO_SHOT_REACT_DESCRIPTION, # CONVERSATIONAL_REACT_DESCRIPTION ZERO_SHOT_REACT_DESCRIPTION\n",
    "                               verbose=True, memory=memory, handle_parsing_errors=True,\n",
    "                              prefix= None, suffix=None, output_parser=None, max_iterations=25, stop=[\"\\nObservation:\"])"
   ]
  },
  {
   "cell_type": "code",
   "execution_count": 22,
   "id": "e89c47d0-cd3a-4d6b-8db5-a42bb7d8ea90",
   "metadata": {
    "scrolled": true
   },
   "outputs": [
    {
     "name": "stdout",
     "output_type": "stream",
     "text": [
      "\n",
      "\n",
      "\u001b[1m> Entering new AgentExecutor chain...\u001b[0m\n",
      "\u001b[32;1m\u001b[1;3mI need to read the document first to understand the context and find the mentioned MOFs and their water stability.\n",
      "Action: read_doc\n",
      "Action Input: 62.pdf\u001b[0m\n",
      "k=8 results hitting the token limit for the chosen LLM. Reducing k and retrying...\n"
     ]
    },
    {
     "name": "stderr",
     "output_type": "stream",
     "text": [
      "Retrying langchain.llms.openai.completion_with_retry.<locals>._completion_with_retry in 4.0 seconds as it raised RateLimitError: Rate limit reached for 10KTPM-200RPM in organization org-ch7xZkxfNhNOfiyd4gkEf754 on tokens per min. Limit: 10000 / min. Please try again in 6ms. Contact us through our help center at help.openai.com if you continue to have issues..\n",
      "Error in OpenAICallbackHandler.on_retry callback: 'OpenAICallbackHandler' object has no attribute 'on_retry'\n",
      "Retrying langchain.llms.openai.completion_with_retry.<locals>._completion_with_retry in 4.0 seconds as it raised RateLimitError: Rate limit reached for 10KTPM-200RPM in organization org-ch7xZkxfNhNOfiyd4gkEf754 on tokens per min. Limit: 10000 / min. Please try again in 6ms. Contact us through our help center at help.openai.com if you continue to have issues..\n",
      "Error in OpenAICallbackHandler.on_retry callback: 'OpenAICallbackHandler' object has no attribute 'on_retry'\n",
      "Retrying langchain.llms.openai.completion_with_retry.<locals>._completion_with_retry in 4.0 seconds as it raised RateLimitError: Rate limit reached for 10KTPM-200RPM in organization org-ch7xZkxfNhNOfiyd4gkEf754 on tokens per min. Limit: 10000 / min. Please try again in 6ms. Contact us through our help center at help.openai.com if you continue to have issues..\n",
      "Error in OpenAICallbackHandler.on_retry callback: 'OpenAICallbackHandler' object has no attribute 'on_retry'\n",
      "Retrying langchain.llms.openai.completion_with_retry.<locals>._completion_with_retry in 8.0 seconds as it raised RateLimitError: Rate limit reached for 10KTPM-200RPM in organization org-ch7xZkxfNhNOfiyd4gkEf754 on tokens per min. Limit: 10000 / min. Please try again in 6ms. Contact us through our help center at help.openai.com if you continue to have issues..\n",
      "Error in OpenAICallbackHandler.on_retry callback: 'OpenAICallbackHandler' object has no attribute 'on_retry'\n",
      "Retrying langchain.llms.openai.completion_with_retry.<locals>._completion_with_retry in 10.0 seconds as it raised RateLimitError: Rate limit reached for 10KTPM-200RPM in organization org-ch7xZkxfNhNOfiyd4gkEf754 on tokens per min. Limit: 10000 / min. Please try again in 6ms. Contact us through our help center at help.openai.com if you continue to have issues..\n",
      "Error in OpenAICallbackHandler.on_retry callback: 'OpenAICallbackHandler' object has no attribute 'on_retry'\n"
     ]
    },
    {
     "name": "stdout",
     "output_type": "stream",
     "text": [
      "\n",
      "Observation: \u001b[36;1m\u001b[1;3m1. MOF: Ni3(BTP)2\n",
      "   Water Stability: Stable\n",
      "   Probability Score: 1\n",
      "   Justification: \"The Ni3(BTP)2 framework of 1 is stable to all of the environments tested and maintains both its crystallinity and porous nature after 14 days of uninterrupted test reactions. Powder X-ray diffraction data collected before and after each test confirm its structural chemical integrity.\"\n",
      "\n",
      "2. MOF: Cu3(BTP)2\n",
      "   Water Stability: Unstable\n",
      "   Probability Score: 1\n",
      "   Justification: \"In contrast, the copper- and zinc-based frameworks of 2 and 3, undergo transformation to non-porous crystalline solids upon extreme chemical treatment, as rather commonly observed for metal–organic frameworks.\"\n",
      "\n",
      "3. MOF: Zn3(BTP)2\n",
      "   Water Stability: Stable\n",
      "   Probability Score: 0.8\n",
      "   Justification: \"Remarkably, the Zn3(BTP)2 framework of 3 is stable to all of the environments tested and maintains both its crystallinity and porous nature after 14 days of uninterrupted test reactions.\"\n",
      "\n",
      "4. MOF: Co3(BTP)2\n",
      "   Water Stability: Not provided\n",
      "   Probability Score: 0\n",
      "   Justification: Not provided\n",
      "\n",
      "5. MOF: UIO-66\n",
      "   Water Stability: Unstable\n",
      "   Probability Score: 1\n",
      "   Justification: \"The zirconium-based framework UIO-66, has been shown to display thermal stability up to 540/C14C, but its chemical stability in water and common organic solvents was verified only for no longer than 24 h at room temperature.\"\u001b[0m\n",
      "Thought:\u001b[32;1m\u001b[1;3mI have found all the MOFs mentioned in the document and their water stability. Now, I need to evaluate each justification to ensure it implies water stability.\n",
      "Action: eval_justification\n",
      "Action Input: \"The Ni3(BTP)2 framework of 1 is stable to all of the environments tested and maintains both its crystallinity and porous nature after 14 days of uninterrupted test reactions. Powder X-ray diffraction data collected before and after each test confirm its structural chemical integrity.\"\u001b[0m\n",
      "Observation: \u001b[33;1m\u001b[1;3mThe sentences do not explicitly mention water stability of the MOF. However, they do mention that the MOF maintains its crystallinity and porous nature after 14 days of uninterrupted test reactions, which could imply some level of stability in various environments. Without specific mention of water or steam exposure, it's not possible to definitively say these sentences are discussing water stability. The document would need to be reviewed for further context or explicit mention of water stability.\u001b[0m\n",
      "Thought:\u001b[32;1m\u001b[1;3mThe justification for Ni3(BTP)2 does not explicitly mention water stability. I need to recheck the justification.\n",
      "Action: recheck_justification\n",
      "Action Input: Ni3(BTP)2\u001b[0m\n",
      "Observation: \u001b[38;5;200m\u001b[1;3m1. The water stability of Ni3(BTP)2 is Stable.\n",
      "2. The probability score is 1.\n",
      "3. The exact sentences from the document that justify my decision are: \"The chemical resistance of 1–3was examined by suspending samples of the compounds in boiling water, boiling aqueous HClor HNO 3solutions at pH 2, and a boiling aqueous NaOH solution at pH 14, conditions that reﬂect extreme operationalparameters in industry.\" and \"Remarkably, the Ni 3(BTP) 2framework of 1is stable to all of the environments tested and maintains both its crystallinity andporous nature after 14 days of uninterrupted test reactions.\"\u001b[0m\n",
      "Thought:\u001b[32;1m\u001b[1;3mThe rechecked justification for Ni3(BTP)2 explicitly mentions water stability. Now, I need to evaluate the justification for the next MOF.\n",
      "Action: eval_justification\n",
      "Action Input: \"In contrast, the copper- and zinc-based frameworks of 2 and 3, undergo transformation to non-porous crystalline solids upon extreme chemical treatment, as rather commonly observed for metal–organic frameworks.\"\u001b[0m\n",
      "Observation: \u001b[33;1m\u001b[1;3mThe sentence does not explicitly talk about the water stability of the found MOF. It mentions that the copper- and zinc-based frameworks undergo transformation to non-porous crystalline solids upon extreme chemical treatment, but it does not specify if this treatment involves water or steam. Therefore, it cannot be definitively concluded that this sentence is discussing the water stability of the MOF.\u001b[0m\n",
      "Thought:\u001b[32;1m\u001b[1;3mThe justification for Cu3(BTP)2 does not explicitly mention water stability. I need to recheck the justification.\n",
      "Action: recheck_justification\n",
      "Action Input: Cu3(BTP)2\u001b[0m"
     ]
    },
    {
     "name": "stderr",
     "output_type": "stream",
     "text": [
      "Retrying langchain.llms.openai.completion_with_retry.<locals>._completion_with_retry in 4.0 seconds as it raised RateLimitError: Rate limit reached for 10KTPM-200RPM in organization org-ch7xZkxfNhNOfiyd4gkEf754 on tokens per min. Limit: 10000 / min. Please try again in 6ms. Contact us through our help center at help.openai.com if you continue to have issues..\n",
      "Error in OpenAICallbackHandler.on_retry callback: 'OpenAICallbackHandler' object has no attribute 'on_retry'\n",
      "Retrying langchain.llms.openai.completion_with_retry.<locals>._completion_with_retry in 4.0 seconds as it raised RateLimitError: Rate limit reached for 10KTPM-200RPM in organization org-ch7xZkxfNhNOfiyd4gkEf754 on tokens per min. Limit: 10000 / min. Please try again in 6ms. Contact us through our help center at help.openai.com if you continue to have issues..\n",
      "Error in OpenAICallbackHandler.on_retry callback: 'OpenAICallbackHandler' object has no attribute 'on_retry'\n",
      "Retrying langchain.llms.openai.completion_with_retry.<locals>._completion_with_retry in 4.0 seconds as it raised RateLimitError: Rate limit reached for 10KTPM-200RPM in organization org-ch7xZkxfNhNOfiyd4gkEf754 on tokens per min. Limit: 10000 / min. Please try again in 6ms. Contact us through our help center at help.openai.com if you continue to have issues..\n",
      "Error in OpenAICallbackHandler.on_retry callback: 'OpenAICallbackHandler' object has no attribute 'on_retry'\n"
     ]
    },
    {
     "name": "stdout",
     "output_type": "stream",
     "text": [
      "\n",
      "Observation: \u001b[38;5;200m\u001b[1;3m1. The water stability of Cu3(BTP)2 is unstable.\n",
      "2. The probability score is 1.\n",
      "3. The exact sentences from the document that justify this decision are: \"As depicted in Fig. 8, compound 2 shows a progressive phase transition in boiling water, converting to 2 0. This transformation occurs upon reﬂuxing 2 in aqueous NaOH (pH 14) or HCl (pH 3) solutions for one day.\" and \"Despite its extremely high thermal stability, compound 3 displays a resistance to hot acidic media that is somewhat inferior to that of 1. While its structure is maintained upon heating at 100 /C14C in pH 3 aqueous HCl for 7 days, as shown in Fig. 9, it is not stable to a similar treatment at pH 2.\"\u001b[0m\n",
      "Thought:\u001b[32;1m\u001b[1;3mThe rechecked justification for Cu3(BTP)2 explicitly mentions water stability. Now, I need to evaluate the justification for the next MOF.\n",
      "Action: eval_justification\n",
      "Action Input: \"Remarkably, the Zn3(BTP)2 framework of 3 is stable to all of the environments tested and maintains both its crystallinity and porous nature after 14 days of uninterrupted test reactions.\"\u001b[0m\n",
      "Observation: \u001b[33;1m\u001b[1;3mThe sentence does not explicitly mention water stability of the MOF. It mentions that the MOF is stable in all tested environments and maintains its crystallinity and porous nature after 14 days of uninterrupted test reactions. However, it does not specify if these environments included water or steam. Therefore, it cannot be definitively concluded that this sentence is talking about the water stability of the MOF.\u001b[0m\n",
      "Thought:\u001b[32;1m\u001b[1;3mThe justification for Zn3(BTP)2 does not explicitly mention water stability. I need to recheck the justification.\n",
      "Action: recheck_justification\n",
      "Action Input: Zn3(BTP)2\u001b[0m"
     ]
    },
    {
     "name": "stderr",
     "output_type": "stream",
     "text": [
      "Retrying langchain.llms.openai.completion_with_retry.<locals>._completion_with_retry in 4.0 seconds as it raised RateLimitError: Rate limit reached for 10KTPM-200RPM in organization org-ch7xZkxfNhNOfiyd4gkEf754 on tokens per min. Limit: 10000 / min. Please try again in 6ms. Contact us through our help center at help.openai.com if you continue to have issues..\n",
      "Error in OpenAICallbackHandler.on_retry callback: 'OpenAICallbackHandler' object has no attribute 'on_retry'\n",
      "Retrying langchain.llms.openai.completion_with_retry.<locals>._completion_with_retry in 4.0 seconds as it raised RateLimitError: Rate limit reached for 10KTPM-200RPM in organization org-ch7xZkxfNhNOfiyd4gkEf754 on tokens per min. Limit: 10000 / min. Please try again in 6ms. Contact us through our help center at help.openai.com if you continue to have issues..\n",
      "Error in OpenAICallbackHandler.on_retry callback: 'OpenAICallbackHandler' object has no attribute 'on_retry'\n",
      "Retrying langchain.llms.openai.completion_with_retry.<locals>._completion_with_retry in 4.0 seconds as it raised RateLimitError: Rate limit reached for 10KTPM-200RPM in organization org-ch7xZkxfNhNOfiyd4gkEf754 on tokens per min. Limit: 10000 / min. Please try again in 6ms. Contact us through our help center at help.openai.com if you continue to have issues..\n",
      "Error in OpenAICallbackHandler.on_retry callback: 'OpenAICallbackHandler' object has no attribute 'on_retry'\n"
     ]
    },
    {
     "name": "stdout",
     "output_type": "stream",
     "text": [
      "\n",
      "Observation: \u001b[38;5;200m\u001b[1;3m1. The water stability of the MOF Zn3(BTP)2 is unstable.\n",
      "2. The probability score is 1.\n",
      "3. The exact sentences from the document that justify this decision are: \"When compound 3was heated in boiling water, a new crys-talline phase Zn 12[Zn 2(H2O)2]6(BTP) 16(30) was obtained, as identiﬁed by X-ray powder diffraction.\" and \"Although 3is highly resistant to high temperatures (up to 510 /C14C), the solid-state transformation in basic pH conditions occurs at room temperature in a veryshort time, indicating that the presence of water is critical to itsinstability.\"\u001b[0m\n",
      "Thought:"
     ]
    },
    {
     "name": "stderr",
     "output_type": "stream",
     "text": [
      "Retrying langchain.llms.openai.completion_with_retry.<locals>._completion_with_retry in 4.0 seconds as it raised RateLimitError: Rate limit reached for 10KTPM-200RPM in organization org-ch7xZkxfNhNOfiyd4gkEf754 on tokens per min. Limit: 10000 / min. Please try again in 6ms. Contact us through our help center at help.openai.com if you continue to have issues..\n",
      "Error in OpenAICallbackHandler.on_retry callback: 'OpenAICallbackHandler' object has no attribute 'on_retry'\n"
     ]
    },
    {
     "name": "stdout",
     "output_type": "stream",
     "text": [
      "\u001b[32;1m\u001b[1;3mThe rechecked justification for Zn3(BTP)2 explicitly mentions water stability. Now, I need to evaluate the justification for the next MOF.\n",
      "Action: eval_justification\n",
      "Action Input: Not provided\u001b[0m"
     ]
    },
    {
     "name": "stderr",
     "output_type": "stream",
     "text": [
      "Retrying langchain.llms.openai.completion_with_retry.<locals>._completion_with_retry in 4.0 seconds as it raised RateLimitError: Rate limit reached for 10KTPM-200RPM in organization org-ch7xZkxfNhNOfiyd4gkEf754 on tokens per min. Limit: 10000 / min. Please try again in 6ms. Contact us through our help center at help.openai.com if you continue to have issues..\n",
      "Error in OpenAICallbackHandler.on_retry callback: 'OpenAICallbackHandler' object has no attribute 'on_retry'\n"
     ]
    },
    {
     "name": "stdout",
     "output_type": "stream",
     "text": [
      "\n",
      "Observation: \u001b[33;1m\u001b[1;3mAs the text \"Not provided\" doesn't provide any information about the water stability of the found MOF, it's impossible to determine whether it discusses this topic.\u001b[0m\n",
      "Thought:\u001b[32;1m\u001b[1;3mThe justification for Co3(BTP)2 is not provided in the document. Therefore, I cannot evaluate it. Now, I need to evaluate the justification for the next MOF.\n",
      "Action: eval_justification\n",
      "Action Input: \"The zirconium-based framework UIO-66, has been shown to display thermal stability up to 540/C14C, but its chemical stability in water and common organic solvents was verified only for no longer than 24 h at room temperature.\"\u001b[0m"
     ]
    },
    {
     "name": "stderr",
     "output_type": "stream",
     "text": [
      "Retrying langchain.llms.openai.completion_with_retry.<locals>._completion_with_retry in 4.0 seconds as it raised RateLimitError: Rate limit reached for 10KTPM-200RPM in organization org-ch7xZkxfNhNOfiyd4gkEf754 on tokens per min. Limit: 10000 / min. Please try again in 6ms. Contact us through our help center at help.openai.com if you continue to have issues..\n",
      "Error in OpenAICallbackHandler.on_retry callback: 'OpenAICallbackHandler' object has no attribute 'on_retry'\n"
     ]
    },
    {
     "name": "stdout",
     "output_type": "stream",
     "text": [
      "\n",
      "Observation: \u001b[33;1m\u001b[1;3mYes, the sentence does talk about the water stability of the found MOF. It mentions that the chemical stability of UIO-66 in water was verified for up to 24 hours at room temperature.\u001b[0m\n",
      "Thought:\u001b[32;1m\u001b[1;3mThe justification for UIO-66 explicitly mentions water stability. I have evaluated all the justifications for the MOFs mentioned in the document.\n",
      "Final Answer: \n",
      "1. Ni3(BTP)2: \n",
      "   - Water Stability: Stable\n",
      "   - Probability Score: 1\n",
      "   - Justification: \"The chemical resistance of 1–3was examined by suspending samples of the compounds in boiling water, boiling aqueous HClor HNO 3solutions at pH 2, and a boiling aqueous NaOH solution at pH 14, conditions that reﬂect extreme operationalparameters in industry.\" and \"Remarkably, the Ni 3(BTP) 2framework of 1is stable to all of the environments tested and maintains both its crystallinity andporous nature after 14 days of uninterrupted test reactions.\"\n",
      "\n",
      "2. Cu3(BTP)2: \n",
      "   - Water Stability: Unstable\n",
      "   - Probability Score: 1\n",
      "   - Justification: \"As depicted in Fig. 8, compound 2 shows a progressive phase transition in boiling water, converting to 2 0. This transformation occurs upon reﬂuxing 2 in aqueous NaOH (pH 14) or HCl (pH 3) solutions for one day.\" and \"Despite its extremely high thermal stability, compound 3 displays a resistance to hot acidic media that is somewhat inferior to that of 1. While its structure is maintained upon heating at 100 /C14C in pH 3 aqueous HCl for 7 days, as shown in Fig. 9, it is not stable to a similar treatment at pH 2.\"\n",
      "\n",
      "3. Zn3(BTP)2: \n",
      "   - Water Stability: Unstable\n",
      "   - Probability Score: 1\n",
      "   - Justification: \"When compound 3was heated in boiling water, a new crys-talline phase Zn 12[Zn 2(H2O)2]6(BTP) 16(30) was obtained, as identiﬁed by X-ray powder diffraction.\" and \"Although 3is highly resistant to high temperatures (up to 510 /C14C), the solid-state transformation in basic pH conditions occurs at room temperature in a veryshort time, indicating that the presence of water is critical to itsinstability.\"\n",
      "\n",
      "4. Co3(BTP)2: \n",
      "   - Water Stability: Not provided\n",
      "   - Probability Score: 0\n",
      "   - Justification: Not provided\n",
      "\n",
      "5. UIO-66: \n",
      "   - Water Stability: Unstable\n",
      "   - Probability Score: 1\n",
      "   - Justification: \"The zirconium-based framework UIO-66, has been shown to display thermal stability up to 540/C14C, but its chemical stability in water and common organic solvents was verified only for no longer than 24 h at room temperature.\"\u001b[0m\n",
      "\n",
      "\u001b[1m> Finished chain.\u001b[0m\n",
      "Tokens Used: 37379\n",
      "\tPrompt Tokens: 35392\n",
      "\tCompletion Tokens: 1987\n",
      "Successful Requests: 14\n",
      "Total Cost (USD): $1.18098\n"
     ]
    }
   ],
   "source": [
    "output_format = '''    Your final answer should contain the following:\n",
    "    1. The water stability of each MOF.\n",
    "    2. For each mof:  a probability score ranging between [0, 1]. This probability score shows how certain you are in your answer.\n",
    "    3. The exact sentences without any changes from the document that justifies your decision. Try to find more than one sentence. Do not summarize. Do not make up a justification that does not exist in the doc.\n",
    "    This should be \"Not provided\" if you cannot find water stability.'''\n",
    "\n",
    "input_prompt = f'''You are an expert chemist. Read paper {paper_id}.pdf, find all the mentioned MOFs and their water stability with a justification of your answers.\n",
    "                Evaluate each justification. \n",
    "                If the justification can imply water stability, use it but lower your \"Probability score\" for that MOF.\n",
    "                If the justification is not valid, recheck the justification, if still not valid change \"Water Stability\" and \"Justification\" to \"Not provided\" in your final answer.\n",
    "\n",
    "                {output_format}\n",
    "\n",
    "'''\n",
    "\n",
    "with get_openai_callback() as cb:\n",
    "    result = agent_chain.run(input=input_prompt)\n",
    "    print(cb)"
   ]
  },
  {
   "cell_type": "code",
   "execution_count": 23,
   "id": "55c17a2e-f611-4ca8-90f2-e6c07e927510",
   "metadata": {},
   "outputs": [
    {
     "data": {
      "text/plain": [
       "{'Ni3(BTP)2': {'Predicted Stability': 'Stable',\n",
       "  'Score': 1.0,\n",
       "  'Justification': 'The chemical resistance of 1–3was examined by suspending samples of the compounds in boiling water, boiling aqueous HClor HNO 3solutions at pH 2, and a boiling aqueous NaOH solution at pH 14, conditions that reﬂect extreme operationalparameters in industry. Remarkably, the Ni 3(BTP) 2framework of 1is stable to all of the environments tested and maintains both its crystallinity andporous nature after 14 days of uninterrupted test reactions.',\n",
       "  'Paper id': '62'},\n",
       " 'Cu3(BTP)2': {'Predicted Stability': 'Unstable',\n",
       "  'Score': 1.0,\n",
       "  'Justification': 'As depicted in Fig. 8, compound 2 shows a progressive phase transition in boiling water, converting to 2 0. This transformation occurs upon reﬂuxing 2 in aqueous NaOH (pH 14) or HCl (pH 3) solutions for one day. Despite its extremely high thermal stability, compound 3 displays a resistance to hot acidic media that is somewhat inferior to that of 1. While its structure is maintained upon heating at 100 /C14C in pH 3 aqueous HCl for 7 days, as shown in Fig. 9, it is not stable to a similar treatment at pH 2.',\n",
       "  'Paper id': '62'},\n",
       " 'Zn3(BTP)2': {'Predicted Stability': 'Unstable',\n",
       "  'Score': 1.0,\n",
       "  'Justification': 'When compound 3was heated in boiling water, a new crys-talline phase Zn 12[Zn 2(H2O)2]6(BTP) 16(30) was obtained, as identiﬁed by X-ray powder diffraction. Although 3is highly resistant to high temperatures (up to 510 /C14C), the solid-state transformation in basic pH conditions occurs at room temperature in a veryshort time, indicating that the presence of water is critical to itsinstability.',\n",
       "  'Paper id': '62'},\n",
       " 'Co3(BTP)2': {'Predicted Stability': 'Not provided',\n",
       "  'Score': 0.0,\n",
       "  'Justification': 'Not provided',\n",
       "  'Paper id': '62'},\n",
       " 'UIO-66': {'Predicted Stability': 'Unstable',\n",
       "  'Score': 1.0,\n",
       "  'Justification': 'The zirconium-based framework UIO-66, has been shown to display thermal stability up to 540/C14C, but its chemical stability in water and common organic solvents was verified only for no longer than 24 h at room temperature.',\n",
       "  'Paper id': '62'}}"
      ]
     },
     "execution_count": 23,
     "metadata": {},
     "output_type": "execute_result"
    }
   ],
   "source": [
    "eunomia.parse_to_dict(result, paper_id)"
   ]
  },
  {
   "cell_type": "code",
   "execution_count": null,
   "id": "ac2e67de-e98d-4524-9af6-e78853f693c5",
   "metadata": {},
   "outputs": [],
   "source": []
  }
 ],
 "metadata": {
  "kernelspec": {
   "display_name": "agent",
   "language": "python",
   "name": "agent"
  },
  "language_info": {
   "codemirror_mode": {
    "name": "ipython",
    "version": 3
   },
   "file_extension": ".py",
   "mimetype": "text/x-python",
   "name": "python",
   "nbconvert_exporter": "python",
   "pygments_lexer": "ipython3",
   "version": "3.9.17"
  }
 },
 "nbformat": 4,
 "nbformat_minor": 5
}
